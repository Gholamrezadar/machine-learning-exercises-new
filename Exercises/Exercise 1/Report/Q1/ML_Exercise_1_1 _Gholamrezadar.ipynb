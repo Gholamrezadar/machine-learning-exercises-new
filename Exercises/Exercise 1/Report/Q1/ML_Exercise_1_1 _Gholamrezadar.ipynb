{
  "nbformat": 4,
  "nbformat_minor": 0,
  "metadata": {
    "colab": {
      "name": "ML_Exercise_1_1.ipynb",
      "provenance": [],
      "collapsed_sections": [],
      "toc_visible": true
    },
    "kernelspec": {
      "display_name": "Python 3",
      "name": "python3"
    },
    "language_info": {
      "name": "python"
    },
    "widgets": {
      "application/vnd.jupyter.widget-state+json": {
        "3c8d595b571c4aa9a56ce39028bb4cac": {
          "model_module": "@jupyter-widgets/controls",
          "model_name": "HBoxModel",
          "model_module_version": "1.5.0",
          "state": {
            "_view_name": "HBoxView",
            "_dom_classes": [],
            "_model_name": "HBoxModel",
            "_view_module": "@jupyter-widgets/controls",
            "_model_module_version": "1.5.0",
            "_view_count": null,
            "_view_module_version": "1.5.0",
            "box_style": "",
            "layout": "IPY_MODEL_75dd1bb6d0ea457a95264e77c0e120e6",
            "_model_module": "@jupyter-widgets/controls",
            "children": [
              "IPY_MODEL_e35938aa32f9453fa4601e786f0fce31",
              "IPY_MODEL_536d8a137a3f4948991843d6be4b8023",
              "IPY_MODEL_0c2dab5dabe746f7b08e7fda082e1b4f"
            ]
          }
        },
        "75dd1bb6d0ea457a95264e77c0e120e6": {
          "model_module": "@jupyter-widgets/base",
          "model_name": "LayoutModel",
          "model_module_version": "1.2.0",
          "state": {
            "_view_name": "LayoutView",
            "grid_template_rows": null,
            "right": null,
            "justify_content": null,
            "_view_module": "@jupyter-widgets/base",
            "overflow": null,
            "_model_module_version": "1.2.0",
            "_view_count": null,
            "flex_flow": null,
            "width": null,
            "min_width": null,
            "border": null,
            "align_items": null,
            "bottom": null,
            "_model_module": "@jupyter-widgets/base",
            "top": null,
            "grid_column": null,
            "overflow_y": null,
            "overflow_x": null,
            "grid_auto_flow": null,
            "grid_area": null,
            "grid_template_columns": null,
            "flex": null,
            "_model_name": "LayoutModel",
            "justify_items": null,
            "grid_row": null,
            "max_height": null,
            "align_content": null,
            "visibility": null,
            "align_self": null,
            "height": null,
            "min_height": null,
            "padding": null,
            "grid_auto_rows": null,
            "grid_gap": null,
            "max_width": null,
            "order": null,
            "_view_module_version": "1.2.0",
            "grid_template_areas": null,
            "object_position": null,
            "object_fit": null,
            "grid_auto_columns": null,
            "margin": null,
            "display": null,
            "left": null
          }
        },
        "e35938aa32f9453fa4601e786f0fce31": {
          "model_module": "@jupyter-widgets/controls",
          "model_name": "HTMLModel",
          "model_module_version": "1.5.0",
          "state": {
            "_view_name": "HTMLView",
            "style": "IPY_MODEL_41ad9c6147144600b4029e0640af58e5",
            "_dom_classes": [],
            "description": "",
            "_model_name": "HTMLModel",
            "placeholder": "​",
            "_view_module": "@jupyter-widgets/controls",
            "_model_module_version": "1.5.0",
            "value": "100%",
            "_view_count": null,
            "_view_module_version": "1.5.0",
            "description_tooltip": null,
            "_model_module": "@jupyter-widgets/controls",
            "layout": "IPY_MODEL_f6b5636a07394fa7b9ea953549b24a20"
          }
        },
        "536d8a137a3f4948991843d6be4b8023": {
          "model_module": "@jupyter-widgets/controls",
          "model_name": "FloatProgressModel",
          "model_module_version": "1.5.0",
          "state": {
            "_view_name": "ProgressView",
            "style": "IPY_MODEL_b88e06b8cf4a4a18af9268751fbd8b32",
            "_dom_classes": [],
            "description": "",
            "_model_name": "FloatProgressModel",
            "bar_style": "success",
            "max": 1000,
            "_view_module": "@jupyter-widgets/controls",
            "_model_module_version": "1.5.0",
            "value": 1000,
            "_view_count": null,
            "_view_module_version": "1.5.0",
            "orientation": "horizontal",
            "min": 0,
            "description_tooltip": null,
            "_model_module": "@jupyter-widgets/controls",
            "layout": "IPY_MODEL_f9ed34c946f44f27864b832f3df36988"
          }
        },
        "0c2dab5dabe746f7b08e7fda082e1b4f": {
          "model_module": "@jupyter-widgets/controls",
          "model_name": "HTMLModel",
          "model_module_version": "1.5.0",
          "state": {
            "_view_name": "HTMLView",
            "style": "IPY_MODEL_8ebd47ee1b8645939c4b5accd08be6f8",
            "_dom_classes": [],
            "description": "",
            "_model_name": "HTMLModel",
            "placeholder": "​",
            "_view_module": "@jupyter-widgets/controls",
            "_model_module_version": "1.5.0",
            "value": " 1000/1000 [00:40&lt;00:00, 25.08it/s]",
            "_view_count": null,
            "_view_module_version": "1.5.0",
            "description_tooltip": null,
            "_model_module": "@jupyter-widgets/controls",
            "layout": "IPY_MODEL_1e59eaa6c72c4790b22d11353719be13"
          }
        },
        "41ad9c6147144600b4029e0640af58e5": {
          "model_module": "@jupyter-widgets/controls",
          "model_name": "DescriptionStyleModel",
          "model_module_version": "1.5.0",
          "state": {
            "_view_name": "StyleView",
            "_model_name": "DescriptionStyleModel",
            "description_width": "",
            "_view_module": "@jupyter-widgets/base",
            "_model_module_version": "1.5.0",
            "_view_count": null,
            "_view_module_version": "1.2.0",
            "_model_module": "@jupyter-widgets/controls"
          }
        },
        "f6b5636a07394fa7b9ea953549b24a20": {
          "model_module": "@jupyter-widgets/base",
          "model_name": "LayoutModel",
          "model_module_version": "1.2.0",
          "state": {
            "_view_name": "LayoutView",
            "grid_template_rows": null,
            "right": null,
            "justify_content": null,
            "_view_module": "@jupyter-widgets/base",
            "overflow": null,
            "_model_module_version": "1.2.0",
            "_view_count": null,
            "flex_flow": null,
            "width": null,
            "min_width": null,
            "border": null,
            "align_items": null,
            "bottom": null,
            "_model_module": "@jupyter-widgets/base",
            "top": null,
            "grid_column": null,
            "overflow_y": null,
            "overflow_x": null,
            "grid_auto_flow": null,
            "grid_area": null,
            "grid_template_columns": null,
            "flex": null,
            "_model_name": "LayoutModel",
            "justify_items": null,
            "grid_row": null,
            "max_height": null,
            "align_content": null,
            "visibility": null,
            "align_self": null,
            "height": null,
            "min_height": null,
            "padding": null,
            "grid_auto_rows": null,
            "grid_gap": null,
            "max_width": null,
            "order": null,
            "_view_module_version": "1.2.0",
            "grid_template_areas": null,
            "object_position": null,
            "object_fit": null,
            "grid_auto_columns": null,
            "margin": null,
            "display": null,
            "left": null
          }
        },
        "b88e06b8cf4a4a18af9268751fbd8b32": {
          "model_module": "@jupyter-widgets/controls",
          "model_name": "ProgressStyleModel",
          "model_module_version": "1.5.0",
          "state": {
            "_view_name": "StyleView",
            "_model_name": "ProgressStyleModel",
            "description_width": "",
            "_view_module": "@jupyter-widgets/base",
            "_model_module_version": "1.5.0",
            "_view_count": null,
            "_view_module_version": "1.2.0",
            "bar_color": null,
            "_model_module": "@jupyter-widgets/controls"
          }
        },
        "f9ed34c946f44f27864b832f3df36988": {
          "model_module": "@jupyter-widgets/base",
          "model_name": "LayoutModel",
          "model_module_version": "1.2.0",
          "state": {
            "_view_name": "LayoutView",
            "grid_template_rows": null,
            "right": null,
            "justify_content": null,
            "_view_module": "@jupyter-widgets/base",
            "overflow": null,
            "_model_module_version": "1.2.0",
            "_view_count": null,
            "flex_flow": null,
            "width": null,
            "min_width": null,
            "border": null,
            "align_items": null,
            "bottom": null,
            "_model_module": "@jupyter-widgets/base",
            "top": null,
            "grid_column": null,
            "overflow_y": null,
            "overflow_x": null,
            "grid_auto_flow": null,
            "grid_area": null,
            "grid_template_columns": null,
            "flex": null,
            "_model_name": "LayoutModel",
            "justify_items": null,
            "grid_row": null,
            "max_height": null,
            "align_content": null,
            "visibility": null,
            "align_self": null,
            "height": null,
            "min_height": null,
            "padding": null,
            "grid_auto_rows": null,
            "grid_gap": null,
            "max_width": null,
            "order": null,
            "_view_module_version": "1.2.0",
            "grid_template_areas": null,
            "object_position": null,
            "object_fit": null,
            "grid_auto_columns": null,
            "margin": null,
            "display": null,
            "left": null
          }
        },
        "8ebd47ee1b8645939c4b5accd08be6f8": {
          "model_module": "@jupyter-widgets/controls",
          "model_name": "DescriptionStyleModel",
          "model_module_version": "1.5.0",
          "state": {
            "_view_name": "StyleView",
            "_model_name": "DescriptionStyleModel",
            "description_width": "",
            "_view_module": "@jupyter-widgets/base",
            "_model_module_version": "1.5.0",
            "_view_count": null,
            "_view_module_version": "1.2.0",
            "_model_module": "@jupyter-widgets/controls"
          }
        },
        "1e59eaa6c72c4790b22d11353719be13": {
          "model_module": "@jupyter-widgets/base",
          "model_name": "LayoutModel",
          "model_module_version": "1.2.0",
          "state": {
            "_view_name": "LayoutView",
            "grid_template_rows": null,
            "right": null,
            "justify_content": null,
            "_view_module": "@jupyter-widgets/base",
            "overflow": null,
            "_model_module_version": "1.2.0",
            "_view_count": null,
            "flex_flow": null,
            "width": null,
            "min_width": null,
            "border": null,
            "align_items": null,
            "bottom": null,
            "_model_module": "@jupyter-widgets/base",
            "top": null,
            "grid_column": null,
            "overflow_y": null,
            "overflow_x": null,
            "grid_auto_flow": null,
            "grid_area": null,
            "grid_template_columns": null,
            "flex": null,
            "_model_name": "LayoutModel",
            "justify_items": null,
            "grid_row": null,
            "max_height": null,
            "align_content": null,
            "visibility": null,
            "align_self": null,
            "height": null,
            "min_height": null,
            "padding": null,
            "grid_auto_rows": null,
            "grid_gap": null,
            "max_width": null,
            "order": null,
            "_view_module_version": "1.2.0",
            "grid_template_areas": null,
            "object_position": null,
            "object_fit": null,
            "grid_auto_columns": null,
            "margin": null,
            "display": null,
            "left": null
          }
        },
        "6fbf8ae2e6514b46a58c08e7b08769a1": {
          "model_module": "@jupyter-widgets/controls",
          "model_name": "VBoxModel",
          "model_module_version": "1.5.0",
          "state": {
            "_view_name": "VBoxView",
            "_dom_classes": [
              "widget-interact"
            ],
            "_model_name": "VBoxModel",
            "_view_module": "@jupyter-widgets/controls",
            "_model_module_version": "1.5.0",
            "_view_count": null,
            "_view_module_version": "1.5.0",
            "box_style": "",
            "layout": "IPY_MODEL_6a49ab8acee849e5b1e725171d711930",
            "_model_module": "@jupyter-widgets/controls",
            "children": [
              "IPY_MODEL_b1f41dda40e84fcba74c0a4cec614c15",
              "IPY_MODEL_ee298a35cadb4a6ba814b8a945e3cc1c"
            ]
          }
        },
        "6a49ab8acee849e5b1e725171d711930": {
          "model_module": "@jupyter-widgets/base",
          "model_name": "LayoutModel",
          "model_module_version": "1.2.0",
          "state": {
            "_view_name": "LayoutView",
            "grid_template_rows": null,
            "right": null,
            "justify_content": null,
            "_view_module": "@jupyter-widgets/base",
            "overflow": null,
            "_model_module_version": "1.2.0",
            "_view_count": null,
            "flex_flow": null,
            "width": null,
            "min_width": null,
            "border": null,
            "align_items": null,
            "bottom": null,
            "_model_module": "@jupyter-widgets/base",
            "top": null,
            "grid_column": null,
            "overflow_y": null,
            "overflow_x": null,
            "grid_auto_flow": null,
            "grid_area": null,
            "grid_template_columns": null,
            "flex": null,
            "_model_name": "LayoutModel",
            "justify_items": null,
            "grid_row": null,
            "max_height": null,
            "align_content": null,
            "visibility": null,
            "align_self": null,
            "height": null,
            "min_height": null,
            "padding": null,
            "grid_auto_rows": null,
            "grid_gap": null,
            "max_width": null,
            "order": null,
            "_view_module_version": "1.2.0",
            "grid_template_areas": null,
            "object_position": null,
            "object_fit": null,
            "grid_auto_columns": null,
            "margin": null,
            "display": null,
            "left": null
          }
        },
        "b1f41dda40e84fcba74c0a4cec614c15": {
          "model_module": "@jupyter-widgets/controls",
          "model_name": "IntSliderModel",
          "model_module_version": "1.5.0",
          "state": {
            "_view_name": "IntSliderView",
            "style": "IPY_MODEL_49d24828c23f41d6b130bea9cc6ad7f9",
            "_dom_classes": [],
            "description": "iteration",
            "step": 10,
            "_model_name": "IntSliderModel",
            "orientation": "horizontal",
            "max": 999,
            "_view_module": "@jupyter-widgets/controls",
            "_model_module_version": "1.5.0",
            "value": 0,
            "_view_count": null,
            "disabled": false,
            "_view_module_version": "1.5.0",
            "min": 0,
            "continuous_update": true,
            "readout_format": "d",
            "description_tooltip": null,
            "readout": true,
            "_model_module": "@jupyter-widgets/controls",
            "layout": "IPY_MODEL_3fa5d47049454ce280d957c4a1c69291"
          }
        },
        "ee298a35cadb4a6ba814b8a945e3cc1c": {
          "model_module": "@jupyter-widgets/output",
          "model_name": "OutputModel",
          "model_module_version": "1.0.0",
          "state": {
            "_view_name": "OutputView",
            "msg_id": "",
            "_dom_classes": [],
            "_model_name": "OutputModel",
            "outputs": [
              {
                "output_type": "display_data",
                "data": {
                  "image/png": "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\n",
                  "text/plain": "<Figure size 432x288 with 1 Axes>"
                },
                "metadata": {}
              }
            ],
            "_view_module": "@jupyter-widgets/output",
            "_model_module_version": "1.0.0",
            "_view_count": null,
            "_view_module_version": "1.0.0",
            "layout": "IPY_MODEL_378f116a423a40828074580095ccd6fe",
            "_model_module": "@jupyter-widgets/output"
          }
        },
        "49d24828c23f41d6b130bea9cc6ad7f9": {
          "model_module": "@jupyter-widgets/controls",
          "model_name": "SliderStyleModel",
          "model_module_version": "1.5.0",
          "state": {
            "_view_name": "StyleView",
            "handle_color": null,
            "_model_name": "SliderStyleModel",
            "description_width": "",
            "_view_module": "@jupyter-widgets/base",
            "_model_module_version": "1.5.0",
            "_view_count": null,
            "_view_module_version": "1.2.0",
            "_model_module": "@jupyter-widgets/controls"
          }
        },
        "3fa5d47049454ce280d957c4a1c69291": {
          "model_module": "@jupyter-widgets/base",
          "model_name": "LayoutModel",
          "model_module_version": "1.2.0",
          "state": {
            "_view_name": "LayoutView",
            "grid_template_rows": null,
            "right": null,
            "justify_content": null,
            "_view_module": "@jupyter-widgets/base",
            "overflow": null,
            "_model_module_version": "1.2.0",
            "_view_count": null,
            "flex_flow": null,
            "width": null,
            "min_width": null,
            "border": null,
            "align_items": null,
            "bottom": null,
            "_model_module": "@jupyter-widgets/base",
            "top": null,
            "grid_column": null,
            "overflow_y": null,
            "overflow_x": null,
            "grid_auto_flow": null,
            "grid_area": null,
            "grid_template_columns": null,
            "flex": null,
            "_model_name": "LayoutModel",
            "justify_items": null,
            "grid_row": null,
            "max_height": null,
            "align_content": null,
            "visibility": null,
            "align_self": null,
            "height": null,
            "min_height": null,
            "padding": null,
            "grid_auto_rows": null,
            "grid_gap": null,
            "max_width": null,
            "order": null,
            "_view_module_version": "1.2.0",
            "grid_template_areas": null,
            "object_position": null,
            "object_fit": null,
            "grid_auto_columns": null,
            "margin": null,
            "display": null,
            "left": null
          }
        },
        "378f116a423a40828074580095ccd6fe": {
          "model_module": "@jupyter-widgets/base",
          "model_name": "LayoutModel",
          "model_module_version": "1.2.0",
          "state": {
            "_view_name": "LayoutView",
            "grid_template_rows": null,
            "right": null,
            "justify_content": null,
            "_view_module": "@jupyter-widgets/base",
            "overflow": null,
            "_model_module_version": "1.2.0",
            "_view_count": null,
            "flex_flow": null,
            "width": null,
            "min_width": null,
            "border": null,
            "align_items": null,
            "bottom": null,
            "_model_module": "@jupyter-widgets/base",
            "top": null,
            "grid_column": null,
            "overflow_y": null,
            "overflow_x": null,
            "grid_auto_flow": null,
            "grid_area": null,
            "grid_template_columns": null,
            "flex": null,
            "_model_name": "LayoutModel",
            "justify_items": null,
            "grid_row": null,
            "max_height": null,
            "align_content": null,
            "visibility": null,
            "align_self": null,
            "height": null,
            "min_height": null,
            "padding": null,
            "grid_auto_rows": null,
            "grid_gap": null,
            "max_width": null,
            "order": null,
            "_view_module_version": "1.2.0",
            "grid_template_areas": null,
            "object_position": null,
            "object_fit": null,
            "grid_auto_columns": null,
            "margin": null,
            "display": null,
            "left": null
          }
        },
        "cec2f9401754478ebdcf991a06d98dd0": {
          "model_module": "@jupyter-widgets/controls",
          "model_name": "HBoxModel",
          "model_module_version": "1.5.0",
          "state": {
            "_view_name": "HBoxView",
            "_dom_classes": [],
            "_model_name": "HBoxModel",
            "_view_module": "@jupyter-widgets/controls",
            "_model_module_version": "1.5.0",
            "_view_count": null,
            "_view_module_version": "1.5.0",
            "box_style": "",
            "layout": "IPY_MODEL_2943d8feb64647fabce23dc5372c28cd",
            "_model_module": "@jupyter-widgets/controls",
            "children": [
              "IPY_MODEL_6b40d37c7fbc4c35ab2a28f7fc368db0",
              "IPY_MODEL_8dac5850d9bd493fb2d69f36253ee62d",
              "IPY_MODEL_09ede2da819d4debb99be48cca9a192b"
            ]
          }
        },
        "2943d8feb64647fabce23dc5372c28cd": {
          "model_module": "@jupyter-widgets/base",
          "model_name": "LayoutModel",
          "model_module_version": "1.2.0",
          "state": {
            "_view_name": "LayoutView",
            "grid_template_rows": null,
            "right": null,
            "justify_content": null,
            "_view_module": "@jupyter-widgets/base",
            "overflow": null,
            "_model_module_version": "1.2.0",
            "_view_count": null,
            "flex_flow": null,
            "width": null,
            "min_width": null,
            "border": null,
            "align_items": null,
            "bottom": null,
            "_model_module": "@jupyter-widgets/base",
            "top": null,
            "grid_column": null,
            "overflow_y": null,
            "overflow_x": null,
            "grid_auto_flow": null,
            "grid_area": null,
            "grid_template_columns": null,
            "flex": null,
            "_model_name": "LayoutModel",
            "justify_items": null,
            "grid_row": null,
            "max_height": null,
            "align_content": null,
            "visibility": null,
            "align_self": null,
            "height": null,
            "min_height": null,
            "padding": null,
            "grid_auto_rows": null,
            "grid_gap": null,
            "max_width": null,
            "order": null,
            "_view_module_version": "1.2.0",
            "grid_template_areas": null,
            "object_position": null,
            "object_fit": null,
            "grid_auto_columns": null,
            "margin": null,
            "display": null,
            "left": null
          }
        },
        "6b40d37c7fbc4c35ab2a28f7fc368db0": {
          "model_module": "@jupyter-widgets/controls",
          "model_name": "HTMLModel",
          "model_module_version": "1.5.0",
          "state": {
            "_view_name": "HTMLView",
            "style": "IPY_MODEL_73f4cc0e9aa5482daa9e1692f90f6660",
            "_dom_classes": [],
            "description": "",
            "_model_name": "HTMLModel",
            "placeholder": "​",
            "_view_module": "@jupyter-widgets/controls",
            "_model_module_version": "1.5.0",
            "value": "100%",
            "_view_count": null,
            "_view_module_version": "1.5.0",
            "description_tooltip": null,
            "_model_module": "@jupyter-widgets/controls",
            "layout": "IPY_MODEL_de2d0de9444b4a898ac84b84ff2b965d"
          }
        },
        "8dac5850d9bd493fb2d69f36253ee62d": {
          "model_module": "@jupyter-widgets/controls",
          "model_name": "FloatProgressModel",
          "model_module_version": "1.5.0",
          "state": {
            "_view_name": "ProgressView",
            "style": "IPY_MODEL_dc59dfd30a3f485ab1c73cd8ca108597",
            "_dom_classes": [],
            "description": "",
            "_model_name": "FloatProgressModel",
            "bar_style": "success",
            "max": 10000,
            "_view_module": "@jupyter-widgets/controls",
            "_model_module_version": "1.5.0",
            "value": 10000,
            "_view_count": null,
            "_view_module_version": "1.5.0",
            "orientation": "horizontal",
            "min": 0,
            "description_tooltip": null,
            "_model_module": "@jupyter-widgets/controls",
            "layout": "IPY_MODEL_07ae8c4d61d64bba97f5f6a430850e29"
          }
        },
        "09ede2da819d4debb99be48cca9a192b": {
          "model_module": "@jupyter-widgets/controls",
          "model_name": "HTMLModel",
          "model_module_version": "1.5.0",
          "state": {
            "_view_name": "HTMLView",
            "style": "IPY_MODEL_266f3aa4246b41c8bacc62fa1c06829c",
            "_dom_classes": [],
            "description": "",
            "_model_name": "HTMLModel",
            "placeholder": "​",
            "_view_module": "@jupyter-widgets/controls",
            "_model_module_version": "1.5.0",
            "value": " 10000/10000 [07:09&lt;00:00, 23.95it/s]",
            "_view_count": null,
            "_view_module_version": "1.5.0",
            "description_tooltip": null,
            "_model_module": "@jupyter-widgets/controls",
            "layout": "IPY_MODEL_71d3c9d4153942288beeb19ff0838be1"
          }
        },
        "73f4cc0e9aa5482daa9e1692f90f6660": {
          "model_module": "@jupyter-widgets/controls",
          "model_name": "DescriptionStyleModel",
          "model_module_version": "1.5.0",
          "state": {
            "_view_name": "StyleView",
            "_model_name": "DescriptionStyleModel",
            "description_width": "",
            "_view_module": "@jupyter-widgets/base",
            "_model_module_version": "1.5.0",
            "_view_count": null,
            "_view_module_version": "1.2.0",
            "_model_module": "@jupyter-widgets/controls"
          }
        },
        "de2d0de9444b4a898ac84b84ff2b965d": {
          "model_module": "@jupyter-widgets/base",
          "model_name": "LayoutModel",
          "model_module_version": "1.2.0",
          "state": {
            "_view_name": "LayoutView",
            "grid_template_rows": null,
            "right": null,
            "justify_content": null,
            "_view_module": "@jupyter-widgets/base",
            "overflow": null,
            "_model_module_version": "1.2.0",
            "_view_count": null,
            "flex_flow": null,
            "width": null,
            "min_width": null,
            "border": null,
            "align_items": null,
            "bottom": null,
            "_model_module": "@jupyter-widgets/base",
            "top": null,
            "grid_column": null,
            "overflow_y": null,
            "overflow_x": null,
            "grid_auto_flow": null,
            "grid_area": null,
            "grid_template_columns": null,
            "flex": null,
            "_model_name": "LayoutModel",
            "justify_items": null,
            "grid_row": null,
            "max_height": null,
            "align_content": null,
            "visibility": null,
            "align_self": null,
            "height": null,
            "min_height": null,
            "padding": null,
            "grid_auto_rows": null,
            "grid_gap": null,
            "max_width": null,
            "order": null,
            "_view_module_version": "1.2.0",
            "grid_template_areas": null,
            "object_position": null,
            "object_fit": null,
            "grid_auto_columns": null,
            "margin": null,
            "display": null,
            "left": null
          }
        },
        "dc59dfd30a3f485ab1c73cd8ca108597": {
          "model_module": "@jupyter-widgets/controls",
          "model_name": "ProgressStyleModel",
          "model_module_version": "1.5.0",
          "state": {
            "_view_name": "StyleView",
            "_model_name": "ProgressStyleModel",
            "description_width": "",
            "_view_module": "@jupyter-widgets/base",
            "_model_module_version": "1.5.0",
            "_view_count": null,
            "_view_module_version": "1.2.0",
            "bar_color": null,
            "_model_module": "@jupyter-widgets/controls"
          }
        },
        "07ae8c4d61d64bba97f5f6a430850e29": {
          "model_module": "@jupyter-widgets/base",
          "model_name": "LayoutModel",
          "model_module_version": "1.2.0",
          "state": {
            "_view_name": "LayoutView",
            "grid_template_rows": null,
            "right": null,
            "justify_content": null,
            "_view_module": "@jupyter-widgets/base",
            "overflow": null,
            "_model_module_version": "1.2.0",
            "_view_count": null,
            "flex_flow": null,
            "width": null,
            "min_width": null,
            "border": null,
            "align_items": null,
            "bottom": null,
            "_model_module": "@jupyter-widgets/base",
            "top": null,
            "grid_column": null,
            "overflow_y": null,
            "overflow_x": null,
            "grid_auto_flow": null,
            "grid_area": null,
            "grid_template_columns": null,
            "flex": null,
            "_model_name": "LayoutModel",
            "justify_items": null,
            "grid_row": null,
            "max_height": null,
            "align_content": null,
            "visibility": null,
            "align_self": null,
            "height": null,
            "min_height": null,
            "padding": null,
            "grid_auto_rows": null,
            "grid_gap": null,
            "max_width": null,
            "order": null,
            "_view_module_version": "1.2.0",
            "grid_template_areas": null,
            "object_position": null,
            "object_fit": null,
            "grid_auto_columns": null,
            "margin": null,
            "display": null,
            "left": null
          }
        },
        "266f3aa4246b41c8bacc62fa1c06829c": {
          "model_module": "@jupyter-widgets/controls",
          "model_name": "DescriptionStyleModel",
          "model_module_version": "1.5.0",
          "state": {
            "_view_name": "StyleView",
            "_model_name": "DescriptionStyleModel",
            "description_width": "",
            "_view_module": "@jupyter-widgets/base",
            "_model_module_version": "1.5.0",
            "_view_count": null,
            "_view_module_version": "1.2.0",
            "_model_module": "@jupyter-widgets/controls"
          }
        },
        "71d3c9d4153942288beeb19ff0838be1": {
          "model_module": "@jupyter-widgets/base",
          "model_name": "LayoutModel",
          "model_module_version": "1.2.0",
          "state": {
            "_view_name": "LayoutView",
            "grid_template_rows": null,
            "right": null,
            "justify_content": null,
            "_view_module": "@jupyter-widgets/base",
            "overflow": null,
            "_model_module_version": "1.2.0",
            "_view_count": null,
            "flex_flow": null,
            "width": null,
            "min_width": null,
            "border": null,
            "align_items": null,
            "bottom": null,
            "_model_module": "@jupyter-widgets/base",
            "top": null,
            "grid_column": null,
            "overflow_y": null,
            "overflow_x": null,
            "grid_auto_flow": null,
            "grid_area": null,
            "grid_template_columns": null,
            "flex": null,
            "_model_name": "LayoutModel",
            "justify_items": null,
            "grid_row": null,
            "max_height": null,
            "align_content": null,
            "visibility": null,
            "align_self": null,
            "height": null,
            "min_height": null,
            "padding": null,
            "grid_auto_rows": null,
            "grid_gap": null,
            "max_width": null,
            "order": null,
            "_view_module_version": "1.2.0",
            "grid_template_areas": null,
            "object_position": null,
            "object_fit": null,
            "grid_auto_columns": null,
            "margin": null,
            "display": null,
            "left": null
          }
        },
        "17fa4b92174b48cb97de4b8fb9f9448a": {
          "model_module": "@jupyter-widgets/controls",
          "model_name": "HBoxModel",
          "model_module_version": "1.5.0",
          "state": {
            "_view_name": "HBoxView",
            "_dom_classes": [],
            "_model_name": "HBoxModel",
            "_view_module": "@jupyter-widgets/controls",
            "_model_module_version": "1.5.0",
            "_view_count": null,
            "_view_module_version": "1.5.0",
            "box_style": "",
            "layout": "IPY_MODEL_fd6890998efe40fca9fce3b89e57dfe3",
            "_model_module": "@jupyter-widgets/controls",
            "children": [
              "IPY_MODEL_068037e2ea3e4b649f4f1f4a2ce54cdc",
              "IPY_MODEL_63c00adcf2204a9983468d6312bb7bda",
              "IPY_MODEL_1edaf5a8225e4909ad1479dfe5e2a417"
            ]
          }
        },
        "fd6890998efe40fca9fce3b89e57dfe3": {
          "model_module": "@jupyter-widgets/base",
          "model_name": "LayoutModel",
          "model_module_version": "1.2.0",
          "state": {
            "_view_name": "LayoutView",
            "grid_template_rows": null,
            "right": null,
            "justify_content": null,
            "_view_module": "@jupyter-widgets/base",
            "overflow": null,
            "_model_module_version": "1.2.0",
            "_view_count": null,
            "flex_flow": null,
            "width": null,
            "min_width": null,
            "border": null,
            "align_items": null,
            "bottom": null,
            "_model_module": "@jupyter-widgets/base",
            "top": null,
            "grid_column": null,
            "overflow_y": null,
            "overflow_x": null,
            "grid_auto_flow": null,
            "grid_area": null,
            "grid_template_columns": null,
            "flex": null,
            "_model_name": "LayoutModel",
            "justify_items": null,
            "grid_row": null,
            "max_height": null,
            "align_content": null,
            "visibility": null,
            "align_self": null,
            "height": null,
            "min_height": null,
            "padding": null,
            "grid_auto_rows": null,
            "grid_gap": null,
            "max_width": null,
            "order": null,
            "_view_module_version": "1.2.0",
            "grid_template_areas": null,
            "object_position": null,
            "object_fit": null,
            "grid_auto_columns": null,
            "margin": null,
            "display": null,
            "left": null
          }
        },
        "068037e2ea3e4b649f4f1f4a2ce54cdc": {
          "model_module": "@jupyter-widgets/controls",
          "model_name": "HTMLModel",
          "model_module_version": "1.5.0",
          "state": {
            "_view_name": "HTMLView",
            "style": "IPY_MODEL_21bb0fb705a446938df6621b3e58ebac",
            "_dom_classes": [],
            "description": "",
            "_model_name": "HTMLModel",
            "placeholder": "​",
            "_view_module": "@jupyter-widgets/controls",
            "_model_module_version": "1.5.0",
            "value": "100%",
            "_view_count": null,
            "_view_module_version": "1.5.0",
            "description_tooltip": null,
            "_model_module": "@jupyter-widgets/controls",
            "layout": "IPY_MODEL_f0c4ecc69f5b433796027eec14483d77"
          }
        },
        "63c00adcf2204a9983468d6312bb7bda": {
          "model_module": "@jupyter-widgets/controls",
          "model_name": "FloatProgressModel",
          "model_module_version": "1.5.0",
          "state": {
            "_view_name": "ProgressView",
            "style": "IPY_MODEL_2514a37406d14304b883e9a947b6916a",
            "_dom_classes": [],
            "description": "",
            "_model_name": "FloatProgressModel",
            "bar_style": "success",
            "max": 10000,
            "_view_module": "@jupyter-widgets/controls",
            "_model_module_version": "1.5.0",
            "value": 10000,
            "_view_count": null,
            "_view_module_version": "1.5.0",
            "orientation": "horizontal",
            "min": 0,
            "description_tooltip": null,
            "_model_module": "@jupyter-widgets/controls",
            "layout": "IPY_MODEL_a8ce9db1cc074424933b23c54251b7ee"
          }
        },
        "1edaf5a8225e4909ad1479dfe5e2a417": {
          "model_module": "@jupyter-widgets/controls",
          "model_name": "HTMLModel",
          "model_module_version": "1.5.0",
          "state": {
            "_view_name": "HTMLView",
            "style": "IPY_MODEL_b196e7e998cc40e0bb8e3fea954105e9",
            "_dom_classes": [],
            "description": "",
            "_model_name": "HTMLModel",
            "placeholder": "​",
            "_view_module": "@jupyter-widgets/controls",
            "_model_module_version": "1.5.0",
            "value": " 10000/10000 [12:15&lt;00:00, 13.75it/s]",
            "_view_count": null,
            "_view_module_version": "1.5.0",
            "description_tooltip": null,
            "_model_module": "@jupyter-widgets/controls",
            "layout": "IPY_MODEL_e7913e4981ed410ba1102aa30e19ea31"
          }
        },
        "21bb0fb705a446938df6621b3e58ebac": {
          "model_module": "@jupyter-widgets/controls",
          "model_name": "DescriptionStyleModel",
          "model_module_version": "1.5.0",
          "state": {
            "_view_name": "StyleView",
            "_model_name": "DescriptionStyleModel",
            "description_width": "",
            "_view_module": "@jupyter-widgets/base",
            "_model_module_version": "1.5.0",
            "_view_count": null,
            "_view_module_version": "1.2.0",
            "_model_module": "@jupyter-widgets/controls"
          }
        },
        "f0c4ecc69f5b433796027eec14483d77": {
          "model_module": "@jupyter-widgets/base",
          "model_name": "LayoutModel",
          "model_module_version": "1.2.0",
          "state": {
            "_view_name": "LayoutView",
            "grid_template_rows": null,
            "right": null,
            "justify_content": null,
            "_view_module": "@jupyter-widgets/base",
            "overflow": null,
            "_model_module_version": "1.2.0",
            "_view_count": null,
            "flex_flow": null,
            "width": null,
            "min_width": null,
            "border": null,
            "align_items": null,
            "bottom": null,
            "_model_module": "@jupyter-widgets/base",
            "top": null,
            "grid_column": null,
            "overflow_y": null,
            "overflow_x": null,
            "grid_auto_flow": null,
            "grid_area": null,
            "grid_template_columns": null,
            "flex": null,
            "_model_name": "LayoutModel",
            "justify_items": null,
            "grid_row": null,
            "max_height": null,
            "align_content": null,
            "visibility": null,
            "align_self": null,
            "height": null,
            "min_height": null,
            "padding": null,
            "grid_auto_rows": null,
            "grid_gap": null,
            "max_width": null,
            "order": null,
            "_view_module_version": "1.2.0",
            "grid_template_areas": null,
            "object_position": null,
            "object_fit": null,
            "grid_auto_columns": null,
            "margin": null,
            "display": null,
            "left": null
          }
        },
        "2514a37406d14304b883e9a947b6916a": {
          "model_module": "@jupyter-widgets/controls",
          "model_name": "ProgressStyleModel",
          "model_module_version": "1.5.0",
          "state": {
            "_view_name": "StyleView",
            "_model_name": "ProgressStyleModel",
            "description_width": "",
            "_view_module": "@jupyter-widgets/base",
            "_model_module_version": "1.5.0",
            "_view_count": null,
            "_view_module_version": "1.2.0",
            "bar_color": null,
            "_model_module": "@jupyter-widgets/controls"
          }
        },
        "a8ce9db1cc074424933b23c54251b7ee": {
          "model_module": "@jupyter-widgets/base",
          "model_name": "LayoutModel",
          "model_module_version": "1.2.0",
          "state": {
            "_view_name": "LayoutView",
            "grid_template_rows": null,
            "right": null,
            "justify_content": null,
            "_view_module": "@jupyter-widgets/base",
            "overflow": null,
            "_model_module_version": "1.2.0",
            "_view_count": null,
            "flex_flow": null,
            "width": null,
            "min_width": null,
            "border": null,
            "align_items": null,
            "bottom": null,
            "_model_module": "@jupyter-widgets/base",
            "top": null,
            "grid_column": null,
            "overflow_y": null,
            "overflow_x": null,
            "grid_auto_flow": null,
            "grid_area": null,
            "grid_template_columns": null,
            "flex": null,
            "_model_name": "LayoutModel",
            "justify_items": null,
            "grid_row": null,
            "max_height": null,
            "align_content": null,
            "visibility": null,
            "align_self": null,
            "height": null,
            "min_height": null,
            "padding": null,
            "grid_auto_rows": null,
            "grid_gap": null,
            "max_width": null,
            "order": null,
            "_view_module_version": "1.2.0",
            "grid_template_areas": null,
            "object_position": null,
            "object_fit": null,
            "grid_auto_columns": null,
            "margin": null,
            "display": null,
            "left": null
          }
        },
        "b196e7e998cc40e0bb8e3fea954105e9": {
          "model_module": "@jupyter-widgets/controls",
          "model_name": "DescriptionStyleModel",
          "model_module_version": "1.5.0",
          "state": {
            "_view_name": "StyleView",
            "_model_name": "DescriptionStyleModel",
            "description_width": "",
            "_view_module": "@jupyter-widgets/base",
            "_model_module_version": "1.5.0",
            "_view_count": null,
            "_view_module_version": "1.2.0",
            "_model_module": "@jupyter-widgets/controls"
          }
        },
        "e7913e4981ed410ba1102aa30e19ea31": {
          "model_module": "@jupyter-widgets/base",
          "model_name": "LayoutModel",
          "model_module_version": "1.2.0",
          "state": {
            "_view_name": "LayoutView",
            "grid_template_rows": null,
            "right": null,
            "justify_content": null,
            "_view_module": "@jupyter-widgets/base",
            "overflow": null,
            "_model_module_version": "1.2.0",
            "_view_count": null,
            "flex_flow": null,
            "width": null,
            "min_width": null,
            "border": null,
            "align_items": null,
            "bottom": null,
            "_model_module": "@jupyter-widgets/base",
            "top": null,
            "grid_column": null,
            "overflow_y": null,
            "overflow_x": null,
            "grid_auto_flow": null,
            "grid_area": null,
            "grid_template_columns": null,
            "flex": null,
            "_model_name": "LayoutModel",
            "justify_items": null,
            "grid_row": null,
            "max_height": null,
            "align_content": null,
            "visibility": null,
            "align_self": null,
            "height": null,
            "min_height": null,
            "padding": null,
            "grid_auto_rows": null,
            "grid_gap": null,
            "max_width": null,
            "order": null,
            "_view_module_version": "1.2.0",
            "grid_template_areas": null,
            "object_position": null,
            "object_fit": null,
            "grid_auto_columns": null,
            "margin": null,
            "display": null,
            "left": null
          }
        },
        "d3b5cd2668f640f9b17e84459641913e": {
          "model_module": "@jupyter-widgets/controls",
          "model_name": "HBoxModel",
          "model_module_version": "1.5.0",
          "state": {
            "_view_name": "HBoxView",
            "_dom_classes": [],
            "_model_name": "HBoxModel",
            "_view_module": "@jupyter-widgets/controls",
            "_model_module_version": "1.5.0",
            "_view_count": null,
            "_view_module_version": "1.5.0",
            "box_style": "",
            "layout": "IPY_MODEL_fea17a0809a74b1ab8a206bb5f6a271e",
            "_model_module": "@jupyter-widgets/controls",
            "children": [
              "IPY_MODEL_ced8460f14784cb18465d3e7c42cd03f",
              "IPY_MODEL_1513e49d879e4d4880fcaeafd416065a",
              "IPY_MODEL_ea850256c9824b5183b9cf10f64b4420"
            ]
          }
        },
        "fea17a0809a74b1ab8a206bb5f6a271e": {
          "model_module": "@jupyter-widgets/base",
          "model_name": "LayoutModel",
          "model_module_version": "1.2.0",
          "state": {
            "_view_name": "LayoutView",
            "grid_template_rows": null,
            "right": null,
            "justify_content": null,
            "_view_module": "@jupyter-widgets/base",
            "overflow": null,
            "_model_module_version": "1.2.0",
            "_view_count": null,
            "flex_flow": null,
            "width": null,
            "min_width": null,
            "border": null,
            "align_items": null,
            "bottom": null,
            "_model_module": "@jupyter-widgets/base",
            "top": null,
            "grid_column": null,
            "overflow_y": null,
            "overflow_x": null,
            "grid_auto_flow": null,
            "grid_area": null,
            "grid_template_columns": null,
            "flex": null,
            "_model_name": "LayoutModel",
            "justify_items": null,
            "grid_row": null,
            "max_height": null,
            "align_content": null,
            "visibility": null,
            "align_self": null,
            "height": null,
            "min_height": null,
            "padding": null,
            "grid_auto_rows": null,
            "grid_gap": null,
            "max_width": null,
            "order": null,
            "_view_module_version": "1.2.0",
            "grid_template_areas": null,
            "object_position": null,
            "object_fit": null,
            "grid_auto_columns": null,
            "margin": null,
            "display": null,
            "left": null
          }
        },
        "ced8460f14784cb18465d3e7c42cd03f": {
          "model_module": "@jupyter-widgets/controls",
          "model_name": "HTMLModel",
          "model_module_version": "1.5.0",
          "state": {
            "_view_name": "HTMLView",
            "style": "IPY_MODEL_4391552c27d3413bb80618abcded2cb2",
            "_dom_classes": [],
            "description": "",
            "_model_name": "HTMLModel",
            "placeholder": "​",
            "_view_module": "@jupyter-widgets/controls",
            "_model_module_version": "1.5.0",
            "value": "100%",
            "_view_count": null,
            "_view_module_version": "1.5.0",
            "description_tooltip": null,
            "_model_module": "@jupyter-widgets/controls",
            "layout": "IPY_MODEL_91c178222cf84713a4241d2875fa42d1"
          }
        },
        "1513e49d879e4d4880fcaeafd416065a": {
          "model_module": "@jupyter-widgets/controls",
          "model_name": "FloatProgressModel",
          "model_module_version": "1.5.0",
          "state": {
            "_view_name": "ProgressView",
            "style": "IPY_MODEL_0919ee1454ea4f33b94507d538ca698d",
            "_dom_classes": [],
            "description": "",
            "_model_name": "FloatProgressModel",
            "bar_style": "success",
            "max": 10000,
            "_view_module": "@jupyter-widgets/controls",
            "_model_module_version": "1.5.0",
            "value": 10000,
            "_view_count": null,
            "_view_module_version": "1.5.0",
            "orientation": "horizontal",
            "min": 0,
            "description_tooltip": null,
            "_model_module": "@jupyter-widgets/controls",
            "layout": "IPY_MODEL_89cac9c4a9924adbb1fa67d78c7237b4"
          }
        },
        "ea850256c9824b5183b9cf10f64b4420": {
          "model_module": "@jupyter-widgets/controls",
          "model_name": "HTMLModel",
          "model_module_version": "1.5.0",
          "state": {
            "_view_name": "HTMLView",
            "style": "IPY_MODEL_80f635e05a604ac8b78e8fdda3e0fe1b",
            "_dom_classes": [],
            "description": "",
            "_model_name": "HTMLModel",
            "placeholder": "​",
            "_view_module": "@jupyter-widgets/controls",
            "_model_module_version": "1.5.0",
            "value": " 10000/10000 [06:42&lt;00:00, 25.42it/s]",
            "_view_count": null,
            "_view_module_version": "1.5.0",
            "description_tooltip": null,
            "_model_module": "@jupyter-widgets/controls",
            "layout": "IPY_MODEL_56c8937812894af6a86e88c9df8d6707"
          }
        },
        "4391552c27d3413bb80618abcded2cb2": {
          "model_module": "@jupyter-widgets/controls",
          "model_name": "DescriptionStyleModel",
          "model_module_version": "1.5.0",
          "state": {
            "_view_name": "StyleView",
            "_model_name": "DescriptionStyleModel",
            "description_width": "",
            "_view_module": "@jupyter-widgets/base",
            "_model_module_version": "1.5.0",
            "_view_count": null,
            "_view_module_version": "1.2.0",
            "_model_module": "@jupyter-widgets/controls"
          }
        },
        "91c178222cf84713a4241d2875fa42d1": {
          "model_module": "@jupyter-widgets/base",
          "model_name": "LayoutModel",
          "model_module_version": "1.2.0",
          "state": {
            "_view_name": "LayoutView",
            "grid_template_rows": null,
            "right": null,
            "justify_content": null,
            "_view_module": "@jupyter-widgets/base",
            "overflow": null,
            "_model_module_version": "1.2.0",
            "_view_count": null,
            "flex_flow": null,
            "width": null,
            "min_width": null,
            "border": null,
            "align_items": null,
            "bottom": null,
            "_model_module": "@jupyter-widgets/base",
            "top": null,
            "grid_column": null,
            "overflow_y": null,
            "overflow_x": null,
            "grid_auto_flow": null,
            "grid_area": null,
            "grid_template_columns": null,
            "flex": null,
            "_model_name": "LayoutModel",
            "justify_items": null,
            "grid_row": null,
            "max_height": null,
            "align_content": null,
            "visibility": null,
            "align_self": null,
            "height": null,
            "min_height": null,
            "padding": null,
            "grid_auto_rows": null,
            "grid_gap": null,
            "max_width": null,
            "order": null,
            "_view_module_version": "1.2.0",
            "grid_template_areas": null,
            "object_position": null,
            "object_fit": null,
            "grid_auto_columns": null,
            "margin": null,
            "display": null,
            "left": null
          }
        },
        "0919ee1454ea4f33b94507d538ca698d": {
          "model_module": "@jupyter-widgets/controls",
          "model_name": "ProgressStyleModel",
          "model_module_version": "1.5.0",
          "state": {
            "_view_name": "StyleView",
            "_model_name": "ProgressStyleModel",
            "description_width": "",
            "_view_module": "@jupyter-widgets/base",
            "_model_module_version": "1.5.0",
            "_view_count": null,
            "_view_module_version": "1.2.0",
            "bar_color": null,
            "_model_module": "@jupyter-widgets/controls"
          }
        },
        "89cac9c4a9924adbb1fa67d78c7237b4": {
          "model_module": "@jupyter-widgets/base",
          "model_name": "LayoutModel",
          "model_module_version": "1.2.0",
          "state": {
            "_view_name": "LayoutView",
            "grid_template_rows": null,
            "right": null,
            "justify_content": null,
            "_view_module": "@jupyter-widgets/base",
            "overflow": null,
            "_model_module_version": "1.2.0",
            "_view_count": null,
            "flex_flow": null,
            "width": null,
            "min_width": null,
            "border": null,
            "align_items": null,
            "bottom": null,
            "_model_module": "@jupyter-widgets/base",
            "top": null,
            "grid_column": null,
            "overflow_y": null,
            "overflow_x": null,
            "grid_auto_flow": null,
            "grid_area": null,
            "grid_template_columns": null,
            "flex": null,
            "_model_name": "LayoutModel",
            "justify_items": null,
            "grid_row": null,
            "max_height": null,
            "align_content": null,
            "visibility": null,
            "align_self": null,
            "height": null,
            "min_height": null,
            "padding": null,
            "grid_auto_rows": null,
            "grid_gap": null,
            "max_width": null,
            "order": null,
            "_view_module_version": "1.2.0",
            "grid_template_areas": null,
            "object_position": null,
            "object_fit": null,
            "grid_auto_columns": null,
            "margin": null,
            "display": null,
            "left": null
          }
        },
        "80f635e05a604ac8b78e8fdda3e0fe1b": {
          "model_module": "@jupyter-widgets/controls",
          "model_name": "DescriptionStyleModel",
          "model_module_version": "1.5.0",
          "state": {
            "_view_name": "StyleView",
            "_model_name": "DescriptionStyleModel",
            "description_width": "",
            "_view_module": "@jupyter-widgets/base",
            "_model_module_version": "1.5.0",
            "_view_count": null,
            "_view_module_version": "1.2.0",
            "_model_module": "@jupyter-widgets/controls"
          }
        },
        "56c8937812894af6a86e88c9df8d6707": {
          "model_module": "@jupyter-widgets/base",
          "model_name": "LayoutModel",
          "model_module_version": "1.2.0",
          "state": {
            "_view_name": "LayoutView",
            "grid_template_rows": null,
            "right": null,
            "justify_content": null,
            "_view_module": "@jupyter-widgets/base",
            "overflow": null,
            "_model_module_version": "1.2.0",
            "_view_count": null,
            "flex_flow": null,
            "width": null,
            "min_width": null,
            "border": null,
            "align_items": null,
            "bottom": null,
            "_model_module": "@jupyter-widgets/base",
            "top": null,
            "grid_column": null,
            "overflow_y": null,
            "overflow_x": null,
            "grid_auto_flow": null,
            "grid_area": null,
            "grid_template_columns": null,
            "flex": null,
            "_model_name": "LayoutModel",
            "justify_items": null,
            "grid_row": null,
            "max_height": null,
            "align_content": null,
            "visibility": null,
            "align_self": null,
            "height": null,
            "min_height": null,
            "padding": null,
            "grid_auto_rows": null,
            "grid_gap": null,
            "max_width": null,
            "order": null,
            "_view_module_version": "1.2.0",
            "grid_template_areas": null,
            "object_position": null,
            "object_fit": null,
            "grid_auto_columns": null,
            "margin": null,
            "display": null,
            "left": null
          }
        },
        "5b2b712aa35349fe80949041d19d766a": {
          "model_module": "@jupyter-widgets/controls",
          "model_name": "HBoxModel",
          "model_module_version": "1.5.0",
          "state": {
            "_view_name": "HBoxView",
            "_dom_classes": [],
            "_model_name": "HBoxModel",
            "_view_module": "@jupyter-widgets/controls",
            "_model_module_version": "1.5.0",
            "_view_count": null,
            "_view_module_version": "1.5.0",
            "box_style": "",
            "layout": "IPY_MODEL_cc9f5b19ce8242469113f9d09311363f",
            "_model_module": "@jupyter-widgets/controls",
            "children": [
              "IPY_MODEL_e0d3c16bdec74799a724d03a0c58ba80",
              "IPY_MODEL_a9445acb6af44737ad73b7ed9f81932f",
              "IPY_MODEL_6fb03f09f695474086b490926883d92c"
            ]
          }
        },
        "cc9f5b19ce8242469113f9d09311363f": {
          "model_module": "@jupyter-widgets/base",
          "model_name": "LayoutModel",
          "model_module_version": "1.2.0",
          "state": {
            "_view_name": "LayoutView",
            "grid_template_rows": null,
            "right": null,
            "justify_content": null,
            "_view_module": "@jupyter-widgets/base",
            "overflow": null,
            "_model_module_version": "1.2.0",
            "_view_count": null,
            "flex_flow": null,
            "width": null,
            "min_width": null,
            "border": null,
            "align_items": null,
            "bottom": null,
            "_model_module": "@jupyter-widgets/base",
            "top": null,
            "grid_column": null,
            "overflow_y": null,
            "overflow_x": null,
            "grid_auto_flow": null,
            "grid_area": null,
            "grid_template_columns": null,
            "flex": null,
            "_model_name": "LayoutModel",
            "justify_items": null,
            "grid_row": null,
            "max_height": null,
            "align_content": null,
            "visibility": null,
            "align_self": null,
            "height": null,
            "min_height": null,
            "padding": null,
            "grid_auto_rows": null,
            "grid_gap": null,
            "max_width": null,
            "order": null,
            "_view_module_version": "1.2.0",
            "grid_template_areas": null,
            "object_position": null,
            "object_fit": null,
            "grid_auto_columns": null,
            "margin": null,
            "display": null,
            "left": null
          }
        },
        "e0d3c16bdec74799a724d03a0c58ba80": {
          "model_module": "@jupyter-widgets/controls",
          "model_name": "HTMLModel",
          "model_module_version": "1.5.0",
          "state": {
            "_view_name": "HTMLView",
            "style": "IPY_MODEL_bca67ec9865942efaec8e244ff29ba63",
            "_dom_classes": [],
            "description": "",
            "_model_name": "HTMLModel",
            "placeholder": "​",
            "_view_module": "@jupyter-widgets/controls",
            "_model_module_version": "1.5.0",
            "value": "100%",
            "_view_count": null,
            "_view_module_version": "1.5.0",
            "description_tooltip": null,
            "_model_module": "@jupyter-widgets/controls",
            "layout": "IPY_MODEL_644f224c49334c9096488d69c0cdec25"
          }
        },
        "a9445acb6af44737ad73b7ed9f81932f": {
          "model_module": "@jupyter-widgets/controls",
          "model_name": "FloatProgressModel",
          "model_module_version": "1.5.0",
          "state": {
            "_view_name": "ProgressView",
            "style": "IPY_MODEL_e78dd9e4934f4f58825e91bf500abc65",
            "_dom_classes": [],
            "description": "",
            "_model_name": "FloatProgressModel",
            "bar_style": "success",
            "max": 10000,
            "_view_module": "@jupyter-widgets/controls",
            "_model_module_version": "1.5.0",
            "value": 10000,
            "_view_count": null,
            "_view_module_version": "1.5.0",
            "orientation": "horizontal",
            "min": 0,
            "description_tooltip": null,
            "_model_module": "@jupyter-widgets/controls",
            "layout": "IPY_MODEL_0a639357f2cf4504a74b400518897a38"
          }
        },
        "6fb03f09f695474086b490926883d92c": {
          "model_module": "@jupyter-widgets/controls",
          "model_name": "HTMLModel",
          "model_module_version": "1.5.0",
          "state": {
            "_view_name": "HTMLView",
            "style": "IPY_MODEL_18ce091e2a474030af76ae6645416c16",
            "_dom_classes": [],
            "description": "",
            "_model_name": "HTMLModel",
            "placeholder": "​",
            "_view_module": "@jupyter-widgets/controls",
            "_model_module_version": "1.5.0",
            "value": " 10000/10000 [05:59&lt;00:00, 27.40it/s]",
            "_view_count": null,
            "_view_module_version": "1.5.0",
            "description_tooltip": null,
            "_model_module": "@jupyter-widgets/controls",
            "layout": "IPY_MODEL_3f86c88302394430be27d378d32b7ce4"
          }
        },
        "bca67ec9865942efaec8e244ff29ba63": {
          "model_module": "@jupyter-widgets/controls",
          "model_name": "DescriptionStyleModel",
          "model_module_version": "1.5.0",
          "state": {
            "_view_name": "StyleView",
            "_model_name": "DescriptionStyleModel",
            "description_width": "",
            "_view_module": "@jupyter-widgets/base",
            "_model_module_version": "1.5.0",
            "_view_count": null,
            "_view_module_version": "1.2.0",
            "_model_module": "@jupyter-widgets/controls"
          }
        },
        "644f224c49334c9096488d69c0cdec25": {
          "model_module": "@jupyter-widgets/base",
          "model_name": "LayoutModel",
          "model_module_version": "1.2.0",
          "state": {
            "_view_name": "LayoutView",
            "grid_template_rows": null,
            "right": null,
            "justify_content": null,
            "_view_module": "@jupyter-widgets/base",
            "overflow": null,
            "_model_module_version": "1.2.0",
            "_view_count": null,
            "flex_flow": null,
            "width": null,
            "min_width": null,
            "border": null,
            "align_items": null,
            "bottom": null,
            "_model_module": "@jupyter-widgets/base",
            "top": null,
            "grid_column": null,
            "overflow_y": null,
            "overflow_x": null,
            "grid_auto_flow": null,
            "grid_area": null,
            "grid_template_columns": null,
            "flex": null,
            "_model_name": "LayoutModel",
            "justify_items": null,
            "grid_row": null,
            "max_height": null,
            "align_content": null,
            "visibility": null,
            "align_self": null,
            "height": null,
            "min_height": null,
            "padding": null,
            "grid_auto_rows": null,
            "grid_gap": null,
            "max_width": null,
            "order": null,
            "_view_module_version": "1.2.0",
            "grid_template_areas": null,
            "object_position": null,
            "object_fit": null,
            "grid_auto_columns": null,
            "margin": null,
            "display": null,
            "left": null
          }
        },
        "e78dd9e4934f4f58825e91bf500abc65": {
          "model_module": "@jupyter-widgets/controls",
          "model_name": "ProgressStyleModel",
          "model_module_version": "1.5.0",
          "state": {
            "_view_name": "StyleView",
            "_model_name": "ProgressStyleModel",
            "description_width": "",
            "_view_module": "@jupyter-widgets/base",
            "_model_module_version": "1.5.0",
            "_view_count": null,
            "_view_module_version": "1.2.0",
            "bar_color": null,
            "_model_module": "@jupyter-widgets/controls"
          }
        },
        "0a639357f2cf4504a74b400518897a38": {
          "model_module": "@jupyter-widgets/base",
          "model_name": "LayoutModel",
          "model_module_version": "1.2.0",
          "state": {
            "_view_name": "LayoutView",
            "grid_template_rows": null,
            "right": null,
            "justify_content": null,
            "_view_module": "@jupyter-widgets/base",
            "overflow": null,
            "_model_module_version": "1.2.0",
            "_view_count": null,
            "flex_flow": null,
            "width": null,
            "min_width": null,
            "border": null,
            "align_items": null,
            "bottom": null,
            "_model_module": "@jupyter-widgets/base",
            "top": null,
            "grid_column": null,
            "overflow_y": null,
            "overflow_x": null,
            "grid_auto_flow": null,
            "grid_area": null,
            "grid_template_columns": null,
            "flex": null,
            "_model_name": "LayoutModel",
            "justify_items": null,
            "grid_row": null,
            "max_height": null,
            "align_content": null,
            "visibility": null,
            "align_self": null,
            "height": null,
            "min_height": null,
            "padding": null,
            "grid_auto_rows": null,
            "grid_gap": null,
            "max_width": null,
            "order": null,
            "_view_module_version": "1.2.0",
            "grid_template_areas": null,
            "object_position": null,
            "object_fit": null,
            "grid_auto_columns": null,
            "margin": null,
            "display": null,
            "left": null
          }
        },
        "18ce091e2a474030af76ae6645416c16": {
          "model_module": "@jupyter-widgets/controls",
          "model_name": "DescriptionStyleModel",
          "model_module_version": "1.5.0",
          "state": {
            "_view_name": "StyleView",
            "_model_name": "DescriptionStyleModel",
            "description_width": "",
            "_view_module": "@jupyter-widgets/base",
            "_model_module_version": "1.5.0",
            "_view_count": null,
            "_view_module_version": "1.2.0",
            "_model_module": "@jupyter-widgets/controls"
          }
        },
        "3f86c88302394430be27d378d32b7ce4": {
          "model_module": "@jupyter-widgets/base",
          "model_name": "LayoutModel",
          "model_module_version": "1.2.0",
          "state": {
            "_view_name": "LayoutView",
            "grid_template_rows": null,
            "right": null,
            "justify_content": null,
            "_view_module": "@jupyter-widgets/base",
            "overflow": null,
            "_model_module_version": "1.2.0",
            "_view_count": null,
            "flex_flow": null,
            "width": null,
            "min_width": null,
            "border": null,
            "align_items": null,
            "bottom": null,
            "_model_module": "@jupyter-widgets/base",
            "top": null,
            "grid_column": null,
            "overflow_y": null,
            "overflow_x": null,
            "grid_auto_flow": null,
            "grid_area": null,
            "grid_template_columns": null,
            "flex": null,
            "_model_name": "LayoutModel",
            "justify_items": null,
            "grid_row": null,
            "max_height": null,
            "align_content": null,
            "visibility": null,
            "align_self": null,
            "height": null,
            "min_height": null,
            "padding": null,
            "grid_auto_rows": null,
            "grid_gap": null,
            "max_width": null,
            "order": null,
            "_view_module_version": "1.2.0",
            "grid_template_areas": null,
            "object_position": null,
            "object_fit": null,
            "grid_auto_columns": null,
            "margin": null,
            "display": null,
            "left": null
          }
        },
        "0b209a2f3455477aba16a03d04097c30": {
          "model_module": "@jupyter-widgets/controls",
          "model_name": "HBoxModel",
          "model_module_version": "1.5.0",
          "state": {
            "_view_name": "HBoxView",
            "_dom_classes": [],
            "_model_name": "HBoxModel",
            "_view_module": "@jupyter-widgets/controls",
            "_model_module_version": "1.5.0",
            "_view_count": null,
            "_view_module_version": "1.5.0",
            "box_style": "",
            "layout": "IPY_MODEL_068e64f56533427e9e406b9a22f6b334",
            "_model_module": "@jupyter-widgets/controls",
            "children": [
              "IPY_MODEL_7a5751121f7f43b1a8a452bfe3bbccc4",
              "IPY_MODEL_a406181d33c64628908f906bc2cb14c4",
              "IPY_MODEL_a97abdc9fc48483db566c743277416aa"
            ]
          }
        },
        "068e64f56533427e9e406b9a22f6b334": {
          "model_module": "@jupyter-widgets/base",
          "model_name": "LayoutModel",
          "model_module_version": "1.2.0",
          "state": {
            "_view_name": "LayoutView",
            "grid_template_rows": null,
            "right": null,
            "justify_content": null,
            "_view_module": "@jupyter-widgets/base",
            "overflow": null,
            "_model_module_version": "1.2.0",
            "_view_count": null,
            "flex_flow": null,
            "width": null,
            "min_width": null,
            "border": null,
            "align_items": null,
            "bottom": null,
            "_model_module": "@jupyter-widgets/base",
            "top": null,
            "grid_column": null,
            "overflow_y": null,
            "overflow_x": null,
            "grid_auto_flow": null,
            "grid_area": null,
            "grid_template_columns": null,
            "flex": null,
            "_model_name": "LayoutModel",
            "justify_items": null,
            "grid_row": null,
            "max_height": null,
            "align_content": null,
            "visibility": null,
            "align_self": null,
            "height": null,
            "min_height": null,
            "padding": null,
            "grid_auto_rows": null,
            "grid_gap": null,
            "max_width": null,
            "order": null,
            "_view_module_version": "1.2.0",
            "grid_template_areas": null,
            "object_position": null,
            "object_fit": null,
            "grid_auto_columns": null,
            "margin": null,
            "display": null,
            "left": null
          }
        },
        "7a5751121f7f43b1a8a452bfe3bbccc4": {
          "model_module": "@jupyter-widgets/controls",
          "model_name": "HTMLModel",
          "model_module_version": "1.5.0",
          "state": {
            "_view_name": "HTMLView",
            "style": "IPY_MODEL_ce9e0d25faaa485aa4d114056112da89",
            "_dom_classes": [],
            "description": "",
            "_model_name": "HTMLModel",
            "placeholder": "​",
            "_view_module": "@jupyter-widgets/controls",
            "_model_module_version": "1.5.0",
            "value": "100%",
            "_view_count": null,
            "_view_module_version": "1.5.0",
            "description_tooltip": null,
            "_model_module": "@jupyter-widgets/controls",
            "layout": "IPY_MODEL_8393985ecd3146fa80aeab4504258a2c"
          }
        },
        "a406181d33c64628908f906bc2cb14c4": {
          "model_module": "@jupyter-widgets/controls",
          "model_name": "FloatProgressModel",
          "model_module_version": "1.5.0",
          "state": {
            "_view_name": "ProgressView",
            "style": "IPY_MODEL_2d9e60a7136148dea0bff9d9ab423088",
            "_dom_classes": [],
            "description": "",
            "_model_name": "FloatProgressModel",
            "bar_style": "success",
            "max": 10000,
            "_view_module": "@jupyter-widgets/controls",
            "_model_module_version": "1.5.0",
            "value": 10000,
            "_view_count": null,
            "_view_module_version": "1.5.0",
            "orientation": "horizontal",
            "min": 0,
            "description_tooltip": null,
            "_model_module": "@jupyter-widgets/controls",
            "layout": "IPY_MODEL_15f3578ee19a4904af3f43fbaf7eeab5"
          }
        },
        "a97abdc9fc48483db566c743277416aa": {
          "model_module": "@jupyter-widgets/controls",
          "model_name": "HTMLModel",
          "model_module_version": "1.5.0",
          "state": {
            "_view_name": "HTMLView",
            "style": "IPY_MODEL_2602f2cb4c0c441bb3120fb34edf0028",
            "_dom_classes": [],
            "description": "",
            "_model_name": "HTMLModel",
            "placeholder": "​",
            "_view_module": "@jupyter-widgets/controls",
            "_model_module_version": "1.5.0",
            "value": " 10000/10000 [09:22&lt;00:00, 17.70it/s]",
            "_view_count": null,
            "_view_module_version": "1.5.0",
            "description_tooltip": null,
            "_model_module": "@jupyter-widgets/controls",
            "layout": "IPY_MODEL_212340c3f7fe45f2ab6b793f749be985"
          }
        },
        "ce9e0d25faaa485aa4d114056112da89": {
          "model_module": "@jupyter-widgets/controls",
          "model_name": "DescriptionStyleModel",
          "model_module_version": "1.5.0",
          "state": {
            "_view_name": "StyleView",
            "_model_name": "DescriptionStyleModel",
            "description_width": "",
            "_view_module": "@jupyter-widgets/base",
            "_model_module_version": "1.5.0",
            "_view_count": null,
            "_view_module_version": "1.2.0",
            "_model_module": "@jupyter-widgets/controls"
          }
        },
        "8393985ecd3146fa80aeab4504258a2c": {
          "model_module": "@jupyter-widgets/base",
          "model_name": "LayoutModel",
          "model_module_version": "1.2.0",
          "state": {
            "_view_name": "LayoutView",
            "grid_template_rows": null,
            "right": null,
            "justify_content": null,
            "_view_module": "@jupyter-widgets/base",
            "overflow": null,
            "_model_module_version": "1.2.0",
            "_view_count": null,
            "flex_flow": null,
            "width": null,
            "min_width": null,
            "border": null,
            "align_items": null,
            "bottom": null,
            "_model_module": "@jupyter-widgets/base",
            "top": null,
            "grid_column": null,
            "overflow_y": null,
            "overflow_x": null,
            "grid_auto_flow": null,
            "grid_area": null,
            "grid_template_columns": null,
            "flex": null,
            "_model_name": "LayoutModel",
            "justify_items": null,
            "grid_row": null,
            "max_height": null,
            "align_content": null,
            "visibility": null,
            "align_self": null,
            "height": null,
            "min_height": null,
            "padding": null,
            "grid_auto_rows": null,
            "grid_gap": null,
            "max_width": null,
            "order": null,
            "_view_module_version": "1.2.0",
            "grid_template_areas": null,
            "object_position": null,
            "object_fit": null,
            "grid_auto_columns": null,
            "margin": null,
            "display": null,
            "left": null
          }
        },
        "2d9e60a7136148dea0bff9d9ab423088": {
          "model_module": "@jupyter-widgets/controls",
          "model_name": "ProgressStyleModel",
          "model_module_version": "1.5.0",
          "state": {
            "_view_name": "StyleView",
            "_model_name": "ProgressStyleModel",
            "description_width": "",
            "_view_module": "@jupyter-widgets/base",
            "_model_module_version": "1.5.0",
            "_view_count": null,
            "_view_module_version": "1.2.0",
            "bar_color": null,
            "_model_module": "@jupyter-widgets/controls"
          }
        },
        "15f3578ee19a4904af3f43fbaf7eeab5": {
          "model_module": "@jupyter-widgets/base",
          "model_name": "LayoutModel",
          "model_module_version": "1.2.0",
          "state": {
            "_view_name": "LayoutView",
            "grid_template_rows": null,
            "right": null,
            "justify_content": null,
            "_view_module": "@jupyter-widgets/base",
            "overflow": null,
            "_model_module_version": "1.2.0",
            "_view_count": null,
            "flex_flow": null,
            "width": null,
            "min_width": null,
            "border": null,
            "align_items": null,
            "bottom": null,
            "_model_module": "@jupyter-widgets/base",
            "top": null,
            "grid_column": null,
            "overflow_y": null,
            "overflow_x": null,
            "grid_auto_flow": null,
            "grid_area": null,
            "grid_template_columns": null,
            "flex": null,
            "_model_name": "LayoutModel",
            "justify_items": null,
            "grid_row": null,
            "max_height": null,
            "align_content": null,
            "visibility": null,
            "align_self": null,
            "height": null,
            "min_height": null,
            "padding": null,
            "grid_auto_rows": null,
            "grid_gap": null,
            "max_width": null,
            "order": null,
            "_view_module_version": "1.2.0",
            "grid_template_areas": null,
            "object_position": null,
            "object_fit": null,
            "grid_auto_columns": null,
            "margin": null,
            "display": null,
            "left": null
          }
        },
        "2602f2cb4c0c441bb3120fb34edf0028": {
          "model_module": "@jupyter-widgets/controls",
          "model_name": "DescriptionStyleModel",
          "model_module_version": "1.5.0",
          "state": {
            "_view_name": "StyleView",
            "_model_name": "DescriptionStyleModel",
            "description_width": "",
            "_view_module": "@jupyter-widgets/base",
            "_model_module_version": "1.5.0",
            "_view_count": null,
            "_view_module_version": "1.2.0",
            "_model_module": "@jupyter-widgets/controls"
          }
        },
        "212340c3f7fe45f2ab6b793f749be985": {
          "model_module": "@jupyter-widgets/base",
          "model_name": "LayoutModel",
          "model_module_version": "1.2.0",
          "state": {
            "_view_name": "LayoutView",
            "grid_template_rows": null,
            "right": null,
            "justify_content": null,
            "_view_module": "@jupyter-widgets/base",
            "overflow": null,
            "_model_module_version": "1.2.0",
            "_view_count": null,
            "flex_flow": null,
            "width": null,
            "min_width": null,
            "border": null,
            "align_items": null,
            "bottom": null,
            "_model_module": "@jupyter-widgets/base",
            "top": null,
            "grid_column": null,
            "overflow_y": null,
            "overflow_x": null,
            "grid_auto_flow": null,
            "grid_area": null,
            "grid_template_columns": null,
            "flex": null,
            "_model_name": "LayoutModel",
            "justify_items": null,
            "grid_row": null,
            "max_height": null,
            "align_content": null,
            "visibility": null,
            "align_self": null,
            "height": null,
            "min_height": null,
            "padding": null,
            "grid_auto_rows": null,
            "grid_gap": null,
            "max_width": null,
            "order": null,
            "_view_module_version": "1.2.0",
            "grid_template_areas": null,
            "object_position": null,
            "object_fit": null,
            "grid_auto_columns": null,
            "margin": null,
            "display": null,
            "left": null
          }
        },
        "1c1db75e40bf499b9f3c930452458b6a": {
          "model_module": "@jupyter-widgets/controls",
          "model_name": "HBoxModel",
          "model_module_version": "1.5.0",
          "state": {
            "_view_name": "HBoxView",
            "_dom_classes": [],
            "_model_name": "HBoxModel",
            "_view_module": "@jupyter-widgets/controls",
            "_model_module_version": "1.5.0",
            "_view_count": null,
            "_view_module_version": "1.5.0",
            "box_style": "",
            "layout": "IPY_MODEL_93033340e1474436a5a9a6d02575adb9",
            "_model_module": "@jupyter-widgets/controls",
            "children": [
              "IPY_MODEL_6c744b1453fd4c9cadbe7d81fa503fe8",
              "IPY_MODEL_aecf34158a834dbe9b925367a1894a5b",
              "IPY_MODEL_9a5e9dd2afef4297a0350193c3bf139f"
            ]
          }
        },
        "93033340e1474436a5a9a6d02575adb9": {
          "model_module": "@jupyter-widgets/base",
          "model_name": "LayoutModel",
          "model_module_version": "1.2.0",
          "state": {
            "_view_name": "LayoutView",
            "grid_template_rows": null,
            "right": null,
            "justify_content": null,
            "_view_module": "@jupyter-widgets/base",
            "overflow": null,
            "_model_module_version": "1.2.0",
            "_view_count": null,
            "flex_flow": null,
            "width": null,
            "min_width": null,
            "border": null,
            "align_items": null,
            "bottom": null,
            "_model_module": "@jupyter-widgets/base",
            "top": null,
            "grid_column": null,
            "overflow_y": null,
            "overflow_x": null,
            "grid_auto_flow": null,
            "grid_area": null,
            "grid_template_columns": null,
            "flex": null,
            "_model_name": "LayoutModel",
            "justify_items": null,
            "grid_row": null,
            "max_height": null,
            "align_content": null,
            "visibility": null,
            "align_self": null,
            "height": null,
            "min_height": null,
            "padding": null,
            "grid_auto_rows": null,
            "grid_gap": null,
            "max_width": null,
            "order": null,
            "_view_module_version": "1.2.0",
            "grid_template_areas": null,
            "object_position": null,
            "object_fit": null,
            "grid_auto_columns": null,
            "margin": null,
            "display": null,
            "left": null
          }
        },
        "6c744b1453fd4c9cadbe7d81fa503fe8": {
          "model_module": "@jupyter-widgets/controls",
          "model_name": "HTMLModel",
          "model_module_version": "1.5.0",
          "state": {
            "_view_name": "HTMLView",
            "style": "IPY_MODEL_6050feb3a6924b78b30e2fc435e9e2d5",
            "_dom_classes": [],
            "description": "",
            "_model_name": "HTMLModel",
            "placeholder": "​",
            "_view_module": "@jupyter-widgets/controls",
            "_model_module_version": "1.5.0",
            "value": "100%",
            "_view_count": null,
            "_view_module_version": "1.5.0",
            "description_tooltip": null,
            "_model_module": "@jupyter-widgets/controls",
            "layout": "IPY_MODEL_6fd92b971e58483ca18be92570bac0a0"
          }
        },
        "aecf34158a834dbe9b925367a1894a5b": {
          "model_module": "@jupyter-widgets/controls",
          "model_name": "FloatProgressModel",
          "model_module_version": "1.5.0",
          "state": {
            "_view_name": "ProgressView",
            "style": "IPY_MODEL_d809408d931b4a568e2c2bded08b65d6",
            "_dom_classes": [],
            "description": "",
            "_model_name": "FloatProgressModel",
            "bar_style": "success",
            "max": 10000,
            "_view_module": "@jupyter-widgets/controls",
            "_model_module_version": "1.5.0",
            "value": 10000,
            "_view_count": null,
            "_view_module_version": "1.5.0",
            "orientation": "horizontal",
            "min": 0,
            "description_tooltip": null,
            "_model_module": "@jupyter-widgets/controls",
            "layout": "IPY_MODEL_a291763ba2344ff0b5f39b6b55dddf19"
          }
        },
        "9a5e9dd2afef4297a0350193c3bf139f": {
          "model_module": "@jupyter-widgets/controls",
          "model_name": "HTMLModel",
          "model_module_version": "1.5.0",
          "state": {
            "_view_name": "HTMLView",
            "style": "IPY_MODEL_65c3aa482fb44bb7a41e8a0612945915",
            "_dom_classes": [],
            "description": "",
            "_model_name": "HTMLModel",
            "placeholder": "​",
            "_view_module": "@jupyter-widgets/controls",
            "_model_module_version": "1.5.0",
            "value": " 10000/10000 [05:05&lt;00:00, 31.90it/s]",
            "_view_count": null,
            "_view_module_version": "1.5.0",
            "description_tooltip": null,
            "_model_module": "@jupyter-widgets/controls",
            "layout": "IPY_MODEL_e096000966ca476ca1c31a03aaace2a4"
          }
        },
        "6050feb3a6924b78b30e2fc435e9e2d5": {
          "model_module": "@jupyter-widgets/controls",
          "model_name": "DescriptionStyleModel",
          "model_module_version": "1.5.0",
          "state": {
            "_view_name": "StyleView",
            "_model_name": "DescriptionStyleModel",
            "description_width": "",
            "_view_module": "@jupyter-widgets/base",
            "_model_module_version": "1.5.0",
            "_view_count": null,
            "_view_module_version": "1.2.0",
            "_model_module": "@jupyter-widgets/controls"
          }
        },
        "6fd92b971e58483ca18be92570bac0a0": {
          "model_module": "@jupyter-widgets/base",
          "model_name": "LayoutModel",
          "model_module_version": "1.2.0",
          "state": {
            "_view_name": "LayoutView",
            "grid_template_rows": null,
            "right": null,
            "justify_content": null,
            "_view_module": "@jupyter-widgets/base",
            "overflow": null,
            "_model_module_version": "1.2.0",
            "_view_count": null,
            "flex_flow": null,
            "width": null,
            "min_width": null,
            "border": null,
            "align_items": null,
            "bottom": null,
            "_model_module": "@jupyter-widgets/base",
            "top": null,
            "grid_column": null,
            "overflow_y": null,
            "overflow_x": null,
            "grid_auto_flow": null,
            "grid_area": null,
            "grid_template_columns": null,
            "flex": null,
            "_model_name": "LayoutModel",
            "justify_items": null,
            "grid_row": null,
            "max_height": null,
            "align_content": null,
            "visibility": null,
            "align_self": null,
            "height": null,
            "min_height": null,
            "padding": null,
            "grid_auto_rows": null,
            "grid_gap": null,
            "max_width": null,
            "order": null,
            "_view_module_version": "1.2.0",
            "grid_template_areas": null,
            "object_position": null,
            "object_fit": null,
            "grid_auto_columns": null,
            "margin": null,
            "display": null,
            "left": null
          }
        },
        "d809408d931b4a568e2c2bded08b65d6": {
          "model_module": "@jupyter-widgets/controls",
          "model_name": "ProgressStyleModel",
          "model_module_version": "1.5.0",
          "state": {
            "_view_name": "StyleView",
            "_model_name": "ProgressStyleModel",
            "description_width": "",
            "_view_module": "@jupyter-widgets/base",
            "_model_module_version": "1.5.0",
            "_view_count": null,
            "_view_module_version": "1.2.0",
            "bar_color": null,
            "_model_module": "@jupyter-widgets/controls"
          }
        },
        "a291763ba2344ff0b5f39b6b55dddf19": {
          "model_module": "@jupyter-widgets/base",
          "model_name": "LayoutModel",
          "model_module_version": "1.2.0",
          "state": {
            "_view_name": "LayoutView",
            "grid_template_rows": null,
            "right": null,
            "justify_content": null,
            "_view_module": "@jupyter-widgets/base",
            "overflow": null,
            "_model_module_version": "1.2.0",
            "_view_count": null,
            "flex_flow": null,
            "width": null,
            "min_width": null,
            "border": null,
            "align_items": null,
            "bottom": null,
            "_model_module": "@jupyter-widgets/base",
            "top": null,
            "grid_column": null,
            "overflow_y": null,
            "overflow_x": null,
            "grid_auto_flow": null,
            "grid_area": null,
            "grid_template_columns": null,
            "flex": null,
            "_model_name": "LayoutModel",
            "justify_items": null,
            "grid_row": null,
            "max_height": null,
            "align_content": null,
            "visibility": null,
            "align_self": null,
            "height": null,
            "min_height": null,
            "padding": null,
            "grid_auto_rows": null,
            "grid_gap": null,
            "max_width": null,
            "order": null,
            "_view_module_version": "1.2.0",
            "grid_template_areas": null,
            "object_position": null,
            "object_fit": null,
            "grid_auto_columns": null,
            "margin": null,
            "display": null,
            "left": null
          }
        },
        "65c3aa482fb44bb7a41e8a0612945915": {
          "model_module": "@jupyter-widgets/controls",
          "model_name": "DescriptionStyleModel",
          "model_module_version": "1.5.0",
          "state": {
            "_view_name": "StyleView",
            "_model_name": "DescriptionStyleModel",
            "description_width": "",
            "_view_module": "@jupyter-widgets/base",
            "_model_module_version": "1.5.0",
            "_view_count": null,
            "_view_module_version": "1.2.0",
            "_model_module": "@jupyter-widgets/controls"
          }
        },
        "e096000966ca476ca1c31a03aaace2a4": {
          "model_module": "@jupyter-widgets/base",
          "model_name": "LayoutModel",
          "model_module_version": "1.2.0",
          "state": {
            "_view_name": "LayoutView",
            "grid_template_rows": null,
            "right": null,
            "justify_content": null,
            "_view_module": "@jupyter-widgets/base",
            "overflow": null,
            "_model_module_version": "1.2.0",
            "_view_count": null,
            "flex_flow": null,
            "width": null,
            "min_width": null,
            "border": null,
            "align_items": null,
            "bottom": null,
            "_model_module": "@jupyter-widgets/base",
            "top": null,
            "grid_column": null,
            "overflow_y": null,
            "overflow_x": null,
            "grid_auto_flow": null,
            "grid_area": null,
            "grid_template_columns": null,
            "flex": null,
            "_model_name": "LayoutModel",
            "justify_items": null,
            "grid_row": null,
            "max_height": null,
            "align_content": null,
            "visibility": null,
            "align_self": null,
            "height": null,
            "min_height": null,
            "padding": null,
            "grid_auto_rows": null,
            "grid_gap": null,
            "max_width": null,
            "order": null,
            "_view_module_version": "1.2.0",
            "grid_template_areas": null,
            "object_position": null,
            "object_fit": null,
            "grid_auto_columns": null,
            "margin": null,
            "display": null,
            "left": null
          }
        },
        "54cad413a3514800adcad0cf044e019f": {
          "model_module": "@jupyter-widgets/controls",
          "model_name": "HBoxModel",
          "model_module_version": "1.5.0",
          "state": {
            "_view_name": "HBoxView",
            "_dom_classes": [],
            "_model_name": "HBoxModel",
            "_view_module": "@jupyter-widgets/controls",
            "_model_module_version": "1.5.0",
            "_view_count": null,
            "_view_module_version": "1.5.0",
            "box_style": "",
            "layout": "IPY_MODEL_944b86990ddd4010aae072164e8c28fa",
            "_model_module": "@jupyter-widgets/controls",
            "children": [
              "IPY_MODEL_6f428de23594416abba7041115453775",
              "IPY_MODEL_6bbc204c99784c12862fec297f62950b",
              "IPY_MODEL_f91a8e1881a147ec80315408fb382987"
            ]
          }
        },
        "944b86990ddd4010aae072164e8c28fa": {
          "model_module": "@jupyter-widgets/base",
          "model_name": "LayoutModel",
          "model_module_version": "1.2.0",
          "state": {
            "_view_name": "LayoutView",
            "grid_template_rows": null,
            "right": null,
            "justify_content": null,
            "_view_module": "@jupyter-widgets/base",
            "overflow": null,
            "_model_module_version": "1.2.0",
            "_view_count": null,
            "flex_flow": null,
            "width": null,
            "min_width": null,
            "border": null,
            "align_items": null,
            "bottom": null,
            "_model_module": "@jupyter-widgets/base",
            "top": null,
            "grid_column": null,
            "overflow_y": null,
            "overflow_x": null,
            "grid_auto_flow": null,
            "grid_area": null,
            "grid_template_columns": null,
            "flex": null,
            "_model_name": "LayoutModel",
            "justify_items": null,
            "grid_row": null,
            "max_height": null,
            "align_content": null,
            "visibility": null,
            "align_self": null,
            "height": null,
            "min_height": null,
            "padding": null,
            "grid_auto_rows": null,
            "grid_gap": null,
            "max_width": null,
            "order": null,
            "_view_module_version": "1.2.0",
            "grid_template_areas": null,
            "object_position": null,
            "object_fit": null,
            "grid_auto_columns": null,
            "margin": null,
            "display": null,
            "left": null
          }
        },
        "6f428de23594416abba7041115453775": {
          "model_module": "@jupyter-widgets/controls",
          "model_name": "HTMLModel",
          "model_module_version": "1.5.0",
          "state": {
            "_view_name": "HTMLView",
            "style": "IPY_MODEL_3d5de86725af4d90bf1c502d49fd8093",
            "_dom_classes": [],
            "description": "",
            "_model_name": "HTMLModel",
            "placeholder": "​",
            "_view_module": "@jupyter-widgets/controls",
            "_model_module_version": "1.5.0",
            "value": "100%",
            "_view_count": null,
            "_view_module_version": "1.5.0",
            "description_tooltip": null,
            "_model_module": "@jupyter-widgets/controls",
            "layout": "IPY_MODEL_44cc9d02b7f540838797ea6ea4c5c07f"
          }
        },
        "6bbc204c99784c12862fec297f62950b": {
          "model_module": "@jupyter-widgets/controls",
          "model_name": "FloatProgressModel",
          "model_module_version": "1.5.0",
          "state": {
            "_view_name": "ProgressView",
            "style": "IPY_MODEL_71d4cc96aa744cc5b427eba5d00f208b",
            "_dom_classes": [],
            "description": "",
            "_model_name": "FloatProgressModel",
            "bar_style": "success",
            "max": 10000,
            "_view_module": "@jupyter-widgets/controls",
            "_model_module_version": "1.5.0",
            "value": 10000,
            "_view_count": null,
            "_view_module_version": "1.5.0",
            "orientation": "horizontal",
            "min": 0,
            "description_tooltip": null,
            "_model_module": "@jupyter-widgets/controls",
            "layout": "IPY_MODEL_b3298bdb18424453bf0ef62ea00d113b"
          }
        },
        "f91a8e1881a147ec80315408fb382987": {
          "model_module": "@jupyter-widgets/controls",
          "model_name": "HTMLModel",
          "model_module_version": "1.5.0",
          "state": {
            "_view_name": "HTMLView",
            "style": "IPY_MODEL_b3272bd6a55f4ab985c273df769a3ad7",
            "_dom_classes": [],
            "description": "",
            "_model_name": "HTMLModel",
            "placeholder": "​",
            "_view_module": "@jupyter-widgets/controls",
            "_model_module_version": "1.5.0",
            "value": " 10000/10000 [04:06&lt;00:00, 40.42it/s]",
            "_view_count": null,
            "_view_module_version": "1.5.0",
            "description_tooltip": null,
            "_model_module": "@jupyter-widgets/controls",
            "layout": "IPY_MODEL_7d9ea7e262bf49b9b28c20f9fc577717"
          }
        },
        "3d5de86725af4d90bf1c502d49fd8093": {
          "model_module": "@jupyter-widgets/controls",
          "model_name": "DescriptionStyleModel",
          "model_module_version": "1.5.0",
          "state": {
            "_view_name": "StyleView",
            "_model_name": "DescriptionStyleModel",
            "description_width": "",
            "_view_module": "@jupyter-widgets/base",
            "_model_module_version": "1.5.0",
            "_view_count": null,
            "_view_module_version": "1.2.0",
            "_model_module": "@jupyter-widgets/controls"
          }
        },
        "44cc9d02b7f540838797ea6ea4c5c07f": {
          "model_module": "@jupyter-widgets/base",
          "model_name": "LayoutModel",
          "model_module_version": "1.2.0",
          "state": {
            "_view_name": "LayoutView",
            "grid_template_rows": null,
            "right": null,
            "justify_content": null,
            "_view_module": "@jupyter-widgets/base",
            "overflow": null,
            "_model_module_version": "1.2.0",
            "_view_count": null,
            "flex_flow": null,
            "width": null,
            "min_width": null,
            "border": null,
            "align_items": null,
            "bottom": null,
            "_model_module": "@jupyter-widgets/base",
            "top": null,
            "grid_column": null,
            "overflow_y": null,
            "overflow_x": null,
            "grid_auto_flow": null,
            "grid_area": null,
            "grid_template_columns": null,
            "flex": null,
            "_model_name": "LayoutModel",
            "justify_items": null,
            "grid_row": null,
            "max_height": null,
            "align_content": null,
            "visibility": null,
            "align_self": null,
            "height": null,
            "min_height": null,
            "padding": null,
            "grid_auto_rows": null,
            "grid_gap": null,
            "max_width": null,
            "order": null,
            "_view_module_version": "1.2.0",
            "grid_template_areas": null,
            "object_position": null,
            "object_fit": null,
            "grid_auto_columns": null,
            "margin": null,
            "display": null,
            "left": null
          }
        },
        "71d4cc96aa744cc5b427eba5d00f208b": {
          "model_module": "@jupyter-widgets/controls",
          "model_name": "ProgressStyleModel",
          "model_module_version": "1.5.0",
          "state": {
            "_view_name": "StyleView",
            "_model_name": "ProgressStyleModel",
            "description_width": "",
            "_view_module": "@jupyter-widgets/base",
            "_model_module_version": "1.5.0",
            "_view_count": null,
            "_view_module_version": "1.2.0",
            "bar_color": null,
            "_model_module": "@jupyter-widgets/controls"
          }
        },
        "b3298bdb18424453bf0ef62ea00d113b": {
          "model_module": "@jupyter-widgets/base",
          "model_name": "LayoutModel",
          "model_module_version": "1.2.0",
          "state": {
            "_view_name": "LayoutView",
            "grid_template_rows": null,
            "right": null,
            "justify_content": null,
            "_view_module": "@jupyter-widgets/base",
            "overflow": null,
            "_model_module_version": "1.2.0",
            "_view_count": null,
            "flex_flow": null,
            "width": null,
            "min_width": null,
            "border": null,
            "align_items": null,
            "bottom": null,
            "_model_module": "@jupyter-widgets/base",
            "top": null,
            "grid_column": null,
            "overflow_y": null,
            "overflow_x": null,
            "grid_auto_flow": null,
            "grid_area": null,
            "grid_template_columns": null,
            "flex": null,
            "_model_name": "LayoutModel",
            "justify_items": null,
            "grid_row": null,
            "max_height": null,
            "align_content": null,
            "visibility": null,
            "align_self": null,
            "height": null,
            "min_height": null,
            "padding": null,
            "grid_auto_rows": null,
            "grid_gap": null,
            "max_width": null,
            "order": null,
            "_view_module_version": "1.2.0",
            "grid_template_areas": null,
            "object_position": null,
            "object_fit": null,
            "grid_auto_columns": null,
            "margin": null,
            "display": null,
            "left": null
          }
        },
        "b3272bd6a55f4ab985c273df769a3ad7": {
          "model_module": "@jupyter-widgets/controls",
          "model_name": "DescriptionStyleModel",
          "model_module_version": "1.5.0",
          "state": {
            "_view_name": "StyleView",
            "_model_name": "DescriptionStyleModel",
            "description_width": "",
            "_view_module": "@jupyter-widgets/base",
            "_model_module_version": "1.5.0",
            "_view_count": null,
            "_view_module_version": "1.2.0",
            "_model_module": "@jupyter-widgets/controls"
          }
        },
        "7d9ea7e262bf49b9b28c20f9fc577717": {
          "model_module": "@jupyter-widgets/base",
          "model_name": "LayoutModel",
          "model_module_version": "1.2.0",
          "state": {
            "_view_name": "LayoutView",
            "grid_template_rows": null,
            "right": null,
            "justify_content": null,
            "_view_module": "@jupyter-widgets/base",
            "overflow": null,
            "_model_module_version": "1.2.0",
            "_view_count": null,
            "flex_flow": null,
            "width": null,
            "min_width": null,
            "border": null,
            "align_items": null,
            "bottom": null,
            "_model_module": "@jupyter-widgets/base",
            "top": null,
            "grid_column": null,
            "overflow_y": null,
            "overflow_x": null,
            "grid_auto_flow": null,
            "grid_area": null,
            "grid_template_columns": null,
            "flex": null,
            "_model_name": "LayoutModel",
            "justify_items": null,
            "grid_row": null,
            "max_height": null,
            "align_content": null,
            "visibility": null,
            "align_self": null,
            "height": null,
            "min_height": null,
            "padding": null,
            "grid_auto_rows": null,
            "grid_gap": null,
            "max_width": null,
            "order": null,
            "_view_module_version": "1.2.0",
            "grid_template_areas": null,
            "object_position": null,
            "object_fit": null,
            "grid_auto_columns": null,
            "margin": null,
            "display": null,
            "left": null
          }
        },
        "b2ed5e7b77e8488e898eff5e50d244cf": {
          "model_module": "@jupyter-widgets/controls",
          "model_name": "HBoxModel",
          "model_module_version": "1.5.0",
          "state": {
            "_view_name": "HBoxView",
            "_dom_classes": [],
            "_model_name": "HBoxModel",
            "_view_module": "@jupyter-widgets/controls",
            "_model_module_version": "1.5.0",
            "_view_count": null,
            "_view_module_version": "1.5.0",
            "box_style": "",
            "layout": "IPY_MODEL_c3de5bd700d64474b46d106c5576f3ac",
            "_model_module": "@jupyter-widgets/controls",
            "children": [
              "IPY_MODEL_24c6b30a9ff0408486ada3c2334d6176",
              "IPY_MODEL_c9ff047cff8c4bc6b3f92805cb87080c",
              "IPY_MODEL_209a04a1378644b48f3c3d73fc93117e"
            ]
          }
        },
        "c3de5bd700d64474b46d106c5576f3ac": {
          "model_module": "@jupyter-widgets/base",
          "model_name": "LayoutModel",
          "model_module_version": "1.2.0",
          "state": {
            "_view_name": "LayoutView",
            "grid_template_rows": null,
            "right": null,
            "justify_content": null,
            "_view_module": "@jupyter-widgets/base",
            "overflow": null,
            "_model_module_version": "1.2.0",
            "_view_count": null,
            "flex_flow": null,
            "width": null,
            "min_width": null,
            "border": null,
            "align_items": null,
            "bottom": null,
            "_model_module": "@jupyter-widgets/base",
            "top": null,
            "grid_column": null,
            "overflow_y": null,
            "overflow_x": null,
            "grid_auto_flow": null,
            "grid_area": null,
            "grid_template_columns": null,
            "flex": null,
            "_model_name": "LayoutModel",
            "justify_items": null,
            "grid_row": null,
            "max_height": null,
            "align_content": null,
            "visibility": null,
            "align_self": null,
            "height": null,
            "min_height": null,
            "padding": null,
            "grid_auto_rows": null,
            "grid_gap": null,
            "max_width": null,
            "order": null,
            "_view_module_version": "1.2.0",
            "grid_template_areas": null,
            "object_position": null,
            "object_fit": null,
            "grid_auto_columns": null,
            "margin": null,
            "display": null,
            "left": null
          }
        },
        "24c6b30a9ff0408486ada3c2334d6176": {
          "model_module": "@jupyter-widgets/controls",
          "model_name": "HTMLModel",
          "model_module_version": "1.5.0",
          "state": {
            "_view_name": "HTMLView",
            "style": "IPY_MODEL_4e1d86d7b69f4cd58f67d63c36fe216f",
            "_dom_classes": [],
            "description": "",
            "_model_name": "HTMLModel",
            "placeholder": "​",
            "_view_module": "@jupyter-widgets/controls",
            "_model_module_version": "1.5.0",
            "value": "100%",
            "_view_count": null,
            "_view_module_version": "1.5.0",
            "description_tooltip": null,
            "_model_module": "@jupyter-widgets/controls",
            "layout": "IPY_MODEL_c44962de93934ea6acf40d5ec0d36d31"
          }
        },
        "c9ff047cff8c4bc6b3f92805cb87080c": {
          "model_module": "@jupyter-widgets/controls",
          "model_name": "FloatProgressModel",
          "model_module_version": "1.5.0",
          "state": {
            "_view_name": "ProgressView",
            "style": "IPY_MODEL_7e8628f149874a358ea1f6e8c5241e6b",
            "_dom_classes": [],
            "description": "",
            "_model_name": "FloatProgressModel",
            "bar_style": "success",
            "max": 10000,
            "_view_module": "@jupyter-widgets/controls",
            "_model_module_version": "1.5.0",
            "value": 10000,
            "_view_count": null,
            "_view_module_version": "1.5.0",
            "orientation": "horizontal",
            "min": 0,
            "description_tooltip": null,
            "_model_module": "@jupyter-widgets/controls",
            "layout": "IPY_MODEL_f7eabff02f46492ebdf7f3d1189ffef1"
          }
        },
        "209a04a1378644b48f3c3d73fc93117e": {
          "model_module": "@jupyter-widgets/controls",
          "model_name": "HTMLModel",
          "model_module_version": "1.5.0",
          "state": {
            "_view_name": "HTMLView",
            "style": "IPY_MODEL_796a6d8f11fe48449bfe906563351b97",
            "_dom_classes": [],
            "description": "",
            "_model_name": "HTMLModel",
            "placeholder": "​",
            "_view_module": "@jupyter-widgets/controls",
            "_model_module_version": "1.5.0",
            "value": " 10000/10000 [05:27&lt;00:00, 31.01it/s]",
            "_view_count": null,
            "_view_module_version": "1.5.0",
            "description_tooltip": null,
            "_model_module": "@jupyter-widgets/controls",
            "layout": "IPY_MODEL_d1512622ca5e4a32a978ebc21f9b4728"
          }
        },
        "4e1d86d7b69f4cd58f67d63c36fe216f": {
          "model_module": "@jupyter-widgets/controls",
          "model_name": "DescriptionStyleModel",
          "model_module_version": "1.5.0",
          "state": {
            "_view_name": "StyleView",
            "_model_name": "DescriptionStyleModel",
            "description_width": "",
            "_view_module": "@jupyter-widgets/base",
            "_model_module_version": "1.5.0",
            "_view_count": null,
            "_view_module_version": "1.2.0",
            "_model_module": "@jupyter-widgets/controls"
          }
        },
        "c44962de93934ea6acf40d5ec0d36d31": {
          "model_module": "@jupyter-widgets/base",
          "model_name": "LayoutModel",
          "model_module_version": "1.2.0",
          "state": {
            "_view_name": "LayoutView",
            "grid_template_rows": null,
            "right": null,
            "justify_content": null,
            "_view_module": "@jupyter-widgets/base",
            "overflow": null,
            "_model_module_version": "1.2.0",
            "_view_count": null,
            "flex_flow": null,
            "width": null,
            "min_width": null,
            "border": null,
            "align_items": null,
            "bottom": null,
            "_model_module": "@jupyter-widgets/base",
            "top": null,
            "grid_column": null,
            "overflow_y": null,
            "overflow_x": null,
            "grid_auto_flow": null,
            "grid_area": null,
            "grid_template_columns": null,
            "flex": null,
            "_model_name": "LayoutModel",
            "justify_items": null,
            "grid_row": null,
            "max_height": null,
            "align_content": null,
            "visibility": null,
            "align_self": null,
            "height": null,
            "min_height": null,
            "padding": null,
            "grid_auto_rows": null,
            "grid_gap": null,
            "max_width": null,
            "order": null,
            "_view_module_version": "1.2.0",
            "grid_template_areas": null,
            "object_position": null,
            "object_fit": null,
            "grid_auto_columns": null,
            "margin": null,
            "display": null,
            "left": null
          }
        },
        "7e8628f149874a358ea1f6e8c5241e6b": {
          "model_module": "@jupyter-widgets/controls",
          "model_name": "ProgressStyleModel",
          "model_module_version": "1.5.0",
          "state": {
            "_view_name": "StyleView",
            "_model_name": "ProgressStyleModel",
            "description_width": "",
            "_view_module": "@jupyter-widgets/base",
            "_model_module_version": "1.5.0",
            "_view_count": null,
            "_view_module_version": "1.2.0",
            "bar_color": null,
            "_model_module": "@jupyter-widgets/controls"
          }
        },
        "f7eabff02f46492ebdf7f3d1189ffef1": {
          "model_module": "@jupyter-widgets/base",
          "model_name": "LayoutModel",
          "model_module_version": "1.2.0",
          "state": {
            "_view_name": "LayoutView",
            "grid_template_rows": null,
            "right": null,
            "justify_content": null,
            "_view_module": "@jupyter-widgets/base",
            "overflow": null,
            "_model_module_version": "1.2.0",
            "_view_count": null,
            "flex_flow": null,
            "width": null,
            "min_width": null,
            "border": null,
            "align_items": null,
            "bottom": null,
            "_model_module": "@jupyter-widgets/base",
            "top": null,
            "grid_column": null,
            "overflow_y": null,
            "overflow_x": null,
            "grid_auto_flow": null,
            "grid_area": null,
            "grid_template_columns": null,
            "flex": null,
            "_model_name": "LayoutModel",
            "justify_items": null,
            "grid_row": null,
            "max_height": null,
            "align_content": null,
            "visibility": null,
            "align_self": null,
            "height": null,
            "min_height": null,
            "padding": null,
            "grid_auto_rows": null,
            "grid_gap": null,
            "max_width": null,
            "order": null,
            "_view_module_version": "1.2.0",
            "grid_template_areas": null,
            "object_position": null,
            "object_fit": null,
            "grid_auto_columns": null,
            "margin": null,
            "display": null,
            "left": null
          }
        },
        "796a6d8f11fe48449bfe906563351b97": {
          "model_module": "@jupyter-widgets/controls",
          "model_name": "DescriptionStyleModel",
          "model_module_version": "1.5.0",
          "state": {
            "_view_name": "StyleView",
            "_model_name": "DescriptionStyleModel",
            "description_width": "",
            "_view_module": "@jupyter-widgets/base",
            "_model_module_version": "1.5.0",
            "_view_count": null,
            "_view_module_version": "1.2.0",
            "_model_module": "@jupyter-widgets/controls"
          }
        },
        "d1512622ca5e4a32a978ebc21f9b4728": {
          "model_module": "@jupyter-widgets/base",
          "model_name": "LayoutModel",
          "model_module_version": "1.2.0",
          "state": {
            "_view_name": "LayoutView",
            "grid_template_rows": null,
            "right": null,
            "justify_content": null,
            "_view_module": "@jupyter-widgets/base",
            "overflow": null,
            "_model_module_version": "1.2.0",
            "_view_count": null,
            "flex_flow": null,
            "width": null,
            "min_width": null,
            "border": null,
            "align_items": null,
            "bottom": null,
            "_model_module": "@jupyter-widgets/base",
            "top": null,
            "grid_column": null,
            "overflow_y": null,
            "overflow_x": null,
            "grid_auto_flow": null,
            "grid_area": null,
            "grid_template_columns": null,
            "flex": null,
            "_model_name": "LayoutModel",
            "justify_items": null,
            "grid_row": null,
            "max_height": null,
            "align_content": null,
            "visibility": null,
            "align_self": null,
            "height": null,
            "min_height": null,
            "padding": null,
            "grid_auto_rows": null,
            "grid_gap": null,
            "max_width": null,
            "order": null,
            "_view_module_version": "1.2.0",
            "grid_template_areas": null,
            "object_position": null,
            "object_fit": null,
            "grid_auto_columns": null,
            "margin": null,
            "display": null,
            "left": null
          }
        },
        "1f31745a3ad64284ae634e99752c861d": {
          "model_module": "@jupyter-widgets/controls",
          "model_name": "HBoxModel",
          "model_module_version": "1.5.0",
          "state": {
            "_view_name": "HBoxView",
            "_dom_classes": [],
            "_model_name": "HBoxModel",
            "_view_module": "@jupyter-widgets/controls",
            "_model_module_version": "1.5.0",
            "_view_count": null,
            "_view_module_version": "1.5.0",
            "box_style": "",
            "layout": "IPY_MODEL_36ce59a94d3e4bb1b0c6adf4ecab0664",
            "_model_module": "@jupyter-widgets/controls",
            "children": [
              "IPY_MODEL_66de9969e6a442febbd73c5519705b17",
              "IPY_MODEL_59697626d8eb456f92ba202c98e7b2a0",
              "IPY_MODEL_5b7ccb2b35e74f94acbe41a4f56e332f"
            ]
          }
        },
        "36ce59a94d3e4bb1b0c6adf4ecab0664": {
          "model_module": "@jupyter-widgets/base",
          "model_name": "LayoutModel",
          "model_module_version": "1.2.0",
          "state": {
            "_view_name": "LayoutView",
            "grid_template_rows": null,
            "right": null,
            "justify_content": null,
            "_view_module": "@jupyter-widgets/base",
            "overflow": null,
            "_model_module_version": "1.2.0",
            "_view_count": null,
            "flex_flow": null,
            "width": null,
            "min_width": null,
            "border": null,
            "align_items": null,
            "bottom": null,
            "_model_module": "@jupyter-widgets/base",
            "top": null,
            "grid_column": null,
            "overflow_y": null,
            "overflow_x": null,
            "grid_auto_flow": null,
            "grid_area": null,
            "grid_template_columns": null,
            "flex": null,
            "_model_name": "LayoutModel",
            "justify_items": null,
            "grid_row": null,
            "max_height": null,
            "align_content": null,
            "visibility": null,
            "align_self": null,
            "height": null,
            "min_height": null,
            "padding": null,
            "grid_auto_rows": null,
            "grid_gap": null,
            "max_width": null,
            "order": null,
            "_view_module_version": "1.2.0",
            "grid_template_areas": null,
            "object_position": null,
            "object_fit": null,
            "grid_auto_columns": null,
            "margin": null,
            "display": null,
            "left": null
          }
        },
        "66de9969e6a442febbd73c5519705b17": {
          "model_module": "@jupyter-widgets/controls",
          "model_name": "HTMLModel",
          "model_module_version": "1.5.0",
          "state": {
            "_view_name": "HTMLView",
            "style": "IPY_MODEL_db6ffcb822b14f8ca912de22bc090dd8",
            "_dom_classes": [],
            "description": "",
            "_model_name": "HTMLModel",
            "placeholder": "​",
            "_view_module": "@jupyter-widgets/controls",
            "_model_module_version": "1.5.0",
            "value": "100%",
            "_view_count": null,
            "_view_module_version": "1.5.0",
            "description_tooltip": null,
            "_model_module": "@jupyter-widgets/controls",
            "layout": "IPY_MODEL_1aee2767e6ef45dc94e7494d1d45cbef"
          }
        },
        "59697626d8eb456f92ba202c98e7b2a0": {
          "model_module": "@jupyter-widgets/controls",
          "model_name": "FloatProgressModel",
          "model_module_version": "1.5.0",
          "state": {
            "_view_name": "ProgressView",
            "style": "IPY_MODEL_2c9f74b04da04d6aa6754f4856b710de",
            "_dom_classes": [],
            "description": "",
            "_model_name": "FloatProgressModel",
            "bar_style": "success",
            "max": 10000,
            "_view_module": "@jupyter-widgets/controls",
            "_model_module_version": "1.5.0",
            "value": 10000,
            "_view_count": null,
            "_view_module_version": "1.5.0",
            "orientation": "horizontal",
            "min": 0,
            "description_tooltip": null,
            "_model_module": "@jupyter-widgets/controls",
            "layout": "IPY_MODEL_32be2776b1744df98186d3c49b037b7b"
          }
        },
        "5b7ccb2b35e74f94acbe41a4f56e332f": {
          "model_module": "@jupyter-widgets/controls",
          "model_name": "HTMLModel",
          "model_module_version": "1.5.0",
          "state": {
            "_view_name": "HTMLView",
            "style": "IPY_MODEL_b0aac6721dbc4887a09c4375974dec36",
            "_dom_classes": [],
            "description": "",
            "_model_name": "HTMLModel",
            "placeholder": "​",
            "_view_module": "@jupyter-widgets/controls",
            "_model_module_version": "1.5.0",
            "value": " 10000/10000 [03:07&lt;00:00, 52.35it/s]",
            "_view_count": null,
            "_view_module_version": "1.5.0",
            "description_tooltip": null,
            "_model_module": "@jupyter-widgets/controls",
            "layout": "IPY_MODEL_8a351b5d48ec4f27bc63e96f6f424d30"
          }
        },
        "db6ffcb822b14f8ca912de22bc090dd8": {
          "model_module": "@jupyter-widgets/controls",
          "model_name": "DescriptionStyleModel",
          "model_module_version": "1.5.0",
          "state": {
            "_view_name": "StyleView",
            "_model_name": "DescriptionStyleModel",
            "description_width": "",
            "_view_module": "@jupyter-widgets/base",
            "_model_module_version": "1.5.0",
            "_view_count": null,
            "_view_module_version": "1.2.0",
            "_model_module": "@jupyter-widgets/controls"
          }
        },
        "1aee2767e6ef45dc94e7494d1d45cbef": {
          "model_module": "@jupyter-widgets/base",
          "model_name": "LayoutModel",
          "model_module_version": "1.2.0",
          "state": {
            "_view_name": "LayoutView",
            "grid_template_rows": null,
            "right": null,
            "justify_content": null,
            "_view_module": "@jupyter-widgets/base",
            "overflow": null,
            "_model_module_version": "1.2.0",
            "_view_count": null,
            "flex_flow": null,
            "width": null,
            "min_width": null,
            "border": null,
            "align_items": null,
            "bottom": null,
            "_model_module": "@jupyter-widgets/base",
            "top": null,
            "grid_column": null,
            "overflow_y": null,
            "overflow_x": null,
            "grid_auto_flow": null,
            "grid_area": null,
            "grid_template_columns": null,
            "flex": null,
            "_model_name": "LayoutModel",
            "justify_items": null,
            "grid_row": null,
            "max_height": null,
            "align_content": null,
            "visibility": null,
            "align_self": null,
            "height": null,
            "min_height": null,
            "padding": null,
            "grid_auto_rows": null,
            "grid_gap": null,
            "max_width": null,
            "order": null,
            "_view_module_version": "1.2.0",
            "grid_template_areas": null,
            "object_position": null,
            "object_fit": null,
            "grid_auto_columns": null,
            "margin": null,
            "display": null,
            "left": null
          }
        },
        "2c9f74b04da04d6aa6754f4856b710de": {
          "model_module": "@jupyter-widgets/controls",
          "model_name": "ProgressStyleModel",
          "model_module_version": "1.5.0",
          "state": {
            "_view_name": "StyleView",
            "_model_name": "ProgressStyleModel",
            "description_width": "",
            "_view_module": "@jupyter-widgets/base",
            "_model_module_version": "1.5.0",
            "_view_count": null,
            "_view_module_version": "1.2.0",
            "bar_color": null,
            "_model_module": "@jupyter-widgets/controls"
          }
        },
        "32be2776b1744df98186d3c49b037b7b": {
          "model_module": "@jupyter-widgets/base",
          "model_name": "LayoutModel",
          "model_module_version": "1.2.0",
          "state": {
            "_view_name": "LayoutView",
            "grid_template_rows": null,
            "right": null,
            "justify_content": null,
            "_view_module": "@jupyter-widgets/base",
            "overflow": null,
            "_model_module_version": "1.2.0",
            "_view_count": null,
            "flex_flow": null,
            "width": null,
            "min_width": null,
            "border": null,
            "align_items": null,
            "bottom": null,
            "_model_module": "@jupyter-widgets/base",
            "top": null,
            "grid_column": null,
            "overflow_y": null,
            "overflow_x": null,
            "grid_auto_flow": null,
            "grid_area": null,
            "grid_template_columns": null,
            "flex": null,
            "_model_name": "LayoutModel",
            "justify_items": null,
            "grid_row": null,
            "max_height": null,
            "align_content": null,
            "visibility": null,
            "align_self": null,
            "height": null,
            "min_height": null,
            "padding": null,
            "grid_auto_rows": null,
            "grid_gap": null,
            "max_width": null,
            "order": null,
            "_view_module_version": "1.2.0",
            "grid_template_areas": null,
            "object_position": null,
            "object_fit": null,
            "grid_auto_columns": null,
            "margin": null,
            "display": null,
            "left": null
          }
        },
        "b0aac6721dbc4887a09c4375974dec36": {
          "model_module": "@jupyter-widgets/controls",
          "model_name": "DescriptionStyleModel",
          "model_module_version": "1.5.0",
          "state": {
            "_view_name": "StyleView",
            "_model_name": "DescriptionStyleModel",
            "description_width": "",
            "_view_module": "@jupyter-widgets/base",
            "_model_module_version": "1.5.0",
            "_view_count": null,
            "_view_module_version": "1.2.0",
            "_model_module": "@jupyter-widgets/controls"
          }
        },
        "8a351b5d48ec4f27bc63e96f6f424d30": {
          "model_module": "@jupyter-widgets/base",
          "model_name": "LayoutModel",
          "model_module_version": "1.2.0",
          "state": {
            "_view_name": "LayoutView",
            "grid_template_rows": null,
            "right": null,
            "justify_content": null,
            "_view_module": "@jupyter-widgets/base",
            "overflow": null,
            "_model_module_version": "1.2.0",
            "_view_count": null,
            "flex_flow": null,
            "width": null,
            "min_width": null,
            "border": null,
            "align_items": null,
            "bottom": null,
            "_model_module": "@jupyter-widgets/base",
            "top": null,
            "grid_column": null,
            "overflow_y": null,
            "overflow_x": null,
            "grid_auto_flow": null,
            "grid_area": null,
            "grid_template_columns": null,
            "flex": null,
            "_model_name": "LayoutModel",
            "justify_items": null,
            "grid_row": null,
            "max_height": null,
            "align_content": null,
            "visibility": null,
            "align_self": null,
            "height": null,
            "min_height": null,
            "padding": null,
            "grid_auto_rows": null,
            "grid_gap": null,
            "max_width": null,
            "order": null,
            "_view_module_version": "1.2.0",
            "grid_template_areas": null,
            "object_position": null,
            "object_fit": null,
            "grid_auto_columns": null,
            "margin": null,
            "display": null,
            "left": null
          }
        }
      }
    }
  },
  "cells": [
    {
      "cell_type": "markdown",
      "metadata": {
        "id": "n2BLsR-61V5i"
      },
      "source": [
        "# ML Exercise 1-1\n",
        "## Question 1\n",
        "By Gholamreza Dar\n",
        "\n",
        "https://gholamrezadar.ir/\n",
        "\n",
        "Nov 2021\n",
        "\n",
        "\n",
        "Questions available at : [Github Link](https://github.com/Gholamrezadar/machine-learning-exercises/blob/main/ML-HW01.pdf)\n"
      ]
    },
    {
      "cell_type": "markdown",
      "metadata": {
        "id": "ySqj8wctld_t"
      },
      "source": [
        "How to Run:\n",
        "Runtime > Run all(ctrl+f9)"
      ]
    },
    {
      "cell_type": "markdown",
      "metadata": {
        "id": "jlvxHLKjebJb"
      },
      "source": [
        "## Hyper Parameters"
      ]
    },
    {
      "cell_type": "code",
      "metadata": {
        "cellView": "form",
        "id": "YWq0pJI8efR7"
      },
      "source": [
        "#@title Hyper Parameters\n",
        "#@markdown Main :\n",
        "max_iterations = 10000  #@param {type: \"number\"}\n",
        "train_test_split = 0.7 #@param {type: \"number\"}\n",
        "\n",
        "#@markdown Basic Example :\n",
        "basic_polynomial_degree = 10 #@param {type: \"number\"}\n",
        "basic_iterations = 1000  #@param {type: \"number\"}\n",
        "basic_learning_rate = 2.3 #@param {type: \"number\"}\n",
        "basic_decay = 5e-9 #@param {type: \"number\"}"
      ],
      "execution_count": 45,
      "outputs": []
    },
    {
      "cell_type": "markdown",
      "metadata": {
        "id": "WVIV2F7s1fer"
      },
      "source": [
        "## Loading Data"
      ]
    },
    {
      "cell_type": "code",
      "metadata": {
        "colab": {
          "base_uri": "https://localhost:8080/"
        },
        "id": "CeRMSiYovaIJ",
        "outputId": "b7b845f2-c1f9-4781-b36a-170ae20f466b"
      },
      "source": [
        "# Download dataset\n",
        "!wget https://raw.githubusercontent.com/Gholamrezadar/machine-learning-exercises/main/dataset1/dataset1.csv"
      ],
      "execution_count": 46,
      "outputs": [
        {
          "output_type": "stream",
          "name": "stdout",
          "text": [
            "--2021-11-23 05:46:33--  https://raw.githubusercontent.com/Gholamrezadar/machine-learning-exercises/main/dataset1/dataset1.csv\n",
            "Resolving raw.githubusercontent.com (raw.githubusercontent.com)... 185.199.108.133, 185.199.109.133, 185.199.110.133, ...\n",
            "Connecting to raw.githubusercontent.com (raw.githubusercontent.com)|185.199.108.133|:443... connected.\n",
            "HTTP request sent, awaiting response... 200 OK\n",
            "Length: 12074 (12K) [text/plain]\n",
            "Saving to: ‘dataset1.csv.1’\n",
            "\n",
            "\rdataset1.csv.1        0%[                    ]       0  --.-KB/s               \rdataset1.csv.1      100%[===================>]  11.79K  --.-KB/s    in 0s      \n",
            "\n",
            "2021-11-23 05:46:33 (83.2 MB/s) - ‘dataset1.csv.1’ saved [12074/12074]\n",
            "\n"
          ]
        }
      ]
    },
    {
      "cell_type": "code",
      "metadata": {
        "id": "BCuohVjm1RQ2"
      },
      "source": [
        "import pandas as pd\n",
        "import numpy as np\n",
        "import matplotlib.pyplot as plt\n",
        "from tqdm.notebook import tqdm\n",
        "import seaborn as sns\n",
        "\n",
        "# use seaborn\n",
        "sns.set()\n",
        "\n",
        "# Load the data using pandas\n",
        "df = pd.read_csv(\"dataset1.csv\")"
      ],
      "execution_count": 47,
      "outputs": []
    },
    {
      "cell_type": "code",
      "metadata": {
        "colab": {
          "base_uri": "https://localhost:8080/",
          "height": 206
        },
        "id": "_Gp7ZR152CGn",
        "outputId": "c5872bf4-9103-4539-a046-26f2c6e3919b"
      },
      "source": [
        "# Show a sample of the data\n",
        "df.head()"
      ],
      "execution_count": 48,
      "outputs": [
        {
          "output_type": "execute_result",
          "data": {
            "text/html": [
              "<div>\n",
              "<style scoped>\n",
              "    .dataframe tbody tr th:only-of-type {\n",
              "        vertical-align: middle;\n",
              "    }\n",
              "\n",
              "    .dataframe tbody tr th {\n",
              "        vertical-align: top;\n",
              "    }\n",
              "\n",
              "    .dataframe thead th {\n",
              "        text-align: right;\n",
              "    }\n",
              "</style>\n",
              "<table border=\"1\" class=\"dataframe\">\n",
              "  <thead>\n",
              "    <tr style=\"text-align: right;\">\n",
              "      <th></th>\n",
              "      <th>x</th>\n",
              "      <th>y</th>\n",
              "    </tr>\n",
              "  </thead>\n",
              "  <tbody>\n",
              "    <tr>\n",
              "      <th>0</th>\n",
              "      <td>0.097627</td>\n",
              "      <td>0.626964</td>\n",
              "    </tr>\n",
              "    <tr>\n",
              "      <th>1</th>\n",
              "      <td>0.430379</td>\n",
              "      <td>0.846452</td>\n",
              "    </tr>\n",
              "    <tr>\n",
              "      <th>2</th>\n",
              "      <td>0.205527</td>\n",
              "      <td>0.756017</td>\n",
              "    </tr>\n",
              "    <tr>\n",
              "      <th>3</th>\n",
              "      <td>0.089766</td>\n",
              "      <td>0.427504</td>\n",
              "    </tr>\n",
              "    <tr>\n",
              "      <th>4</th>\n",
              "      <td>-0.152690</td>\n",
              "      <td>-1.335228</td>\n",
              "    </tr>\n",
              "  </tbody>\n",
              "</table>\n",
              "</div>"
            ],
            "text/plain": [
              "          x         y\n",
              "0  0.097627  0.626964\n",
              "1  0.430379  0.846452\n",
              "2  0.205527  0.756017\n",
              "3  0.089766  0.427504\n",
              "4 -0.152690 -1.335228"
            ]
          },
          "metadata": {},
          "execution_count": 48
        }
      ]
    },
    {
      "cell_type": "code",
      "metadata": {
        "colab": {
          "base_uri": "https://localhost:8080/",
          "height": 300
        },
        "id": "8VtFlGBF4D5x",
        "outputId": "cd55c45c-9e48-4284-de9c-ae074f36c754"
      },
      "source": [
        "# Show a description of the data (might be useful later)\n",
        "df.describe()"
      ],
      "execution_count": 49,
      "outputs": [
        {
          "output_type": "execute_result",
          "data": {
            "text/html": [
              "<div>\n",
              "<style scoped>\n",
              "    .dataframe tbody tr th:only-of-type {\n",
              "        vertical-align: middle;\n",
              "    }\n",
              "\n",
              "    .dataframe tbody tr th {\n",
              "        vertical-align: top;\n",
              "    }\n",
              "\n",
              "    .dataframe thead th {\n",
              "        text-align: right;\n",
              "    }\n",
              "</style>\n",
              "<table border=\"1\" class=\"dataframe\">\n",
              "  <thead>\n",
              "    <tr style=\"text-align: right;\">\n",
              "      <th></th>\n",
              "      <th>x</th>\n",
              "      <th>y</th>\n",
              "    </tr>\n",
              "  </thead>\n",
              "  <tbody>\n",
              "    <tr>\n",
              "      <th>count</th>\n",
              "      <td>300.000000</td>\n",
              "      <td>300.000000</td>\n",
              "    </tr>\n",
              "    <tr>\n",
              "      <th>mean</th>\n",
              "      <td>0.007005</td>\n",
              "      <td>0.412755</td>\n",
              "    </tr>\n",
              "    <tr>\n",
              "      <th>std</th>\n",
              "      <td>0.580948</td>\n",
              "      <td>1.021100</td>\n",
              "    </tr>\n",
              "    <tr>\n",
              "      <th>min</th>\n",
              "      <td>-0.990609</td>\n",
              "      <td>-1.547934</td>\n",
              "    </tr>\n",
              "    <tr>\n",
              "      <th>25%</th>\n",
              "      <td>-0.504657</td>\n",
              "      <td>-0.361192</td>\n",
              "    </tr>\n",
              "    <tr>\n",
              "      <th>50%</th>\n",
              "      <td>0.045096</td>\n",
              "      <td>0.316442</td>\n",
              "    </tr>\n",
              "    <tr>\n",
              "      <th>75%</th>\n",
              "      <td>0.460611</td>\n",
              "      <td>1.092441</td>\n",
              "    </tr>\n",
              "    <tr>\n",
              "      <th>max</th>\n",
              "      <td>0.997694</td>\n",
              "      <td>3.186153</td>\n",
              "    </tr>\n",
              "  </tbody>\n",
              "</table>\n",
              "</div>"
            ],
            "text/plain": [
              "                x           y\n",
              "count  300.000000  300.000000\n",
              "mean     0.007005    0.412755\n",
              "std      0.580948    1.021100\n",
              "min     -0.990609   -1.547934\n",
              "25%     -0.504657   -0.361192\n",
              "50%      0.045096    0.316442\n",
              "75%      0.460611    1.092441\n",
              "max      0.997694    3.186153"
            ]
          },
          "metadata": {},
          "execution_count": 49
        }
      ]
    },
    {
      "cell_type": "markdown",
      "metadata": {
        "id": "sWHzHZ5zEH8_"
      },
      "source": [
        "## Helper functions"
      ]
    },
    {
      "cell_type": "code",
      "metadata": {
        "id": "iEZskLTec9X-"
      },
      "source": [
        "# Suppress some warnings\n",
        "import warnings\n",
        "warnings.simplefilter(action=\"ignore\", category=FutureWarning)"
      ],
      "execution_count": 50,
      "outputs": []
    },
    {
      "cell_type": "markdown",
      "metadata": {
        "id": "rxt77uKM3G6t"
      },
      "source": [
        "#### Loss Functions"
      ]
    },
    {
      "cell_type": "code",
      "metadata": {
        "id": "BIoc7Rn6EMg9"
      },
      "source": [
        "# h(theta) =  theta transpose * X\n",
        "def hypothesis(X, theta):\n",
        "  y1 = theta*X\n",
        "  return np.sum(y1, axis=1)\n",
        "\n",
        "def MSE(X, y, theta):\n",
        "  y_hat = hypothesis(X, theta)\n",
        "  m = len(X)\n",
        "  return sum((y_hat-y)**2)/(2*m)\n",
        "\n",
        "def RMSE(X, y, theta):\n",
        "  y_hat = hypothesis(X, theta)\n",
        "  m = len(X)\n",
        "  return np.sqrt(sum((y_hat-y)**2)/(2*m)) \n",
        "\n",
        "def MAE(X, y, theta):\n",
        "  y_hat = hypothesis(X, theta)\n",
        "  m = len(X)\n",
        "  return sum(np.abs((y_hat-y)))/(2*m)\n",
        "\n",
        "# Loss functions Derivatives\n",
        "def MSE_prim(X, y, i, theta):\n",
        "  y_hat = hypothesis(X, theta)\n",
        "  Xi = X.iloc[:, i]\n",
        "  m = len(X)\n",
        "  return sum((y_hat-y) * Xi) / m\n",
        "\n",
        "def RMSE_prim(X, y, i, theta):\n",
        "  # src : https://math.stackexchange.com/questions/4065532/rmse-derivatives\n",
        "  mse = MSE(X, y, theta)\n",
        "  mse_prim = MSE_prim(X, y, i, theta)\n",
        "\n",
        "  return mse_prim / 2 / np.sqrt(mse)\n",
        "\n",
        "def MAE_prim(X, y, i, theta):\n",
        "  # src : https://stats.stackexchange.com/questions/312737/mean-absolute-error-mae-derivative\n",
        "  # src2 : https://github.com/chenxingwei/machine_learning_from_scratch/blob/master/algorithm/2.linearRegressionGradientDescent.md\n",
        "  y_hat = hypothesis(X, theta)\n",
        "  # print(np.sum((X.T*(np.sign(y_hat-y)/len(X))), axis=1)[i])\n",
        "  return np.sum((X.T*(np.sign(y_hat-y)/len(X))), axis=1)[i]\n"
      ],
      "execution_count": 51,
      "outputs": []
    },
    {
      "cell_type": "markdown",
      "metadata": {
        "id": "P53OFYRw3DRj"
      },
      "source": [
        "#### Gradient Descent"
      ]
    },
    {
      "cell_type": "code",
      "metadata": {
        "id": "5UXaP1XkE_-Z"
      },
      "source": [
        "def gradientDescent(X, y, theta, lr, iteration, X_valid, y_valid, loss_fn = MSE, loss_fn_prim = MSE_prim, decay=0.0):\n",
        "  # Training loss per iteration history\n",
        "  train_loss_history = []\n",
        "  # Validation loss per iteration history\n",
        "  validation_loss_history = []\n",
        "  # weights progression towards the optimal value\n",
        "  theta_history = []\n",
        "\n",
        "  # Progress bar\n",
        "  with tqdm(total=iteration) as pbar:\n",
        "    for itera in range(iteration):\n",
        "      # TODO : Learning rate decay\n",
        "      lr = lr * 1/(1 + decay * itera)\n",
        "\n",
        "      for i in range(0, len(X.columns)):\n",
        "        # partial derivative of loss function with respect to Xi\n",
        "        gradient = loss_fn_prim(X, y, i, theta)\n",
        "\n",
        "        # Actual \"Gradient Descent\" !\n",
        "        theta[i] -= lr * gradient\n",
        "      \n",
        "      # Calculating the loss after each iteration\n",
        "      # of updating the weights using Gradient Descent\n",
        "      loss = loss_fn(X, y, theta)\n",
        "      if X_valid is not None and y_valid is not None:\n",
        "        validation_loss = loss_fn(X_valid, y_valid, theta)\n",
        "\n",
        "      # Save the history of loss and weights\n",
        "      train_loss_history.append(loss)\n",
        "      if X_valid is not None and y_valid is not None:\n",
        "        validation_loss_history.append(validation_loss)\n",
        "      theta_history.append(theta.copy())\n",
        "\n",
        "      # Update progress bar\n",
        "      pbar.update(1)\n",
        "\n",
        "  history = {\"training_loss\":train_loss_history,\n",
        "             \"validation_loss\":validation_loss_history,\n",
        "             \"weights\":theta_history}\n",
        "  # returns loss history, latest loss, weights\n",
        "  print(f\"training_loss : {round(train_loss_history[-1],4)} | validation_loss : {round(validation_loss_history[-1],4)}\")\n",
        "  return history, loss, theta"
      ],
      "execution_count": 52,
      "outputs": []
    },
    {
      "cell_type": "code",
      "metadata": {
        "id": "LZvicFzmD8cN"
      },
      "source": [
        "# Add the polynomial's terms as features\n",
        "# so that the univariate non-linear regression\n",
        "# becomes a multivariate linear regression\n",
        "# where every polynomial term is a feature for\n",
        "# the linear regression\n",
        "def polynomial_to_linear_regression(X, polynomial_degree):\n",
        "  for i in range(2, 1 + polynomial_degree):\n",
        "    X['x'+str(i)] = X['x']**i"
      ],
      "execution_count": 53,
      "outputs": []
    },
    {
      "cell_type": "code",
      "metadata": {
        "id": "tOpH5cX94Byy"
      },
      "source": [
        "#  helper function used to plot a polynomial\n",
        "def polyCoefficients(x, coeffs):\n",
        "    o = len(coeffs)\n",
        "    y = 0\n",
        "    for i in range(o):\n",
        "        y += coeffs[i]*x**i\n",
        "    return y"
      ],
      "execution_count": 54,
      "outputs": []
    },
    {
      "cell_type": "markdown",
      "metadata": {
        "id": "Ua0aApmZ5PZA"
      },
      "source": [
        "#### Normal Equation"
      ]
    },
    {
      "cell_type": "code",
      "metadata": {
        "id": "NAg9R35Z5PLX"
      },
      "source": [
        "def normalEquation(X, y):\n",
        "  # (X^T X)^-1 X^T Y\n",
        "  XTX = np.dot(X.T,X)\n",
        "  XTX_inverse = np.linalg.inv(XTX)\n",
        "  XTY = np.dot(X.T,y)\n",
        "  theta = np.dot(XTX_inverse, XTY)\n",
        "  return theta\n",
        "\n",
        "def regularizedNormalEquation(X, y, lambd=0.1):\n",
        "  # (X^T X + lambda I)^-1 X^T Y\n",
        "  XTX = np.dot(X.T,X) + np.dot(np.identity(X.shape[1]),lambd)\n",
        "  XTX_inverse = np.linalg.inv(XTX)\n",
        "  XTY = np.dot(X.T,y)\n",
        "  theta = np.dot(XTX_inverse, XTY)\n",
        "  return theta"
      ],
      "execution_count": 55,
      "outputs": []
    },
    {
      "cell_type": "markdown",
      "metadata": {
        "id": "LxBFCbQN4N-k"
      },
      "source": [
        "#### Plotting related"
      ]
    },
    {
      "cell_type": "markdown",
      "metadata": {
        "id": "y7zmPCtuK1qs"
      },
      "source": [
        "##### def plot_curve( )"
      ]
    },
    {
      "cell_type": "code",
      "metadata": {
        "id": "yEOIXuuc4Chu"
      },
      "source": [
        "# Plots a polynomial on top of the original data\n",
        "def plot_curve(X, y, theta, c='r', title='', resolution=200):\n",
        "  # Don't try this at home\n",
        "  import warnings\n",
        "  warnings.simplefilter(action=\"ignore\", category=FutureWarning)\n",
        "  \n",
        "  plt.figure()\n",
        "  plt.title(title)\n",
        "  # Plot the original data\n",
        "  plt.scatter(x=X['x'],y= y)\n",
        "\n",
        "  x = np.linspace(-1, 1, resolution)\n",
        "  # Plot the fitted polynomial over the data\n",
        "  plt.plot(x, polyCoefficients(x, theta), color=c, linewidth=4)\n",
        "\n",
        "  plt.show()"
      ],
      "execution_count": 56,
      "outputs": []
    },
    {
      "cell_type": "markdown",
      "metadata": {
        "id": "MS8r-uMOKzjS"
      },
      "source": [
        "##### def plot_loss( )"
      ]
    },
    {
      "cell_type": "code",
      "metadata": {
        "id": "Fg5ByV_XoiRB"
      },
      "source": [
        "# Plots validation and training losses per iteration\n",
        "def plot_loss(history, title='', starting_iter=0):\n",
        "  # Don't try this at home\n",
        "  import warnings\n",
        "  warnings.simplefilter(action=\"ignore\", category=FutureWarning)\n",
        "  \n",
        "  fig, ax = plt.subplots()\n",
        "  plt.title(title)\n",
        "\n",
        "  # X = iterations range\n",
        "  x = np.linspace(0, iterations, iterations)\n",
        "  \n",
        "  # 1. Training_loss - iteration curve (Red)\n",
        "  sns.lineplot(x[starting_iter:], history[\"training_loss\"][starting_iter:], color='r')\n",
        "  # 2. Validation_loss - iteration curve (green)\n",
        "  sns.lineplot(x[starting_iter:], history[\"validation_loss\"][starting_iter:], color='g')\n",
        "\n",
        "  ax.legend(labels=[\"training\", \"validation\"])\n",
        "\n",
        "  plt.show()"
      ],
      "execution_count": 57,
      "outputs": []
    },
    {
      "cell_type": "markdown",
      "metadata": {
        "id": "lghZXpnGKxmM"
      },
      "source": [
        "##### def plot_lr( )"
      ]
    },
    {
      "cell_type": "code",
      "metadata": {
        "id": "jHkd4N_JqIjS"
      },
      "source": [
        "def plot_lr(lr=0.1, iterations=1000, decay=None, title='learning_rate'):\n",
        "  # Don't try this at home\n",
        "  import warnings\n",
        "  warnings.simplefilter(action=\"ignore\", category=FutureWarning)\n",
        "  \n",
        "  _lrs = []\n",
        "  # Iterations\n",
        "  _iterations = iterations\n",
        "  # Initial lr\n",
        "  _lr0 = lr\n",
        "  _decay = 0\n",
        "  # Decay\n",
        "  if decay is None:\n",
        "    _decay = _lr0/_iterations\n",
        "  else:\n",
        "    _decay = decay\n",
        "\n",
        "  # Simulate gradient descents main loop\n",
        "  _lr = _lr0\n",
        "  for i in range(_iterations):\n",
        "    _lr = _lr * 1/(1 + _decay * i)\n",
        "    _lrs.append(_lr)\n",
        "\n",
        "  _x = list(range(_iterations))\n",
        "  _y = _lrs\n",
        "\n",
        "  plt.figure()\n",
        "  plt.title(title)\n",
        "  plt.plot(_x, _y)\n",
        "  plt.show()"
      ],
      "execution_count": 58,
      "outputs": []
    },
    {
      "cell_type": "markdown",
      "metadata": {
        "id": "GVtLPZaVKiZg"
      },
      "source": [
        "##### def plot_every_curve( )"
      ]
    },
    {
      "cell_type": "code",
      "metadata": {
        "id": "h4l6EmkCMVDE"
      },
      "source": [
        "def plot_every_curve(X, y, thetas,line_widths=[1, 1], resolution=100, i_max=3, j_max=3, dpi=72):\n",
        "  # Don't try this at home\n",
        "  import warnings\n",
        "  warnings.simplefilter(action=\"ignore\", category=FutureWarning)\n",
        "\n",
        "  plt.figure()\n",
        "  fig, axes = plt.subplots(3, 3, sharex=True, sharey=True, figsize=(16,10), constrained_layout=True)\n",
        "  fig.dpi = dpi\n",
        "  # fig.subplots_adjust(hspace=0.6)\n",
        "\n",
        "  # Helper lists for accessing the current config\n",
        "  fn_labels = [\"MAE\", \"RMSE\", \"MSE\"]\n",
        "  deg_labels = [\"degree 10\",\"degree 8\",\"degree 5\"]\n",
        "\n",
        "  # Used to plot the fitted polynomial in the range[-1,1]\n",
        "  x = np.linspace(-1, 1, resolution)\n",
        "\n",
        "  # Plotting every case in a 3 by 3 grid\n",
        "  for i in range(i_max):\n",
        "    for j in range(j_max):\n",
        "\n",
        "      # 1. plot the original data (Dots)\n",
        "      sns.scatterplot(x=X[\"x\"], y=y, ax=axes[i,j] )# ,s=70, color='darkgray')\n",
        "\n",
        "      # 2. Plot a curve with an earlier iteration theta [1] (Red)\n",
        "      theta = thetas[i][j][1]\n",
        "      sns.lineplot(x, polyCoefficients(x, theta), color='r', ax=axes[i,j], linewidth=line_widths[1])\n",
        "\n",
        "      # 3. Plot a curve with the Last iteration theta [0] (Green)\n",
        "      theta = thetas[i][j][0]\n",
        "      sns.lineplot(x, polyCoefficients(x, theta), color='g', ax=axes[i,j], linewidth=line_widths[0])\n",
        "\n",
        "      # Legends and titles\n",
        "      axes[i,j].legend(labels=[f\"{other_iteration_to_display} iters\", f\"{int(iterations)} iters\"])\n",
        "      axes[i,j].set_title(f\"train_loss:{round(losses[i][j][0],3)}   valid_loss:{round(losses[i][j][1],3)}\")\n",
        "\n",
        "      # Matplotlib related code\n",
        "      axes[i,j].xaxis.set_ticklabels([])\n",
        "      axes[i,j].yaxis.set_ticklabels([])\n",
        "      axes[i,j].set_xlabel(fn_labels[j])\n",
        "      axes[i,j].set_ylabel(deg_labels[i])\n",
        "\n",
        "  plt.show()"
      ],
      "execution_count": 91,
      "outputs": []
    },
    {
      "cell_type": "markdown",
      "metadata": {
        "id": "xe_DJ46_LTn3"
      },
      "source": [
        "##### def plot_every_case_loss( )"
      ]
    },
    {
      "cell_type": "code",
      "metadata": {
        "id": "NvF6Ft73MMdS"
      },
      "source": [
        "def plot_every_case_loss(histories, starting_iter=0, i_max=3, j_max=3, dpi=72):\n",
        "  # Don't try this at home\n",
        "  import warnings\n",
        "  warnings.simplefilter(action=\"ignore\", category=FutureWarning)\n",
        "\n",
        "  plt.figure()\n",
        "  fig, axes = plt.subplots(3, 3, sharex=True, sharey=False, figsize=(16,10), constrained_layout=True)\n",
        "  fig.dpi = dpi\n",
        "\n",
        "  # Helper lists for accessing the current config\n",
        "  fn_labels = [\"MAE\", \"RMSE\", \"MSE\"]\n",
        "  deg_labels = [\"degree 10\",\"degree 8\",\"degree 3\"]\n",
        "\n",
        "  # X = iterations range\n",
        "  x = np.linspace(0, iterations, iterations)\n",
        "\n",
        "  # Plotting every case in a 3 by 3 grid\n",
        "  for i in range(i_max):\n",
        "    for j in range(j_max):\n",
        "\n",
        "      # 1. Training_loss - iteration curve (Red)\n",
        "      sns.lineplot(x[starting_iter:], histories[i][j][0][\"training_loss\"][starting_iter:], color='r', ax=axes[i,j])\n",
        "      # 2. Validation_loss - iteration curve (green)\n",
        "      sns.lineplot(x[starting_iter:], histories[i][j][0][\"validation_loss\"][starting_iter:], color='g', ax=axes[i,j])\n",
        "\n",
        "      # Legends\n",
        "      axes[i,j].legend(labels=[f\"training loss\", f\"validation loss\"])\n",
        "\n",
        "      # Matplotlib related code\n",
        "      axes[i,j].set_xlabel(fn_labels[j])\n",
        "      axes[i,j].set_ylabel(deg_labels[i])\n",
        "\n",
        "  plt.show()"
      ],
      "execution_count": 60,
      "outputs": []
    },
    {
      "cell_type": "markdown",
      "metadata": {
        "id": "otbSGE_lLWYM"
      },
      "source": [
        "##### def plot_normal_equations( )"
      ]
    },
    {
      "cell_type": "code",
      "metadata": {
        "id": "3NvmQYwZDV2C"
      },
      "source": [
        "# Plots a polynomial on top of the original data\n",
        "def plot_normal_equations(X, y, c='r', title='', resolution=200, dpi=72):\n",
        "  # Don't try this at home\n",
        "  import warnings\n",
        "  warnings.simplefilter(action=\"ignore\", category=FutureWarning)\n",
        "\n",
        "  fig, ax = plt.subplots()\n",
        "  plt.title(title)\n",
        "  fig.dpi=dpi\n",
        "\n",
        "  # Plot the original data\n",
        "  sns.scatterplot(x=X['x'], y=y, size=1, color='darkgray')\n",
        "\n",
        "  x = np.linspace(-1, 1, resolution)\n",
        "\n",
        "  # calculate theta for each method\n",
        "  normal_theta = normalEquation(X_train_copy, y_train)\n",
        "  reg_normal_theta1 = regularizedNormalEquation(X_train_copy, y_train, lambd=0.075)\n",
        "  reg_normal_theta2 = regularizedNormalEquation(X_train_copy, y_train, lambd=0.75)\n",
        "  reg_normal_theta4 = regularizedNormalEquation(X_train_copy, y_train, lambd=7.5)\n",
        "\n",
        "  # Plot the fitted polynomial over the data\n",
        "  plt.plot(x, polyCoefficients(x, normal_theta), linewidth=2)\n",
        "  plt.plot(x, polyCoefficients(x, reg_normal_theta1), linewidth=2)\n",
        "  plt.plot(x, polyCoefficients(x, reg_normal_theta2), linewidth=2)\n",
        "  plt.plot(x, polyCoefficients(x, reg_normal_theta4), linewidth=2)\n",
        "\n",
        "  ax.legend(labels=[\"No Regularization\", \"λ=0.075\", \"λ=0.75\", \"λ=7.5\"])\n",
        "  ax.xaxis.set_ticklabels([])\n",
        "  ax.yaxis.set_ticklabels([])\n",
        "  ax.xaxis.set_visible(False)\n",
        "  ax.yaxis.set_visible(False)\n",
        "  plt.show()"
      ],
      "execution_count": 61,
      "outputs": []
    },
    {
      "cell_type": "markdown",
      "metadata": {
        "id": "ShvfWi9J2huw"
      },
      "source": [
        "## Part 1 - Plotting the data"
      ]
    },
    {
      "cell_type": "code",
      "metadata": {
        "colab": {
          "base_uri": "https://localhost:8080/",
          "height": 268
        },
        "id": "Dol2qfJH22yD",
        "outputId": "e3f1a49a-a771-404a-a363-e52a737a4d5c"
      },
      "source": [
        "# Plot the data using matplotlib\n",
        "plt.scatter(x=df['x'],y=df['y'])\n",
        "plt.show()"
      ],
      "execution_count": 62,
      "outputs": [
        {
          "output_type": "display_data",
          "data": {
            "image/png": "[encoded data removed]",
            "text/plain": [
              "<Figure size 432x288 with 1 Axes>"
            ]
          },
          "metadata": {}
        }
      ]
    },
    {
      "cell_type": "markdown",
      "metadata": {
        "id": "1kZUeq6D4R4D"
      },
      "source": [
        "## Part 2 - Shuffle"
      ]
    },
    {
      "cell_type": "code",
      "metadata": {
        "id": "aGQljZCqBhr9"
      },
      "source": [
        "def plot_colorize(df):\n",
        "  '''\n",
        "  Assigns 'red' color to the first half of the data\n",
        "  and 'blue' to the rest\n",
        "\n",
        "  If the data is well shuffled we should see random red \n",
        "  and blue circles everywhere.\n",
        "\n",
        "  If the data is NOT well shuffled we might see a pattern between\n",
        "  circles' position and their color.\n",
        "  '''\n",
        "\n",
        "  df_red = df.loc[df.index<df.shape[0]/2]\n",
        "  df_blue = df.loc[df.index>=df.shape[0]/2]\n",
        "\n",
        "  sns.scatterplot(data=df_red, x='x', y='y', color='r')\n",
        "  sns.scatterplot(data=df_blue, x='x', y='y', color='b')\n",
        "\n",
        "  plt.show()"
      ],
      "execution_count": 63,
      "outputs": []
    },
    {
      "cell_type": "markdown",
      "metadata": {
        "id": "cfPA-TvvCn00"
      },
      "source": [
        "### Default data"
      ]
    },
    {
      "cell_type": "code",
      "metadata": {
        "colab": {
          "base_uri": "https://localhost:8080/",
          "height": 302
        },
        "id": "jpFrZiqf6z1r",
        "outputId": "c0c52687-f874-4a52-d6ff-a46c7f539827"
      },
      "source": [
        "plot_colorize(df)\n",
        "print(\" \"*9,\"Data seems to be well shuffled.\")"
      ],
      "execution_count": 64,
      "outputs": [
        {
          "output_type": "display_data",
          "data": {
            "image/png": "[encoded data removed]",
            "text/plain": [
              "<Figure size 432x288 with 1 Axes>"
            ]
          },
          "metadata": {}
        },
        {
          "output_type": "stream",
          "name": "stdout",
          "text": [
            "          Data seems to be well shuffled.\n"
          ]
        }
      ]
    },
    {
      "cell_type": "markdown",
      "metadata": {
        "id": "IvlTehEJCvcX"
      },
      "source": [
        "### Sorted data"
      ]
    },
    {
      "cell_type": "code",
      "metadata": {
        "colab": {
          "base_uri": "https://localhost:8080/",
          "height": 302
        },
        "id": "2cZT-T_Z-uiC",
        "outputId": "cc58d645-dd86-4ce8-d0c5-18c3c44dd732"
      },
      "source": [
        "# Sort the data based on 'x' first, then do the \n",
        "# previous part to see the result.\n",
        "sorted_df = df.sort_values(by='x', ascending=True, ignore_index=True)\n",
        "\n",
        "plot_colorize(sorted_df)\n",
        "print(\" \"*6,\"Data doesn't seem to be well shuffled.\")"
      ],
      "execution_count": 65,
      "outputs": [
        {
          "output_type": "display_data",
          "data": {
            "image/png": "[encoded data removed]",
            "text/plain": [
              "<Figure size 432x288 with 1 Axes>"
            ]
          },
          "metadata": {}
        },
        {
          "output_type": "stream",
          "name": "stdout",
          "text": [
            "       Data doesn't seem to be well shuffled.\n"
          ]
        }
      ]
    },
    {
      "cell_type": "markdown",
      "metadata": {
        "id": "F6Bv8jP-Cxbh"
      },
      "source": [
        "### Shuffled data"
      ]
    },
    {
      "cell_type": "code",
      "metadata": {
        "colab": {
          "base_uri": "https://localhost:8080/",
          "height": 302
        },
        "id": "WxRI2DnyAsiZ",
        "outputId": "880916b5-b98b-4f32-cd38-8bbb932b9c3e"
      },
      "source": [
        "# Let's shuffle the data anyways (just in case)\n",
        "\n",
        "# pandas Doc: specifying drop=True prevents .reset_index()\n",
        "# from creating a column containing the old index entries.\n",
        "shuffled_df = df.sample(frac=1).reset_index(drop=True)\n",
        "\n",
        "plot_colorize(shuffled_df)\n",
        "print(\" \"*9,\"Data seems to be well shuffled.\")"
      ],
      "execution_count": 66,
      "outputs": [
        {
          "output_type": "display_data",
          "data": {
            "image/png": "[encoded data removed]",
            "text/plain": [
              "<Figure size 432x288 with 1 Axes>"
            ]
          },
          "metadata": {}
        },
        {
          "output_type": "stream",
          "name": "stdout",
          "text": [
            "          Data seems to be well shuffled.\n"
          ]
        }
      ]
    },
    {
      "cell_type": "markdown",
      "metadata": {
        "id": "jFXdtUiUDosf"
      },
      "source": [
        "## Part 3 - Gradient Descent\n",
        "Finding The optimal \"Theta\" values (weights)"
      ]
    },
    {
      "cell_type": "markdown",
      "metadata": {
        "id": "IeQ02tqLx_X_"
      },
      "source": [
        "### Data Prepration\n"
      ]
    },
    {
      "cell_type": "markdown",
      "metadata": {
        "id": "gOLTdEZ9Id_2"
      },
      "source": [
        "#### Add a column for bias"
      ]
    },
    {
      "cell_type": "code",
      "metadata": {
        "colab": {
          "base_uri": "https://localhost:8080/",
          "height": 206
        },
        "id": "DQPx406veDrg",
        "outputId": "423f1d2d-f59c-4240-fd20-175f9095ed7d"
      },
      "source": [
        "# Add a new column for simplicity of the calculations\n",
        "# acts as the bias term\n",
        "shuffled_df = pd.concat([pd.Series(1, index=shuffled_df.index, name='0'), shuffled_df], axis=1)\n",
        "shuffled_df.head()"
      ],
      "execution_count": 67,
      "outputs": [
        {
          "output_type": "execute_result",
          "data": {
            "text/html": [
              "<div>\n",
              "<style scoped>\n",
              "    .dataframe tbody tr th:only-of-type {\n",
              "        vertical-align: middle;\n",
              "    }\n",
              "\n",
              "    .dataframe tbody tr th {\n",
              "        vertical-align: top;\n",
              "    }\n",
              "\n",
              "    .dataframe thead th {\n",
              "        text-align: right;\n",
              "    }\n",
              "</style>\n",
              "<table border=\"1\" class=\"dataframe\">\n",
              "  <thead>\n",
              "    <tr style=\"text-align: right;\">\n",
              "      <th></th>\n",
              "      <th>0</th>\n",
              "      <th>x</th>\n",
              "      <th>y</th>\n",
              "    </tr>\n",
              "  </thead>\n",
              "  <tbody>\n",
              "    <tr>\n",
              "      <th>0</th>\n",
              "      <td>1</td>\n",
              "      <td>-0.122797</td>\n",
              "      <td>-0.700428</td>\n",
              "    </tr>\n",
              "    <tr>\n",
              "      <th>1</th>\n",
              "      <td>1</td>\n",
              "      <td>0.954990</td>\n",
              "      <td>-0.287307</td>\n",
              "    </tr>\n",
              "    <tr>\n",
              "      <th>2</th>\n",
              "      <td>1</td>\n",
              "      <td>-0.087699</td>\n",
              "      <td>-1.126259</td>\n",
              "    </tr>\n",
              "    <tr>\n",
              "      <th>3</th>\n",
              "      <td>1</td>\n",
              "      <td>-0.405126</td>\n",
              "      <td>0.206917</td>\n",
              "    </tr>\n",
              "    <tr>\n",
              "      <th>4</th>\n",
              "      <td>1</td>\n",
              "      <td>0.154457</td>\n",
              "      <td>0.754608</td>\n",
              "    </tr>\n",
              "  </tbody>\n",
              "</table>\n",
              "</div>"
            ],
            "text/plain": [
              "   0         x         y\n",
              "0  1 -0.122797 -0.700428\n",
              "1  1  0.954990 -0.287307\n",
              "2  1 -0.087699 -1.126259\n",
              "3  1 -0.405126  0.206917\n",
              "4  1  0.154457  0.754608"
            ]
          },
          "metadata": {},
          "execution_count": 67
        }
      ]
    },
    {
      "cell_type": "markdown",
      "metadata": {
        "id": "Kls9C6ylIhjA"
      },
      "source": [
        "#### Seperate X,y"
      ]
    },
    {
      "cell_type": "code",
      "metadata": {
        "colab": {
          "base_uri": "https://localhost:8080/"
        },
        "id": "tV3xFOc0fSX7",
        "outputId": "9b9e68ab-ff32-4abc-e4d5-1d72a691a5d1"
      },
      "source": [
        "# Split training data into X and y\n",
        "X = shuffled_df.drop(columns=\"y\")\n",
        "y = shuffled_df.iloc[:, 2]\n",
        "\n",
        "print(\"X : \\n\", X.head().to_string(),end=\"\\n\\n\")\n",
        "print(\"y : \\n\", y.head().to_string())"
      ],
      "execution_count": 68,
      "outputs": [
        {
          "output_type": "stream",
          "name": "stdout",
          "text": [
            "X : \n",
            "    0         x\n",
            "0  1 -0.122797\n",
            "1  1  0.954990\n",
            "2  1 -0.087699\n",
            "3  1 -0.405126\n",
            "4  1  0.154457\n",
            "\n",
            "y : \n",
            " 0   -0.700428\n",
            "1   -0.287307\n",
            "2   -1.126259\n",
            "3    0.206917\n",
            "4    0.754608\n"
          ]
        }
      ]
    },
    {
      "cell_type": "code",
      "metadata": {
        "colab": {
          "base_uri": "https://localhost:8080/"
        },
        "id": "CvhJrS54-VOs",
        "outputId": "59b31a89-cea1-4a82-ff87-eef50c524cf7"
      },
      "source": [
        "# Split to train and valid\n",
        "split = train_test_split\n",
        "\n",
        "X_train = X.iloc[ : int(len(X)*split),:].reset_index(drop=True)\n",
        "X_valid = X.iloc[int(len(X)*split) : ,:].reset_index(drop=True)\n",
        "\n",
        "y_train = y.iloc[ : int(len(X)*split)].reset_index(drop=True)\n",
        "y_valid = y.iloc[int(len(X)*split) : ].reset_index(drop=True)\n",
        "\n",
        "print(f\"Train X size = {len(X_train)}\")\n",
        "print(f\"Train y size = {len(y_train)}\")\n",
        "print(f\"Valid X size = {len(X_valid)}\")\n",
        "print(f\"Valid y size = {len(y_valid)}\")"
      ],
      "execution_count": 69,
      "outputs": [
        {
          "output_type": "stream",
          "name": "stdout",
          "text": [
            "Train X size = 210\n",
            "Train y size = 210\n",
            "Valid X size = 90\n",
            "Valid y size = 90\n"
          ]
        }
      ]
    },
    {
      "cell_type": "code",
      "metadata": {
        "id": "G7M31aNb-FEp"
      },
      "source": [
        "# Save a copy of X and y \n",
        "# TODO might not need it\n",
        "X_train_org = X_train.copy()\n",
        "y_train_org = y_train.copy()"
      ],
      "execution_count": 70,
      "outputs": []
    },
    {
      "cell_type": "markdown",
      "metadata": {
        "id": "c3rmQQpUyT3j"
      },
      "source": [
        "### Polynomial Regression\n",
        "a basic example"
      ]
    },
    {
      "cell_type": "code",
      "metadata": {
        "id": "jGhosewt1XlR"
      },
      "source": [
        "# polynomial degree\n",
        "polynomial_degree = basic_polynomial_degree\n"
      ],
      "execution_count": 71,
      "outputs": []
    },
    {
      "cell_type": "markdown",
      "metadata": {
        "id": "4_VmpSYvzq73"
      },
      "source": [
        "Convert\n",
        "\n",
        "**aX  + bX^2 + cX^3 + d**\n",
        "\n",
        "to\n",
        "\n",
        "**aX1 + bX2  + cX3  + d**"
      ]
    },
    {
      "cell_type": "code",
      "metadata": {
        "colab": {
          "base_uri": "https://localhost:8080/",
          "height": 206
        },
        "id": "D8lSsswigR3E",
        "outputId": "c4a7bf95-fb23-4974-d367-f2d9ab417e38"
      },
      "source": [
        "# Add the polynomial's terms as features\n",
        "# so that the univariate non-linear regression\n",
        "# becomes a multivariate linear regression\n",
        "# where every polynomial term is a feature for\n",
        "# the linear regression\n",
        "\n",
        "X_train_copy = X_train.copy()\n",
        "X_valid_copy = X_valid.copy()\n",
        "polynomial_to_linear_regression(X_train_copy, polynomial_degree)\n",
        "polynomial_to_linear_regression(X_valid_copy, polynomial_degree)\n",
        "\n",
        "\n",
        "X_train_copy.head()"
      ],
      "execution_count": 72,
      "outputs": [
        {
          "output_type": "execute_result",
          "data": {
            "text/html": [
              "<div>\n",
              "<style scoped>\n",
              "    .dataframe tbody tr th:only-of-type {\n",
              "        vertical-align: middle;\n",
              "    }\n",
              "\n",
              "    .dataframe tbody tr th {\n",
              "        vertical-align: top;\n",
              "    }\n",
              "\n",
              "    .dataframe thead th {\n",
              "        text-align: right;\n",
              "    }\n",
              "</style>\n",
              "<table border=\"1\" class=\"dataframe\">\n",
              "  <thead>\n",
              "    <tr style=\"text-align: right;\">\n",
              "      <th></th>\n",
              "      <th>0</th>\n",
              "      <th>x</th>\n",
              "      <th>x2</th>\n",
              "      <th>x3</th>\n",
              "      <th>x4</th>\n",
              "      <th>x5</th>\n",
              "      <th>x6</th>\n",
              "      <th>x7</th>\n",
              "      <th>x8</th>\n",
              "      <th>x9</th>\n",
              "      <th>x10</th>\n",
              "    </tr>\n",
              "  </thead>\n",
              "  <tbody>\n",
              "    <tr>\n",
              "      <th>0</th>\n",
              "      <td>1</td>\n",
              "      <td>-0.122797</td>\n",
              "      <td>0.015079</td>\n",
              "      <td>-0.001852</td>\n",
              "      <td>0.000227</td>\n",
              "      <td>-0.000028</td>\n",
              "      <td>3.428672e-06</td>\n",
              "      <td>-4.210306e-07</td>\n",
              "      <td>5.170128e-08</td>\n",
              "      <td>-6.348761e-09</td>\n",
              "      <td>7.796086e-10</td>\n",
              "    </tr>\n",
              "    <tr>\n",
              "      <th>1</th>\n",
              "      <td>1</td>\n",
              "      <td>0.954990</td>\n",
              "      <td>0.912006</td>\n",
              "      <td>0.870957</td>\n",
              "      <td>0.831756</td>\n",
              "      <td>0.794319</td>\n",
              "      <td>7.585666e-01</td>\n",
              "      <td>7.244237e-01</td>\n",
              "      <td>6.918176e-01</td>\n",
              "      <td>6.606791e-01</td>\n",
              "      <td>6.309421e-01</td>\n",
              "    </tr>\n",
              "    <tr>\n",
              "      <th>2</th>\n",
              "      <td>1</td>\n",
              "      <td>-0.087699</td>\n",
              "      <td>0.007691</td>\n",
              "      <td>-0.000675</td>\n",
              "      <td>0.000059</td>\n",
              "      <td>-0.000005</td>\n",
              "      <td>4.549648e-07</td>\n",
              "      <td>-3.990011e-08</td>\n",
              "      <td>3.499213e-09</td>\n",
              "      <td>-3.068787e-10</td>\n",
              "      <td>2.691306e-11</td>\n",
              "    </tr>\n",
              "    <tr>\n",
              "      <th>3</th>\n",
              "      <td>1</td>\n",
              "      <td>-0.405126</td>\n",
              "      <td>0.164127</td>\n",
              "      <td>-0.066492</td>\n",
              "      <td>0.026938</td>\n",
              "      <td>-0.010913</td>\n",
              "      <td>4.421212e-03</td>\n",
              "      <td>-1.791148e-03</td>\n",
              "      <td>7.256409e-04</td>\n",
              "      <td>-2.939761e-04</td>\n",
              "      <td>1.190974e-04</td>\n",
              "    </tr>\n",
              "    <tr>\n",
              "      <th>4</th>\n",
              "      <td>1</td>\n",
              "      <td>0.154457</td>\n",
              "      <td>0.023857</td>\n",
              "      <td>0.003685</td>\n",
              "      <td>0.000569</td>\n",
              "      <td>0.000088</td>\n",
              "      <td>1.357840e-05</td>\n",
              "      <td>2.097281e-06</td>\n",
              "      <td>3.239401e-07</td>\n",
              "      <td>5.003488e-08</td>\n",
              "      <td>7.728246e-09</td>\n",
              "    </tr>\n",
              "  </tbody>\n",
              "</table>\n",
              "</div>"
            ],
            "text/plain": [
              "   0         x        x2  ...            x8            x9           x10\n",
              "0  1 -0.122797  0.015079  ...  5.170128e-08 -6.348761e-09  7.796086e-10\n",
              "1  1  0.954990  0.912006  ...  6.918176e-01  6.606791e-01  6.309421e-01\n",
              "2  1 -0.087699  0.007691  ...  3.499213e-09 -3.068787e-10  2.691306e-11\n",
              "3  1 -0.405126  0.164127  ...  7.256409e-04 -2.939761e-04  1.190974e-04\n",
              "4  1  0.154457  0.023857  ...  3.239401e-07  5.003488e-08  7.728246e-09\n",
              "\n",
              "[5 rows x 11 columns]"
            ]
          },
          "metadata": {},
          "execution_count": 72
        }
      ]
    },
    {
      "cell_type": "markdown",
      "metadata": {
        "id": "nSPAC6LU0-sc"
      },
      "source": [
        "#### Training a basic example\n",
        "Normal equation for comparison : \n",
        "\n",
        "*   0.07 training loss\n",
        "*   0.09 validation loss\n",
        "\n",
        "5k iter 10th degree polynomial lr=2.3\n",
        "*   Training Loss : 0.07766969752936674\n",
        "*   Validation Loss : 0.094857479611961\n",
        "\n",
        "\n"
      ]
    },
    {
      "cell_type": "code",
      "metadata": {
        "colab": {
          "base_uri": "https://localhost:8080/",
          "height": 84,
          "referenced_widgets": [
            "3c8d595b571c4aa9a56ce39028bb4cac",
            "75dd1bb6d0ea457a95264e77c0e120e6",
            "e35938aa32f9453fa4601e786f0fce31",
            "536d8a137a3f4948991843d6be4b8023",
            "0c2dab5dabe746f7b08e7fda082e1b4f",
            "41ad9c6147144600b4029e0640af58e5",
            "f6b5636a07394fa7b9ea953549b24a20",
            "b88e06b8cf4a4a18af9268751fbd8b32",
            "f9ed34c946f44f27864b832f3df36988",
            "8ebd47ee1b8645939c4b5accd08be6f8",
            "1e59eaa6c72c4790b22d11353719be13"
          ]
        },
        "id": "M6CueSnOmCdY",
        "outputId": "c964011d-5243-4bc2-b49f-feb9fa57878b"
      },
      "source": [
        "# Initialize the weights with zero\n",
        "theta = np.array([0.0]*len(X_train_copy.columns))\n",
        "\n",
        "# Initialize the weights with random values\n",
        "# theta = np.random.rand(len(X_train_copy.columns),)\n",
        "\n",
        "print(\"notice : takes approximately 1 minute for 1k iters (MSE)\")\n",
        "\n",
        "# tip : nice way to find decay (https://machinelearningmastery.com/using-learning-rate-schedules-deep-learning-models-python-keras/)\n",
        "# Decay = LearningRate / Epochs\n",
        "# Decay = 0.1 / 1000\n",
        "# Decay = 0.0001\n",
        "# Note : didn't work well for us :(\n",
        "\n",
        "# Hyper-Parameters\n",
        "iterations = basic_iterations\n",
        "learning_rate = basic_learning_rate\n",
        "decay = basic_decay\n",
        "\n",
        "# Start the training\n",
        "history, loss, theta = gradientDescent(X_train_copy,\n",
        "                                       y_train,\n",
        "                                       theta,\n",
        "                                       learning_rate,\n",
        "                                       iterations,\n",
        "                                       X_valid = X_valid_copy,\n",
        "                                       y_valid = y_valid,\n",
        "                                       loss_fn=MSE,\n",
        "                                       loss_fn_prim=MSE_prim,\n",
        "                                       decay = decay*0)\n",
        "\n"
      ],
      "execution_count": 73,
      "outputs": [
        {
          "output_type": "stream",
          "name": "stdout",
          "text": [
            "notice : takes approximately 1 minute for 1k iters (MSE)\n"
          ]
        },
        {
          "output_type": "display_data",
          "data": {
            "application/vnd.jupyter.widget-view+json": {
              "model_id": "3c8d595b571c4aa9a56ce39028bb4cac",
              "version_minor": 0,
              "version_major": 2
            },
            "text/plain": [
              "  0%|          | 0/1000 [00:00<?, ?it/s]"
            ]
          },
          "metadata": {}
        },
        {
          "output_type": "stream",
          "name": "stdout",
          "text": [
            "training_loss : 0.1107 | validation_loss : 0.1162\n"
          ]
        }
      ]
    },
    {
      "cell_type": "markdown",
      "metadata": {
        "id": "qyIUMTOztzpK"
      },
      "source": [
        "##### Plotting the fitted polynomials"
      ]
    },
    {
      "cell_type": "code",
      "metadata": {
        "colab": {
          "base_uri": "https://localhost:8080/"
        },
        "id": "Lw-a_qHTmTzE",
        "outputId": "938f0d82-8c82-4a7d-efe9-0b2b53e40a12"
      },
      "source": [
        "# Predicting using the learned weights(theta)\n",
        "# Not used here but useful\n",
        "y_hat = theta*X_valid_copy\n",
        "y_hat = np.sum(y_hat, axis=1)\n",
        "print(RMSE(X_valid_copy, y_valid, theta))"
      ],
      "execution_count": 74,
      "outputs": [
        {
          "output_type": "stream",
          "name": "stdout",
          "text": [
            "0.34090818758488145\n"
          ]
        }
      ]
    },
    {
      "cell_type": "code",
      "metadata": {
        "colab": {
          "base_uri": "https://localhost:8080/",
          "height": 336
        },
        "id": "pHD-DJgq8ees",
        "outputId": "d3882f3d-994a-4fe1-d164-4c4e7e8b87c6"
      },
      "source": [
        "plot_curve(X_train_copy, y_train, theta, title='Linear Regression')\n",
        "\n",
        "print(f\"Training Loss : {RMSE(X_train_copy, y_train, theta)}\")\n",
        "print(f\"Validation Loss : {RMSE(X_valid_copy, y_valid, theta)}\\n\")"
      ],
      "execution_count": 75,
      "outputs": [
        {
          "output_type": "display_data",
          "data": {
            "image/png": "[encoded data removed]",
            "text/plain": [
              "<Figure size 432x288 with 1 Axes>"
            ]
          },
          "metadata": {}
        },
        {
          "output_type": "stream",
          "name": "stdout",
          "text": [
            "Training Loss : 0.3327509590452109\n",
            "Validation Loss : 0.34090818758488145\n",
            "\n"
          ]
        }
      ]
    },
    {
      "cell_type": "markdown",
      "metadata": {
        "id": "Us-pu3yGrWre"
      },
      "source": [
        "##### Plotting losses"
      ]
    },
    {
      "cell_type": "code",
      "metadata": {
        "colab": {
          "base_uri": "https://localhost:8080/",
          "height": 284
        },
        "id": "BJQgwQgNpTIz",
        "outputId": "14a8c16b-6a10-482b-93fc-9a6a8c9f7a5b"
      },
      "source": [
        "plot_loss(history, starting_iter=20, title='Losses')"
      ],
      "execution_count": 76,
      "outputs": [
        {
          "output_type": "display_data",
          "data": {
            "image/png": "[encoded data removed]",
            "text/plain": [
              "<Figure size 432x288 with 1 Axes>"
            ]
          },
          "metadata": {}
        }
      ]
    },
    {
      "cell_type": "markdown",
      "metadata": {
        "id": "0cLMxOLVqs8K"
      },
      "source": [
        "##### Plotting the learning rate"
      ]
    },
    {
      "cell_type": "code",
      "metadata": {
        "colab": {
          "base_uri": "https://localhost:8080/",
          "height": 284
        },
        "id": "RrjkD6dPqSkc",
        "outputId": "de240bf6-4b85-46d4-d0da-0a936915f88e"
      },
      "source": [
        "plot_lr(lr=learning_rate, iterations=iterations, decay=decay)"
      ],
      "execution_count": 77,
      "outputs": [
        {
          "output_type": "display_data",
          "data": {
            "image/png": "[encoded data removed]",
            "text/plain": [
              "<Figure size 432x288 with 1 Axes>"
            ]
          },
          "metadata": {}
        }
      ]
    },
    {
      "cell_type": "markdown",
      "metadata": {
        "id": "zDeQDo3iCggi"
      },
      "source": [
        "##### Interactive history viewer\n",
        "You can use the slider to see a history of thetas\n",
        "\n",
        "which should allow you to look at the progression\n",
        "\n",
        "of the minization algorithm!"
      ]
    },
    {
      "cell_type": "code",
      "metadata": {
        "colab": {
          "base_uri": "https://localhost:8080/",
          "height": 318,
          "referenced_widgets": [
            "6fbf8ae2e6514b46a58c08e7b08769a1",
            "6a49ab8acee849e5b1e725171d711930",
            "b1f41dda40e84fcba74c0a4cec614c15",
            "ee298a35cadb4a6ba814b8a945e3cc1c",
            "49d24828c23f41d6b130bea9cc6ad7f9",
            "3fa5d47049454ce280d957c4a1c69291",
            "378f116a423a40828074580095ccd6fe"
          ]
        },
        "id": "bCbEHA13AuoW",
        "outputId": "c6be4eeb-d52b-499f-e39d-8ee9412120b1"
      },
      "source": [
        "from ipywidgets import interact\n",
        "import ipywidgets as widgets\n",
        "\n",
        "@interact(iteration = widgets.IntSlider(min=0, max=iterations-1, step=10, value=0))\n",
        "def plot_weight_history(iteration):\n",
        "  plot_curve(X_train_copy, y_train, history[\"weights\"][iteration])\n",
        "\n",
        "print(\"Use the slider to see the algorithms progression\")"
      ],
      "execution_count": 78,
      "outputs": [
        {
          "output_type": "display_data",
          "data": {
            "application/vnd.jupyter.widget-view+json": {
              "model_id": "6fbf8ae2e6514b46a58c08e7b08769a1",
              "version_minor": 0,
              "version_major": 2
            },
            "text/plain": [
              "interactive(children=(IntSlider(value=0, description='iteration', max=999, step=10), Output()), _dom_classes=(…"
            ]
          },
          "metadata": {}
        },
        {
          "output_type": "stream",
          "name": "stdout",
          "text": [
            "Use the slider to see the algorithms progression\n"
          ]
        }
      ]
    },
    {
      "cell_type": "markdown",
      "metadata": {
        "id": "sHbSaCPxKWd0"
      },
      "source": [
        "## Part 4 - Plotting every Case!\n",
        "Polynomial Degree : \n",
        "*   5\n",
        "*   8\n",
        "*   10\n",
        "\n",
        "Loss Functions :\n",
        "*   MSE\n",
        "*   RMSE\n",
        "*   MAE\n",
        "\n",
        "Iterations :\n",
        "*   1000\n",
        "*   10000\n",
        "\n"
      ]
    },
    {
      "cell_type": "code",
      "metadata": {
        "id": "HClbWSRpLFC2"
      },
      "source": [
        "# Global Hyper-Parameters\n",
        "# we plot the 'max_iteration' curve (green)\n",
        "# and 'other_iteration_to_display' curve (red)\n",
        "iterations = max_iterations\n",
        "other_iteration_to_display = iterations//10 # The red line in the plots ()\n",
        "\n",
        "# Grid Hyper-Parameters\n",
        "polynomial_degrees = [10, 8, 5]\n",
        "\n",
        "loss_functions = [(MAE, MAE_prim),\n",
        "                  (RMSE, RMSE_prim),\n",
        "                  (MSE, MSE_prim)]\n",
        "fn_labels = [\"MAE\", \"RMSE\", \"MSE\"]\n",
        "\n",
        "#         MAE  RMSE  MSE\n",
        "lrs    = [0.26, 1.4, 2.23]\n",
        "decays = [0,  0,  5e-9]"
      ],
      "execution_count": 79,
      "outputs": []
    },
    {
      "cell_type": "markdown",
      "metadata": {
        "id": "-df7lwzKMdKR"
      },
      "source": [
        "#### Training all 9 models"
      ]
    },
    {
      "cell_type": "code",
      "metadata": {
        "colab": {
          "base_uri": "https://localhost:8080/",
          "height": 774,
          "referenced_widgets": [
            "cec2f9401754478ebdcf991a06d98dd0",
            "2943d8feb64647fabce23dc5372c28cd",
            "6b40d37c7fbc4c35ab2a28f7fc368db0",
            "8dac5850d9bd493fb2d69f36253ee62d",
            "09ede2da819d4debb99be48cca9a192b",
            "73f4cc0e9aa5482daa9e1692f90f6660",
            "de2d0de9444b4a898ac84b84ff2b965d",
            "dc59dfd30a3f485ab1c73cd8ca108597",
            "07ae8c4d61d64bba97f5f6a430850e29",
            "266f3aa4246b41c8bacc62fa1c06829c",
            "71d3c9d4153942288beeb19ff0838be1",
            "17fa4b92174b48cb97de4b8fb9f9448a",
            "fd6890998efe40fca9fce3b89e57dfe3",
            "068037e2ea3e4b649f4f1f4a2ce54cdc",
            "63c00adcf2204a9983468d6312bb7bda",
            "1edaf5a8225e4909ad1479dfe5e2a417",
            "21bb0fb705a446938df6621b3e58ebac",
            "f0c4ecc69f5b433796027eec14483d77",
            "2514a37406d14304b883e9a947b6916a",
            "a8ce9db1cc074424933b23c54251b7ee",
            "b196e7e998cc40e0bb8e3fea954105e9",
            "e7913e4981ed410ba1102aa30e19ea31",
            "d3b5cd2668f640f9b17e84459641913e",
            "fea17a0809a74b1ab8a206bb5f6a271e",
            "ced8460f14784cb18465d3e7c42cd03f",
            "1513e49d879e4d4880fcaeafd416065a",
            "ea850256c9824b5183b9cf10f64b4420",
            "4391552c27d3413bb80618abcded2cb2",
            "91c178222cf84713a4241d2875fa42d1",
            "0919ee1454ea4f33b94507d538ca698d",
            "89cac9c4a9924adbb1fa67d78c7237b4",
            "80f635e05a604ac8b78e8fdda3e0fe1b",
            "56c8937812894af6a86e88c9df8d6707",
            "5b2b712aa35349fe80949041d19d766a",
            "cc9f5b19ce8242469113f9d09311363f",
            "e0d3c16bdec74799a724d03a0c58ba80",
            "a9445acb6af44737ad73b7ed9f81932f",
            "6fb03f09f695474086b490926883d92c",
            "bca67ec9865942efaec8e244ff29ba63",
            "644f224c49334c9096488d69c0cdec25",
            "e78dd9e4934f4f58825e91bf500abc65",
            "0a639357f2cf4504a74b400518897a38",
            "18ce091e2a474030af76ae6645416c16",
            "3f86c88302394430be27d378d32b7ce4",
            "0b209a2f3455477aba16a03d04097c30",
            "068e64f56533427e9e406b9a22f6b334",
            "7a5751121f7f43b1a8a452bfe3bbccc4",
            "a406181d33c64628908f906bc2cb14c4",
            "a97abdc9fc48483db566c743277416aa",
            "ce9e0d25faaa485aa4d114056112da89",
            "8393985ecd3146fa80aeab4504258a2c",
            "2d9e60a7136148dea0bff9d9ab423088",
            "15f3578ee19a4904af3f43fbaf7eeab5",
            "2602f2cb4c0c441bb3120fb34edf0028",
            "212340c3f7fe45f2ab6b793f749be985",
            "1c1db75e40bf499b9f3c930452458b6a",
            "93033340e1474436a5a9a6d02575adb9",
            "6c744b1453fd4c9cadbe7d81fa503fe8",
            "aecf34158a834dbe9b925367a1894a5b",
            "9a5e9dd2afef4297a0350193c3bf139f",
            "6050feb3a6924b78b30e2fc435e9e2d5",
            "6fd92b971e58483ca18be92570bac0a0",
            "d809408d931b4a568e2c2bded08b65d6",
            "a291763ba2344ff0b5f39b6b55dddf19",
            "65c3aa482fb44bb7a41e8a0612945915",
            "e096000966ca476ca1c31a03aaace2a4",
            "54cad413a3514800adcad0cf044e019f",
            "944b86990ddd4010aae072164e8c28fa",
            "6f428de23594416abba7041115453775",
            "6bbc204c99784c12862fec297f62950b",
            "f91a8e1881a147ec80315408fb382987",
            "3d5de86725af4d90bf1c502d49fd8093",
            "44cc9d02b7f540838797ea6ea4c5c07f",
            "71d4cc96aa744cc5b427eba5d00f208b",
            "b3298bdb18424453bf0ef62ea00d113b",
            "b3272bd6a55f4ab985c273df769a3ad7",
            "7d9ea7e262bf49b9b28c20f9fc577717",
            "b2ed5e7b77e8488e898eff5e50d244cf",
            "c3de5bd700d64474b46d106c5576f3ac",
            "24c6b30a9ff0408486ada3c2334d6176",
            "c9ff047cff8c4bc6b3f92805cb87080c",
            "209a04a1378644b48f3c3d73fc93117e",
            "4e1d86d7b69f4cd58f67d63c36fe216f",
            "c44962de93934ea6acf40d5ec0d36d31",
            "7e8628f149874a358ea1f6e8c5241e6b",
            "f7eabff02f46492ebdf7f3d1189ffef1",
            "796a6d8f11fe48449bfe906563351b97",
            "d1512622ca5e4a32a978ebc21f9b4728",
            "1f31745a3ad64284ae634e99752c861d",
            "36ce59a94d3e4bb1b0c6adf4ecab0664",
            "66de9969e6a442febbd73c5519705b17",
            "59697626d8eb456f92ba202c98e7b2a0",
            "5b7ccb2b35e74f94acbe41a4f56e332f",
            "db6ffcb822b14f8ca912de22bc090dd8",
            "1aee2767e6ef45dc94e7494d1d45cbef",
            "2c9f74b04da04d6aa6754f4856b710de",
            "32be2776b1744df98186d3c49b037b7b",
            "b0aac6721dbc4887a09c4375974dec36",
            "8a351b5d48ec4f27bc63e96f6f424d30"
          ]
        },
        "id": "E7IxVoDdM_TP",
        "outputId": "6e686b46-ccff-4ea4-80ee-e4f8b6b04ce0"
      },
      "source": [
        "# Containers used for storing results about each model\n",
        "# Used later by the plotting functions\n",
        "thetas = [[[],[],[]],\n",
        "          [[],[],[]],\n",
        "          [[],[],[]]]\n",
        "\n",
        "losses = [[[],[],[]],\n",
        "          [[],[],[]],\n",
        "          [[],[],[]]]\n",
        "\n",
        "histories = [[[],[],[]],\n",
        "             [[],[],[]],\n",
        "             [[],[],[]]]\n",
        "\n",
        "# start the training process for each model\n",
        "for i,degree in enumerate(polynomial_degrees):\n",
        "  for j, (loss_fn, loss_fn_prim) in enumerate(loss_functions):\n",
        "    print(f\"degree: {degree} | loss function: {fn_labels[j]}\")\n",
        "    \n",
        "    # preprocess data (univariate non-linear to multivariate linear)\n",
        "    X_train_copy = X_train.copy()\n",
        "    X_valid_copy = X_valid.copy()\n",
        "    polynomial_to_linear_regression(X_train_copy, degree)\n",
        "    polynomial_to_linear_regression(X_valid_copy, degree)\n",
        "\n",
        "    # Initialize the weights with random values\n",
        "    theta = np.random.rand(len(X_train_copy.columns),)\n",
        "\n",
        "    # j(loss function) specific learning rate\n",
        "    _learning_rate = lrs[j]\n",
        "\n",
        "    # j(loss function) specific decay value\n",
        "    _decay = decays[j]\n",
        "\n",
        "    # Start the training\n",
        "    history, loss, theta = gradientDescent(X_train_copy,\n",
        "                                          y_train,\n",
        "                                          theta,\n",
        "                                          _learning_rate,\n",
        "                                          iterations,\n",
        "                                          X_valid = X_valid_copy,\n",
        "                                          y_valid = y_valid,\n",
        "                                          loss_fn = loss_fn,\n",
        "                                          loss_fn_prim = loss_fn_prim,\n",
        "                                          decay = _decay)\n",
        "\n",
        "    # Saving latest iteration's theta for each model\n",
        "    thetas[i][j].append(history[\"weights\"][-1])\n",
        "    # Saving halfway theta for each model\n",
        "    thetas[i][j].append(history[\"weights\"][int(other_iteration_to_display)-1]) # -1 : zero-indexed\n",
        "\n",
        "    # Saving Training loss for each model\n",
        "    losses[i][j].append(loss_fn(X_train_copy, y_train, theta))\n",
        "    # Saving Validation loss for each model\n",
        "    losses[i][j].append(loss_fn(X_valid_copy, y_valid, theta))\n",
        "    # Saving Histories for each model (used for plotting loss per iteration)\n",
        "    histories[i][j].append(history)\n",
        "\n",
        "    print()"
      ],
      "execution_count": 80,
      "outputs": [
        {
          "output_type": "stream",
          "name": "stdout",
          "text": [
            "degree: 10 | loss function: MAE\n"
          ]
        },
        {
          "output_type": "display_data",
          "data": {
            "application/vnd.jupyter.widget-view+json": {
              "model_id": "cec2f9401754478ebdcf991a06d98dd0",
              "version_minor": 0,
              "version_major": 2
            },
            "text/plain": [
              "  0%|          | 0/10000 [00:00<?, ?it/s]"
            ]
          },
          "metadata": {}
        },
        {
          "output_type": "stream",
          "name": "stdout",
          "text": [
            "training_loss : 0.172 | validation_loss : 0.1766\n",
            "\n",
            "degree: 10 | loss function: RMSE\n"
          ]
        },
        {
          "output_type": "display_data",
          "data": {
            "application/vnd.jupyter.widget-view+json": {
              "model_id": "17fa4b92174b48cb97de4b8fb9f9448a",
              "version_minor": 0,
              "version_major": 2
            },
            "text/plain": [
              "  0%|          | 0/10000 [00:00<?, ?it/s]"
            ]
          },
          "metadata": {}
        },
        {
          "output_type": "stream",
          "name": "stdout",
          "text": [
            "training_loss : 0.2825 | validation_loss : 0.2919\n",
            "\n",
            "degree: 10 | loss function: MSE\n"
          ]
        },
        {
          "output_type": "display_data",
          "data": {
            "application/vnd.jupyter.widget-view+json": {
              "model_id": "d3b5cd2668f640f9b17e84459641913e",
              "version_minor": 0,
              "version_major": 2
            },
            "text/plain": [
              "  0%|          | 0/10000 [00:00<?, ?it/s]"
            ]
          },
          "metadata": {}
        },
        {
          "output_type": "stream",
          "name": "stdout",
          "text": [
            "training_loss : 0.0807 | validation_loss : 0.0858\n",
            "\n",
            "degree: 8 | loss function: MAE\n"
          ]
        },
        {
          "output_type": "display_data",
          "data": {
            "application/vnd.jupyter.widget-view+json": {
              "model_id": "5b2b712aa35349fe80949041d19d766a",
              "version_minor": 0,
              "version_major": 2
            },
            "text/plain": [
              "  0%|          | 0/10000 [00:00<?, ?it/s]"
            ]
          },
          "metadata": {}
        },
        {
          "output_type": "stream",
          "name": "stdout",
          "text": [
            "training_loss : 0.179 | validation_loss : 0.1819\n",
            "\n",
            "degree: 8 | loss function: RMSE\n"
          ]
        },
        {
          "output_type": "display_data",
          "data": {
            "application/vnd.jupyter.widget-view+json": {
              "model_id": "0b209a2f3455477aba16a03d04097c30",
              "version_minor": 0,
              "version_major": 2
            },
            "text/plain": [
              "  0%|          | 0/10000 [00:00<?, ?it/s]"
            ]
          },
          "metadata": {}
        },
        {
          "output_type": "stream",
          "name": "stdout",
          "text": [
            "training_loss : 0.2991 | validation_loss : 0.3059\n",
            "\n",
            "degree: 8 | loss function: MSE\n"
          ]
        },
        {
          "output_type": "display_data",
          "data": {
            "application/vnd.jupyter.widget-view+json": {
              "model_id": "1c1db75e40bf499b9f3c930452458b6a",
              "version_minor": 0,
              "version_major": 2
            },
            "text/plain": [
              "  0%|          | 0/10000 [00:00<?, ?it/s]"
            ]
          },
          "metadata": {}
        },
        {
          "output_type": "stream",
          "name": "stdout",
          "text": [
            "training_loss : 0.0904 | validation_loss : 0.0945\n",
            "\n",
            "degree: 5 | loss function: MAE\n"
          ]
        },
        {
          "output_type": "display_data",
          "data": {
            "application/vnd.jupyter.widget-view+json": {
              "model_id": "54cad413a3514800adcad0cf044e019f",
              "version_minor": 0,
              "version_major": 2
            },
            "text/plain": [
              "  0%|          | 0/10000 [00:00<?, ?it/s]"
            ]
          },
          "metadata": {}
        },
        {
          "output_type": "stream",
          "name": "stdout",
          "text": [
            "training_loss : 0.1732 | validation_loss : 0.1739\n",
            "\n",
            "degree: 5 | loss function: RMSE\n"
          ]
        },
        {
          "output_type": "display_data",
          "data": {
            "application/vnd.jupyter.widget-view+json": {
              "model_id": "b2ed5e7b77e8488e898eff5e50d244cf",
              "version_minor": 0,
              "version_major": 2
            },
            "text/plain": [
              "  0%|          | 0/10000 [00:00<?, ?it/s]"
            ]
          },
          "metadata": {}
        },
        {
          "output_type": "stream",
          "name": "stdout",
          "text": [
            "training_loss : 0.3066 | validation_loss : 0.314\n",
            "\n",
            "degree: 5 | loss function: MSE\n"
          ]
        },
        {
          "output_type": "display_data",
          "data": {
            "application/vnd.jupyter.widget-view+json": {
              "model_id": "1f31745a3ad64284ae634e99752c861d",
              "version_minor": 0,
              "version_major": 2
            },
            "text/plain": [
              "  0%|          | 0/10000 [00:00<?, ?it/s]"
            ]
          },
          "metadata": {}
        },
        {
          "output_type": "stream",
          "name": "stdout",
          "text": [
            "training_loss : 0.094 | validation_loss : 0.0986\n",
            "\n"
          ]
        }
      ]
    },
    {
      "cell_type": "markdown",
      "metadata": {
        "id": "3JxGJnqFWeOq"
      },
      "source": [
        "##### Plotting fitted curves\n"
      ]
    },
    {
      "cell_type": "code",
      "metadata": {
        "colab": {
          "base_uri": "https://localhost:8080/",
          "height": 681
        },
        "id": "0dQbhlkU72wR",
        "outputId": "527cc868-ed06-4812-c35c-0602024e2582"
      },
      "source": [
        "plot_every_curve(X_train,\n",
        "                 y_train,\n",
        "                 thetas,\n",
        "                 line_widths=[3,2],\n",
        "                 i_max=len(polynomial_degrees),\n",
        "                 j_max=len(loss_functions),\n",
        "                 dpi=64)"
      ],
      "execution_count": 97,
      "outputs": [
        {
          "output_type": "display_data",
          "data": {
            "text/plain": [
              "<Figure size 432x288 with 0 Axes>"
            ]
          },
          "metadata": {}
        },
        {
          "output_type": "display_data",
          "data": {
            "image/png": "[encoded data removed]",
            "text/plain": [
              "<Figure size 1024x640 with 9 Axes>"
            ]
          },
          "metadata": {}
        }
      ]
    },
    {
      "cell_type": "markdown",
      "metadata": {
        "id": "uR-KjUnvILVT"
      },
      "source": [
        "##### Plotting train/valid loss"
      ]
    },
    {
      "cell_type": "code",
      "metadata": {
        "colab": {
          "base_uri": "https://localhost:8080/",
          "height": 681
        },
        "id": "GPeGdU-4J7UP",
        "outputId": "f7ecd552-e1c7-4a70-86b7-1905f1142c2f"
      },
      "source": [
        "plot_every_case_loss(histories,\n",
        "                     starting_iter=100,\n",
        "                     i_max=len(polynomial_degrees),\n",
        "                     j_max=len(loss_functions),\n",
        "                     dpi=64)"
      ],
      "execution_count": 98,
      "outputs": [
        {
          "output_type": "display_data",
          "data": {
            "text/plain": [
              "<Figure size 432x288 with 0 Axes>"
            ]
          },
          "metadata": {}
        },
        {
          "output_type": "display_data",
          "data": {
            "image/png": "[encoded data removed]",
            "text/plain": [
              "<Figure size 1024x640 with 9 Axes>"
            ]
          },
          "metadata": {}
        }
      ]
    },
    {
      "cell_type": "markdown",
      "metadata": {
        "id": "AkQZwcNPEppX"
      },
      "source": [
        "##### Plotting Learning Rate"
      ]
    },
    {
      "cell_type": "code",
      "metadata": {
        "colab": {
          "base_uri": "https://localhost:8080/",
          "height": 922
        },
        "id": "4KqIb0R9EpTG",
        "outputId": "bb8e25fe-a92d-463b-9f9f-6e8de31565ef"
      },
      "source": [
        "for lr, decay, fn_name in zip(lrs, decays, fn_labels):\n",
        "  print(f\"{fn_name} | initial learning rate = {lr} | decay={decay}\")\n",
        "  plot_lr(lr=lr, iterations=iterations, decay=decay)\n",
        "  print()"
      ],
      "execution_count": 83,
      "outputs": [
        {
          "output_type": "stream",
          "name": "stdout",
          "text": [
            "MAE | initial learning rate = 0.26 | decay=0\n"
          ]
        },
        {
          "output_type": "display_data",
          "data": {
            "image/png": "[encoded data removed]",
            "text/plain": [
              "<Figure size 432x288 with 1 Axes>"
            ]
          },
          "metadata": {}
        },
        {
          "output_type": "stream",
          "name": "stdout",
          "text": [
            "\n",
            "RMSE | initial learning rate = 1.4 | decay=0\n"
          ]
        },
        {
          "output_type": "display_data",
          "data": {
            "image/png": "[encoded data removed]",
            "text/plain": [
              "<Figure size 432x288 with 1 Axes>"
            ]
          },
          "metadata": {}
        },
        {
          "output_type": "stream",
          "name": "stdout",
          "text": [
            "\n",
            "MSE | initial learning rate = 2.23 | decay=5e-09\n"
          ]
        },
        {
          "output_type": "display_data",
          "data": {
            "image/png": "[encoded data removed]",
            "text/plain": [
              "<Figure size 432x288 with 1 Axes>"
            ]
          },
          "metadata": {}
        },
        {
          "output_type": "stream",
          "name": "stdout",
          "text": [
            "\n"
          ]
        }
      ]
    },
    {
      "cell_type": "markdown",
      "metadata": {
        "id": "Kjqk6AqIxPDi"
      },
      "source": [
        "## Part 5 - Normal Equation\n"
      ]
    },
    {
      "cell_type": "code",
      "metadata": {
        "id": "3WpbSAPaupW3"
      },
      "source": [
        "# preprocess data (univariate non-linear to multivariate linear)\n",
        "X_train_copy = X_train.copy()\n",
        "X_valid_copy = X_valid.copy()\n",
        "polynomial_to_linear_regression(X_train_copy, 8)\n",
        "polynomial_to_linear_regression(X_valid_copy, 8)"
      ],
      "execution_count": 84,
      "outputs": []
    },
    {
      "cell_type": "code",
      "metadata": {
        "id": "KqK6Wk8PzQ6e"
      },
      "source": [
        "normal_theta = normalEquation(X_train_copy, y_train)"
      ],
      "execution_count": 85,
      "outputs": []
    },
    {
      "cell_type": "code",
      "metadata": {
        "colab": {
          "base_uri": "https://localhost:8080/",
          "height": 301
        },
        "id": "V0w2ottpy7nZ",
        "outputId": "0b58275c-2894-4f28-e67e-dcf79d09fcc6"
      },
      "source": [
        "# Plotting the fitted polynomial over training data\n",
        "plot_curve(X_train_copy, y_train, normal_theta, title=\"No regularization\")\n",
        "print(f\"Training Loss(RMSE) : {RMSE(X_train_copy, y_train, normal_theta)}\")"
      ],
      "execution_count": 86,
      "outputs": [
        {
          "output_type": "display_data",
          "data": {
            "image/png": "[encoded data removed]",
            "text/plain": [
              "<Figure size 432x288 with 1 Axes>"
            ]
          },
          "metadata": {}
        },
        {
          "output_type": "stream",
          "name": "stdout",
          "text": [
            "Training Loss(RMSE) : 0.27755996509703385\n"
          ]
        }
      ]
    },
    {
      "cell_type": "code",
      "metadata": {
        "colab": {
          "base_uri": "https://localhost:8080/",
          "height": 319
        },
        "id": "nw-t8U9Stxdb",
        "outputId": "ff4c9242-ac1e-4140-dde7-ea1f094eb73f"
      },
      "source": [
        "# Plotting the fitted polynomial over validation data\n",
        "plot_curve(X_valid_copy, y_valid, normal_theta, title=\"No regularization\")\n",
        "print(f\"Validation Loss : {RMSE(X_valid_copy, y_valid, normal_theta)}\\n\")"
      ],
      "execution_count": 87,
      "outputs": [
        {
          "output_type": "display_data",
          "data": {
            "image/png": "[encoded data removed]",
            "text/plain": [
              "<Figure size 432x288 with 1 Axes>"
            ]
          },
          "metadata": {}
        },
        {
          "output_type": "stream",
          "name": "stdout",
          "text": [
            "Validation Loss : 0.2878978107333649\n",
            "\n"
          ]
        }
      ]
    },
    {
      "cell_type": "markdown",
      "metadata": {
        "id": "78kaJOUf6wuy"
      },
      "source": [
        "## Part 6 - Regularized Normal Equation"
      ]
    },
    {
      "cell_type": "code",
      "metadata": {
        "id": "-OS2xyzl6sfU"
      },
      "source": [
        "loss_fn = RMSE # as asked in the question\n",
        "\n",
        "reg_normal_theta1 = regularizedNormalEquation(X_train_copy, y_train, lambd=0.075)\n",
        "# plot_curve(X_train, y_train, reg_normal_theta, title=\"lambda=0.1\")\n",
        "reg_normal_theta2 = regularizedNormalEquation(X_train_copy, y_train, lambd=0.75)\n",
        "# plot_curve(X_train, y_train, reg_normal_theta, title=\"lambda=1\")\n",
        "reg_normal_theta3 = regularizedNormalEquation(X_train_copy, y_train, lambd=7.5)\n",
        "# plot_curve(X_train, y_train, reg_normal_theta, title=\"lambda=4\")"
      ],
      "execution_count": 88,
      "outputs": []
    },
    {
      "cell_type": "code",
      "metadata": {
        "colab": {
          "base_uri": "https://localhost:8080/"
        },
        "id": "5ybXcyorDbKu",
        "outputId": "b2bad9e8-6bbe-4d0a-f073-d316506c53b5"
      },
      "source": [
        "names = [\"λ = 0.075\", \"λ = 0.75\", \"λ = 7.5\"]\n",
        "\n",
        "training_errors = [round(loss_fn(X_train_copy, y_train, reg_normal_theta1),5),\n",
        "                   round(loss_fn(X_train_copy, y_train, reg_normal_theta2),5),\n",
        "                   round(loss_fn(X_train_copy, y_train, reg_normal_theta3),5)]\n",
        "\n",
        "validation_errors =[round(loss_fn(X_valid_copy, y_valid, reg_normal_theta1),5),\n",
        "                    round(loss_fn(X_valid_copy, y_valid, reg_normal_theta2),5),\n",
        "                    round(loss_fn(X_valid_copy, y_valid, reg_normal_theta3),5)]\n",
        "\n",
        "for i in range(len(names)):\n",
        "  print(f\"{i} - Regularized Normal Equation ({names[i]})\")\n",
        "  print(f\"Training Loss : {training_errors[i]}\")\n",
        "  print(f\"Validation Loss : {validation_errors[i]}\\n\")"
      ],
      "execution_count": 89,
      "outputs": [
        {
          "output_type": "stream",
          "name": "stdout",
          "text": [
            "0 - Regularized Normal Equation (λ = 0.075)\n",
            "Training Loss : 0.33571\n",
            "Validation Loss : 0.34334\n",
            "\n",
            "1 - Regularized Normal Equation (λ = 0.75)\n",
            "Training Loss : 0.43287\n",
            "Validation Loss : 0.44485\n",
            "\n",
            "2 - Regularized Normal Equation (λ = 7.5)\n",
            "Training Loss : 0.51534\n",
            "Validation Loss : 0.53339\n",
            "\n"
          ]
        }
      ]
    },
    {
      "cell_type": "code",
      "metadata": {
        "colab": {
          "base_uri": "https://localhost:8080/",
          "height": 355
        },
        "id": "lxyAKNrD-TRz",
        "outputId": "2601e05f-1650-4239-b1c5-20a6fff2af4b"
      },
      "source": [
        "plot_normal_equations(X_train, y_train, dpi=105)"
      ],
      "execution_count": 96,
      "outputs": [
        {
          "output_type": "display_data",
          "data": {
            "image/png": "[encoded data removed]",
            "text/plain": [
              "<Figure size 630x420 with 1 Axes>"
            ]
          },
          "metadata": {}
        }
      ]
    },
    {
      "cell_type": "markdown",
      "metadata": {
        "id": "0psgvqfikDVG"
      },
      "source": [
        "Thanks for reading.\n",
        "if you have any questions:\n",
        "* gholamrezadar@gmail.com\n",
        "* instagram : @gholamreza_dar\n",
        "* telegram  : @gholamrezadar"
      ]
    }
  ]
}