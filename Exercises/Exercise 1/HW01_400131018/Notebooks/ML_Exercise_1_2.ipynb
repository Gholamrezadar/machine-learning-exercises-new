{
  "nbformat": 4,
  "nbformat_minor": 0,
  "metadata": {
    "colab": {
      "name": "ML_Exercise_1_2.ipynb",
      "provenance": [],
      "collapsed_sections": [],
      "toc_visible": true
    },
    "kernelspec": {
      "name": "python3",
      "display_name": "Python 3"
    },
    "language_info": {
      "name": "python"
    },
    "widgets": {
      "application/vnd.jupyter.widget-state+json": {
        "1115205ea29d46b3b2ee4e4bb848d948": {
          "model_module": "@jupyter-widgets/controls",
          "model_name": "HBoxModel",
          "model_module_version": "1.5.0",
          "state": {
            "_view_name": "HBoxView",
            "_dom_classes": [],
            "_model_name": "HBoxModel",
            "_view_module": "@jupyter-widgets/controls",
            "_model_module_version": "1.5.0",
            "_view_count": null,
            "_view_module_version": "1.5.0",
            "box_style": "",
            "layout": "IPY_MODEL_a6899552096348dc8f87022e8314d613",
            "_model_module": "@jupyter-widgets/controls",
            "children": [
              "IPY_MODEL_022140e1dd994c6fbc60622b1684cca9",
              "IPY_MODEL_aa06b031ac36428fb2088ea4ceadcc34",
              "IPY_MODEL_0f5d19415ee84b1786e31d0b865097a9"
            ]
          }
        },
        "a6899552096348dc8f87022e8314d613": {
          "model_module": "@jupyter-widgets/base",
          "model_name": "LayoutModel",
          "model_module_version": "1.2.0",
          "state": {
            "_view_name": "LayoutView",
            "grid_template_rows": null,
            "right": null,
            "justify_content": null,
            "_view_module": "@jupyter-widgets/base",
            "overflow": null,
            "_model_module_version": "1.2.0",
            "_view_count": null,
            "flex_flow": null,
            "width": null,
            "min_width": null,
            "border": null,
            "align_items": null,
            "bottom": null,
            "_model_module": "@jupyter-widgets/base",
            "top": null,
            "grid_column": null,
            "overflow_y": null,
            "overflow_x": null,
            "grid_auto_flow": null,
            "grid_area": null,
            "grid_template_columns": null,
            "flex": null,
            "_model_name": "LayoutModel",
            "justify_items": null,
            "grid_row": null,
            "max_height": null,
            "align_content": null,
            "visibility": null,
            "align_self": null,
            "height": null,
            "min_height": null,
            "padding": null,
            "grid_auto_rows": null,
            "grid_gap": null,
            "max_width": null,
            "order": null,
            "_view_module_version": "1.2.0",
            "grid_template_areas": null,
            "object_position": null,
            "object_fit": null,
            "grid_auto_columns": null,
            "margin": null,
            "display": null,
            "left": null
          }
        },
        "022140e1dd994c6fbc60622b1684cca9": {
          "model_module": "@jupyter-widgets/controls",
          "model_name": "HTMLModel",
          "model_module_version": "1.5.0",
          "state": {
            "_view_name": "HTMLView",
            "style": "IPY_MODEL_a4518387a0124fddb8816f017ea7057d",
            "_dom_classes": [],
            "description": "",
            "_model_name": "HTMLModel",
            "placeholder": "​",
            "_view_module": "@jupyter-widgets/controls",
            "_model_module_version": "1.5.0",
            "value": "100%",
            "_view_count": null,
            "_view_module_version": "1.5.0",
            "description_tooltip": null,
            "_model_module": "@jupyter-widgets/controls",
            "layout": "IPY_MODEL_e326a7e323c146b49e9826233dfdf2b4"
          }
        },
        "aa06b031ac36428fb2088ea4ceadcc34": {
          "model_module": "@jupyter-widgets/controls",
          "model_name": "FloatProgressModel",
          "model_module_version": "1.5.0",
          "state": {
            "_view_name": "ProgressView",
            "style": "IPY_MODEL_024c4b0c68414bda9105cacd5c2bc3f4",
            "_dom_classes": [],
            "description": "",
            "_model_name": "FloatProgressModel",
            "bar_style": "success",
            "max": 500,
            "_view_module": "@jupyter-widgets/controls",
            "_model_module_version": "1.5.0",
            "value": 500,
            "_view_count": null,
            "_view_module_version": "1.5.0",
            "orientation": "horizontal",
            "min": 0,
            "description_tooltip": null,
            "_model_module": "@jupyter-widgets/controls",
            "layout": "IPY_MODEL_96dcba60a57c40aa9954df6ed48e05d0"
          }
        },
        "0f5d19415ee84b1786e31d0b865097a9": {
          "model_module": "@jupyter-widgets/controls",
          "model_name": "HTMLModel",
          "model_module_version": "1.5.0",
          "state": {
            "_view_name": "HTMLView",
            "style": "IPY_MODEL_4113583f02044b0a8796c3f6ad8ac41c",
            "_dom_classes": [],
            "description": "",
            "_model_name": "HTMLModel",
            "placeholder": "​",
            "_view_module": "@jupyter-widgets/controls",
            "_model_module_version": "1.5.0",
            "value": " 500/500 [00:10&lt;00:00, 47.14it/s]",
            "_view_count": null,
            "_view_module_version": "1.5.0",
            "description_tooltip": null,
            "_model_module": "@jupyter-widgets/controls",
            "layout": "IPY_MODEL_62ee0754b5ef4c469ff88695cde95bce"
          }
        },
        "a4518387a0124fddb8816f017ea7057d": {
          "model_module": "@jupyter-widgets/controls",
          "model_name": "DescriptionStyleModel",
          "model_module_version": "1.5.0",
          "state": {
            "_view_name": "StyleView",
            "_model_name": "DescriptionStyleModel",
            "description_width": "",
            "_view_module": "@jupyter-widgets/base",
            "_model_module_version": "1.5.0",
            "_view_count": null,
            "_view_module_version": "1.2.0",
            "_model_module": "@jupyter-widgets/controls"
          }
        },
        "e326a7e323c146b49e9826233dfdf2b4": {
          "model_module": "@jupyter-widgets/base",
          "model_name": "LayoutModel",
          "model_module_version": "1.2.0",
          "state": {
            "_view_name": "LayoutView",
            "grid_template_rows": null,
            "right": null,
            "justify_content": null,
            "_view_module": "@jupyter-widgets/base",
            "overflow": null,
            "_model_module_version": "1.2.0",
            "_view_count": null,
            "flex_flow": null,
            "width": null,
            "min_width": null,
            "border": null,
            "align_items": null,
            "bottom": null,
            "_model_module": "@jupyter-widgets/base",
            "top": null,
            "grid_column": null,
            "overflow_y": null,
            "overflow_x": null,
            "grid_auto_flow": null,
            "grid_area": null,
            "grid_template_columns": null,
            "flex": null,
            "_model_name": "LayoutModel",
            "justify_items": null,
            "grid_row": null,
            "max_height": null,
            "align_content": null,
            "visibility": null,
            "align_self": null,
            "height": null,
            "min_height": null,
            "padding": null,
            "grid_auto_rows": null,
            "grid_gap": null,
            "max_width": null,
            "order": null,
            "_view_module_version": "1.2.0",
            "grid_template_areas": null,
            "object_position": null,
            "object_fit": null,
            "grid_auto_columns": null,
            "margin": null,
            "display": null,
            "left": null
          }
        },
        "024c4b0c68414bda9105cacd5c2bc3f4": {
          "model_module": "@jupyter-widgets/controls",
          "model_name": "ProgressStyleModel",
          "model_module_version": "1.5.0",
          "state": {
            "_view_name": "StyleView",
            "_model_name": "ProgressStyleModel",
            "description_width": "",
            "_view_module": "@jupyter-widgets/base",
            "_model_module_version": "1.5.0",
            "_view_count": null,
            "_view_module_version": "1.2.0",
            "bar_color": null,
            "_model_module": "@jupyter-widgets/controls"
          }
        },
        "96dcba60a57c40aa9954df6ed48e05d0": {
          "model_module": "@jupyter-widgets/base",
          "model_name": "LayoutModel",
          "model_module_version": "1.2.0",
          "state": {
            "_view_name": "LayoutView",
            "grid_template_rows": null,
            "right": null,
            "justify_content": null,
            "_view_module": "@jupyter-widgets/base",
            "overflow": null,
            "_model_module_version": "1.2.0",
            "_view_count": null,
            "flex_flow": null,
            "width": null,
            "min_width": null,
            "border": null,
            "align_items": null,
            "bottom": null,
            "_model_module": "@jupyter-widgets/base",
            "top": null,
            "grid_column": null,
            "overflow_y": null,
            "overflow_x": null,
            "grid_auto_flow": null,
            "grid_area": null,
            "grid_template_columns": null,
            "flex": null,
            "_model_name": "LayoutModel",
            "justify_items": null,
            "grid_row": null,
            "max_height": null,
            "align_content": null,
            "visibility": null,
            "align_self": null,
            "height": null,
            "min_height": null,
            "padding": null,
            "grid_auto_rows": null,
            "grid_gap": null,
            "max_width": null,
            "order": null,
            "_view_module_version": "1.2.0",
            "grid_template_areas": null,
            "object_position": null,
            "object_fit": null,
            "grid_auto_columns": null,
            "margin": null,
            "display": null,
            "left": null
          }
        },
        "4113583f02044b0a8796c3f6ad8ac41c": {
          "model_module": "@jupyter-widgets/controls",
          "model_name": "DescriptionStyleModel",
          "model_module_version": "1.5.0",
          "state": {
            "_view_name": "StyleView",
            "_model_name": "DescriptionStyleModel",
            "description_width": "",
            "_view_module": "@jupyter-widgets/base",
            "_model_module_version": "1.5.0",
            "_view_count": null,
            "_view_module_version": "1.2.0",
            "_model_module": "@jupyter-widgets/controls"
          }
        },
        "62ee0754b5ef4c469ff88695cde95bce": {
          "model_module": "@jupyter-widgets/base",
          "model_name": "LayoutModel",
          "model_module_version": "1.2.0",
          "state": {
            "_view_name": "LayoutView",
            "grid_template_rows": null,
            "right": null,
            "justify_content": null,
            "_view_module": "@jupyter-widgets/base",
            "overflow": null,
            "_model_module_version": "1.2.0",
            "_view_count": null,
            "flex_flow": null,
            "width": null,
            "min_width": null,
            "border": null,
            "align_items": null,
            "bottom": null,
            "_model_module": "@jupyter-widgets/base",
            "top": null,
            "grid_column": null,
            "overflow_y": null,
            "overflow_x": null,
            "grid_auto_flow": null,
            "grid_area": null,
            "grid_template_columns": null,
            "flex": null,
            "_model_name": "LayoutModel",
            "justify_items": null,
            "grid_row": null,
            "max_height": null,
            "align_content": null,
            "visibility": null,
            "align_self": null,
            "height": null,
            "min_height": null,
            "padding": null,
            "grid_auto_rows": null,
            "grid_gap": null,
            "max_width": null,
            "order": null,
            "_view_module_version": "1.2.0",
            "grid_template_areas": null,
            "object_position": null,
            "object_fit": null,
            "grid_auto_columns": null,
            "margin": null,
            "display": null,
            "left": null
          }
        },
        "e942f5a85bb74b6e9eeae89589de2218": {
          "model_module": "@jupyter-widgets/controls",
          "model_name": "HBoxModel",
          "model_module_version": "1.5.0",
          "state": {
            "_view_name": "HBoxView",
            "_dom_classes": [],
            "_model_name": "HBoxModel",
            "_view_module": "@jupyter-widgets/controls",
            "_model_module_version": "1.5.0",
            "_view_count": null,
            "_view_module_version": "1.5.0",
            "box_style": "",
            "layout": "IPY_MODEL_1fbb70d7166a443cae227b18e1bcba79",
            "_model_module": "@jupyter-widgets/controls",
            "children": [
              "IPY_MODEL_636bddbba83d439697961a7d61c84540",
              "IPY_MODEL_9a9b4bc43b394c23b694fa9784659d66",
              "IPY_MODEL_7815d6eaeb474ad39db5a9985bbe5bb3"
            ]
          }
        },
        "1fbb70d7166a443cae227b18e1bcba79": {
          "model_module": "@jupyter-widgets/base",
          "model_name": "LayoutModel",
          "model_module_version": "1.2.0",
          "state": {
            "_view_name": "LayoutView",
            "grid_template_rows": null,
            "right": null,
            "justify_content": null,
            "_view_module": "@jupyter-widgets/base",
            "overflow": null,
            "_model_module_version": "1.2.0",
            "_view_count": null,
            "flex_flow": null,
            "width": null,
            "min_width": null,
            "border": null,
            "align_items": null,
            "bottom": null,
            "_model_module": "@jupyter-widgets/base",
            "top": null,
            "grid_column": null,
            "overflow_y": null,
            "overflow_x": null,
            "grid_auto_flow": null,
            "grid_area": null,
            "grid_template_columns": null,
            "flex": null,
            "_model_name": "LayoutModel",
            "justify_items": null,
            "grid_row": null,
            "max_height": null,
            "align_content": null,
            "visibility": null,
            "align_self": null,
            "height": null,
            "min_height": null,
            "padding": null,
            "grid_auto_rows": null,
            "grid_gap": null,
            "max_width": null,
            "order": null,
            "_view_module_version": "1.2.0",
            "grid_template_areas": null,
            "object_position": null,
            "object_fit": null,
            "grid_auto_columns": null,
            "margin": null,
            "display": null,
            "left": null
          }
        },
        "636bddbba83d439697961a7d61c84540": {
          "model_module": "@jupyter-widgets/controls",
          "model_name": "HTMLModel",
          "model_module_version": "1.5.0",
          "state": {
            "_view_name": "HTMLView",
            "style": "IPY_MODEL_56594523f35b40ddb85a084a2829ae09",
            "_dom_classes": [],
            "description": "",
            "_model_name": "HTMLModel",
            "placeholder": "​",
            "_view_module": "@jupyter-widgets/controls",
            "_model_module_version": "1.5.0",
            "value": "100%",
            "_view_count": null,
            "_view_module_version": "1.5.0",
            "description_tooltip": null,
            "_model_module": "@jupyter-widgets/controls",
            "layout": "IPY_MODEL_ca1009118d6b4f54b7327f1610b69af5"
          }
        },
        "9a9b4bc43b394c23b694fa9784659d66": {
          "model_module": "@jupyter-widgets/controls",
          "model_name": "FloatProgressModel",
          "model_module_version": "1.5.0",
          "state": {
            "_view_name": "ProgressView",
            "style": "IPY_MODEL_6cc0331cfdd9440f874f2eaeac32cb0d",
            "_dom_classes": [],
            "description": "",
            "_model_name": "FloatProgressModel",
            "bar_style": "success",
            "max": 500,
            "_view_module": "@jupyter-widgets/controls",
            "_model_module_version": "1.5.0",
            "value": 500,
            "_view_count": null,
            "_view_module_version": "1.5.0",
            "orientation": "horizontal",
            "min": 0,
            "description_tooltip": null,
            "_model_module": "@jupyter-widgets/controls",
            "layout": "IPY_MODEL_8ea2a835cff946e084f4ee5f1d9ec508"
          }
        },
        "7815d6eaeb474ad39db5a9985bbe5bb3": {
          "model_module": "@jupyter-widgets/controls",
          "model_name": "HTMLModel",
          "model_module_version": "1.5.0",
          "state": {
            "_view_name": "HTMLView",
            "style": "IPY_MODEL_5077033809494a68940fbc300b2d63fd",
            "_dom_classes": [],
            "description": "",
            "_model_name": "HTMLModel",
            "placeholder": "​",
            "_view_module": "@jupyter-widgets/controls",
            "_model_module_version": "1.5.0",
            "value": " 500/500 [00:06&lt;00:00, 72.98it/s]",
            "_view_count": null,
            "_view_module_version": "1.5.0",
            "description_tooltip": null,
            "_model_module": "@jupyter-widgets/controls",
            "layout": "IPY_MODEL_1203d9ab85f140378152d68b477d4cd6"
          }
        },
        "56594523f35b40ddb85a084a2829ae09": {
          "model_module": "@jupyter-widgets/controls",
          "model_name": "DescriptionStyleModel",
          "model_module_version": "1.5.0",
          "state": {
            "_view_name": "StyleView",
            "_model_name": "DescriptionStyleModel",
            "description_width": "",
            "_view_module": "@jupyter-widgets/base",
            "_model_module_version": "1.5.0",
            "_view_count": null,
            "_view_module_version": "1.2.0",
            "_model_module": "@jupyter-widgets/controls"
          }
        },
        "ca1009118d6b4f54b7327f1610b69af5": {
          "model_module": "@jupyter-widgets/base",
          "model_name": "LayoutModel",
          "model_module_version": "1.2.0",
          "state": {
            "_view_name": "LayoutView",
            "grid_template_rows": null,
            "right": null,
            "justify_content": null,
            "_view_module": "@jupyter-widgets/base",
            "overflow": null,
            "_model_module_version": "1.2.0",
            "_view_count": null,
            "flex_flow": null,
            "width": null,
            "min_width": null,
            "border": null,
            "align_items": null,
            "bottom": null,
            "_model_module": "@jupyter-widgets/base",
            "top": null,
            "grid_column": null,
            "overflow_y": null,
            "overflow_x": null,
            "grid_auto_flow": null,
            "grid_area": null,
            "grid_template_columns": null,
            "flex": null,
            "_model_name": "LayoutModel",
            "justify_items": null,
            "grid_row": null,
            "max_height": null,
            "align_content": null,
            "visibility": null,
            "align_self": null,
            "height": null,
            "min_height": null,
            "padding": null,
            "grid_auto_rows": null,
            "grid_gap": null,
            "max_width": null,
            "order": null,
            "_view_module_version": "1.2.0",
            "grid_template_areas": null,
            "object_position": null,
            "object_fit": null,
            "grid_auto_columns": null,
            "margin": null,
            "display": null,
            "left": null
          }
        },
        "6cc0331cfdd9440f874f2eaeac32cb0d": {
          "model_module": "@jupyter-widgets/controls",
          "model_name": "ProgressStyleModel",
          "model_module_version": "1.5.0",
          "state": {
            "_view_name": "StyleView",
            "_model_name": "ProgressStyleModel",
            "description_width": "",
            "_view_module": "@jupyter-widgets/base",
            "_model_module_version": "1.5.0",
            "_view_count": null,
            "_view_module_version": "1.2.0",
            "bar_color": null,
            "_model_module": "@jupyter-widgets/controls"
          }
        },
        "8ea2a835cff946e084f4ee5f1d9ec508": {
          "model_module": "@jupyter-widgets/base",
          "model_name": "LayoutModel",
          "model_module_version": "1.2.0",
          "state": {
            "_view_name": "LayoutView",
            "grid_template_rows": null,
            "right": null,
            "justify_content": null,
            "_view_module": "@jupyter-widgets/base",
            "overflow": null,
            "_model_module_version": "1.2.0",
            "_view_count": null,
            "flex_flow": null,
            "width": null,
            "min_width": null,
            "border": null,
            "align_items": null,
            "bottom": null,
            "_model_module": "@jupyter-widgets/base",
            "top": null,
            "grid_column": null,
            "overflow_y": null,
            "overflow_x": null,
            "grid_auto_flow": null,
            "grid_area": null,
            "grid_template_columns": null,
            "flex": null,
            "_model_name": "LayoutModel",
            "justify_items": null,
            "grid_row": null,
            "max_height": null,
            "align_content": null,
            "visibility": null,
            "align_self": null,
            "height": null,
            "min_height": null,
            "padding": null,
            "grid_auto_rows": null,
            "grid_gap": null,
            "max_width": null,
            "order": null,
            "_view_module_version": "1.2.0",
            "grid_template_areas": null,
            "object_position": null,
            "object_fit": null,
            "grid_auto_columns": null,
            "margin": null,
            "display": null,
            "left": null
          }
        },
        "5077033809494a68940fbc300b2d63fd": {
          "model_module": "@jupyter-widgets/controls",
          "model_name": "DescriptionStyleModel",
          "model_module_version": "1.5.0",
          "state": {
            "_view_name": "StyleView",
            "_model_name": "DescriptionStyleModel",
            "description_width": "",
            "_view_module": "@jupyter-widgets/base",
            "_model_module_version": "1.5.0",
            "_view_count": null,
            "_view_module_version": "1.2.0",
            "_model_module": "@jupyter-widgets/controls"
          }
        },
        "1203d9ab85f140378152d68b477d4cd6": {
          "model_module": "@jupyter-widgets/base",
          "model_name": "LayoutModel",
          "model_module_version": "1.2.0",
          "state": {
            "_view_name": "LayoutView",
            "grid_template_rows": null,
            "right": null,
            "justify_content": null,
            "_view_module": "@jupyter-widgets/base",
            "overflow": null,
            "_model_module_version": "1.2.0",
            "_view_count": null,
            "flex_flow": null,
            "width": null,
            "min_width": null,
            "border": null,
            "align_items": null,
            "bottom": null,
            "_model_module": "@jupyter-widgets/base",
            "top": null,
            "grid_column": null,
            "overflow_y": null,
            "overflow_x": null,
            "grid_auto_flow": null,
            "grid_area": null,
            "grid_template_columns": null,
            "flex": null,
            "_model_name": "LayoutModel",
            "justify_items": null,
            "grid_row": null,
            "max_height": null,
            "align_content": null,
            "visibility": null,
            "align_self": null,
            "height": null,
            "min_height": null,
            "padding": null,
            "grid_auto_rows": null,
            "grid_gap": null,
            "max_width": null,
            "order": null,
            "_view_module_version": "1.2.0",
            "grid_template_areas": null,
            "object_position": null,
            "object_fit": null,
            "grid_auto_columns": null,
            "margin": null,
            "display": null,
            "left": null
          }
        }
      }
    }
  },
  "cells": [
    {
      "cell_type": "markdown",
      "metadata": {
        "id": "KSo_xGr3HEp7"
      },
      "source": [
        "# ML Exercise 1-2\n",
        "## Question 2\n",
        "By Gholamreza Dar\n",
        "\n",
        "https://gholamrezadar.ir/\n",
        "\n",
        "Nov 2021\n",
        "\n",
        "\n",
        "Questions available at : [Github Link](https://github.com/Gholamrezadar/machine-learning-exercises/blob/main/ML-HW01.pdf)\n"
      ]
    },
    {
      "cell_type": "markdown",
      "metadata": {
        "id": "aQ4zaEly1EyG"
      },
      "source": [
        "## Loading data"
      ]
    },
    {
      "cell_type": "code",
      "metadata": {
        "colab": {
          "base_uri": "https://localhost:8080/"
        },
        "id": "X6CmU27l0HP1",
        "outputId": "e6477bcb-fea0-4e72-c19d-326d434ebb57"
      },
      "source": [
        "!wget https://raw.githubusercontent.com/Gholamrezadar/machine-learning-exercises/main/dataset2/CSM_dataset.xlsx"
      ],
      "execution_count": 42,
      "outputs": [
        {
          "output_type": "stream",
          "name": "stdout",
          "text": [
            "--2021-11-26 23:21:29--  https://raw.githubusercontent.com/Gholamrezadar/machine-learning-exercises/main/dataset2/CSM_dataset.xlsx\n",
            "Resolving raw.githubusercontent.com (raw.githubusercontent.com)... 185.199.108.133, 185.199.109.133, 185.199.110.133, ...\n",
            "Connecting to raw.githubusercontent.com (raw.githubusercontent.com)|185.199.108.133|:443... connected.\n",
            "HTTP request sent, awaiting response... 200 OK\n",
            "Length: 34199 (33K) [application/octet-stream]\n",
            "Saving to: ‘CSM_dataset.xlsx.1’\n",
            "\n",
            "\rCSM_dataset.xlsx.1    0%[                    ]       0  --.-KB/s               \rCSM_dataset.xlsx.1  100%[===================>]  33.40K  --.-KB/s    in 0.001s  \n",
            "\n",
            "2021-11-26 23:21:29 (35.3 MB/s) - ‘CSM_dataset.xlsx.1’ saved [34199/34199]\n",
            "\n"
          ]
        }
      ]
    },
    {
      "cell_type": "code",
      "metadata": {
        "id": "jseneGOtG9lS"
      },
      "source": [
        "import pandas as pd\n",
        "import numpy as np\n",
        "import matplotlib.pyplot as plt\n",
        "from tqdm.notebook import tqdm\n",
        "import seaborn as sns\n",
        "\n",
        "# Load the data using pandas\n",
        "df = pd.read_excel(\"CSM_dataset.xlsx\")"
      ],
      "execution_count": 43,
      "outputs": []
    },
    {
      "cell_type": "code",
      "metadata": {
        "colab": {
          "base_uri": "https://localhost:8080/",
          "height": 206
        },
        "id": "0fSaawAzHU7r",
        "outputId": "59b7faad-81ba-4a44-cd47-4f1b48a24b99"
      },
      "source": [
        "df.head()"
      ],
      "execution_count": 44,
      "outputs": [
        {
          "output_type": "execute_result",
          "data": {
            "text/html": [
              "<div>\n",
              "<style scoped>\n",
              "    .dataframe tbody tr th:only-of-type {\n",
              "        vertical-align: middle;\n",
              "    }\n",
              "\n",
              "    .dataframe tbody tr th {\n",
              "        vertical-align: top;\n",
              "    }\n",
              "\n",
              "    .dataframe thead th {\n",
              "        text-align: right;\n",
              "    }\n",
              "</style>\n",
              "<table border=\"1\" class=\"dataframe\">\n",
              "  <thead>\n",
              "    <tr style=\"text-align: right;\">\n",
              "      <th></th>\n",
              "      <th>Movie</th>\n",
              "      <th>Year</th>\n",
              "      <th>Ratings</th>\n",
              "      <th>Genre</th>\n",
              "      <th>Gross</th>\n",
              "      <th>Budget</th>\n",
              "      <th>Screens</th>\n",
              "      <th>Sequel</th>\n",
              "      <th>Sentiment</th>\n",
              "      <th>Views</th>\n",
              "      <th>Likes</th>\n",
              "      <th>Dislikes</th>\n",
              "      <th>Comments</th>\n",
              "      <th>Aggregate Followers</th>\n",
              "    </tr>\n",
              "  </thead>\n",
              "  <tbody>\n",
              "    <tr>\n",
              "      <th>0</th>\n",
              "      <td>13 Sins</td>\n",
              "      <td>2014</td>\n",
              "      <td>6.3</td>\n",
              "      <td>8</td>\n",
              "      <td>9130</td>\n",
              "      <td>4000000.0</td>\n",
              "      <td>45.0</td>\n",
              "      <td>1</td>\n",
              "      <td>0</td>\n",
              "      <td>3280543</td>\n",
              "      <td>4632</td>\n",
              "      <td>425</td>\n",
              "      <td>636</td>\n",
              "      <td>1120000.0</td>\n",
              "    </tr>\n",
              "    <tr>\n",
              "      <th>1</th>\n",
              "      <td>22 Jump Street</td>\n",
              "      <td>2014</td>\n",
              "      <td>7.1</td>\n",
              "      <td>1</td>\n",
              "      <td>192000000</td>\n",
              "      <td>50000000.0</td>\n",
              "      <td>3306.0</td>\n",
              "      <td>2</td>\n",
              "      <td>2</td>\n",
              "      <td>583289</td>\n",
              "      <td>3465</td>\n",
              "      <td>61</td>\n",
              "      <td>186</td>\n",
              "      <td>12350000.0</td>\n",
              "    </tr>\n",
              "    <tr>\n",
              "      <th>2</th>\n",
              "      <td>3 Days to Kill</td>\n",
              "      <td>2014</td>\n",
              "      <td>6.2</td>\n",
              "      <td>1</td>\n",
              "      <td>30700000</td>\n",
              "      <td>28000000.0</td>\n",
              "      <td>2872.0</td>\n",
              "      <td>1</td>\n",
              "      <td>0</td>\n",
              "      <td>304861</td>\n",
              "      <td>328</td>\n",
              "      <td>34</td>\n",
              "      <td>47</td>\n",
              "      <td>483000.0</td>\n",
              "    </tr>\n",
              "    <tr>\n",
              "      <th>3</th>\n",
              "      <td>300: Rise of an Empire</td>\n",
              "      <td>2014</td>\n",
              "      <td>6.3</td>\n",
              "      <td>1</td>\n",
              "      <td>106000000</td>\n",
              "      <td>110000000.0</td>\n",
              "      <td>3470.0</td>\n",
              "      <td>2</td>\n",
              "      <td>0</td>\n",
              "      <td>452917</td>\n",
              "      <td>2429</td>\n",
              "      <td>132</td>\n",
              "      <td>590</td>\n",
              "      <td>568000.0</td>\n",
              "    </tr>\n",
              "    <tr>\n",
              "      <th>4</th>\n",
              "      <td>A Haunted House 2</td>\n",
              "      <td>2014</td>\n",
              "      <td>4.7</td>\n",
              "      <td>8</td>\n",
              "      <td>17300000</td>\n",
              "      <td>3500000.0</td>\n",
              "      <td>2310.0</td>\n",
              "      <td>2</td>\n",
              "      <td>0</td>\n",
              "      <td>3145573</td>\n",
              "      <td>12163</td>\n",
              "      <td>610</td>\n",
              "      <td>1082</td>\n",
              "      <td>1923800.0</td>\n",
              "    </tr>\n",
              "  </tbody>\n",
              "</table>\n",
              "</div>"
            ],
            "text/plain": [
              "                    Movie  Year  ...  Comments  Aggregate Followers\n",
              "0                 13 Sins  2014  ...       636            1120000.0\n",
              "1          22 Jump Street  2014  ...       186           12350000.0\n",
              "2          3 Days to Kill  2014  ...        47             483000.0\n",
              "3  300: Rise of an Empire  2014  ...       590             568000.0\n",
              "4       A Haunted House 2  2014  ...      1082            1923800.0\n",
              "\n",
              "[5 rows x 14 columns]"
            ]
          },
          "metadata": {},
          "execution_count": 44
        }
      ]
    },
    {
      "cell_type": "code",
      "metadata": {
        "id": "qyH3HnQKIrK1"
      },
      "source": [
        "# we dont need movie names\n",
        "df = df.drop(columns=\"Movie\")"
      ],
      "execution_count": 45,
      "outputs": []
    },
    {
      "cell_type": "code",
      "metadata": {
        "colab": {
          "base_uri": "https://localhost:8080/",
          "height": 337
        },
        "id": "dkpGiJTIJNGh",
        "outputId": "5def6c53-c0c6-4d91-f157-7666be918a70"
      },
      "source": [
        "df.describe()"
      ],
      "execution_count": 46,
      "outputs": [
        {
          "output_type": "execute_result",
          "data": {
            "text/html": [
              "<div>\n",
              "<style scoped>\n",
              "    .dataframe tbody tr th:only-of-type {\n",
              "        vertical-align: middle;\n",
              "    }\n",
              "\n",
              "    .dataframe tbody tr th {\n",
              "        vertical-align: top;\n",
              "    }\n",
              "\n",
              "    .dataframe thead th {\n",
              "        text-align: right;\n",
              "    }\n",
              "</style>\n",
              "<table border=\"1\" class=\"dataframe\">\n",
              "  <thead>\n",
              "    <tr style=\"text-align: right;\">\n",
              "      <th></th>\n",
              "      <th>Year</th>\n",
              "      <th>Ratings</th>\n",
              "      <th>Genre</th>\n",
              "      <th>Gross</th>\n",
              "      <th>Budget</th>\n",
              "      <th>Screens</th>\n",
              "      <th>Sequel</th>\n",
              "      <th>Sentiment</th>\n",
              "      <th>Views</th>\n",
              "      <th>Likes</th>\n",
              "      <th>Dislikes</th>\n",
              "      <th>Comments</th>\n",
              "      <th>Aggregate Followers</th>\n",
              "    </tr>\n",
              "  </thead>\n",
              "  <tbody>\n",
              "    <tr>\n",
              "      <th>count</th>\n",
              "      <td>231.000000</td>\n",
              "      <td>231.000000</td>\n",
              "      <td>231.000000</td>\n",
              "      <td>2.310000e+02</td>\n",
              "      <td>2.300000e+02</td>\n",
              "      <td>221.000000</td>\n",
              "      <td>231.000000</td>\n",
              "      <td>231.000000</td>\n",
              "      <td>2.310000e+02</td>\n",
              "      <td>231.000000</td>\n",
              "      <td>231.000000</td>\n",
              "      <td>231.000000</td>\n",
              "      <td>1.960000e+02</td>\n",
              "    </tr>\n",
              "    <tr>\n",
              "      <th>mean</th>\n",
              "      <td>2014.294372</td>\n",
              "      <td>6.441558</td>\n",
              "      <td>5.359307</td>\n",
              "      <td>6.806603e+07</td>\n",
              "      <td>4.792173e+07</td>\n",
              "      <td>2209.244344</td>\n",
              "      <td>1.359307</td>\n",
              "      <td>2.809524</td>\n",
              "      <td>3.712851e+06</td>\n",
              "      <td>12732.536797</td>\n",
              "      <td>679.051948</td>\n",
              "      <td>1825.701299</td>\n",
              "      <td>3.038193e+06</td>\n",
              "    </tr>\n",
              "    <tr>\n",
              "      <th>std</th>\n",
              "      <td>0.456750</td>\n",
              "      <td>0.988765</td>\n",
              "      <td>4.141611</td>\n",
              "      <td>8.890289e+07</td>\n",
              "      <td>5.428825e+07</td>\n",
              "      <td>1463.767755</td>\n",
              "      <td>0.967241</td>\n",
              "      <td>6.996775</td>\n",
              "      <td>4.511104e+06</td>\n",
              "      <td>28825.484481</td>\n",
              "      <td>1243.929481</td>\n",
              "      <td>3571.040447</td>\n",
              "      <td>4.886278e+06</td>\n",
              "    </tr>\n",
              "    <tr>\n",
              "      <th>min</th>\n",
              "      <td>2014.000000</td>\n",
              "      <td>3.100000</td>\n",
              "      <td>1.000000</td>\n",
              "      <td>2.470000e+03</td>\n",
              "      <td>7.000000e+04</td>\n",
              "      <td>2.000000</td>\n",
              "      <td>1.000000</td>\n",
              "      <td>-38.000000</td>\n",
              "      <td>6.980000e+02</td>\n",
              "      <td>1.000000</td>\n",
              "      <td>0.000000</td>\n",
              "      <td>0.000000</td>\n",
              "      <td>1.066000e+03</td>\n",
              "    </tr>\n",
              "    <tr>\n",
              "      <th>25%</th>\n",
              "      <td>2014.000000</td>\n",
              "      <td>5.800000</td>\n",
              "      <td>1.000000</td>\n",
              "      <td>1.030000e+07</td>\n",
              "      <td>9.000000e+06</td>\n",
              "      <td>449.000000</td>\n",
              "      <td>1.000000</td>\n",
              "      <td>0.000000</td>\n",
              "      <td>6.233020e+05</td>\n",
              "      <td>1776.500000</td>\n",
              "      <td>105.500000</td>\n",
              "      <td>248.500000</td>\n",
              "      <td>1.830250e+05</td>\n",
              "    </tr>\n",
              "    <tr>\n",
              "      <th>50%</th>\n",
              "      <td>2014.000000</td>\n",
              "      <td>6.500000</td>\n",
              "      <td>3.000000</td>\n",
              "      <td>3.740000e+07</td>\n",
              "      <td>2.800000e+07</td>\n",
              "      <td>2777.000000</td>\n",
              "      <td>1.000000</td>\n",
              "      <td>0.000000</td>\n",
              "      <td>2.409338e+06</td>\n",
              "      <td>6096.000000</td>\n",
              "      <td>341.000000</td>\n",
              "      <td>837.000000</td>\n",
              "      <td>1.052600e+06</td>\n",
              "    </tr>\n",
              "    <tr>\n",
              "      <th>75%</th>\n",
              "      <td>2015.000000</td>\n",
              "      <td>7.100000</td>\n",
              "      <td>8.000000</td>\n",
              "      <td>8.935000e+07</td>\n",
              "      <td>6.500000e+07</td>\n",
              "      <td>3372.000000</td>\n",
              "      <td>1.000000</td>\n",
              "      <td>5.500000</td>\n",
              "      <td>5.217380e+06</td>\n",
              "      <td>15247.500000</td>\n",
              "      <td>697.500000</td>\n",
              "      <td>2137.000000</td>\n",
              "      <td>3.694500e+06</td>\n",
              "    </tr>\n",
              "    <tr>\n",
              "      <th>max</th>\n",
              "      <td>2015.000000</td>\n",
              "      <td>8.700000</td>\n",
              "      <td>15.000000</td>\n",
              "      <td>6.430000e+08</td>\n",
              "      <td>2.500000e+08</td>\n",
              "      <td>4324.000000</td>\n",
              "      <td>7.000000</td>\n",
              "      <td>29.000000</td>\n",
              "      <td>3.262678e+07</td>\n",
              "      <td>370552.000000</td>\n",
              "      <td>13960.000000</td>\n",
              "      <td>38363.000000</td>\n",
              "      <td>3.103000e+07</td>\n",
              "    </tr>\n",
              "  </tbody>\n",
              "</table>\n",
              "</div>"
            ],
            "text/plain": [
              "              Year     Ratings  ...      Comments  Aggregate Followers\n",
              "count   231.000000  231.000000  ...    231.000000         1.960000e+02\n",
              "mean   2014.294372    6.441558  ...   1825.701299         3.038193e+06\n",
              "std       0.456750    0.988765  ...   3571.040447         4.886278e+06\n",
              "min    2014.000000    3.100000  ...      0.000000         1.066000e+03\n",
              "25%    2014.000000    5.800000  ...    248.500000         1.830250e+05\n",
              "50%    2014.000000    6.500000  ...    837.000000         1.052600e+06\n",
              "75%    2015.000000    7.100000  ...   2137.000000         3.694500e+06\n",
              "max    2015.000000    8.700000  ...  38363.000000         3.103000e+07\n",
              "\n",
              "[8 rows x 13 columns]"
            ]
          },
          "metadata": {},
          "execution_count": 46
        }
      ]
    },
    {
      "cell_type": "markdown",
      "metadata": {
        "id": "UcCntU6k-E5O"
      },
      "source": [
        "## Helper Functions"
      ]
    },
    {
      "cell_type": "markdown",
      "metadata": {
        "id": "lVay-jxgAtjB"
      },
      "source": [
        "### Loss Functions"
      ]
    },
    {
      "cell_type": "code",
      "metadata": {
        "id": "Am8dO8JWArV0"
      },
      "source": [
        "# h(theta) =  theta transpose * X\n",
        "def hypothesis(X, theta):\n",
        "  y1 = theta*X\n",
        "  return np.sum(y1, axis=1)\n",
        "\n",
        "# Mean Squared Error\n",
        "def MSE(X, y, theta):\n",
        "  y_hat = hypothesis(X, theta)\n",
        "  m = len(X)\n",
        "  return sum((y_hat-y)**2)/(2*m)\n",
        "\n",
        "# Derivative of MSE\n",
        "def MSE_prim(X, y, i, theta):\n",
        "  y_hat = hypothesis(X, theta)\n",
        "  Xi = X.iloc[:, i]\n",
        "  m = len(X)\n",
        "  return sum((y_hat-y) * Xi) / m"
      ],
      "execution_count": 47,
      "outputs": []
    },
    {
      "cell_type": "markdown",
      "metadata": {
        "id": "zT6SkKgzAxSs"
      },
      "source": [
        "### Gradient Descent"
      ]
    },
    {
      "cell_type": "code",
      "metadata": {
        "id": "cpHdEG1cAxs8"
      },
      "source": [
        "def gradientDescent(X, y, theta, lr, iteration, X_valid, y_valid, loss_fn = MSE, loss_fn_prim = MSE_prim, decay=0.0):\n",
        "  # Training loss per iteration history\n",
        "  train_loss_history = []\n",
        "  # Validation loss per iteration history\n",
        "  validation_loss_history = []\n",
        "  # weights progression towards the optimal value\n",
        "  theta_history = []\n",
        "\n",
        "  # Progress bar\n",
        "  with tqdm(total=iteration) as pbar:\n",
        "    for itera in range(iteration):\n",
        "\n",
        "      #Learning rate decay\n",
        "      lr = lr * 1/(1 + decay * itera)\n",
        "\n",
        "      for i in range(0, len(X.columns)):\n",
        "        # partial derivative of loss function with respect to Xi\n",
        "        gradient = loss_fn_prim(X, y, i, theta)\n",
        "        # Actual \"Gradient Descent\" !\n",
        "        theta[i] -= lr * gradient\n",
        "      \n",
        "      # Calculating the loss after each iteration\n",
        "      # of updating the weights using Gradient Descent\n",
        "      loss = loss_fn(X, y, theta)*2\n",
        "      validation_loss = loss_fn(X_valid, y_valid, theta)*2\n",
        "\n",
        "      # Save the history of loss and weights\n",
        "      validation_loss_history.append(validation_loss)\n",
        "      train_loss_history.append(loss)\n",
        "      theta_history.append(theta.copy())\n",
        "\n",
        "      # Update progress bar\n",
        "      pbar.update(1)\n",
        "\n",
        "  history = {\"training_loss\":train_loss_history,\n",
        "             \"validation_loss\":validation_loss_history,\n",
        "             \"weights\":theta_history}\n",
        "  # returns loss history, latest loss, weights\n",
        "  print(f\"training_loss : {round(train_loss_history[-1],4)} | validation_loss : {round(validation_loss_history[-1],4)}\")\n",
        "  return history, loss, theta"
      ],
      "execution_count": 48,
      "outputs": []
    },
    {
      "cell_type": "markdown",
      "metadata": {
        "id": "9I2TmaIg-JCu"
      },
      "source": [
        "### Plotting related"
      ]
    },
    {
      "cell_type": "code",
      "metadata": {
        "id": "iBatBpNL-HrD"
      },
      "source": [
        "# Correlation Matrix after dropping redundant features\n",
        "def plotCorrelationMatrix(df):\n",
        "  plt.figure(dpi=150)\n",
        "  sns.set(font_scale=0.6)\n",
        "  matrix = np.triu(df.corr()) - np.identity(df.corr().shape[0])\n",
        "  hm = sns.heatmap(df.corr(), annot = True, fmt=\".1g\", mask=matrix)\n",
        "  hm.set(title = \"Correlation matrix\\n\")\n",
        "  plt.show()"
      ],
      "execution_count": 49,
      "outputs": []
    },
    {
      "cell_type": "code",
      "metadata": {
        "id": "urXlBVR--vMV"
      },
      "source": [
        "# Plot the relation between two features\n",
        "def plotRelation(column_a, column_b):\n",
        "  sns.regplot(x=df[column_a], y=df[column_b])\n",
        "  plt.show()"
      ],
      "execution_count": 50,
      "outputs": []
    },
    {
      "cell_type": "code",
      "metadata": {
        "id": "txG-l-Xz_Uc-"
      },
      "source": [
        "# Plot a GIANT Grid of pairplots that shows how a\n",
        "# feature relates to every other feature\n",
        "# Note : Takes some time to render\n",
        "def plotEveryPairRelation(df):\n",
        "  plt.figure(dpi=72)\n",
        "  sns.set(font_scale=0.6)\n",
        "  sns.pairplot(df)\n",
        "  plt.show()"
      ],
      "execution_count": 51,
      "outputs": []
    },
    {
      "cell_type": "code",
      "metadata": {
        "id": "b9q8A1NiBXkZ"
      },
      "source": [
        "# Plots validation and training losses per iteration\n",
        "def plot_loss(history, title='', starting_iter=0, dpi=72):\n",
        "  # Don't try this at home\n",
        "  import warnings\n",
        "  warnings.simplefilter(action=\"ignore\", category=FutureWarning)\n",
        "  \n",
        "  fig, ax = plt.subplots()\n",
        "  fig.dpi = dpi\n",
        "  plt.title(title)\n",
        "\n",
        "  # X = iterations range\n",
        "  x = np.linspace(0, iterations, iterations)\n",
        "  \n",
        "  # 1. Training_loss - iteration curve (Red)\n",
        "  sns.lineplot(x[starting_iter:], history[\"training_loss\"][starting_iter:], color='r')\n",
        "  # 2. Validation_loss - iteration curve (green)\n",
        "  sns.lineplot(x[starting_iter:], history[\"validation_loss\"][starting_iter:], color='g')\n",
        "\n",
        "  ax.legend(labels=[\"training\", \"validation\"])\n",
        "\n",
        "  plt.show()"
      ],
      "execution_count": 52,
      "outputs": []
    },
    {
      "cell_type": "code",
      "metadata": {
        "id": "MyyA12k0BbOG"
      },
      "source": [
        "def plot_lr(lr=0.1, iterations=1000, decay=None, title='learning_rate'):\n",
        "  # Don't try this at home\n",
        "  import warnings\n",
        "  warnings.simplefilter(action=\"ignore\", category=FutureWarning)\n",
        "  \n",
        "  _lrs = []\n",
        "  # Iterations\n",
        "  _iterations = iterations\n",
        "  # Initial lr\n",
        "  _lr0 = lr\n",
        "  _decay = 0\n",
        "  # Decay\n",
        "  if decay is None:\n",
        "    _decay = _lr0/_iterations\n",
        "  else:\n",
        "    _decay = decay\n",
        "\n",
        "  # Simulate gradient descents main loop\n",
        "  _lr = _lr0\n",
        "  for i in range(_iterations):\n",
        "    _lr = _lr * 1/(1 + _decay * i)\n",
        "    _lrs.append(_lr)\n",
        "\n",
        "  _x = list(range(_iterations))\n",
        "  _y = _lrs\n",
        "\n",
        "  plt.figure()\n",
        "  plt.title(title)\n",
        "  plt.plot(_x, _y)\n",
        "  plt.show()"
      ],
      "execution_count": 53,
      "outputs": []
    },
    {
      "cell_type": "markdown",
      "metadata": {
        "id": "egjc9MN71TFr"
      },
      "source": [
        "## Part 1 - Missing Values"
      ]
    },
    {
      "cell_type": "code",
      "metadata": {
        "colab": {
          "base_uri": "https://localhost:8080/"
        },
        "id": "54R9XHopYWPy",
        "outputId": "a6b7ebf9-9951-4614-ecf2-3df7e92cd10a"
      },
      "source": [
        "# show columns with missing values\n",
        "has_missing = df.isna().any().loc[lambda x:x]\n",
        "has_missing = has_missing.index.to_list()\n",
        "has_missing"
      ],
      "execution_count": 54,
      "outputs": [
        {
          "output_type": "execute_result",
          "data": {
            "text/plain": [
              "['Budget', 'Screens', 'Aggregate Followers']"
            ]
          },
          "metadata": {},
          "execution_count": 54
        }
      ]
    },
    {
      "cell_type": "markdown",
      "metadata": {
        "id": "REKSz1pqhoyg"
      },
      "source": [
        "#### Aggregate Followers"
      ]
    },
    {
      "cell_type": "code",
      "metadata": {
        "id": "6DP31si2aD7D"
      },
      "source": [
        "# drop aggregate followers\n",
        "df = df.drop(columns=[\"Aggregate Followers\"])\n"
      ],
      "execution_count": 55,
      "outputs": []
    },
    {
      "cell_type": "markdown",
      "metadata": {
        "id": "xqjSdrT4hr_d"
      },
      "source": [
        "#### Budget"
      ]
    },
    {
      "cell_type": "code",
      "metadata": {
        "colab": {
          "base_uri": "https://localhost:8080/"
        },
        "id": "0a_OOJoLeETO",
        "outputId": "083fb3a9-af13-4162-de26-5311e548d488"
      },
      "source": [
        "average_budget_by_genre = df.groupby([\"Genre\"])[\"Budget\"].mean().to_dict()\n",
        "average_budget_by_genre"
      ],
      "execution_count": 56,
      "outputs": [
        {
          "output_type": "execute_result",
          "data": {
            "text/plain": [
              "{1: 83558461.53846154,\n",
              " 2: 85875000.0,\n",
              " 3: 22875715.451304346,\n",
              " 4: 50000000.0,\n",
              " 6: 31000000.0,\n",
              " 7: 3650000.0,\n",
              " 8: 25518301.88679245,\n",
              " 9: 21384615.384615384,\n",
              " 10: 21879166.666666668,\n",
              " 12: 104000000.0,\n",
              " 15: 11259500.0}"
            ]
          },
          "metadata": {},
          "execution_count": 56
        }
      ]
    },
    {
      "cell_type": "code",
      "metadata": {
        "colab": {
          "base_uri": "https://localhost:8080/",
          "height": 81
        },
        "id": "Y8r6W01SgwSA",
        "outputId": "f618d5ff-8420-4779-cc52-4735dafdb370"
      },
      "source": [
        "missing_budgets = df.loc[df.Budget.isna()]\n",
        "missing_budgets"
      ],
      "execution_count": 57,
      "outputs": [
        {
          "output_type": "execute_result",
          "data": {
            "text/html": [
              "<div>\n",
              "<style scoped>\n",
              "    .dataframe tbody tr th:only-of-type {\n",
              "        vertical-align: middle;\n",
              "    }\n",
              "\n",
              "    .dataframe tbody tr th {\n",
              "        vertical-align: top;\n",
              "    }\n",
              "\n",
              "    .dataframe thead th {\n",
              "        text-align: right;\n",
              "    }\n",
              "</style>\n",
              "<table border=\"1\" class=\"dataframe\">\n",
              "  <thead>\n",
              "    <tr style=\"text-align: right;\">\n",
              "      <th></th>\n",
              "      <th>Year</th>\n",
              "      <th>Ratings</th>\n",
              "      <th>Genre</th>\n",
              "      <th>Gross</th>\n",
              "      <th>Budget</th>\n",
              "      <th>Screens</th>\n",
              "      <th>Sequel</th>\n",
              "      <th>Sentiment</th>\n",
              "      <th>Views</th>\n",
              "      <th>Likes</th>\n",
              "      <th>Dislikes</th>\n",
              "      <th>Comments</th>\n",
              "    </tr>\n",
              "  </thead>\n",
              "  <tbody>\n",
              "    <tr>\n",
              "      <th>120</th>\n",
              "      <td>2014</td>\n",
              "      <td>7.0</td>\n",
              "      <td>8</td>\n",
              "      <td>2820000</td>\n",
              "      <td>NaN</td>\n",
              "      <td>432.0</td>\n",
              "      <td>1</td>\n",
              "      <td>0</td>\n",
              "      <td>10747</td>\n",
              "      <td>4</td>\n",
              "      <td>1</td>\n",
              "      <td>1</td>\n",
              "    </tr>\n",
              "  </tbody>\n",
              "</table>\n",
              "</div>"
            ],
            "text/plain": [
              "     Year  Ratings  Genre    Gross  ...  Views  Likes  Dislikes  Comments\n",
              "120  2014      7.0      8  2820000  ...  10747      4         1         1\n",
              "\n",
              "[1 rows x 12 columns]"
            ]
          },
          "metadata": {},
          "execution_count": 57
        }
      ]
    },
    {
      "cell_type": "code",
      "metadata": {
        "colab": {
          "base_uri": "https://localhost:8080/"
        },
        "id": "hIP1Quwcg4A2",
        "outputId": "a72e3583-bae4-4b1c-ae99-5de8a161e1af"
      },
      "source": [
        "df.loc[120,\"Genre\"]"
      ],
      "execution_count": 58,
      "outputs": [
        {
          "output_type": "execute_result",
          "data": {
            "text/plain": [
              "8"
            ]
          },
          "metadata": {},
          "execution_count": 58
        }
      ]
    },
    {
      "cell_type": "code",
      "metadata": {
        "colab": {
          "base_uri": "https://localhost:8080/"
        },
        "id": "I9lIq-GpeFYa",
        "outputId": "6d141869-6596-4511-b676-4bb8a9fe65d4"
      },
      "source": [
        "df.loc[120,\"Budget\"] = average_budget_by_genre[df.loc[120,\"Genre\"]]\n",
        "print(f\"The Budget for Movie #120 has been updated to {average_budget_by_genre[df.loc[120,'Genre']]}\")"
      ],
      "execution_count": 59,
      "outputs": [
        {
          "output_type": "stream",
          "name": "stdout",
          "text": [
            "The Budget for Movie #120 has been updated to 25518301.88679245\n"
          ]
        }
      ]
    },
    {
      "cell_type": "markdown",
      "metadata": {
        "id": "ht55Q3xehwi2"
      },
      "source": [
        "#### Screens\n",
        "Replace missing 'Screens' values with Screens Mean."
      ]
    },
    {
      "cell_type": "code",
      "metadata": {
        "id": "0-ycmi-5a089"
      },
      "source": [
        "# total mean for screen\n",
        "df.Screens.fillna(df.Screens.mean(), inplace=True)"
      ],
      "execution_count": 60,
      "outputs": []
    },
    {
      "cell_type": "markdown",
      "metadata": {
        "id": "0YY5Z_UCC9Xq"
      },
      "source": [
        "## Part 1.5 - Standardization\n",
        "small values (also from similar range) help with gradient descent's convergence."
      ]
    },
    {
      "cell_type": "code",
      "metadata": {
        "colab": {
          "base_uri": "https://localhost:8080/",
          "height": 206
        },
        "id": "NBlU2mZZC8-W",
        "outputId": "542dc124-275a-4144-a295-f85e1080fc6d"
      },
      "source": [
        "# Standardize\n",
        "df -= df.mean()\n",
        "df /= df.std()\n",
        "df.head()"
      ],
      "execution_count": 61,
      "outputs": [
        {
          "output_type": "execute_result",
          "data": {
            "text/html": [
              "<div>\n",
              "<style scoped>\n",
              "    .dataframe tbody tr th:only-of-type {\n",
              "        vertical-align: middle;\n",
              "    }\n",
              "\n",
              "    .dataframe tbody tr th {\n",
              "        vertical-align: top;\n",
              "    }\n",
              "\n",
              "    .dataframe thead th {\n",
              "        text-align: right;\n",
              "    }\n",
              "</style>\n",
              "<table border=\"1\" class=\"dataframe\">\n",
              "  <thead>\n",
              "    <tr style=\"text-align: right;\">\n",
              "      <th></th>\n",
              "      <th>Year</th>\n",
              "      <th>Ratings</th>\n",
              "      <th>Genre</th>\n",
              "      <th>Gross</th>\n",
              "      <th>Budget</th>\n",
              "      <th>Screens</th>\n",
              "      <th>Sequel</th>\n",
              "      <th>Sentiment</th>\n",
              "      <th>Views</th>\n",
              "      <th>Likes</th>\n",
              "      <th>Dislikes</th>\n",
              "      <th>Comments</th>\n",
              "    </tr>\n",
              "  </thead>\n",
              "  <tbody>\n",
              "    <tr>\n",
              "      <th>0</th>\n",
              "      <td>-0.644494</td>\n",
              "      <td>-0.143167</td>\n",
              "      <td>0.637600</td>\n",
              "      <td>-0.765520</td>\n",
              "      <td>-0.808722</td>\n",
              "      <td>-1.511773</td>\n",
              "      <td>-0.371477</td>\n",
              "      <td>-0.401546</td>\n",
              "      <td>-0.095832</td>\n",
              "      <td>-0.281020</td>\n",
              "      <td>-0.204233</td>\n",
              "      <td>-0.333153</td>\n",
              "    </tr>\n",
              "    <tr>\n",
              "      <th>1</th>\n",
              "      <td>-0.644494</td>\n",
              "      <td>0.665923</td>\n",
              "      <td>-1.052563</td>\n",
              "      <td>1.394038</td>\n",
              "      <td>0.040141</td>\n",
              "      <td>0.766109</td>\n",
              "      <td>0.662392</td>\n",
              "      <td>-0.115700</td>\n",
              "      <td>-0.693746</td>\n",
              "      <td>-0.321505</td>\n",
              "      <td>-0.496854</td>\n",
              "      <td>-0.459166</td>\n",
              "    </tr>\n",
              "    <tr>\n",
              "      <th>2</th>\n",
              "      <td>-0.644494</td>\n",
              "      <td>-0.244303</td>\n",
              "      <td>-1.052563</td>\n",
              "      <td>-0.420302</td>\n",
              "      <td>-0.365837</td>\n",
              "      <td>0.462950</td>\n",
              "      <td>-0.371477</td>\n",
              "      <td>-0.401546</td>\n",
              "      <td>-0.755467</td>\n",
              "      <td>-0.430332</td>\n",
              "      <td>-0.518560</td>\n",
              "      <td>-0.498090</td>\n",
              "    </tr>\n",
              "    <tr>\n",
              "      <th>3</th>\n",
              "      <td>-0.644494</td>\n",
              "      <td>-0.143167</td>\n",
              "      <td>-1.052563</td>\n",
              "      <td>0.426690</td>\n",
              "      <td>1.147353</td>\n",
              "      <td>0.880666</td>\n",
              "      <td>0.662392</td>\n",
              "      <td>-0.401546</td>\n",
              "      <td>-0.722647</td>\n",
              "      <td>-0.357445</td>\n",
              "      <td>-0.439777</td>\n",
              "      <td>-0.346034</td>\n",
              "    </tr>\n",
              "    <tr>\n",
              "      <th>4</th>\n",
              "      <td>-0.644494</td>\n",
              "      <td>-1.761347</td>\n",
              "      <td>0.637600</td>\n",
              "      <td>-0.571028</td>\n",
              "      <td>-0.817948</td>\n",
              "      <td>0.070380</td>\n",
              "      <td>0.662392</td>\n",
              "      <td>-0.401546</td>\n",
              "      <td>-0.125752</td>\n",
              "      <td>-0.019758</td>\n",
              "      <td>-0.055511</td>\n",
              "      <td>-0.208259</td>\n",
              "    </tr>\n",
              "  </tbody>\n",
              "</table>\n",
              "</div>"
            ],
            "text/plain": [
              "       Year   Ratings     Genre  ...     Likes  Dislikes  Comments\n",
              "0 -0.644494 -0.143167  0.637600  ... -0.281020 -0.204233 -0.333153\n",
              "1 -0.644494  0.665923 -1.052563  ... -0.321505 -0.496854 -0.459166\n",
              "2 -0.644494 -0.244303 -1.052563  ... -0.430332 -0.518560 -0.498090\n",
              "3 -0.644494 -0.143167 -1.052563  ... -0.357445 -0.439777 -0.346034\n",
              "4 -0.644494 -1.761347  0.637600  ... -0.019758 -0.055511 -0.208259\n",
              "\n",
              "[5 rows x 12 columns]"
            ]
          },
          "metadata": {},
          "execution_count": 61
        }
      ]
    },
    {
      "cell_type": "markdown",
      "metadata": {
        "id": "WU-2ncPfnSZ_"
      },
      "source": [
        "## Part 1.75 - Shuffle\n"
      ]
    },
    {
      "cell_type": "code",
      "metadata": {
        "id": "4mFOttCHnInF"
      },
      "source": [
        "# shuffle\n",
        "df = df.sample(frac=1).reset_index(drop=True)"
      ],
      "execution_count": 62,
      "outputs": []
    },
    {
      "cell_type": "markdown",
      "metadata": {
        "id": "v34NjKga1X9Y"
      },
      "source": [
        "## Part 2 - Correlations"
      ]
    },
    {
      "cell_type": "markdown",
      "metadata": {
        "id": "gc1XlsMBGt1z"
      },
      "source": [
        "### Correlation Matrix"
      ]
    },
    {
      "cell_type": "code",
      "metadata": {
        "colab": {
          "base_uri": "https://localhost:8080/",
          "height": 636
        },
        "id": "0vgIKzX_a1RQ",
        "outputId": "5e2408ae-94e4-4b4c-b315-310d9388398f"
      },
      "source": [
        "# Plot the correlation Matrix \n",
        "# to see which features have \n",
        "# high correlations (candidates for removing).\n",
        "plotCorrelationMatrix(df)"
      ],
      "execution_count": 63,
      "outputs": [
        {
          "output_type": "display_data",
          "data": {
            "image/png": "[encoded data removed]",
            "text/plain": [
              "<Figure size 900x600 with 2 Axes>"
            ]
          },
          "metadata": {}
        }
      ]
    },
    {
      "cell_type": "markdown",
      "metadata": {
        "id": "e0BeIDheGv4i"
      },
      "source": [
        "### Correlation between two features"
      ]
    },
    {
      "cell_type": "code",
      "metadata": {
        "colab": {
          "base_uri": "https://localhost:8080/",
          "height": 274
        },
        "id": "gKsLRySJG6Zh",
        "outputId": "8689cb04-63c3-4618-e1f5-d29a56377074"
      },
      "source": [
        "# We can plot the relationship between 2\n",
        "# features manually to but the correlation\n",
        "# matrix is faster and more clear\n",
        "plotRelation(\"Views\", \"Ratings\")"
      ],
      "execution_count": 64,
      "outputs": [
        {
          "output_type": "display_data",
          "data": {
            "image/png": "[encoded data removed]",
            "text/plain": [
              "<Figure size 432x288 with 1 Axes>"
            ]
          },
          "metadata": {}
        }
      ]
    },
    {
      "cell_type": "code",
      "metadata": {
        "colab": {
          "base_uri": "https://localhost:8080/",
          "height": 292
        },
        "id": "xNnM-VUsHAoz",
        "outputId": "5669428a-5559-4ee8-f0f2-a632916e5fbc"
      },
      "source": [
        "sns.regplot(x=df[\"Likes\"], y=df[\"Dislikes\"])"
      ],
      "execution_count": 65,
      "outputs": [
        {
          "output_type": "execute_result",
          "data": {
            "text/plain": [
              "<matplotlib.axes._subplots.AxesSubplot at 0x7f54c010b790>"
            ]
          },
          "metadata": {},
          "execution_count": 65
        },
        {
          "output_type": "display_data",
          "data": {
            "image/png": "[encoded data removed]",
            "text/plain": [
              "<Figure size 432x288 with 1 Axes>"
            ]
          },
          "metadata": {}
        }
      ]
    },
    {
      "cell_type": "markdown",
      "metadata": {
        "id": "Cfha0AwL_9z6"
      },
      "source": [
        "### Correlation between every pair"
      ]
    },
    {
      "cell_type": "code",
      "metadata": {
        "id": "4tW3l5zT_2mr"
      },
      "source": [
        "# Plot a GIANT Grid of pairplots that shows how a\n",
        "# feature relates to every other feature\n",
        "# Note : Takes some time to render\n",
        "# plotEveryPairRelation(df)"
      ],
      "execution_count": 66,
      "outputs": []
    },
    {
      "cell_type": "markdown",
      "metadata": {
        "id": "q7T7yNCt1YSQ"
      },
      "source": [
        "## Part 3 - Remove Redundant Features\n"
      ]
    },
    {
      "cell_type": "code",
      "metadata": {
        "colab": {
          "base_uri": "https://localhost:8080/",
          "height": 575
        },
        "id": "dTV9Dcc1a1rK",
        "outputId": "2ec59e08-f489-4216-91bb-e6524e6eb181"
      },
      "source": [
        "new_df = df.drop(columns=[\"Year\",\"Comments\", \"Screens\", \"Likes\", \"Budget\", ])\n",
        "plotCorrelationMatrix(new_df)"
      ],
      "execution_count": 67,
      "outputs": [
        {
          "output_type": "display_data",
          "data": {
            "image/png": "[encoded data removed]",
            "text/plain": [
              "<Figure size 900x600 with 2 Axes>"
            ]
          },
          "metadata": {}
        }
      ]
    },
    {
      "cell_type": "markdown",
      "metadata": {
        "id": "2BvziLe_1YbI"
      },
      "source": [
        "## Part 4 - Gradient Descent"
      ]
    },
    {
      "cell_type": "markdown",
      "metadata": {
        "id": "KavQubJ91quh"
      },
      "source": [
        "### Using the whole data"
      ]
    },
    {
      "cell_type": "markdown",
      "metadata": {
        "id": "dUi0mcSIB_07"
      },
      "source": [
        "#### 1. Add column for bias"
      ]
    },
    {
      "cell_type": "code",
      "metadata": {
        "colab": {
          "base_uri": "https://localhost:8080/",
          "height": 206
        },
        "id": "HXcMjsGXB31_",
        "outputId": "1eb117b2-c809-46a7-855c-4662448cf7a0"
      },
      "source": [
        "# 1. Add column for bias\n",
        "# Add a new column for simplicity of the calculations\n",
        "# acts as the bias term\n",
        "df = pd.concat([pd.Series(1, index=df.index, name='0'), df], axis=1)\n",
        "df.head()"
      ],
      "execution_count": 68,
      "outputs": [
        {
          "output_type": "execute_result",
          "data": {
            "text/html": [
              "<div>\n",
              "<style scoped>\n",
              "    .dataframe tbody tr th:only-of-type {\n",
              "        vertical-align: middle;\n",
              "    }\n",
              "\n",
              "    .dataframe tbody tr th {\n",
              "        vertical-align: top;\n",
              "    }\n",
              "\n",
              "    .dataframe thead th {\n",
              "        text-align: right;\n",
              "    }\n",
              "</style>\n",
              "<table border=\"1\" class=\"dataframe\">\n",
              "  <thead>\n",
              "    <tr style=\"text-align: right;\">\n",
              "      <th></th>\n",
              "      <th>0</th>\n",
              "      <th>Year</th>\n",
              "      <th>Ratings</th>\n",
              "      <th>Genre</th>\n",
              "      <th>Gross</th>\n",
              "      <th>Budget</th>\n",
              "      <th>Screens</th>\n",
              "      <th>Sequel</th>\n",
              "      <th>Sentiment</th>\n",
              "      <th>Views</th>\n",
              "      <th>Likes</th>\n",
              "      <th>Dislikes</th>\n",
              "      <th>Comments</th>\n",
              "    </tr>\n",
              "  </thead>\n",
              "  <tbody>\n",
              "    <tr>\n",
              "      <th>0</th>\n",
              "      <td>1</td>\n",
              "      <td>-0.644494</td>\n",
              "      <td>0.362514</td>\n",
              "      <td>-0.569659</td>\n",
              "      <td>-0.197587</td>\n",
              "      <td>-0.679547</td>\n",
              "      <td>-0.654686</td>\n",
              "      <td>-0.371477</td>\n",
              "      <td>1.599376</td>\n",
              "      <td>1.221449</td>\n",
              "      <td>1.005897</td>\n",
              "      <td>0.196915</td>\n",
              "      <td>0.499378</td>\n",
              "    </tr>\n",
              "    <tr>\n",
              "      <th>1</th>\n",
              "      <td>1</td>\n",
              "      <td>1.544889</td>\n",
              "      <td>0.362514</td>\n",
              "      <td>-1.052563</td>\n",
              "      <td>0.239969</td>\n",
              "      <td>1.977763</td>\n",
              "      <td>1.081841</td>\n",
              "      <td>3.763999</td>\n",
              "      <td>-0.258623</td>\n",
              "      <td>-0.804234</td>\n",
              "      <td>-0.432518</td>\n",
              "      <td>-0.535442</td>\n",
              "      <td>-0.493610</td>\n",
              "    </tr>\n",
              "    <tr>\n",
              "      <th>2</th>\n",
              "      <td>1</td>\n",
              "      <td>-0.644494</td>\n",
              "      <td>1.677285</td>\n",
              "      <td>-1.052563</td>\n",
              "      <td>2.980038</td>\n",
              "      <td>2.254566</td>\n",
              "      <td>1.306765</td>\n",
              "      <td>-0.371477</td>\n",
              "      <td>-0.401546</td>\n",
              "      <td>-0.531866</td>\n",
              "      <td>-0.144509</td>\n",
              "      <td>-0.329642</td>\n",
              "      <td>-0.151413</td>\n",
              "    </tr>\n",
              "    <tr>\n",
              "      <th>3</th>\n",
              "      <td>1</td>\n",
              "      <td>-0.644494</td>\n",
              "      <td>-3.379527</td>\n",
              "      <td>-1.052563</td>\n",
              "      <td>-0.608147</td>\n",
              "      <td>-0.587279</td>\n",
              "      <td>-0.268403</td>\n",
              "      <td>-0.371477</td>\n",
              "      <td>-0.401546</td>\n",
              "      <td>0.420904</td>\n",
              "      <td>-0.053617</td>\n",
              "      <td>1.151149</td>\n",
              "      <td>1.615579</td>\n",
              "    </tr>\n",
              "    <tr>\n",
              "      <th>4</th>\n",
              "      <td>1</td>\n",
              "      <td>-0.644494</td>\n",
              "      <td>-0.042031</td>\n",
              "      <td>1.603408</td>\n",
              "      <td>0.719144</td>\n",
              "      <td>1.018179</td>\n",
              "      <td>1.214560</td>\n",
              "      <td>0.662392</td>\n",
              "      <td>0.170146</td>\n",
              "      <td>0.030351</td>\n",
              "      <td>-0.102324</td>\n",
              "      <td>0.020056</td>\n",
              "      <td>-0.188937</td>\n",
              "    </tr>\n",
              "  </tbody>\n",
              "</table>\n",
              "</div>"
            ],
            "text/plain": [
              "   0      Year   Ratings     Genre  ...     Views     Likes  Dislikes  Comments\n",
              "0  1 -0.644494  0.362514 -0.569659  ...  1.221449  1.005897  0.196915  0.499378\n",
              "1  1  1.544889  0.362514 -1.052563  ... -0.804234 -0.432518 -0.535442 -0.493610\n",
              "2  1 -0.644494  1.677285 -1.052563  ... -0.531866 -0.144509 -0.329642 -0.151413\n",
              "3  1 -0.644494 -3.379527 -1.052563  ...  0.420904 -0.053617  1.151149  1.615579\n",
              "4  1 -0.644494 -0.042031  1.603408  ...  0.030351 -0.102324  0.020056 -0.188937\n",
              "\n",
              "[5 rows x 13 columns]"
            ]
          },
          "metadata": {},
          "execution_count": 68
        }
      ]
    },
    {
      "cell_type": "markdown",
      "metadata": {
        "id": "QuVOHRk2CFTK"
      },
      "source": [
        "#### 2. Seperate X,y"
      ]
    },
    {
      "cell_type": "code",
      "metadata": {
        "colab": {
          "base_uri": "https://localhost:8080/"
        },
        "id": "1a4nuwADB5t5",
        "outputId": "b9ab8029-ac90-49a0-97d9-fb9d33f6f6d7"
      },
      "source": [
        "# 2. Seperate X,y\n",
        "# Split training data into X and y\n",
        "X = df.drop(columns=\"Ratings\")\n",
        "y = df.loc[:, \"Ratings\"]\n",
        "print(X.head(),end=\"\\n\\n\")\n",
        "print(y.head())"
      ],
      "execution_count": 69,
      "outputs": [
        {
          "output_type": "stream",
          "name": "stdout",
          "text": [
            "   0      Year     Genre     Gross  ...     Views     Likes  Dislikes  Comments\n",
            "0  1 -0.644494 -0.569659 -0.197587  ...  1.221449  1.005897  0.196915  0.499378\n",
            "1  1  1.544889 -1.052563  0.239969  ... -0.804234 -0.432518 -0.535442 -0.493610\n",
            "2  1 -0.644494 -1.052563  2.980038  ... -0.531866 -0.144509 -0.329642 -0.151413\n",
            "3  1 -0.644494 -1.052563 -0.608147  ...  0.420904 -0.053617  1.151149  1.615579\n",
            "4  1 -0.644494  1.603408  0.719144  ...  0.030351 -0.102324  0.020056 -0.188937\n",
            "\n",
            "[5 rows x 12 columns]\n",
            "\n",
            "0    0.362514\n",
            "1    0.362514\n",
            "2    1.677285\n",
            "3   -3.379527\n",
            "4   -0.042031\n",
            "Name: Ratings, dtype: float64\n"
          ]
        }
      ]
    },
    {
      "cell_type": "markdown",
      "metadata": {
        "id": "nTNQ7yHfCIJ6"
      },
      "source": [
        "#### 3. Train Valid split"
      ]
    },
    {
      "cell_type": "code",
      "metadata": {
        "colab": {
          "base_uri": "https://localhost:8080/"
        },
        "id": "fQAtbZDlB7q6",
        "outputId": "6c5e5a04-2a26-45d2-bce9-83bb11e599d0"
      },
      "source": [
        "# 3. Train Valid split\n",
        "# Split to train and valid\n",
        "split = 0.7\n",
        "\n",
        "X_train = X.iloc[ : int(len(X)*split),:].reset_index(drop=True)\n",
        "X_valid = X.iloc[int(len(X)*split) : ,:].reset_index(drop=True)\n",
        "\n",
        "y_train = y.iloc[ : int(len(X)*split)].reset_index(drop=True)\n",
        "y_valid = y.iloc[int(len(X)*split) : ].reset_index(drop=True)\n",
        "\n",
        "print(f\"Train X size = {len(X_train)}\")\n",
        "print(f\"Train y size = {len(y_train)}\")\n",
        "print(f\"Valid X size = {len(X_valid)}\")\n",
        "print(f\"Valid y size = {len(y_valid)}\")"
      ],
      "execution_count": 70,
      "outputs": [
        {
          "output_type": "stream",
          "name": "stdout",
          "text": [
            "Train X size = 161\n",
            "Train y size = 161\n",
            "Valid X size = 70\n",
            "Valid y size = 70\n"
          ]
        }
      ]
    },
    {
      "cell_type": "markdown",
      "metadata": {
        "id": "PVwIZ4xRngeA"
      },
      "source": [
        "####4. Training"
      ]
    },
    {
      "cell_type": "code",
      "metadata": {
        "id": "9r9dw1bfa2oP",
        "colab": {
          "base_uri": "https://localhost:8080/",
          "height": 67,
          "referenced_widgets": [
            "1115205ea29d46b3b2ee4e4bb848d948",
            "a6899552096348dc8f87022e8314d613",
            "022140e1dd994c6fbc60622b1684cca9",
            "aa06b031ac36428fb2088ea4ceadcc34",
            "0f5d19415ee84b1786e31d0b865097a9",
            "a4518387a0124fddb8816f017ea7057d",
            "e326a7e323c146b49e9826233dfdf2b4",
            "024c4b0c68414bda9105cacd5c2bc3f4",
            "96dcba60a57c40aa9954df6ed48e05d0",
            "4113583f02044b0a8796c3f6ad8ac41c",
            "62ee0754b5ef4c469ff88695cde95bce"
          ]
        },
        "outputId": "78ab76e8-eb11-455f-c1e7-8ba02b25a88a"
      },
      "source": [
        "# 4. Gradient Descent\n",
        "\n",
        "X_train_copy = X_train.copy()\n",
        "X_valid_copy = X_valid.copy()\n",
        "\n",
        "# Initialize the weights with random values\n",
        "theta = np.random.rand(len(X_train.columns),)\n",
        "\n",
        "theta = np.array([0.0]*len(X_train_copy.columns))\n",
        "\n",
        "# Hyper-Parameters\n",
        "iterations = 500\n",
        "learning_rate = 0.0004\n",
        "decay = 0\n",
        "\n",
        "# Start the training\n",
        "history, loss, theta = gradientDescent(X_train_copy,\n",
        "                                       y_train,\n",
        "                                       theta,\n",
        "                                       learning_rate,\n",
        "                                       iterations,\n",
        "                                       X_valid = X_valid_copy,\n",
        "                                       y_valid = y_valid,\n",
        "                                       loss_fn=MSE,\n",
        "                                       loss_fn_prim=MSE_prim,\n",
        "                                       decay = decay)"
      ],
      "execution_count": 71,
      "outputs": [
        {
          "output_type": "display_data",
          "data": {
            "application/vnd.jupyter.widget-view+json": {
              "model_id": "1115205ea29d46b3b2ee4e4bb848d948",
              "version_minor": 0,
              "version_major": 2
            },
            "text/plain": [
              "  0%|          | 0/500 [00:00<?, ?it/s]"
            ]
          },
          "metadata": {}
        },
        {
          "output_type": "stream",
          "name": "stdout",
          "text": [
            "training_loss : 0.8862 | validation_loss : 0.9755\n"
          ]
        }
      ]
    },
    {
      "cell_type": "code",
      "metadata": {
        "id": "2JrjxATXnp-q",
        "colab": {
          "base_uri": "https://localhost:8080/",
          "height": 264
        },
        "outputId": "871adf04-464c-4cbf-b003-127a1aa5d7ee"
      },
      "source": [
        "plot_loss(history)"
      ],
      "execution_count": 72,
      "outputs": [
        {
          "output_type": "display_data",
          "data": {
            "image/png": "[encoded data removed]",
            "text/plain": [
              "<Figure size 432x288 with 1 Axes>"
            ]
          },
          "metadata": {}
        }
      ]
    },
    {
      "cell_type": "code",
      "metadata": {
        "colab": {
          "base_uri": "https://localhost:8080/"
        },
        "id": "-bL6gd1u0WxX",
        "outputId": "7470cd03-fc22-40cc-9ce0-7ffb86f37033"
      },
      "source": [
        "from sklearn.linear_model import LinearRegression, SGDRegressor\n",
        "\n",
        "reg = LinearRegression().fit(X_train_copy, y_train)\n",
        "\n",
        "print(\"MSE\", MSE(X_train_copy, y_train, reg.coef_)*2)\n",
        "print(\"R2 \", reg.score(X_train_copy, y_train))"
      ],
      "execution_count": 73,
      "outputs": [
        {
          "output_type": "stream",
          "name": "stdout",
          "text": [
            "MSE 0.634163835366411\n",
            "R2  0.3603436479091804\n"
          ]
        }
      ]
    },
    {
      "cell_type": "code",
      "metadata": {
        "colab": {
          "base_uri": "https://localhost:8080/"
        },
        "id": "7bMNcGaizzPS",
        "outputId": "21979a83-ad8b-4278-90ae-7c7e9389843b"
      },
      "source": [
        "reg = SGDRegressor(loss='squared_error', penalty='l2', max_iter=100000, tol=1e-3)\n",
        "reg.fit(X_train_copy, y_train)\n",
        "\n",
        "print(MSE(X_train_copy, y_train, reg.coef_)*2)\n",
        "print(reg.score(X_train_copy, y_train))"
      ],
      "execution_count": 74,
      "outputs": [
        {
          "output_type": "stream",
          "name": "stdout",
          "text": [
            "0.659175592626418\n",
            "0.33525320021034066\n"
          ]
        }
      ]
    },
    {
      "cell_type": "markdown",
      "metadata": {
        "id": "zrfZF7y-1s7v"
      },
      "source": [
        "### Using the selected features"
      ]
    },
    {
      "cell_type": "markdown",
      "metadata": {
        "id": "sqbskV90oAcU"
      },
      "source": [
        "#### 1. Add column for bias"
      ]
    },
    {
      "cell_type": "code",
      "metadata": {
        "colab": {
          "base_uri": "https://localhost:8080/",
          "height": 206
        },
        "id": "G7qvBCK5oAcV",
        "outputId": "5595e728-f421-4c13-c7ec-12bd454017b9"
      },
      "source": [
        "# 1. Add column for bias\n",
        "# Add a new column for simplicity of the calculations\n",
        "# acts as the bias term\n",
        "new_df = pd.concat([pd.Series(1, index=new_df.index, name='0'), new_df], axis=1)\n",
        "new_df.head()"
      ],
      "execution_count": 75,
      "outputs": [
        {
          "output_type": "execute_result",
          "data": {
            "text/html": [
              "<div>\n",
              "<style scoped>\n",
              "    .dataframe tbody tr th:only-of-type {\n",
              "        vertical-align: middle;\n",
              "    }\n",
              "\n",
              "    .dataframe tbody tr th {\n",
              "        vertical-align: top;\n",
              "    }\n",
              "\n",
              "    .dataframe thead th {\n",
              "        text-align: right;\n",
              "    }\n",
              "</style>\n",
              "<table border=\"1\" class=\"dataframe\">\n",
              "  <thead>\n",
              "    <tr style=\"text-align: right;\">\n",
              "      <th></th>\n",
              "      <th>0</th>\n",
              "      <th>Ratings</th>\n",
              "      <th>Genre</th>\n",
              "      <th>Gross</th>\n",
              "      <th>Sequel</th>\n",
              "      <th>Sentiment</th>\n",
              "      <th>Views</th>\n",
              "      <th>Dislikes</th>\n",
              "    </tr>\n",
              "  </thead>\n",
              "  <tbody>\n",
              "    <tr>\n",
              "      <th>0</th>\n",
              "      <td>1</td>\n",
              "      <td>0.362514</td>\n",
              "      <td>-0.569659</td>\n",
              "      <td>-0.197587</td>\n",
              "      <td>-0.371477</td>\n",
              "      <td>1.599376</td>\n",
              "      <td>1.221449</td>\n",
              "      <td>0.196915</td>\n",
              "    </tr>\n",
              "    <tr>\n",
              "      <th>1</th>\n",
              "      <td>1</td>\n",
              "      <td>0.362514</td>\n",
              "      <td>-1.052563</td>\n",
              "      <td>0.239969</td>\n",
              "      <td>3.763999</td>\n",
              "      <td>-0.258623</td>\n",
              "      <td>-0.804234</td>\n",
              "      <td>-0.535442</td>\n",
              "    </tr>\n",
              "    <tr>\n",
              "      <th>2</th>\n",
              "      <td>1</td>\n",
              "      <td>1.677285</td>\n",
              "      <td>-1.052563</td>\n",
              "      <td>2.980038</td>\n",
              "      <td>-0.371477</td>\n",
              "      <td>-0.401546</td>\n",
              "      <td>-0.531866</td>\n",
              "      <td>-0.329642</td>\n",
              "    </tr>\n",
              "    <tr>\n",
              "      <th>3</th>\n",
              "      <td>1</td>\n",
              "      <td>-3.379527</td>\n",
              "      <td>-1.052563</td>\n",
              "      <td>-0.608147</td>\n",
              "      <td>-0.371477</td>\n",
              "      <td>-0.401546</td>\n",
              "      <td>0.420904</td>\n",
              "      <td>1.151149</td>\n",
              "    </tr>\n",
              "    <tr>\n",
              "      <th>4</th>\n",
              "      <td>1</td>\n",
              "      <td>-0.042031</td>\n",
              "      <td>1.603408</td>\n",
              "      <td>0.719144</td>\n",
              "      <td>0.662392</td>\n",
              "      <td>0.170146</td>\n",
              "      <td>0.030351</td>\n",
              "      <td>0.020056</td>\n",
              "    </tr>\n",
              "  </tbody>\n",
              "</table>\n",
              "</div>"
            ],
            "text/plain": [
              "   0   Ratings     Genre     Gross    Sequel  Sentiment     Views  Dislikes\n",
              "0  1  0.362514 -0.569659 -0.197587 -0.371477   1.599376  1.221449  0.196915\n",
              "1  1  0.362514 -1.052563  0.239969  3.763999  -0.258623 -0.804234 -0.535442\n",
              "2  1  1.677285 -1.052563  2.980038 -0.371477  -0.401546 -0.531866 -0.329642\n",
              "3  1 -3.379527 -1.052563 -0.608147 -0.371477  -0.401546  0.420904  1.151149\n",
              "4  1 -0.042031  1.603408  0.719144  0.662392   0.170146  0.030351  0.020056"
            ]
          },
          "metadata": {},
          "execution_count": 75
        }
      ]
    },
    {
      "cell_type": "markdown",
      "metadata": {
        "id": "VSy2ApZBoAcV"
      },
      "source": [
        "#### 2. Seperate X,y"
      ]
    },
    {
      "cell_type": "code",
      "metadata": {
        "colab": {
          "base_uri": "https://localhost:8080/"
        },
        "id": "t5_ba0DDoAcV",
        "outputId": "8421e849-9021-44c8-807f-cf9663108b47"
      },
      "source": [
        "# 2. Seperate X,y\n",
        "# Split training data into X and y\n",
        "X = new_df.drop(columns=\"Ratings\")\n",
        "y = new_df.loc[:, \"Ratings\"]\n",
        "print(X.head(),end=\"\\n\\n\")\n",
        "print(y.head())"
      ],
      "execution_count": 76,
      "outputs": [
        {
          "output_type": "stream",
          "name": "stdout",
          "text": [
            "   0     Genre     Gross    Sequel  Sentiment     Views  Dislikes\n",
            "0  1 -0.569659 -0.197587 -0.371477   1.599376  1.221449  0.196915\n",
            "1  1 -1.052563  0.239969  3.763999  -0.258623 -0.804234 -0.535442\n",
            "2  1 -1.052563  2.980038 -0.371477  -0.401546 -0.531866 -0.329642\n",
            "3  1 -1.052563 -0.608147 -0.371477  -0.401546  0.420904  1.151149\n",
            "4  1  1.603408  0.719144  0.662392   0.170146  0.030351  0.020056\n",
            "\n",
            "0    0.362514\n",
            "1    0.362514\n",
            "2    1.677285\n",
            "3   -3.379527\n",
            "4   -0.042031\n",
            "Name: Ratings, dtype: float64\n"
          ]
        }
      ]
    },
    {
      "cell_type": "markdown",
      "metadata": {
        "id": "AVtXUE_ooAcV"
      },
      "source": [
        "#### 3. Train Valid split"
      ]
    },
    {
      "cell_type": "code",
      "metadata": {
        "colab": {
          "base_uri": "https://localhost:8080/"
        },
        "id": "dRgABzl-oAcW",
        "outputId": "41dd558d-7451-48c7-e108-aded711b414c"
      },
      "source": [
        "# # 3. Train Valid split\n",
        "# Split to train and valid\n",
        "split = 0.7\n",
        "\n",
        "X_train = X.iloc[ : int(len(X)*split),:].reset_index(drop=True)\n",
        "X_valid = X.iloc[int(len(X)*split) : ,:].reset_index(drop=True)\n",
        "\n",
        "y_train = y.iloc[ : int(len(X)*split)].reset_index(drop=True)\n",
        "y_valid = y.iloc[int(len(X)*split) : ].reset_index(drop=True)\n",
        "\n",
        "print(f\"Train X size = {len(X_train)}\")\n",
        "print(f\"Train y size = {len(y_train)}\")\n",
        "print(f\"Valid X size = {len(X_valid)}\")\n",
        "print(f\"Valid y size = {len(y_valid)}\")"
      ],
      "execution_count": 77,
      "outputs": [
        {
          "output_type": "stream",
          "name": "stdout",
          "text": [
            "Train X size = 161\n",
            "Train y size = 161\n",
            "Valid X size = 70\n",
            "Valid y size = 70\n"
          ]
        }
      ]
    },
    {
      "cell_type": "markdown",
      "metadata": {
        "id": "DPHerlkboAcW"
      },
      "source": [
        "####4. Training"
      ]
    },
    {
      "cell_type": "code",
      "metadata": {
        "id": "XU_eYpAyoAcW",
        "colab": {
          "base_uri": "https://localhost:8080/",
          "height": 67,
          "referenced_widgets": [
            "e942f5a85bb74b6e9eeae89589de2218",
            "1fbb70d7166a443cae227b18e1bcba79",
            "636bddbba83d439697961a7d61c84540",
            "9a9b4bc43b394c23b694fa9784659d66",
            "7815d6eaeb474ad39db5a9985bbe5bb3",
            "56594523f35b40ddb85a084a2829ae09",
            "ca1009118d6b4f54b7327f1610b69af5",
            "6cc0331cfdd9440f874f2eaeac32cb0d",
            "8ea2a835cff946e084f4ee5f1d9ec508",
            "5077033809494a68940fbc300b2d63fd",
            "1203d9ab85f140378152d68b477d4cd6"
          ]
        },
        "outputId": "0ee06498-6a44-4e23-8647-b62f213a0693"
      },
      "source": [
        "# 4. Gradient Descent\n",
        "\n",
        "X_train_selected = X_train.copy()\n",
        "X_valid_selected = X_valid.copy()\n",
        "\n",
        "# Initialize the weights with random values\n",
        "theta = np.random.rand(len(X_train_selected.columns),)\n",
        "# Initialize the weights with zeros\n",
        "theta = np.array([0.0]*len(X_train_selected.columns))\n",
        "\n",
        "# Hyper-Parameters\n",
        "iterations = 500\n",
        "learning_rate = 0.0004\n",
        "decay = 0\n",
        "\n",
        "# Start the training\n",
        "history, loss, theta = gradientDescent(X_train_selected,\n",
        "                                       y_train,\n",
        "                                       theta,\n",
        "                                       learning_rate,\n",
        "                                       iterations,\n",
        "                                       X_valid = X_valid_selected,\n",
        "                                       y_valid = y_valid,\n",
        "                                       loss_fn=MSE,\n",
        "                                       loss_fn_prim=MSE_prim,\n",
        "                                       decay = decay)"
      ],
      "execution_count": 78,
      "outputs": [
        {
          "output_type": "display_data",
          "data": {
            "application/vnd.jupyter.widget-view+json": {
              "model_id": "e942f5a85bb74b6e9eeae89589de2218",
              "version_minor": 0,
              "version_major": 2
            },
            "text/plain": [
              "  0%|          | 0/500 [00:00<?, ?it/s]"
            ]
          },
          "metadata": {}
        },
        {
          "output_type": "stream",
          "name": "stdout",
          "text": [
            "training_loss : 0.9197 | validation_loss : 0.9676\n"
          ]
        }
      ]
    },
    {
      "cell_type": "code",
      "metadata": {
        "id": "USYAv35EoAcW",
        "colab": {
          "base_uri": "https://localhost:8080/",
          "height": 429
        },
        "outputId": "b20c18ae-d654-4ba0-9ba9-4e8f054e3585"
      },
      "source": [
        "plot_loss(history, dpi=120)"
      ],
      "execution_count": 79,
      "outputs": [
        {
          "output_type": "display_data",
          "data": {
            "image/png": "[encoded data removed]",
            "text/plain": [
              "<Figure size 720x480 with 1 Axes>"
            ]
          },
          "metadata": {}
        }
      ]
    },
    {
      "cell_type": "code",
      "metadata": {
        "id": "U1BLq5zja25D",
        "colab": {
          "base_uri": "https://localhost:8080/",
          "height": 275
        },
        "outputId": "a996a3b8-d100-42ce-f826-97483a224948"
      },
      "source": [
        "plot_lr(lr=learning_rate, iterations=iterations, decay=decay)"
      ],
      "execution_count": 80,
      "outputs": [
        {
          "output_type": "display_data",
          "data": {
            "image/png": "[encoded data removed]",
            "text/plain": [
              "<Figure size 432x288 with 1 Axes>"
            ]
          },
          "metadata": {}
        }
      ]
    },
    {
      "cell_type": "code",
      "metadata": {
        "colab": {
          "base_uri": "https://localhost:8080/"
        },
        "id": "mJDbqev6xSvu",
        "outputId": "c947852d-e07a-4123-d1ea-8e634bd696f2"
      },
      "source": [
        "from sklearn.linear_model import LinearRegression, SGDRegressor\n",
        "reg = LinearRegression()\n",
        "reg.fit(X_train_selected, y_train)\n",
        "print(MSE(X_train_selected, y_train, reg.coef_)*2)\n",
        "print(reg.score(X_train_selected, y_train))"
      ],
      "execution_count": 81,
      "outputs": [
        {
          "output_type": "stream",
          "name": "stdout",
          "text": [
            "0.6859525345757836\n",
            "0.30810162252464346\n"
          ]
        }
      ]
    },
    {
      "cell_type": "code",
      "metadata": {
        "colab": {
          "base_uri": "https://localhost:8080/"
        },
        "id": "dSEGdi7wy3sq",
        "outputId": "d9b8e730-ea43-4e71-c247-bf1183647228"
      },
      "source": [
        "reg = SGDRegressor(loss='squared_error', penalty='l2', max_iter=100000, tol=1e-3)\n",
        "reg.fit(X_train_selected, y_train)\n",
        "print(MSE(X_train_selected, y_train, reg.coef_)*2)\n",
        "print(reg.score(X_train_selected, y_train))"
      ],
      "execution_count": 82,
      "outputs": [
        {
          "output_type": "stream",
          "name": "stdout",
          "text": [
            "0.7200685686085881\n",
            "0.2739714994477579\n"
          ]
        }
      ]
    }
  ]
}