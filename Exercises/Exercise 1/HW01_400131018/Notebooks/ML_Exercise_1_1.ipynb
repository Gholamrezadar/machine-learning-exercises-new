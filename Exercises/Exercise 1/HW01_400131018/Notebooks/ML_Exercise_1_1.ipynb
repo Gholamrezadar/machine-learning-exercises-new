{
  "nbformat": 4,
  "nbformat_minor": 0,
  "metadata": {
    "colab": {
      "name": "ML_Exercise_1_1.ipynb",
      "provenance": [],
      "collapsed_sections": [],
      "toc_visible": true
    },
    "kernelspec": {
      "display_name": "Python 3",
      "name": "python3"
    },
    "language_info": {
      "name": "python"
    },
    "widgets": {
      "application/vnd.jupyter.widget-state+json": {
        "3cae631c7f6b469d8c79020866d07da4": {
          "model_module": "@jupyter-widgets/controls",
          "model_name": "HBoxModel",
          "model_module_version": "1.5.0",
          "state": {
            "_view_name": "HBoxView",
            "_dom_classes": [],
            "_model_name": "HBoxModel",
            "_view_module": "@jupyter-widgets/controls",
            "_model_module_version": "1.5.0",
            "_view_count": null,
            "_view_module_version": "1.5.0",
            "box_style": "",
            "layout": "IPY_MODEL_ea2219750dcc45bda4c4bd033e141848",
            "_model_module": "@jupyter-widgets/controls",
            "children": [
              "IPY_MODEL_1005f971aca54b3f9f6c09f5b3d3334b",
              "IPY_MODEL_cdcf8aff88ae42c3b1c97e39cd47a1b2",
              "IPY_MODEL_d9931bb035de42eeaf9a00398e04a596"
            ]
          }
        },
        "ea2219750dcc45bda4c4bd033e141848": {
          "model_module": "@jupyter-widgets/base",
          "model_name": "LayoutModel",
          "model_module_version": "1.2.0",
          "state": {
            "_view_name": "LayoutView",
            "grid_template_rows": null,
            "right": null,
            "justify_content": null,
            "_view_module": "@jupyter-widgets/base",
            "overflow": null,
            "_model_module_version": "1.2.0",
            "_view_count": null,
            "flex_flow": null,
            "width": null,
            "min_width": null,
            "border": null,
            "align_items": null,
            "bottom": null,
            "_model_module": "@jupyter-widgets/base",
            "top": null,
            "grid_column": null,
            "overflow_y": null,
            "overflow_x": null,
            "grid_auto_flow": null,
            "grid_area": null,
            "grid_template_columns": null,
            "flex": null,
            "_model_name": "LayoutModel",
            "justify_items": null,
            "grid_row": null,
            "max_height": null,
            "align_content": null,
            "visibility": null,
            "align_self": null,
            "height": null,
            "min_height": null,
            "padding": null,
            "grid_auto_rows": null,
            "grid_gap": null,
            "max_width": null,
            "order": null,
            "_view_module_version": "1.2.0",
            "grid_template_areas": null,
            "object_position": null,
            "object_fit": null,
            "grid_auto_columns": null,
            "margin": null,
            "display": null,
            "left": null
          }
        },
        "1005f971aca54b3f9f6c09f5b3d3334b": {
          "model_module": "@jupyter-widgets/controls",
          "model_name": "HTMLModel",
          "model_module_version": "1.5.0",
          "state": {
            "_view_name": "HTMLView",
            "style": "IPY_MODEL_c839dd2881174a73b782690b79d46d8d",
            "_dom_classes": [],
            "description": "",
            "_model_name": "HTMLModel",
            "placeholder": "​",
            "_view_module": "@jupyter-widgets/controls",
            "_model_module_version": "1.5.0",
            "value": "100%",
            "_view_count": null,
            "_view_module_version": "1.5.0",
            "description_tooltip": null,
            "_model_module": "@jupyter-widgets/controls",
            "layout": "IPY_MODEL_be9152de913e45beb7a474c238988dda"
          }
        },
        "cdcf8aff88ae42c3b1c97e39cd47a1b2": {
          "model_module": "@jupyter-widgets/controls",
          "model_name": "FloatProgressModel",
          "model_module_version": "1.5.0",
          "state": {
            "_view_name": "ProgressView",
            "style": "IPY_MODEL_4446f2a4c3cc4b899771ebc60cd2c677",
            "_dom_classes": [],
            "description": "",
            "_model_name": "FloatProgressModel",
            "bar_style": "success",
            "max": 1000,
            "_view_module": "@jupyter-widgets/controls",
            "_model_module_version": "1.5.0",
            "value": 1000,
            "_view_count": null,
            "_view_module_version": "1.5.0",
            "orientation": "horizontal",
            "min": 0,
            "description_tooltip": null,
            "_model_module": "@jupyter-widgets/controls",
            "layout": "IPY_MODEL_2843c07b5f4b4b12a1ddc03316238b6c"
          }
        },
        "d9931bb035de42eeaf9a00398e04a596": {
          "model_module": "@jupyter-widgets/controls",
          "model_name": "HTMLModel",
          "model_module_version": "1.5.0",
          "state": {
            "_view_name": "HTMLView",
            "style": "IPY_MODEL_2df001da184f4a6dabd440ff617df577",
            "_dom_classes": [],
            "description": "",
            "_model_name": "HTMLModel",
            "placeholder": "​",
            "_view_module": "@jupyter-widgets/controls",
            "_model_module_version": "1.5.0",
            "value": " 1000/1000 [00:31&lt;00:00, 31.62it/s]",
            "_view_count": null,
            "_view_module_version": "1.5.0",
            "description_tooltip": null,
            "_model_module": "@jupyter-widgets/controls",
            "layout": "IPY_MODEL_db20932989e440f392a72fe64791794a"
          }
        },
        "c839dd2881174a73b782690b79d46d8d": {
          "model_module": "@jupyter-widgets/controls",
          "model_name": "DescriptionStyleModel",
          "model_module_version": "1.5.0",
          "state": {
            "_view_name": "StyleView",
            "_model_name": "DescriptionStyleModel",
            "description_width": "",
            "_view_module": "@jupyter-widgets/base",
            "_model_module_version": "1.5.0",
            "_view_count": null,
            "_view_module_version": "1.2.0",
            "_model_module": "@jupyter-widgets/controls"
          }
        },
        "be9152de913e45beb7a474c238988dda": {
          "model_module": "@jupyter-widgets/base",
          "model_name": "LayoutModel",
          "model_module_version": "1.2.0",
          "state": {
            "_view_name": "LayoutView",
            "grid_template_rows": null,
            "right": null,
            "justify_content": null,
            "_view_module": "@jupyter-widgets/base",
            "overflow": null,
            "_model_module_version": "1.2.0",
            "_view_count": null,
            "flex_flow": null,
            "width": null,
            "min_width": null,
            "border": null,
            "align_items": null,
            "bottom": null,
            "_model_module": "@jupyter-widgets/base",
            "top": null,
            "grid_column": null,
            "overflow_y": null,
            "overflow_x": null,
            "grid_auto_flow": null,
            "grid_area": null,
            "grid_template_columns": null,
            "flex": null,
            "_model_name": "LayoutModel",
            "justify_items": null,
            "grid_row": null,
            "max_height": null,
            "align_content": null,
            "visibility": null,
            "align_self": null,
            "height": null,
            "min_height": null,
            "padding": null,
            "grid_auto_rows": null,
            "grid_gap": null,
            "max_width": null,
            "order": null,
            "_view_module_version": "1.2.0",
            "grid_template_areas": null,
            "object_position": null,
            "object_fit": null,
            "grid_auto_columns": null,
            "margin": null,
            "display": null,
            "left": null
          }
        },
        "4446f2a4c3cc4b899771ebc60cd2c677": {
          "model_module": "@jupyter-widgets/controls",
          "model_name": "ProgressStyleModel",
          "model_module_version": "1.5.0",
          "state": {
            "_view_name": "StyleView",
            "_model_name": "ProgressStyleModel",
            "description_width": "",
            "_view_module": "@jupyter-widgets/base",
            "_model_module_version": "1.5.0",
            "_view_count": null,
            "_view_module_version": "1.2.0",
            "bar_color": null,
            "_model_module": "@jupyter-widgets/controls"
          }
        },
        "2843c07b5f4b4b12a1ddc03316238b6c": {
          "model_module": "@jupyter-widgets/base",
          "model_name": "LayoutModel",
          "model_module_version": "1.2.0",
          "state": {
            "_view_name": "LayoutView",
            "grid_template_rows": null,
            "right": null,
            "justify_content": null,
            "_view_module": "@jupyter-widgets/base",
            "overflow": null,
            "_model_module_version": "1.2.0",
            "_view_count": null,
            "flex_flow": null,
            "width": null,
            "min_width": null,
            "border": null,
            "align_items": null,
            "bottom": null,
            "_model_module": "@jupyter-widgets/base",
            "top": null,
            "grid_column": null,
            "overflow_y": null,
            "overflow_x": null,
            "grid_auto_flow": null,
            "grid_area": null,
            "grid_template_columns": null,
            "flex": null,
            "_model_name": "LayoutModel",
            "justify_items": null,
            "grid_row": null,
            "max_height": null,
            "align_content": null,
            "visibility": null,
            "align_self": null,
            "height": null,
            "min_height": null,
            "padding": null,
            "grid_auto_rows": null,
            "grid_gap": null,
            "max_width": null,
            "order": null,
            "_view_module_version": "1.2.0",
            "grid_template_areas": null,
            "object_position": null,
            "object_fit": null,
            "grid_auto_columns": null,
            "margin": null,
            "display": null,
            "left": null
          }
        },
        "2df001da184f4a6dabd440ff617df577": {
          "model_module": "@jupyter-widgets/controls",
          "model_name": "DescriptionStyleModel",
          "model_module_version": "1.5.0",
          "state": {
            "_view_name": "StyleView",
            "_model_name": "DescriptionStyleModel",
            "description_width": "",
            "_view_module": "@jupyter-widgets/base",
            "_model_module_version": "1.5.0",
            "_view_count": null,
            "_view_module_version": "1.2.0",
            "_model_module": "@jupyter-widgets/controls"
          }
        },
        "db20932989e440f392a72fe64791794a": {
          "model_module": "@jupyter-widgets/base",
          "model_name": "LayoutModel",
          "model_module_version": "1.2.0",
          "state": {
            "_view_name": "LayoutView",
            "grid_template_rows": null,
            "right": null,
            "justify_content": null,
            "_view_module": "@jupyter-widgets/base",
            "overflow": null,
            "_model_module_version": "1.2.0",
            "_view_count": null,
            "flex_flow": null,
            "width": null,
            "min_width": null,
            "border": null,
            "align_items": null,
            "bottom": null,
            "_model_module": "@jupyter-widgets/base",
            "top": null,
            "grid_column": null,
            "overflow_y": null,
            "overflow_x": null,
            "grid_auto_flow": null,
            "grid_area": null,
            "grid_template_columns": null,
            "flex": null,
            "_model_name": "LayoutModel",
            "justify_items": null,
            "grid_row": null,
            "max_height": null,
            "align_content": null,
            "visibility": null,
            "align_self": null,
            "height": null,
            "min_height": null,
            "padding": null,
            "grid_auto_rows": null,
            "grid_gap": null,
            "max_width": null,
            "order": null,
            "_view_module_version": "1.2.0",
            "grid_template_areas": null,
            "object_position": null,
            "object_fit": null,
            "grid_auto_columns": null,
            "margin": null,
            "display": null,
            "left": null
          }
        },
        "976d2a6946d848a99bb0d0e5d818c43f": {
          "model_module": "@jupyter-widgets/controls",
          "model_name": "VBoxModel",
          "model_module_version": "1.5.0",
          "state": {
            "_view_name": "VBoxView",
            "_dom_classes": [
              "widget-interact"
            ],
            "_model_name": "VBoxModel",
            "_view_module": "@jupyter-widgets/controls",
            "_model_module_version": "1.5.0",
            "_view_count": null,
            "_view_module_version": "1.5.0",
            "box_style": "",
            "layout": "IPY_MODEL_fe906819a8634ea0927e5c1a6e37ac5d",
            "_model_module": "@jupyter-widgets/controls",
            "children": [
              "IPY_MODEL_3a91082462ed4123a859433f2397e37c",
              "IPY_MODEL_8bb49a63019141589279d7626e3dcb35"
            ]
          }
        },
        "fe906819a8634ea0927e5c1a6e37ac5d": {
          "model_module": "@jupyter-widgets/base",
          "model_name": "LayoutModel",
          "model_module_version": "1.2.0",
          "state": {
            "_view_name": "LayoutView",
            "grid_template_rows": null,
            "right": null,
            "justify_content": null,
            "_view_module": "@jupyter-widgets/base",
            "overflow": null,
            "_model_module_version": "1.2.0",
            "_view_count": null,
            "flex_flow": null,
            "width": null,
            "min_width": null,
            "border": null,
            "align_items": null,
            "bottom": null,
            "_model_module": "@jupyter-widgets/base",
            "top": null,
            "grid_column": null,
            "overflow_y": null,
            "overflow_x": null,
            "grid_auto_flow": null,
            "grid_area": null,
            "grid_template_columns": null,
            "flex": null,
            "_model_name": "LayoutModel",
            "justify_items": null,
            "grid_row": null,
            "max_height": null,
            "align_content": null,
            "visibility": null,
            "align_self": null,
            "height": null,
            "min_height": null,
            "padding": null,
            "grid_auto_rows": null,
            "grid_gap": null,
            "max_width": null,
            "order": null,
            "_view_module_version": "1.2.0",
            "grid_template_areas": null,
            "object_position": null,
            "object_fit": null,
            "grid_auto_columns": null,
            "margin": null,
            "display": null,
            "left": null
          }
        },
        "3a91082462ed4123a859433f2397e37c": {
          "model_module": "@jupyter-widgets/controls",
          "model_name": "IntSliderModel",
          "model_module_version": "1.5.0",
          "state": {
            "_view_name": "IntSliderView",
            "style": "IPY_MODEL_dabf9840f49d43f9b4f726b53e904697",
            "_dom_classes": [],
            "description": "iteration",
            "step": 10,
            "_model_name": "IntSliderModel",
            "orientation": "horizontal",
            "max": 999,
            "_view_module": "@jupyter-widgets/controls",
            "_model_module_version": "1.5.0",
            "value": 990,
            "_view_count": null,
            "disabled": false,
            "_view_module_version": "1.5.0",
            "min": 0,
            "continuous_update": true,
            "readout_format": "d",
            "description_tooltip": null,
            "readout": true,
            "_model_module": "@jupyter-widgets/controls",
            "layout": "IPY_MODEL_dea5358be4b54c868102587a77fda22f"
          }
        },
        "8bb49a63019141589279d7626e3dcb35": {
          "model_module": "@jupyter-widgets/output",
          "model_name": "OutputModel",
          "model_module_version": "1.0.0",
          "state": {
            "_view_name": "OutputView",
            "msg_id": "",
            "_dom_classes": [],
            "_model_name": "OutputModel",
            "outputs": [
              {
                "output_type": "display_data",
                "data": {
                  "image/png": "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\n",
                  "text/plain": "<Figure size 432x288 with 1 Axes>"
                },
                "metadata": {}
              }
            ],
            "_view_module": "@jupyter-widgets/output",
            "_model_module_version": "1.0.0",
            "_view_count": null,
            "_view_module_version": "1.0.0",
            "layout": "IPY_MODEL_4cddcdcedf334d8b8c71bfabb0e927a6",
            "_model_module": "@jupyter-widgets/output"
          }
        },
        "dabf9840f49d43f9b4f726b53e904697": {
          "model_module": "@jupyter-widgets/controls",
          "model_name": "SliderStyleModel",
          "model_module_version": "1.5.0",
          "state": {
            "_view_name": "StyleView",
            "handle_color": null,
            "_model_name": "SliderStyleModel",
            "description_width": "",
            "_view_module": "@jupyter-widgets/base",
            "_model_module_version": "1.5.0",
            "_view_count": null,
            "_view_module_version": "1.2.0",
            "_model_module": "@jupyter-widgets/controls"
          }
        },
        "dea5358be4b54c868102587a77fda22f": {
          "model_module": "@jupyter-widgets/base",
          "model_name": "LayoutModel",
          "model_module_version": "1.2.0",
          "state": {
            "_view_name": "LayoutView",
            "grid_template_rows": null,
            "right": null,
            "justify_content": null,
            "_view_module": "@jupyter-widgets/base",
            "overflow": null,
            "_model_module_version": "1.2.0",
            "_view_count": null,
            "flex_flow": null,
            "width": null,
            "min_width": null,
            "border": null,
            "align_items": null,
            "bottom": null,
            "_model_module": "@jupyter-widgets/base",
            "top": null,
            "grid_column": null,
            "overflow_y": null,
            "overflow_x": null,
            "grid_auto_flow": null,
            "grid_area": null,
            "grid_template_columns": null,
            "flex": null,
            "_model_name": "LayoutModel",
            "justify_items": null,
            "grid_row": null,
            "max_height": null,
            "align_content": null,
            "visibility": null,
            "align_self": null,
            "height": null,
            "min_height": null,
            "padding": null,
            "grid_auto_rows": null,
            "grid_gap": null,
            "max_width": null,
            "order": null,
            "_view_module_version": "1.2.0",
            "grid_template_areas": null,
            "object_position": null,
            "object_fit": null,
            "grid_auto_columns": null,
            "margin": null,
            "display": null,
            "left": null
          }
        },
        "4cddcdcedf334d8b8c71bfabb0e927a6": {
          "model_module": "@jupyter-widgets/base",
          "model_name": "LayoutModel",
          "model_module_version": "1.2.0",
          "state": {
            "_view_name": "LayoutView",
            "grid_template_rows": null,
            "right": null,
            "justify_content": null,
            "_view_module": "@jupyter-widgets/base",
            "overflow": null,
            "_model_module_version": "1.2.0",
            "_view_count": null,
            "flex_flow": null,
            "width": null,
            "min_width": null,
            "border": null,
            "align_items": null,
            "bottom": null,
            "_model_module": "@jupyter-widgets/base",
            "top": null,
            "grid_column": null,
            "overflow_y": null,
            "overflow_x": null,
            "grid_auto_flow": null,
            "grid_area": null,
            "grid_template_columns": null,
            "flex": null,
            "_model_name": "LayoutModel",
            "justify_items": null,
            "grid_row": null,
            "max_height": null,
            "align_content": null,
            "visibility": null,
            "align_self": null,
            "height": null,
            "min_height": null,
            "padding": null,
            "grid_auto_rows": null,
            "grid_gap": null,
            "max_width": null,
            "order": null,
            "_view_module_version": "1.2.0",
            "grid_template_areas": null,
            "object_position": null,
            "object_fit": null,
            "grid_auto_columns": null,
            "margin": null,
            "display": null,
            "left": null
          }
        },
        "35a8244c9710474bbade5dfa3b6af728": {
          "model_module": "@jupyter-widgets/controls",
          "model_name": "HBoxModel",
          "model_module_version": "1.5.0",
          "state": {
            "_view_name": "HBoxView",
            "_dom_classes": [],
            "_model_name": "HBoxModel",
            "_view_module": "@jupyter-widgets/controls",
            "_model_module_version": "1.5.0",
            "_view_count": null,
            "_view_module_version": "1.5.0",
            "box_style": "",
            "layout": "IPY_MODEL_967002e179ab4c5cb50f00209e392e4e",
            "_model_module": "@jupyter-widgets/controls",
            "children": [
              "IPY_MODEL_50572da441d0429496fc9f035baad18e",
              "IPY_MODEL_06133f38b167475eb0b6d10953100523",
              "IPY_MODEL_4b38dca1b2874039afcb80fbb7a6fe56"
            ]
          }
        },
        "967002e179ab4c5cb50f00209e392e4e": {
          "model_module": "@jupyter-widgets/base",
          "model_name": "LayoutModel",
          "model_module_version": "1.2.0",
          "state": {
            "_view_name": "LayoutView",
            "grid_template_rows": null,
            "right": null,
            "justify_content": null,
            "_view_module": "@jupyter-widgets/base",
            "overflow": null,
            "_model_module_version": "1.2.0",
            "_view_count": null,
            "flex_flow": null,
            "width": null,
            "min_width": null,
            "border": null,
            "align_items": null,
            "bottom": null,
            "_model_module": "@jupyter-widgets/base",
            "top": null,
            "grid_column": null,
            "overflow_y": null,
            "overflow_x": null,
            "grid_auto_flow": null,
            "grid_area": null,
            "grid_template_columns": null,
            "flex": null,
            "_model_name": "LayoutModel",
            "justify_items": null,
            "grid_row": null,
            "max_height": null,
            "align_content": null,
            "visibility": null,
            "align_self": null,
            "height": null,
            "min_height": null,
            "padding": null,
            "grid_auto_rows": null,
            "grid_gap": null,
            "max_width": null,
            "order": null,
            "_view_module_version": "1.2.0",
            "grid_template_areas": null,
            "object_position": null,
            "object_fit": null,
            "grid_auto_columns": null,
            "margin": null,
            "display": null,
            "left": null
          }
        },
        "50572da441d0429496fc9f035baad18e": {
          "model_module": "@jupyter-widgets/controls",
          "model_name": "HTMLModel",
          "model_module_version": "1.5.0",
          "state": {
            "_view_name": "HTMLView",
            "style": "IPY_MODEL_579702f74a36425bb4b33dd1fdb7b049",
            "_dom_classes": [],
            "description": "",
            "_model_name": "HTMLModel",
            "placeholder": "​",
            "_view_module": "@jupyter-widgets/controls",
            "_model_module_version": "1.5.0",
            "value": "100%",
            "_view_count": null,
            "_view_module_version": "1.5.0",
            "description_tooltip": null,
            "_model_module": "@jupyter-widgets/controls",
            "layout": "IPY_MODEL_764e4222e74f466ba7e22d390dff37d0"
          }
        },
        "06133f38b167475eb0b6d10953100523": {
          "model_module": "@jupyter-widgets/controls",
          "model_name": "FloatProgressModel",
          "model_module_version": "1.5.0",
          "state": {
            "_view_name": "ProgressView",
            "style": "IPY_MODEL_a2c90ba5c5174742a506b904658c56ab",
            "_dom_classes": [],
            "description": "",
            "_model_name": "FloatProgressModel",
            "bar_style": "success",
            "max": 10000,
            "_view_module": "@jupyter-widgets/controls",
            "_model_module_version": "1.5.0",
            "value": 10000,
            "_view_count": null,
            "_view_module_version": "1.5.0",
            "orientation": "horizontal",
            "min": 0,
            "description_tooltip": null,
            "_model_module": "@jupyter-widgets/controls",
            "layout": "IPY_MODEL_7d8ff25a299b446690580ab218bb0f95"
          }
        },
        "4b38dca1b2874039afcb80fbb7a6fe56": {
          "model_module": "@jupyter-widgets/controls",
          "model_name": "HTMLModel",
          "model_module_version": "1.5.0",
          "state": {
            "_view_name": "HTMLView",
            "style": "IPY_MODEL_4fd24e17071e40ada0afbaa0979458f0",
            "_dom_classes": [],
            "description": "",
            "_model_name": "HTMLModel",
            "placeholder": "​",
            "_view_module": "@jupyter-widgets/controls",
            "_model_module_version": "1.5.0",
            "value": " 10000/10000 [06:10&lt;00:00, 27.64it/s]",
            "_view_count": null,
            "_view_module_version": "1.5.0",
            "description_tooltip": null,
            "_model_module": "@jupyter-widgets/controls",
            "layout": "IPY_MODEL_971dfa59b73442ac87d8a9863da25ecf"
          }
        },
        "579702f74a36425bb4b33dd1fdb7b049": {
          "model_module": "@jupyter-widgets/controls",
          "model_name": "DescriptionStyleModel",
          "model_module_version": "1.5.0",
          "state": {
            "_view_name": "StyleView",
            "_model_name": "DescriptionStyleModel",
            "description_width": "",
            "_view_module": "@jupyter-widgets/base",
            "_model_module_version": "1.5.0",
            "_view_count": null,
            "_view_module_version": "1.2.0",
            "_model_module": "@jupyter-widgets/controls"
          }
        },
        "764e4222e74f466ba7e22d390dff37d0": {
          "model_module": "@jupyter-widgets/base",
          "model_name": "LayoutModel",
          "model_module_version": "1.2.0",
          "state": {
            "_view_name": "LayoutView",
            "grid_template_rows": null,
            "right": null,
            "justify_content": null,
            "_view_module": "@jupyter-widgets/base",
            "overflow": null,
            "_model_module_version": "1.2.0",
            "_view_count": null,
            "flex_flow": null,
            "width": null,
            "min_width": null,
            "border": null,
            "align_items": null,
            "bottom": null,
            "_model_module": "@jupyter-widgets/base",
            "top": null,
            "grid_column": null,
            "overflow_y": null,
            "overflow_x": null,
            "grid_auto_flow": null,
            "grid_area": null,
            "grid_template_columns": null,
            "flex": null,
            "_model_name": "LayoutModel",
            "justify_items": null,
            "grid_row": null,
            "max_height": null,
            "align_content": null,
            "visibility": null,
            "align_self": null,
            "height": null,
            "min_height": null,
            "padding": null,
            "grid_auto_rows": null,
            "grid_gap": null,
            "max_width": null,
            "order": null,
            "_view_module_version": "1.2.0",
            "grid_template_areas": null,
            "object_position": null,
            "object_fit": null,
            "grid_auto_columns": null,
            "margin": null,
            "display": null,
            "left": null
          }
        },
        "a2c90ba5c5174742a506b904658c56ab": {
          "model_module": "@jupyter-widgets/controls",
          "model_name": "ProgressStyleModel",
          "model_module_version": "1.5.0",
          "state": {
            "_view_name": "StyleView",
            "_model_name": "ProgressStyleModel",
            "description_width": "",
            "_view_module": "@jupyter-widgets/base",
            "_model_module_version": "1.5.0",
            "_view_count": null,
            "_view_module_version": "1.2.0",
            "bar_color": null,
            "_model_module": "@jupyter-widgets/controls"
          }
        },
        "7d8ff25a299b446690580ab218bb0f95": {
          "model_module": "@jupyter-widgets/base",
          "model_name": "LayoutModel",
          "model_module_version": "1.2.0",
          "state": {
            "_view_name": "LayoutView",
            "grid_template_rows": null,
            "right": null,
            "justify_content": null,
            "_view_module": "@jupyter-widgets/base",
            "overflow": null,
            "_model_module_version": "1.2.0",
            "_view_count": null,
            "flex_flow": null,
            "width": null,
            "min_width": null,
            "border": null,
            "align_items": null,
            "bottom": null,
            "_model_module": "@jupyter-widgets/base",
            "top": null,
            "grid_column": null,
            "overflow_y": null,
            "overflow_x": null,
            "grid_auto_flow": null,
            "grid_area": null,
            "grid_template_columns": null,
            "flex": null,
            "_model_name": "LayoutModel",
            "justify_items": null,
            "grid_row": null,
            "max_height": null,
            "align_content": null,
            "visibility": null,
            "align_self": null,
            "height": null,
            "min_height": null,
            "padding": null,
            "grid_auto_rows": null,
            "grid_gap": null,
            "max_width": null,
            "order": null,
            "_view_module_version": "1.2.0",
            "grid_template_areas": null,
            "object_position": null,
            "object_fit": null,
            "grid_auto_columns": null,
            "margin": null,
            "display": null,
            "left": null
          }
        },
        "4fd24e17071e40ada0afbaa0979458f0": {
          "model_module": "@jupyter-widgets/controls",
          "model_name": "DescriptionStyleModel",
          "model_module_version": "1.5.0",
          "state": {
            "_view_name": "StyleView",
            "_model_name": "DescriptionStyleModel",
            "description_width": "",
            "_view_module": "@jupyter-widgets/base",
            "_model_module_version": "1.5.0",
            "_view_count": null,
            "_view_module_version": "1.2.0",
            "_model_module": "@jupyter-widgets/controls"
          }
        },
        "971dfa59b73442ac87d8a9863da25ecf": {
          "model_module": "@jupyter-widgets/base",
          "model_name": "LayoutModel",
          "model_module_version": "1.2.0",
          "state": {
            "_view_name": "LayoutView",
            "grid_template_rows": null,
            "right": null,
            "justify_content": null,
            "_view_module": "@jupyter-widgets/base",
            "overflow": null,
            "_model_module_version": "1.2.0",
            "_view_count": null,
            "flex_flow": null,
            "width": null,
            "min_width": null,
            "border": null,
            "align_items": null,
            "bottom": null,
            "_model_module": "@jupyter-widgets/base",
            "top": null,
            "grid_column": null,
            "overflow_y": null,
            "overflow_x": null,
            "grid_auto_flow": null,
            "grid_area": null,
            "grid_template_columns": null,
            "flex": null,
            "_model_name": "LayoutModel",
            "justify_items": null,
            "grid_row": null,
            "max_height": null,
            "align_content": null,
            "visibility": null,
            "align_self": null,
            "height": null,
            "min_height": null,
            "padding": null,
            "grid_auto_rows": null,
            "grid_gap": null,
            "max_width": null,
            "order": null,
            "_view_module_version": "1.2.0",
            "grid_template_areas": null,
            "object_position": null,
            "object_fit": null,
            "grid_auto_columns": null,
            "margin": null,
            "display": null,
            "left": null
          }
        },
        "13a9b5dc8234496ebfd6b8fa37fc474c": {
          "model_module": "@jupyter-widgets/controls",
          "model_name": "HBoxModel",
          "model_module_version": "1.5.0",
          "state": {
            "_view_name": "HBoxView",
            "_dom_classes": [],
            "_model_name": "HBoxModel",
            "_view_module": "@jupyter-widgets/controls",
            "_model_module_version": "1.5.0",
            "_view_count": null,
            "_view_module_version": "1.5.0",
            "box_style": "",
            "layout": "IPY_MODEL_35156f060fb34feda859e0597f687dc3",
            "_model_module": "@jupyter-widgets/controls",
            "children": [
              "IPY_MODEL_1edbbb28d5ae41bf81130369339da9f2",
              "IPY_MODEL_045b57e3dd414f72b1c09f635ae8cefd",
              "IPY_MODEL_4b774ac7226b47279ad560d39cc073ee"
            ]
          }
        },
        "35156f060fb34feda859e0597f687dc3": {
          "model_module": "@jupyter-widgets/base",
          "model_name": "LayoutModel",
          "model_module_version": "1.2.0",
          "state": {
            "_view_name": "LayoutView",
            "grid_template_rows": null,
            "right": null,
            "justify_content": null,
            "_view_module": "@jupyter-widgets/base",
            "overflow": null,
            "_model_module_version": "1.2.0",
            "_view_count": null,
            "flex_flow": null,
            "width": null,
            "min_width": null,
            "border": null,
            "align_items": null,
            "bottom": null,
            "_model_module": "@jupyter-widgets/base",
            "top": null,
            "grid_column": null,
            "overflow_y": null,
            "overflow_x": null,
            "grid_auto_flow": null,
            "grid_area": null,
            "grid_template_columns": null,
            "flex": null,
            "_model_name": "LayoutModel",
            "justify_items": null,
            "grid_row": null,
            "max_height": null,
            "align_content": null,
            "visibility": null,
            "align_self": null,
            "height": null,
            "min_height": null,
            "padding": null,
            "grid_auto_rows": null,
            "grid_gap": null,
            "max_width": null,
            "order": null,
            "_view_module_version": "1.2.0",
            "grid_template_areas": null,
            "object_position": null,
            "object_fit": null,
            "grid_auto_columns": null,
            "margin": null,
            "display": null,
            "left": null
          }
        },
        "1edbbb28d5ae41bf81130369339da9f2": {
          "model_module": "@jupyter-widgets/controls",
          "model_name": "HTMLModel",
          "model_module_version": "1.5.0",
          "state": {
            "_view_name": "HTMLView",
            "style": "IPY_MODEL_b76d83276a864677843e9c6639e80cc8",
            "_dom_classes": [],
            "description": "",
            "_model_name": "HTMLModel",
            "placeholder": "​",
            "_view_module": "@jupyter-widgets/controls",
            "_model_module_version": "1.5.0",
            "value": "100%",
            "_view_count": null,
            "_view_module_version": "1.5.0",
            "description_tooltip": null,
            "_model_module": "@jupyter-widgets/controls",
            "layout": "IPY_MODEL_ce5f6ca12cba47409a4203e8ebc74740"
          }
        },
        "045b57e3dd414f72b1c09f635ae8cefd": {
          "model_module": "@jupyter-widgets/controls",
          "model_name": "FloatProgressModel",
          "model_module_version": "1.5.0",
          "state": {
            "_view_name": "ProgressView",
            "style": "IPY_MODEL_2a74eab699f6458ea577a3009032283a",
            "_dom_classes": [],
            "description": "",
            "_model_name": "FloatProgressModel",
            "bar_style": "success",
            "max": 10000,
            "_view_module": "@jupyter-widgets/controls",
            "_model_module_version": "1.5.0",
            "value": 10000,
            "_view_count": null,
            "_view_module_version": "1.5.0",
            "orientation": "horizontal",
            "min": 0,
            "description_tooltip": null,
            "_model_module": "@jupyter-widgets/controls",
            "layout": "IPY_MODEL_928fe783f7cd444ea2b40d3826275841"
          }
        },
        "4b774ac7226b47279ad560d39cc073ee": {
          "model_module": "@jupyter-widgets/controls",
          "model_name": "HTMLModel",
          "model_module_version": "1.5.0",
          "state": {
            "_view_name": "HTMLView",
            "style": "IPY_MODEL_3f5f26004a454758b4dd814a66b238a5",
            "_dom_classes": [],
            "description": "",
            "_model_name": "HTMLModel",
            "placeholder": "​",
            "_view_module": "@jupyter-widgets/controls",
            "_model_module_version": "1.5.0",
            "value": " 10000/10000 [09:49&lt;00:00, 17.10it/s]",
            "_view_count": null,
            "_view_module_version": "1.5.0",
            "description_tooltip": null,
            "_model_module": "@jupyter-widgets/controls",
            "layout": "IPY_MODEL_d2dfe054c43f4e3ba264eee8d02cf8d3"
          }
        },
        "b76d83276a864677843e9c6639e80cc8": {
          "model_module": "@jupyter-widgets/controls",
          "model_name": "DescriptionStyleModel",
          "model_module_version": "1.5.0",
          "state": {
            "_view_name": "StyleView",
            "_model_name": "DescriptionStyleModel",
            "description_width": "",
            "_view_module": "@jupyter-widgets/base",
            "_model_module_version": "1.5.0",
            "_view_count": null,
            "_view_module_version": "1.2.0",
            "_model_module": "@jupyter-widgets/controls"
          }
        },
        "ce5f6ca12cba47409a4203e8ebc74740": {
          "model_module": "@jupyter-widgets/base",
          "model_name": "LayoutModel",
          "model_module_version": "1.2.0",
          "state": {
            "_view_name": "LayoutView",
            "grid_template_rows": null,
            "right": null,
            "justify_content": null,
            "_view_module": "@jupyter-widgets/base",
            "overflow": null,
            "_model_module_version": "1.2.0",
            "_view_count": null,
            "flex_flow": null,
            "width": null,
            "min_width": null,
            "border": null,
            "align_items": null,
            "bottom": null,
            "_model_module": "@jupyter-widgets/base",
            "top": null,
            "grid_column": null,
            "overflow_y": null,
            "overflow_x": null,
            "grid_auto_flow": null,
            "grid_area": null,
            "grid_template_columns": null,
            "flex": null,
            "_model_name": "LayoutModel",
            "justify_items": null,
            "grid_row": null,
            "max_height": null,
            "align_content": null,
            "visibility": null,
            "align_self": null,
            "height": null,
            "min_height": null,
            "padding": null,
            "grid_auto_rows": null,
            "grid_gap": null,
            "max_width": null,
            "order": null,
            "_view_module_version": "1.2.0",
            "grid_template_areas": null,
            "object_position": null,
            "object_fit": null,
            "grid_auto_columns": null,
            "margin": null,
            "display": null,
            "left": null
          }
        },
        "2a74eab699f6458ea577a3009032283a": {
          "model_module": "@jupyter-widgets/controls",
          "model_name": "ProgressStyleModel",
          "model_module_version": "1.5.0",
          "state": {
            "_view_name": "StyleView",
            "_model_name": "ProgressStyleModel",
            "description_width": "",
            "_view_module": "@jupyter-widgets/base",
            "_model_module_version": "1.5.0",
            "_view_count": null,
            "_view_module_version": "1.2.0",
            "bar_color": null,
            "_model_module": "@jupyter-widgets/controls"
          }
        },
        "928fe783f7cd444ea2b40d3826275841": {
          "model_module": "@jupyter-widgets/base",
          "model_name": "LayoutModel",
          "model_module_version": "1.2.0",
          "state": {
            "_view_name": "LayoutView",
            "grid_template_rows": null,
            "right": null,
            "justify_content": null,
            "_view_module": "@jupyter-widgets/base",
            "overflow": null,
            "_model_module_version": "1.2.0",
            "_view_count": null,
            "flex_flow": null,
            "width": null,
            "min_width": null,
            "border": null,
            "align_items": null,
            "bottom": null,
            "_model_module": "@jupyter-widgets/base",
            "top": null,
            "grid_column": null,
            "overflow_y": null,
            "overflow_x": null,
            "grid_auto_flow": null,
            "grid_area": null,
            "grid_template_columns": null,
            "flex": null,
            "_model_name": "LayoutModel",
            "justify_items": null,
            "grid_row": null,
            "max_height": null,
            "align_content": null,
            "visibility": null,
            "align_self": null,
            "height": null,
            "min_height": null,
            "padding": null,
            "grid_auto_rows": null,
            "grid_gap": null,
            "max_width": null,
            "order": null,
            "_view_module_version": "1.2.0",
            "grid_template_areas": null,
            "object_position": null,
            "object_fit": null,
            "grid_auto_columns": null,
            "margin": null,
            "display": null,
            "left": null
          }
        },
        "3f5f26004a454758b4dd814a66b238a5": {
          "model_module": "@jupyter-widgets/controls",
          "model_name": "DescriptionStyleModel",
          "model_module_version": "1.5.0",
          "state": {
            "_view_name": "StyleView",
            "_model_name": "DescriptionStyleModel",
            "description_width": "",
            "_view_module": "@jupyter-widgets/base",
            "_model_module_version": "1.5.0",
            "_view_count": null,
            "_view_module_version": "1.2.0",
            "_model_module": "@jupyter-widgets/controls"
          }
        },
        "d2dfe054c43f4e3ba264eee8d02cf8d3": {
          "model_module": "@jupyter-widgets/base",
          "model_name": "LayoutModel",
          "model_module_version": "1.2.0",
          "state": {
            "_view_name": "LayoutView",
            "grid_template_rows": null,
            "right": null,
            "justify_content": null,
            "_view_module": "@jupyter-widgets/base",
            "overflow": null,
            "_model_module_version": "1.2.0",
            "_view_count": null,
            "flex_flow": null,
            "width": null,
            "min_width": null,
            "border": null,
            "align_items": null,
            "bottom": null,
            "_model_module": "@jupyter-widgets/base",
            "top": null,
            "grid_column": null,
            "overflow_y": null,
            "overflow_x": null,
            "grid_auto_flow": null,
            "grid_area": null,
            "grid_template_columns": null,
            "flex": null,
            "_model_name": "LayoutModel",
            "justify_items": null,
            "grid_row": null,
            "max_height": null,
            "align_content": null,
            "visibility": null,
            "align_self": null,
            "height": null,
            "min_height": null,
            "padding": null,
            "grid_auto_rows": null,
            "grid_gap": null,
            "max_width": null,
            "order": null,
            "_view_module_version": "1.2.0",
            "grid_template_areas": null,
            "object_position": null,
            "object_fit": null,
            "grid_auto_columns": null,
            "margin": null,
            "display": null,
            "left": null
          }
        },
        "305e525ecd114430b8271b619cbfed04": {
          "model_module": "@jupyter-widgets/controls",
          "model_name": "HBoxModel",
          "model_module_version": "1.5.0",
          "state": {
            "_view_name": "HBoxView",
            "_dom_classes": [],
            "_model_name": "HBoxModel",
            "_view_module": "@jupyter-widgets/controls",
            "_model_module_version": "1.5.0",
            "_view_count": null,
            "_view_module_version": "1.5.0",
            "box_style": "",
            "layout": "IPY_MODEL_62997ee527f1452589063091ca173cbb",
            "_model_module": "@jupyter-widgets/controls",
            "children": [
              "IPY_MODEL_c8fe80abfd91460b986464de6cb27b40",
              "IPY_MODEL_94f4831f9cec4ce886f520c599735faf",
              "IPY_MODEL_4c3466dd14934f20bc4648099dc883cf"
            ]
          }
        },
        "62997ee527f1452589063091ca173cbb": {
          "model_module": "@jupyter-widgets/base",
          "model_name": "LayoutModel",
          "model_module_version": "1.2.0",
          "state": {
            "_view_name": "LayoutView",
            "grid_template_rows": null,
            "right": null,
            "justify_content": null,
            "_view_module": "@jupyter-widgets/base",
            "overflow": null,
            "_model_module_version": "1.2.0",
            "_view_count": null,
            "flex_flow": null,
            "width": null,
            "min_width": null,
            "border": null,
            "align_items": null,
            "bottom": null,
            "_model_module": "@jupyter-widgets/base",
            "top": null,
            "grid_column": null,
            "overflow_y": null,
            "overflow_x": null,
            "grid_auto_flow": null,
            "grid_area": null,
            "grid_template_columns": null,
            "flex": null,
            "_model_name": "LayoutModel",
            "justify_items": null,
            "grid_row": null,
            "max_height": null,
            "align_content": null,
            "visibility": null,
            "align_self": null,
            "height": null,
            "min_height": null,
            "padding": null,
            "grid_auto_rows": null,
            "grid_gap": null,
            "max_width": null,
            "order": null,
            "_view_module_version": "1.2.0",
            "grid_template_areas": null,
            "object_position": null,
            "object_fit": null,
            "grid_auto_columns": null,
            "margin": null,
            "display": null,
            "left": null
          }
        },
        "c8fe80abfd91460b986464de6cb27b40": {
          "model_module": "@jupyter-widgets/controls",
          "model_name": "HTMLModel",
          "model_module_version": "1.5.0",
          "state": {
            "_view_name": "HTMLView",
            "style": "IPY_MODEL_dbd67db146a84223b52dea6d1f1c3060",
            "_dom_classes": [],
            "description": "",
            "_model_name": "HTMLModel",
            "placeholder": "​",
            "_view_module": "@jupyter-widgets/controls",
            "_model_module_version": "1.5.0",
            "value": "100%",
            "_view_count": null,
            "_view_module_version": "1.5.0",
            "description_tooltip": null,
            "_model_module": "@jupyter-widgets/controls",
            "layout": "IPY_MODEL_c5d29d2371a54b439c5f791f0de09606"
          }
        },
        "94f4831f9cec4ce886f520c599735faf": {
          "model_module": "@jupyter-widgets/controls",
          "model_name": "FloatProgressModel",
          "model_module_version": "1.5.0",
          "state": {
            "_view_name": "ProgressView",
            "style": "IPY_MODEL_8ec34aeea05b471b8126cee4f8f9bc2a",
            "_dom_classes": [],
            "description": "",
            "_model_name": "FloatProgressModel",
            "bar_style": "success",
            "max": 10000,
            "_view_module": "@jupyter-widgets/controls",
            "_model_module_version": "1.5.0",
            "value": 10000,
            "_view_count": null,
            "_view_module_version": "1.5.0",
            "orientation": "horizontal",
            "min": 0,
            "description_tooltip": null,
            "_model_module": "@jupyter-widgets/controls",
            "layout": "IPY_MODEL_96f52926b4f748d980f10e43ab58c5ea"
          }
        },
        "4c3466dd14934f20bc4648099dc883cf": {
          "model_module": "@jupyter-widgets/controls",
          "model_name": "HTMLModel",
          "model_module_version": "1.5.0",
          "state": {
            "_view_name": "HTMLView",
            "style": "IPY_MODEL_a1ee463ba5d046b68331900f2be91424",
            "_dom_classes": [],
            "description": "",
            "_model_name": "HTMLModel",
            "placeholder": "​",
            "_view_module": "@jupyter-widgets/controls",
            "_model_module_version": "1.5.0",
            "value": " 10000/10000 [05:21&lt;00:00, 31.76it/s]",
            "_view_count": null,
            "_view_module_version": "1.5.0",
            "description_tooltip": null,
            "_model_module": "@jupyter-widgets/controls",
            "layout": "IPY_MODEL_bcfe99c667b24cc19f7f265077a5f3ca"
          }
        },
        "dbd67db146a84223b52dea6d1f1c3060": {
          "model_module": "@jupyter-widgets/controls",
          "model_name": "DescriptionStyleModel",
          "model_module_version": "1.5.0",
          "state": {
            "_view_name": "StyleView",
            "_model_name": "DescriptionStyleModel",
            "description_width": "",
            "_view_module": "@jupyter-widgets/base",
            "_model_module_version": "1.5.0",
            "_view_count": null,
            "_view_module_version": "1.2.0",
            "_model_module": "@jupyter-widgets/controls"
          }
        },
        "c5d29d2371a54b439c5f791f0de09606": {
          "model_module": "@jupyter-widgets/base",
          "model_name": "LayoutModel",
          "model_module_version": "1.2.0",
          "state": {
            "_view_name": "LayoutView",
            "grid_template_rows": null,
            "right": null,
            "justify_content": null,
            "_view_module": "@jupyter-widgets/base",
            "overflow": null,
            "_model_module_version": "1.2.0",
            "_view_count": null,
            "flex_flow": null,
            "width": null,
            "min_width": null,
            "border": null,
            "align_items": null,
            "bottom": null,
            "_model_module": "@jupyter-widgets/base",
            "top": null,
            "grid_column": null,
            "overflow_y": null,
            "overflow_x": null,
            "grid_auto_flow": null,
            "grid_area": null,
            "grid_template_columns": null,
            "flex": null,
            "_model_name": "LayoutModel",
            "justify_items": null,
            "grid_row": null,
            "max_height": null,
            "align_content": null,
            "visibility": null,
            "align_self": null,
            "height": null,
            "min_height": null,
            "padding": null,
            "grid_auto_rows": null,
            "grid_gap": null,
            "max_width": null,
            "order": null,
            "_view_module_version": "1.2.0",
            "grid_template_areas": null,
            "object_position": null,
            "object_fit": null,
            "grid_auto_columns": null,
            "margin": null,
            "display": null,
            "left": null
          }
        },
        "8ec34aeea05b471b8126cee4f8f9bc2a": {
          "model_module": "@jupyter-widgets/controls",
          "model_name": "ProgressStyleModel",
          "model_module_version": "1.5.0",
          "state": {
            "_view_name": "StyleView",
            "_model_name": "ProgressStyleModel",
            "description_width": "",
            "_view_module": "@jupyter-widgets/base",
            "_model_module_version": "1.5.0",
            "_view_count": null,
            "_view_module_version": "1.2.0",
            "bar_color": null,
            "_model_module": "@jupyter-widgets/controls"
          }
        },
        "96f52926b4f748d980f10e43ab58c5ea": {
          "model_module": "@jupyter-widgets/base",
          "model_name": "LayoutModel",
          "model_module_version": "1.2.0",
          "state": {
            "_view_name": "LayoutView",
            "grid_template_rows": null,
            "right": null,
            "justify_content": null,
            "_view_module": "@jupyter-widgets/base",
            "overflow": null,
            "_model_module_version": "1.2.0",
            "_view_count": null,
            "flex_flow": null,
            "width": null,
            "min_width": null,
            "border": null,
            "align_items": null,
            "bottom": null,
            "_model_module": "@jupyter-widgets/base",
            "top": null,
            "grid_column": null,
            "overflow_y": null,
            "overflow_x": null,
            "grid_auto_flow": null,
            "grid_area": null,
            "grid_template_columns": null,
            "flex": null,
            "_model_name": "LayoutModel",
            "justify_items": null,
            "grid_row": null,
            "max_height": null,
            "align_content": null,
            "visibility": null,
            "align_self": null,
            "height": null,
            "min_height": null,
            "padding": null,
            "grid_auto_rows": null,
            "grid_gap": null,
            "max_width": null,
            "order": null,
            "_view_module_version": "1.2.0",
            "grid_template_areas": null,
            "object_position": null,
            "object_fit": null,
            "grid_auto_columns": null,
            "margin": null,
            "display": null,
            "left": null
          }
        },
        "a1ee463ba5d046b68331900f2be91424": {
          "model_module": "@jupyter-widgets/controls",
          "model_name": "DescriptionStyleModel",
          "model_module_version": "1.5.0",
          "state": {
            "_view_name": "StyleView",
            "_model_name": "DescriptionStyleModel",
            "description_width": "",
            "_view_module": "@jupyter-widgets/base",
            "_model_module_version": "1.5.0",
            "_view_count": null,
            "_view_module_version": "1.2.0",
            "_model_module": "@jupyter-widgets/controls"
          }
        },
        "bcfe99c667b24cc19f7f265077a5f3ca": {
          "model_module": "@jupyter-widgets/base",
          "model_name": "LayoutModel",
          "model_module_version": "1.2.0",
          "state": {
            "_view_name": "LayoutView",
            "grid_template_rows": null,
            "right": null,
            "justify_content": null,
            "_view_module": "@jupyter-widgets/base",
            "overflow": null,
            "_model_module_version": "1.2.0",
            "_view_count": null,
            "flex_flow": null,
            "width": null,
            "min_width": null,
            "border": null,
            "align_items": null,
            "bottom": null,
            "_model_module": "@jupyter-widgets/base",
            "top": null,
            "grid_column": null,
            "overflow_y": null,
            "overflow_x": null,
            "grid_auto_flow": null,
            "grid_area": null,
            "grid_template_columns": null,
            "flex": null,
            "_model_name": "LayoutModel",
            "justify_items": null,
            "grid_row": null,
            "max_height": null,
            "align_content": null,
            "visibility": null,
            "align_self": null,
            "height": null,
            "min_height": null,
            "padding": null,
            "grid_auto_rows": null,
            "grid_gap": null,
            "max_width": null,
            "order": null,
            "_view_module_version": "1.2.0",
            "grid_template_areas": null,
            "object_position": null,
            "object_fit": null,
            "grid_auto_columns": null,
            "margin": null,
            "display": null,
            "left": null
          }
        },
        "fc94df55fdbd4b6d87d59cb0a56ed580": {
          "model_module": "@jupyter-widgets/controls",
          "model_name": "HBoxModel",
          "model_module_version": "1.5.0",
          "state": {
            "_view_name": "HBoxView",
            "_dom_classes": [],
            "_model_name": "HBoxModel",
            "_view_module": "@jupyter-widgets/controls",
            "_model_module_version": "1.5.0",
            "_view_count": null,
            "_view_module_version": "1.5.0",
            "box_style": "",
            "layout": "IPY_MODEL_602cc51ead724628aaacda0d518e45f4",
            "_model_module": "@jupyter-widgets/controls",
            "children": [
              "IPY_MODEL_cd6211f6477446f1ac162b0350bf9f8a",
              "IPY_MODEL_ba64f839c2a640c9a8f7444fed126b2e",
              "IPY_MODEL_30074864b7774f108aea8dc9bb736733"
            ]
          }
        },
        "602cc51ead724628aaacda0d518e45f4": {
          "model_module": "@jupyter-widgets/base",
          "model_name": "LayoutModel",
          "model_module_version": "1.2.0",
          "state": {
            "_view_name": "LayoutView",
            "grid_template_rows": null,
            "right": null,
            "justify_content": null,
            "_view_module": "@jupyter-widgets/base",
            "overflow": null,
            "_model_module_version": "1.2.0",
            "_view_count": null,
            "flex_flow": null,
            "width": null,
            "min_width": null,
            "border": null,
            "align_items": null,
            "bottom": null,
            "_model_module": "@jupyter-widgets/base",
            "top": null,
            "grid_column": null,
            "overflow_y": null,
            "overflow_x": null,
            "grid_auto_flow": null,
            "grid_area": null,
            "grid_template_columns": null,
            "flex": null,
            "_model_name": "LayoutModel",
            "justify_items": null,
            "grid_row": null,
            "max_height": null,
            "align_content": null,
            "visibility": null,
            "align_self": null,
            "height": null,
            "min_height": null,
            "padding": null,
            "grid_auto_rows": null,
            "grid_gap": null,
            "max_width": null,
            "order": null,
            "_view_module_version": "1.2.0",
            "grid_template_areas": null,
            "object_position": null,
            "object_fit": null,
            "grid_auto_columns": null,
            "margin": null,
            "display": null,
            "left": null
          }
        },
        "cd6211f6477446f1ac162b0350bf9f8a": {
          "model_module": "@jupyter-widgets/controls",
          "model_name": "HTMLModel",
          "model_module_version": "1.5.0",
          "state": {
            "_view_name": "HTMLView",
            "style": "IPY_MODEL_256077e54e174131b3a463d6df4c25b8",
            "_dom_classes": [],
            "description": "",
            "_model_name": "HTMLModel",
            "placeholder": "​",
            "_view_module": "@jupyter-widgets/controls",
            "_model_module_version": "1.5.0",
            "value": "100%",
            "_view_count": null,
            "_view_module_version": "1.5.0",
            "description_tooltip": null,
            "_model_module": "@jupyter-widgets/controls",
            "layout": "IPY_MODEL_b31f713bf5964d54b70febfe99fc936d"
          }
        },
        "ba64f839c2a640c9a8f7444fed126b2e": {
          "model_module": "@jupyter-widgets/controls",
          "model_name": "FloatProgressModel",
          "model_module_version": "1.5.0",
          "state": {
            "_view_name": "ProgressView",
            "style": "IPY_MODEL_c9ed06aeed174823907982dbfdfb3e36",
            "_dom_classes": [],
            "description": "",
            "_model_name": "FloatProgressModel",
            "bar_style": "success",
            "max": 10000,
            "_view_module": "@jupyter-widgets/controls",
            "_model_module_version": "1.5.0",
            "value": 10000,
            "_view_count": null,
            "_view_module_version": "1.5.0",
            "orientation": "horizontal",
            "min": 0,
            "description_tooltip": null,
            "_model_module": "@jupyter-widgets/controls",
            "layout": "IPY_MODEL_c3958327dd5d4ebeb6609ed55b51f9e7"
          }
        },
        "30074864b7774f108aea8dc9bb736733": {
          "model_module": "@jupyter-widgets/controls",
          "model_name": "HTMLModel",
          "model_module_version": "1.5.0",
          "state": {
            "_view_name": "HTMLView",
            "style": "IPY_MODEL_705d1ee1c5cf4730b4a9521b2a151794",
            "_dom_classes": [],
            "description": "",
            "_model_name": "HTMLModel",
            "placeholder": "​",
            "_view_module": "@jupyter-widgets/controls",
            "_model_module_version": "1.5.0",
            "value": " 10000/10000 [05:04&lt;00:00, 33.49it/s]",
            "_view_count": null,
            "_view_module_version": "1.5.0",
            "description_tooltip": null,
            "_model_module": "@jupyter-widgets/controls",
            "layout": "IPY_MODEL_fce0222ec5d44b79878ac50f449cda38"
          }
        },
        "256077e54e174131b3a463d6df4c25b8": {
          "model_module": "@jupyter-widgets/controls",
          "model_name": "DescriptionStyleModel",
          "model_module_version": "1.5.0",
          "state": {
            "_view_name": "StyleView",
            "_model_name": "DescriptionStyleModel",
            "description_width": "",
            "_view_module": "@jupyter-widgets/base",
            "_model_module_version": "1.5.0",
            "_view_count": null,
            "_view_module_version": "1.2.0",
            "_model_module": "@jupyter-widgets/controls"
          }
        },
        "b31f713bf5964d54b70febfe99fc936d": {
          "model_module": "@jupyter-widgets/base",
          "model_name": "LayoutModel",
          "model_module_version": "1.2.0",
          "state": {
            "_view_name": "LayoutView",
            "grid_template_rows": null,
            "right": null,
            "justify_content": null,
            "_view_module": "@jupyter-widgets/base",
            "overflow": null,
            "_model_module_version": "1.2.0",
            "_view_count": null,
            "flex_flow": null,
            "width": null,
            "min_width": null,
            "border": null,
            "align_items": null,
            "bottom": null,
            "_model_module": "@jupyter-widgets/base",
            "top": null,
            "grid_column": null,
            "overflow_y": null,
            "overflow_x": null,
            "grid_auto_flow": null,
            "grid_area": null,
            "grid_template_columns": null,
            "flex": null,
            "_model_name": "LayoutModel",
            "justify_items": null,
            "grid_row": null,
            "max_height": null,
            "align_content": null,
            "visibility": null,
            "align_self": null,
            "height": null,
            "min_height": null,
            "padding": null,
            "grid_auto_rows": null,
            "grid_gap": null,
            "max_width": null,
            "order": null,
            "_view_module_version": "1.2.0",
            "grid_template_areas": null,
            "object_position": null,
            "object_fit": null,
            "grid_auto_columns": null,
            "margin": null,
            "display": null,
            "left": null
          }
        },
        "c9ed06aeed174823907982dbfdfb3e36": {
          "model_module": "@jupyter-widgets/controls",
          "model_name": "ProgressStyleModel",
          "model_module_version": "1.5.0",
          "state": {
            "_view_name": "StyleView",
            "_model_name": "ProgressStyleModel",
            "description_width": "",
            "_view_module": "@jupyter-widgets/base",
            "_model_module_version": "1.5.0",
            "_view_count": null,
            "_view_module_version": "1.2.0",
            "bar_color": null,
            "_model_module": "@jupyter-widgets/controls"
          }
        },
        "c3958327dd5d4ebeb6609ed55b51f9e7": {
          "model_module": "@jupyter-widgets/base",
          "model_name": "LayoutModel",
          "model_module_version": "1.2.0",
          "state": {
            "_view_name": "LayoutView",
            "grid_template_rows": null,
            "right": null,
            "justify_content": null,
            "_view_module": "@jupyter-widgets/base",
            "overflow": null,
            "_model_module_version": "1.2.0",
            "_view_count": null,
            "flex_flow": null,
            "width": null,
            "min_width": null,
            "border": null,
            "align_items": null,
            "bottom": null,
            "_model_module": "@jupyter-widgets/base",
            "top": null,
            "grid_column": null,
            "overflow_y": null,
            "overflow_x": null,
            "grid_auto_flow": null,
            "grid_area": null,
            "grid_template_columns": null,
            "flex": null,
            "_model_name": "LayoutModel",
            "justify_items": null,
            "grid_row": null,
            "max_height": null,
            "align_content": null,
            "visibility": null,
            "align_self": null,
            "height": null,
            "min_height": null,
            "padding": null,
            "grid_auto_rows": null,
            "grid_gap": null,
            "max_width": null,
            "order": null,
            "_view_module_version": "1.2.0",
            "grid_template_areas": null,
            "object_position": null,
            "object_fit": null,
            "grid_auto_columns": null,
            "margin": null,
            "display": null,
            "left": null
          }
        },
        "705d1ee1c5cf4730b4a9521b2a151794": {
          "model_module": "@jupyter-widgets/controls",
          "model_name": "DescriptionStyleModel",
          "model_module_version": "1.5.0",
          "state": {
            "_view_name": "StyleView",
            "_model_name": "DescriptionStyleModel",
            "description_width": "",
            "_view_module": "@jupyter-widgets/base",
            "_model_module_version": "1.5.0",
            "_view_count": null,
            "_view_module_version": "1.2.0",
            "_model_module": "@jupyter-widgets/controls"
          }
        },
        "fce0222ec5d44b79878ac50f449cda38": {
          "model_module": "@jupyter-widgets/base",
          "model_name": "LayoutModel",
          "model_module_version": "1.2.0",
          "state": {
            "_view_name": "LayoutView",
            "grid_template_rows": null,
            "right": null,
            "justify_content": null,
            "_view_module": "@jupyter-widgets/base",
            "overflow": null,
            "_model_module_version": "1.2.0",
            "_view_count": null,
            "flex_flow": null,
            "width": null,
            "min_width": null,
            "border": null,
            "align_items": null,
            "bottom": null,
            "_model_module": "@jupyter-widgets/base",
            "top": null,
            "grid_column": null,
            "overflow_y": null,
            "overflow_x": null,
            "grid_auto_flow": null,
            "grid_area": null,
            "grid_template_columns": null,
            "flex": null,
            "_model_name": "LayoutModel",
            "justify_items": null,
            "grid_row": null,
            "max_height": null,
            "align_content": null,
            "visibility": null,
            "align_self": null,
            "height": null,
            "min_height": null,
            "padding": null,
            "grid_auto_rows": null,
            "grid_gap": null,
            "max_width": null,
            "order": null,
            "_view_module_version": "1.2.0",
            "grid_template_areas": null,
            "object_position": null,
            "object_fit": null,
            "grid_auto_columns": null,
            "margin": null,
            "display": null,
            "left": null
          }
        },
        "7c3ba9b7c24741aaa9b191b6ef8de4a2": {
          "model_module": "@jupyter-widgets/controls",
          "model_name": "HBoxModel",
          "model_module_version": "1.5.0",
          "state": {
            "_view_name": "HBoxView",
            "_dom_classes": [],
            "_model_name": "HBoxModel",
            "_view_module": "@jupyter-widgets/controls",
            "_model_module_version": "1.5.0",
            "_view_count": null,
            "_view_module_version": "1.5.0",
            "box_style": "",
            "layout": "IPY_MODEL_7c538c852ab34a4a9ec2b23162b13b63",
            "_model_module": "@jupyter-widgets/controls",
            "children": [
              "IPY_MODEL_878503c89ba5462ebfc7150b3a94b0e8",
              "IPY_MODEL_2aa9d4ad003b4707848dd4670b745173",
              "IPY_MODEL_bf13ea1a079c4047a2c4a10a36522252"
            ]
          }
        },
        "7c538c852ab34a4a9ec2b23162b13b63": {
          "model_module": "@jupyter-widgets/base",
          "model_name": "LayoutModel",
          "model_module_version": "1.2.0",
          "state": {
            "_view_name": "LayoutView",
            "grid_template_rows": null,
            "right": null,
            "justify_content": null,
            "_view_module": "@jupyter-widgets/base",
            "overflow": null,
            "_model_module_version": "1.2.0",
            "_view_count": null,
            "flex_flow": null,
            "width": null,
            "min_width": null,
            "border": null,
            "align_items": null,
            "bottom": null,
            "_model_module": "@jupyter-widgets/base",
            "top": null,
            "grid_column": null,
            "overflow_y": null,
            "overflow_x": null,
            "grid_auto_flow": null,
            "grid_area": null,
            "grid_template_columns": null,
            "flex": null,
            "_model_name": "LayoutModel",
            "justify_items": null,
            "grid_row": null,
            "max_height": null,
            "align_content": null,
            "visibility": null,
            "align_self": null,
            "height": null,
            "min_height": null,
            "padding": null,
            "grid_auto_rows": null,
            "grid_gap": null,
            "max_width": null,
            "order": null,
            "_view_module_version": "1.2.0",
            "grid_template_areas": null,
            "object_position": null,
            "object_fit": null,
            "grid_auto_columns": null,
            "margin": null,
            "display": null,
            "left": null
          }
        },
        "878503c89ba5462ebfc7150b3a94b0e8": {
          "model_module": "@jupyter-widgets/controls",
          "model_name": "HTMLModel",
          "model_module_version": "1.5.0",
          "state": {
            "_view_name": "HTMLView",
            "style": "IPY_MODEL_4ce97919493b414c8dc406dee24394bc",
            "_dom_classes": [],
            "description": "",
            "_model_name": "HTMLModel",
            "placeholder": "​",
            "_view_module": "@jupyter-widgets/controls",
            "_model_module_version": "1.5.0",
            "value": "100%",
            "_view_count": null,
            "_view_module_version": "1.5.0",
            "description_tooltip": null,
            "_model_module": "@jupyter-widgets/controls",
            "layout": "IPY_MODEL_8e3f0824855a44a5b4cef2cac5481048"
          }
        },
        "2aa9d4ad003b4707848dd4670b745173": {
          "model_module": "@jupyter-widgets/controls",
          "model_name": "FloatProgressModel",
          "model_module_version": "1.5.0",
          "state": {
            "_view_name": "ProgressView",
            "style": "IPY_MODEL_36e0920712e845ceab9c5fc6bc299f22",
            "_dom_classes": [],
            "description": "",
            "_model_name": "FloatProgressModel",
            "bar_style": "success",
            "max": 10000,
            "_view_module": "@jupyter-widgets/controls",
            "_model_module_version": "1.5.0",
            "value": 10000,
            "_view_count": null,
            "_view_module_version": "1.5.0",
            "orientation": "horizontal",
            "min": 0,
            "description_tooltip": null,
            "_model_module": "@jupyter-widgets/controls",
            "layout": "IPY_MODEL_fec1bac039ff4f08b406218a70cd34ac"
          }
        },
        "bf13ea1a079c4047a2c4a10a36522252": {
          "model_module": "@jupyter-widgets/controls",
          "model_name": "HTMLModel",
          "model_module_version": "1.5.0",
          "state": {
            "_view_name": "HTMLView",
            "style": "IPY_MODEL_48eca0fdf59e4a489bdf260c4e921509",
            "_dom_classes": [],
            "description": "",
            "_model_name": "HTMLModel",
            "placeholder": "​",
            "_view_module": "@jupyter-widgets/controls",
            "_model_module_version": "1.5.0",
            "value": " 10000/10000 [07:14&lt;00:00, 22.83it/s]",
            "_view_count": null,
            "_view_module_version": "1.5.0",
            "description_tooltip": null,
            "_model_module": "@jupyter-widgets/controls",
            "layout": "IPY_MODEL_ab09e98d1ada4c18826a015e514ef06a"
          }
        },
        "4ce97919493b414c8dc406dee24394bc": {
          "model_module": "@jupyter-widgets/controls",
          "model_name": "DescriptionStyleModel",
          "model_module_version": "1.5.0",
          "state": {
            "_view_name": "StyleView",
            "_model_name": "DescriptionStyleModel",
            "description_width": "",
            "_view_module": "@jupyter-widgets/base",
            "_model_module_version": "1.5.0",
            "_view_count": null,
            "_view_module_version": "1.2.0",
            "_model_module": "@jupyter-widgets/controls"
          }
        },
        "8e3f0824855a44a5b4cef2cac5481048": {
          "model_module": "@jupyter-widgets/base",
          "model_name": "LayoutModel",
          "model_module_version": "1.2.0",
          "state": {
            "_view_name": "LayoutView",
            "grid_template_rows": null,
            "right": null,
            "justify_content": null,
            "_view_module": "@jupyter-widgets/base",
            "overflow": null,
            "_model_module_version": "1.2.0",
            "_view_count": null,
            "flex_flow": null,
            "width": null,
            "min_width": null,
            "border": null,
            "align_items": null,
            "bottom": null,
            "_model_module": "@jupyter-widgets/base",
            "top": null,
            "grid_column": null,
            "overflow_y": null,
            "overflow_x": null,
            "grid_auto_flow": null,
            "grid_area": null,
            "grid_template_columns": null,
            "flex": null,
            "_model_name": "LayoutModel",
            "justify_items": null,
            "grid_row": null,
            "max_height": null,
            "align_content": null,
            "visibility": null,
            "align_self": null,
            "height": null,
            "min_height": null,
            "padding": null,
            "grid_auto_rows": null,
            "grid_gap": null,
            "max_width": null,
            "order": null,
            "_view_module_version": "1.2.0",
            "grid_template_areas": null,
            "object_position": null,
            "object_fit": null,
            "grid_auto_columns": null,
            "margin": null,
            "display": null,
            "left": null
          }
        },
        "36e0920712e845ceab9c5fc6bc299f22": {
          "model_module": "@jupyter-widgets/controls",
          "model_name": "ProgressStyleModel",
          "model_module_version": "1.5.0",
          "state": {
            "_view_name": "StyleView",
            "_model_name": "ProgressStyleModel",
            "description_width": "",
            "_view_module": "@jupyter-widgets/base",
            "_model_module_version": "1.5.0",
            "_view_count": null,
            "_view_module_version": "1.2.0",
            "bar_color": null,
            "_model_module": "@jupyter-widgets/controls"
          }
        },
        "fec1bac039ff4f08b406218a70cd34ac": {
          "model_module": "@jupyter-widgets/base",
          "model_name": "LayoutModel",
          "model_module_version": "1.2.0",
          "state": {
            "_view_name": "LayoutView",
            "grid_template_rows": null,
            "right": null,
            "justify_content": null,
            "_view_module": "@jupyter-widgets/base",
            "overflow": null,
            "_model_module_version": "1.2.0",
            "_view_count": null,
            "flex_flow": null,
            "width": null,
            "min_width": null,
            "border": null,
            "align_items": null,
            "bottom": null,
            "_model_module": "@jupyter-widgets/base",
            "top": null,
            "grid_column": null,
            "overflow_y": null,
            "overflow_x": null,
            "grid_auto_flow": null,
            "grid_area": null,
            "grid_template_columns": null,
            "flex": null,
            "_model_name": "LayoutModel",
            "justify_items": null,
            "grid_row": null,
            "max_height": null,
            "align_content": null,
            "visibility": null,
            "align_self": null,
            "height": null,
            "min_height": null,
            "padding": null,
            "grid_auto_rows": null,
            "grid_gap": null,
            "max_width": null,
            "order": null,
            "_view_module_version": "1.2.0",
            "grid_template_areas": null,
            "object_position": null,
            "object_fit": null,
            "grid_auto_columns": null,
            "margin": null,
            "display": null,
            "left": null
          }
        },
        "48eca0fdf59e4a489bdf260c4e921509": {
          "model_module": "@jupyter-widgets/controls",
          "model_name": "DescriptionStyleModel",
          "model_module_version": "1.5.0",
          "state": {
            "_view_name": "StyleView",
            "_model_name": "DescriptionStyleModel",
            "description_width": "",
            "_view_module": "@jupyter-widgets/base",
            "_model_module_version": "1.5.0",
            "_view_count": null,
            "_view_module_version": "1.2.0",
            "_model_module": "@jupyter-widgets/controls"
          }
        },
        "ab09e98d1ada4c18826a015e514ef06a": {
          "model_module": "@jupyter-widgets/base",
          "model_name": "LayoutModel",
          "model_module_version": "1.2.0",
          "state": {
            "_view_name": "LayoutView",
            "grid_template_rows": null,
            "right": null,
            "justify_content": null,
            "_view_module": "@jupyter-widgets/base",
            "overflow": null,
            "_model_module_version": "1.2.0",
            "_view_count": null,
            "flex_flow": null,
            "width": null,
            "min_width": null,
            "border": null,
            "align_items": null,
            "bottom": null,
            "_model_module": "@jupyter-widgets/base",
            "top": null,
            "grid_column": null,
            "overflow_y": null,
            "overflow_x": null,
            "grid_auto_flow": null,
            "grid_area": null,
            "grid_template_columns": null,
            "flex": null,
            "_model_name": "LayoutModel",
            "justify_items": null,
            "grid_row": null,
            "max_height": null,
            "align_content": null,
            "visibility": null,
            "align_self": null,
            "height": null,
            "min_height": null,
            "padding": null,
            "grid_auto_rows": null,
            "grid_gap": null,
            "max_width": null,
            "order": null,
            "_view_module_version": "1.2.0",
            "grid_template_areas": null,
            "object_position": null,
            "object_fit": null,
            "grid_auto_columns": null,
            "margin": null,
            "display": null,
            "left": null
          }
        },
        "a731fc8d9ed94cf6ba30639b53a07bea": {
          "model_module": "@jupyter-widgets/controls",
          "model_name": "HBoxModel",
          "model_module_version": "1.5.0",
          "state": {
            "_view_name": "HBoxView",
            "_dom_classes": [],
            "_model_name": "HBoxModel",
            "_view_module": "@jupyter-widgets/controls",
            "_model_module_version": "1.5.0",
            "_view_count": null,
            "_view_module_version": "1.5.0",
            "box_style": "",
            "layout": "IPY_MODEL_3309216a511c43b19ff0f712ef0a366b",
            "_model_module": "@jupyter-widgets/controls",
            "children": [
              "IPY_MODEL_1249286c7da04ba38ce6884d86af36fc",
              "IPY_MODEL_81ae0c8c44fa49f9b2ce3b86b52f1260",
              "IPY_MODEL_664c171365954a699caefee09d72f197"
            ]
          }
        },
        "3309216a511c43b19ff0f712ef0a366b": {
          "model_module": "@jupyter-widgets/base",
          "model_name": "LayoutModel",
          "model_module_version": "1.2.0",
          "state": {
            "_view_name": "LayoutView",
            "grid_template_rows": null,
            "right": null,
            "justify_content": null,
            "_view_module": "@jupyter-widgets/base",
            "overflow": null,
            "_model_module_version": "1.2.0",
            "_view_count": null,
            "flex_flow": null,
            "width": null,
            "min_width": null,
            "border": null,
            "align_items": null,
            "bottom": null,
            "_model_module": "@jupyter-widgets/base",
            "top": null,
            "grid_column": null,
            "overflow_y": null,
            "overflow_x": null,
            "grid_auto_flow": null,
            "grid_area": null,
            "grid_template_columns": null,
            "flex": null,
            "_model_name": "LayoutModel",
            "justify_items": null,
            "grid_row": null,
            "max_height": null,
            "align_content": null,
            "visibility": null,
            "align_self": null,
            "height": null,
            "min_height": null,
            "padding": null,
            "grid_auto_rows": null,
            "grid_gap": null,
            "max_width": null,
            "order": null,
            "_view_module_version": "1.2.0",
            "grid_template_areas": null,
            "object_position": null,
            "object_fit": null,
            "grid_auto_columns": null,
            "margin": null,
            "display": null,
            "left": null
          }
        },
        "1249286c7da04ba38ce6884d86af36fc": {
          "model_module": "@jupyter-widgets/controls",
          "model_name": "HTMLModel",
          "model_module_version": "1.5.0",
          "state": {
            "_view_name": "HTMLView",
            "style": "IPY_MODEL_54f2f7cbbf1748ddbd1cc51b3ffc7bc3",
            "_dom_classes": [],
            "description": "",
            "_model_name": "HTMLModel",
            "placeholder": "​",
            "_view_module": "@jupyter-widgets/controls",
            "_model_module_version": "1.5.0",
            "value": "100%",
            "_view_count": null,
            "_view_module_version": "1.5.0",
            "description_tooltip": null,
            "_model_module": "@jupyter-widgets/controls",
            "layout": "IPY_MODEL_5670c7afd83b4e0481731860ec69f955"
          }
        },
        "81ae0c8c44fa49f9b2ce3b86b52f1260": {
          "model_module": "@jupyter-widgets/controls",
          "model_name": "FloatProgressModel",
          "model_module_version": "1.5.0",
          "state": {
            "_view_name": "ProgressView",
            "style": "IPY_MODEL_3005caae72494698bb4d121488c03088",
            "_dom_classes": [],
            "description": "",
            "_model_name": "FloatProgressModel",
            "bar_style": "success",
            "max": 10000,
            "_view_module": "@jupyter-widgets/controls",
            "_model_module_version": "1.5.0",
            "value": 10000,
            "_view_count": null,
            "_view_module_version": "1.5.0",
            "orientation": "horizontal",
            "min": 0,
            "description_tooltip": null,
            "_model_module": "@jupyter-widgets/controls",
            "layout": "IPY_MODEL_a9b221bf56ba4e62835225936799faed"
          }
        },
        "664c171365954a699caefee09d72f197": {
          "model_module": "@jupyter-widgets/controls",
          "model_name": "HTMLModel",
          "model_module_version": "1.5.0",
          "state": {
            "_view_name": "HTMLView",
            "style": "IPY_MODEL_fbafad08c035494ba31c8ba946b56d0d",
            "_dom_classes": [],
            "description": "",
            "_model_name": "HTMLModel",
            "placeholder": "​",
            "_view_module": "@jupyter-widgets/controls",
            "_model_module_version": "1.5.0",
            "value": " 10000/10000 [04:03&lt;00:00, 40.97it/s]",
            "_view_count": null,
            "_view_module_version": "1.5.0",
            "description_tooltip": null,
            "_model_module": "@jupyter-widgets/controls",
            "layout": "IPY_MODEL_f635af8faaed450db9d3d764df23c2c9"
          }
        },
        "54f2f7cbbf1748ddbd1cc51b3ffc7bc3": {
          "model_module": "@jupyter-widgets/controls",
          "model_name": "DescriptionStyleModel",
          "model_module_version": "1.5.0",
          "state": {
            "_view_name": "StyleView",
            "_model_name": "DescriptionStyleModel",
            "description_width": "",
            "_view_module": "@jupyter-widgets/base",
            "_model_module_version": "1.5.0",
            "_view_count": null,
            "_view_module_version": "1.2.0",
            "_model_module": "@jupyter-widgets/controls"
          }
        },
        "5670c7afd83b4e0481731860ec69f955": {
          "model_module": "@jupyter-widgets/base",
          "model_name": "LayoutModel",
          "model_module_version": "1.2.0",
          "state": {
            "_view_name": "LayoutView",
            "grid_template_rows": null,
            "right": null,
            "justify_content": null,
            "_view_module": "@jupyter-widgets/base",
            "overflow": null,
            "_model_module_version": "1.2.0",
            "_view_count": null,
            "flex_flow": null,
            "width": null,
            "min_width": null,
            "border": null,
            "align_items": null,
            "bottom": null,
            "_model_module": "@jupyter-widgets/base",
            "top": null,
            "grid_column": null,
            "overflow_y": null,
            "overflow_x": null,
            "grid_auto_flow": null,
            "grid_area": null,
            "grid_template_columns": null,
            "flex": null,
            "_model_name": "LayoutModel",
            "justify_items": null,
            "grid_row": null,
            "max_height": null,
            "align_content": null,
            "visibility": null,
            "align_self": null,
            "height": null,
            "min_height": null,
            "padding": null,
            "grid_auto_rows": null,
            "grid_gap": null,
            "max_width": null,
            "order": null,
            "_view_module_version": "1.2.0",
            "grid_template_areas": null,
            "object_position": null,
            "object_fit": null,
            "grid_auto_columns": null,
            "margin": null,
            "display": null,
            "left": null
          }
        },
        "3005caae72494698bb4d121488c03088": {
          "model_module": "@jupyter-widgets/controls",
          "model_name": "ProgressStyleModel",
          "model_module_version": "1.5.0",
          "state": {
            "_view_name": "StyleView",
            "_model_name": "ProgressStyleModel",
            "description_width": "",
            "_view_module": "@jupyter-widgets/base",
            "_model_module_version": "1.5.0",
            "_view_count": null,
            "_view_module_version": "1.2.0",
            "bar_color": null,
            "_model_module": "@jupyter-widgets/controls"
          }
        },
        "a9b221bf56ba4e62835225936799faed": {
          "model_module": "@jupyter-widgets/base",
          "model_name": "LayoutModel",
          "model_module_version": "1.2.0",
          "state": {
            "_view_name": "LayoutView",
            "grid_template_rows": null,
            "right": null,
            "justify_content": null,
            "_view_module": "@jupyter-widgets/base",
            "overflow": null,
            "_model_module_version": "1.2.0",
            "_view_count": null,
            "flex_flow": null,
            "width": null,
            "min_width": null,
            "border": null,
            "align_items": null,
            "bottom": null,
            "_model_module": "@jupyter-widgets/base",
            "top": null,
            "grid_column": null,
            "overflow_y": null,
            "overflow_x": null,
            "grid_auto_flow": null,
            "grid_area": null,
            "grid_template_columns": null,
            "flex": null,
            "_model_name": "LayoutModel",
            "justify_items": null,
            "grid_row": null,
            "max_height": null,
            "align_content": null,
            "visibility": null,
            "align_self": null,
            "height": null,
            "min_height": null,
            "padding": null,
            "grid_auto_rows": null,
            "grid_gap": null,
            "max_width": null,
            "order": null,
            "_view_module_version": "1.2.0",
            "grid_template_areas": null,
            "object_position": null,
            "object_fit": null,
            "grid_auto_columns": null,
            "margin": null,
            "display": null,
            "left": null
          }
        },
        "fbafad08c035494ba31c8ba946b56d0d": {
          "model_module": "@jupyter-widgets/controls",
          "model_name": "DescriptionStyleModel",
          "model_module_version": "1.5.0",
          "state": {
            "_view_name": "StyleView",
            "_model_name": "DescriptionStyleModel",
            "description_width": "",
            "_view_module": "@jupyter-widgets/base",
            "_model_module_version": "1.5.0",
            "_view_count": null,
            "_view_module_version": "1.2.0",
            "_model_module": "@jupyter-widgets/controls"
          }
        },
        "f635af8faaed450db9d3d764df23c2c9": {
          "model_module": "@jupyter-widgets/base",
          "model_name": "LayoutModel",
          "model_module_version": "1.2.0",
          "state": {
            "_view_name": "LayoutView",
            "grid_template_rows": null,
            "right": null,
            "justify_content": null,
            "_view_module": "@jupyter-widgets/base",
            "overflow": null,
            "_model_module_version": "1.2.0",
            "_view_count": null,
            "flex_flow": null,
            "width": null,
            "min_width": null,
            "border": null,
            "align_items": null,
            "bottom": null,
            "_model_module": "@jupyter-widgets/base",
            "top": null,
            "grid_column": null,
            "overflow_y": null,
            "overflow_x": null,
            "grid_auto_flow": null,
            "grid_area": null,
            "grid_template_columns": null,
            "flex": null,
            "_model_name": "LayoutModel",
            "justify_items": null,
            "grid_row": null,
            "max_height": null,
            "align_content": null,
            "visibility": null,
            "align_self": null,
            "height": null,
            "min_height": null,
            "padding": null,
            "grid_auto_rows": null,
            "grid_gap": null,
            "max_width": null,
            "order": null,
            "_view_module_version": "1.2.0",
            "grid_template_areas": null,
            "object_position": null,
            "object_fit": null,
            "grid_auto_columns": null,
            "margin": null,
            "display": null,
            "left": null
          }
        },
        "628c933d188c4f57905469db56e3ba0a": {
          "model_module": "@jupyter-widgets/controls",
          "model_name": "HBoxModel",
          "model_module_version": "1.5.0",
          "state": {
            "_view_name": "HBoxView",
            "_dom_classes": [],
            "_model_name": "HBoxModel",
            "_view_module": "@jupyter-widgets/controls",
            "_model_module_version": "1.5.0",
            "_view_count": null,
            "_view_module_version": "1.5.0",
            "box_style": "",
            "layout": "IPY_MODEL_2f550b3cd3f644d3893167fb4a3ebdcf",
            "_model_module": "@jupyter-widgets/controls",
            "children": [
              "IPY_MODEL_0799c4d00bdd48478f3ff23e45006378",
              "IPY_MODEL_24e032cdf1d0418eb742aa9d0be1c855",
              "IPY_MODEL_37606b9111da462da083621398e327dc"
            ]
          }
        },
        "2f550b3cd3f644d3893167fb4a3ebdcf": {
          "model_module": "@jupyter-widgets/base",
          "model_name": "LayoutModel",
          "model_module_version": "1.2.0",
          "state": {
            "_view_name": "LayoutView",
            "grid_template_rows": null,
            "right": null,
            "justify_content": null,
            "_view_module": "@jupyter-widgets/base",
            "overflow": null,
            "_model_module_version": "1.2.0",
            "_view_count": null,
            "flex_flow": null,
            "width": null,
            "min_width": null,
            "border": null,
            "align_items": null,
            "bottom": null,
            "_model_module": "@jupyter-widgets/base",
            "top": null,
            "grid_column": null,
            "overflow_y": null,
            "overflow_x": null,
            "grid_auto_flow": null,
            "grid_area": null,
            "grid_template_columns": null,
            "flex": null,
            "_model_name": "LayoutModel",
            "justify_items": null,
            "grid_row": null,
            "max_height": null,
            "align_content": null,
            "visibility": null,
            "align_self": null,
            "height": null,
            "min_height": null,
            "padding": null,
            "grid_auto_rows": null,
            "grid_gap": null,
            "max_width": null,
            "order": null,
            "_view_module_version": "1.2.0",
            "grid_template_areas": null,
            "object_position": null,
            "object_fit": null,
            "grid_auto_columns": null,
            "margin": null,
            "display": null,
            "left": null
          }
        },
        "0799c4d00bdd48478f3ff23e45006378": {
          "model_module": "@jupyter-widgets/controls",
          "model_name": "HTMLModel",
          "model_module_version": "1.5.0",
          "state": {
            "_view_name": "HTMLView",
            "style": "IPY_MODEL_bd03a6b92a114ee5b0b2528369e1a401",
            "_dom_classes": [],
            "description": "",
            "_model_name": "HTMLModel",
            "placeholder": "​",
            "_view_module": "@jupyter-widgets/controls",
            "_model_module_version": "1.5.0",
            "value": "100%",
            "_view_count": null,
            "_view_module_version": "1.5.0",
            "description_tooltip": null,
            "_model_module": "@jupyter-widgets/controls",
            "layout": "IPY_MODEL_c57f7befbe52466a8c812ffaad5211e6"
          }
        },
        "24e032cdf1d0418eb742aa9d0be1c855": {
          "model_module": "@jupyter-widgets/controls",
          "model_name": "FloatProgressModel",
          "model_module_version": "1.5.0",
          "state": {
            "_view_name": "ProgressView",
            "style": "IPY_MODEL_bc5e42eae3294057ab32533385909816",
            "_dom_classes": [],
            "description": "",
            "_model_name": "FloatProgressModel",
            "bar_style": "success",
            "max": 10000,
            "_view_module": "@jupyter-widgets/controls",
            "_model_module_version": "1.5.0",
            "value": 10000,
            "_view_count": null,
            "_view_module_version": "1.5.0",
            "orientation": "horizontal",
            "min": 0,
            "description_tooltip": null,
            "_model_module": "@jupyter-widgets/controls",
            "layout": "IPY_MODEL_0bf47a8c46fe47cdb88bbe64777b5a54"
          }
        },
        "37606b9111da462da083621398e327dc": {
          "model_module": "@jupyter-widgets/controls",
          "model_name": "HTMLModel",
          "model_module_version": "1.5.0",
          "state": {
            "_view_name": "HTMLView",
            "style": "IPY_MODEL_bec4bf36cb5c40b39a1805a7912955a3",
            "_dom_classes": [],
            "description": "",
            "_model_name": "HTMLModel",
            "placeholder": "​",
            "_view_module": "@jupyter-widgets/controls",
            "_model_module_version": "1.5.0",
            "value": " 10000/10000 [03:30&lt;00:00, 47.96it/s]",
            "_view_count": null,
            "_view_module_version": "1.5.0",
            "description_tooltip": null,
            "_model_module": "@jupyter-widgets/controls",
            "layout": "IPY_MODEL_8e3e7cfedd784493a8a12bca4b6ee5c7"
          }
        },
        "bd03a6b92a114ee5b0b2528369e1a401": {
          "model_module": "@jupyter-widgets/controls",
          "model_name": "DescriptionStyleModel",
          "model_module_version": "1.5.0",
          "state": {
            "_view_name": "StyleView",
            "_model_name": "DescriptionStyleModel",
            "description_width": "",
            "_view_module": "@jupyter-widgets/base",
            "_model_module_version": "1.5.0",
            "_view_count": null,
            "_view_module_version": "1.2.0",
            "_model_module": "@jupyter-widgets/controls"
          }
        },
        "c57f7befbe52466a8c812ffaad5211e6": {
          "model_module": "@jupyter-widgets/base",
          "model_name": "LayoutModel",
          "model_module_version": "1.2.0",
          "state": {
            "_view_name": "LayoutView",
            "grid_template_rows": null,
            "right": null,
            "justify_content": null,
            "_view_module": "@jupyter-widgets/base",
            "overflow": null,
            "_model_module_version": "1.2.0",
            "_view_count": null,
            "flex_flow": null,
            "width": null,
            "min_width": null,
            "border": null,
            "align_items": null,
            "bottom": null,
            "_model_module": "@jupyter-widgets/base",
            "top": null,
            "grid_column": null,
            "overflow_y": null,
            "overflow_x": null,
            "grid_auto_flow": null,
            "grid_area": null,
            "grid_template_columns": null,
            "flex": null,
            "_model_name": "LayoutModel",
            "justify_items": null,
            "grid_row": null,
            "max_height": null,
            "align_content": null,
            "visibility": null,
            "align_self": null,
            "height": null,
            "min_height": null,
            "padding": null,
            "grid_auto_rows": null,
            "grid_gap": null,
            "max_width": null,
            "order": null,
            "_view_module_version": "1.2.0",
            "grid_template_areas": null,
            "object_position": null,
            "object_fit": null,
            "grid_auto_columns": null,
            "margin": null,
            "display": null,
            "left": null
          }
        },
        "bc5e42eae3294057ab32533385909816": {
          "model_module": "@jupyter-widgets/controls",
          "model_name": "ProgressStyleModel",
          "model_module_version": "1.5.0",
          "state": {
            "_view_name": "StyleView",
            "_model_name": "ProgressStyleModel",
            "description_width": "",
            "_view_module": "@jupyter-widgets/base",
            "_model_module_version": "1.5.0",
            "_view_count": null,
            "_view_module_version": "1.2.0",
            "bar_color": null,
            "_model_module": "@jupyter-widgets/controls"
          }
        },
        "0bf47a8c46fe47cdb88bbe64777b5a54": {
          "model_module": "@jupyter-widgets/base",
          "model_name": "LayoutModel",
          "model_module_version": "1.2.0",
          "state": {
            "_view_name": "LayoutView",
            "grid_template_rows": null,
            "right": null,
            "justify_content": null,
            "_view_module": "@jupyter-widgets/base",
            "overflow": null,
            "_model_module_version": "1.2.0",
            "_view_count": null,
            "flex_flow": null,
            "width": null,
            "min_width": null,
            "border": null,
            "align_items": null,
            "bottom": null,
            "_model_module": "@jupyter-widgets/base",
            "top": null,
            "grid_column": null,
            "overflow_y": null,
            "overflow_x": null,
            "grid_auto_flow": null,
            "grid_area": null,
            "grid_template_columns": null,
            "flex": null,
            "_model_name": "LayoutModel",
            "justify_items": null,
            "grid_row": null,
            "max_height": null,
            "align_content": null,
            "visibility": null,
            "align_self": null,
            "height": null,
            "min_height": null,
            "padding": null,
            "grid_auto_rows": null,
            "grid_gap": null,
            "max_width": null,
            "order": null,
            "_view_module_version": "1.2.0",
            "grid_template_areas": null,
            "object_position": null,
            "object_fit": null,
            "grid_auto_columns": null,
            "margin": null,
            "display": null,
            "left": null
          }
        },
        "bec4bf36cb5c40b39a1805a7912955a3": {
          "model_module": "@jupyter-widgets/controls",
          "model_name": "DescriptionStyleModel",
          "model_module_version": "1.5.0",
          "state": {
            "_view_name": "StyleView",
            "_model_name": "DescriptionStyleModel",
            "description_width": "",
            "_view_module": "@jupyter-widgets/base",
            "_model_module_version": "1.5.0",
            "_view_count": null,
            "_view_module_version": "1.2.0",
            "_model_module": "@jupyter-widgets/controls"
          }
        },
        "8e3e7cfedd784493a8a12bca4b6ee5c7": {
          "model_module": "@jupyter-widgets/base",
          "model_name": "LayoutModel",
          "model_module_version": "1.2.0",
          "state": {
            "_view_name": "LayoutView",
            "grid_template_rows": null,
            "right": null,
            "justify_content": null,
            "_view_module": "@jupyter-widgets/base",
            "overflow": null,
            "_model_module_version": "1.2.0",
            "_view_count": null,
            "flex_flow": null,
            "width": null,
            "min_width": null,
            "border": null,
            "align_items": null,
            "bottom": null,
            "_model_module": "@jupyter-widgets/base",
            "top": null,
            "grid_column": null,
            "overflow_y": null,
            "overflow_x": null,
            "grid_auto_flow": null,
            "grid_area": null,
            "grid_template_columns": null,
            "flex": null,
            "_model_name": "LayoutModel",
            "justify_items": null,
            "grid_row": null,
            "max_height": null,
            "align_content": null,
            "visibility": null,
            "align_self": null,
            "height": null,
            "min_height": null,
            "padding": null,
            "grid_auto_rows": null,
            "grid_gap": null,
            "max_width": null,
            "order": null,
            "_view_module_version": "1.2.0",
            "grid_template_areas": null,
            "object_position": null,
            "object_fit": null,
            "grid_auto_columns": null,
            "margin": null,
            "display": null,
            "left": null
          }
        },
        "1a5ec71ca1754bdb8a5b66bd18572063": {
          "model_module": "@jupyter-widgets/controls",
          "model_name": "HBoxModel",
          "model_module_version": "1.5.0",
          "state": {
            "_view_name": "HBoxView",
            "_dom_classes": [],
            "_model_name": "HBoxModel",
            "_view_module": "@jupyter-widgets/controls",
            "_model_module_version": "1.5.0",
            "_view_count": null,
            "_view_module_version": "1.5.0",
            "box_style": "",
            "layout": "IPY_MODEL_c810f7af1c444d44a8c5af36bce4f2d3",
            "_model_module": "@jupyter-widgets/controls",
            "children": [
              "IPY_MODEL_7cb14d6fc7324d29b44c0429af7f364d",
              "IPY_MODEL_19a2fa3c560845d9a40ae51ff15d8fda",
              "IPY_MODEL_0d863fc0bd04431a9734b4d059fcb122"
            ]
          }
        },
        "c810f7af1c444d44a8c5af36bce4f2d3": {
          "model_module": "@jupyter-widgets/base",
          "model_name": "LayoutModel",
          "model_module_version": "1.2.0",
          "state": {
            "_view_name": "LayoutView",
            "grid_template_rows": null,
            "right": null,
            "justify_content": null,
            "_view_module": "@jupyter-widgets/base",
            "overflow": null,
            "_model_module_version": "1.2.0",
            "_view_count": null,
            "flex_flow": null,
            "width": null,
            "min_width": null,
            "border": null,
            "align_items": null,
            "bottom": null,
            "_model_module": "@jupyter-widgets/base",
            "top": null,
            "grid_column": null,
            "overflow_y": null,
            "overflow_x": null,
            "grid_auto_flow": null,
            "grid_area": null,
            "grid_template_columns": null,
            "flex": null,
            "_model_name": "LayoutModel",
            "justify_items": null,
            "grid_row": null,
            "max_height": null,
            "align_content": null,
            "visibility": null,
            "align_self": null,
            "height": null,
            "min_height": null,
            "padding": null,
            "grid_auto_rows": null,
            "grid_gap": null,
            "max_width": null,
            "order": null,
            "_view_module_version": "1.2.0",
            "grid_template_areas": null,
            "object_position": null,
            "object_fit": null,
            "grid_auto_columns": null,
            "margin": null,
            "display": null,
            "left": null
          }
        },
        "7cb14d6fc7324d29b44c0429af7f364d": {
          "model_module": "@jupyter-widgets/controls",
          "model_name": "HTMLModel",
          "model_module_version": "1.5.0",
          "state": {
            "_view_name": "HTMLView",
            "style": "IPY_MODEL_bbd8c510baed490e9a9db2112adee76e",
            "_dom_classes": [],
            "description": "",
            "_model_name": "HTMLModel",
            "placeholder": "​",
            "_view_module": "@jupyter-widgets/controls",
            "_model_module_version": "1.5.0",
            "value": "100%",
            "_view_count": null,
            "_view_module_version": "1.5.0",
            "description_tooltip": null,
            "_model_module": "@jupyter-widgets/controls",
            "layout": "IPY_MODEL_29303fc217094cd99892fc44ae3bea64"
          }
        },
        "19a2fa3c560845d9a40ae51ff15d8fda": {
          "model_module": "@jupyter-widgets/controls",
          "model_name": "FloatProgressModel",
          "model_module_version": "1.5.0",
          "state": {
            "_view_name": "ProgressView",
            "style": "IPY_MODEL_7a6b81926a5a49d09a81776d534d0e1b",
            "_dom_classes": [],
            "description": "",
            "_model_name": "FloatProgressModel",
            "bar_style": "success",
            "max": 10000,
            "_view_module": "@jupyter-widgets/controls",
            "_model_module_version": "1.5.0",
            "value": 10000,
            "_view_count": null,
            "_view_module_version": "1.5.0",
            "orientation": "horizontal",
            "min": 0,
            "description_tooltip": null,
            "_model_module": "@jupyter-widgets/controls",
            "layout": "IPY_MODEL_f01042b6292e419d8ae137f90e7bd1e2"
          }
        },
        "0d863fc0bd04431a9734b4d059fcb122": {
          "model_module": "@jupyter-widgets/controls",
          "model_name": "HTMLModel",
          "model_module_version": "1.5.0",
          "state": {
            "_view_name": "HTMLView",
            "style": "IPY_MODEL_d90e84b2020c43d1860576877b678d2a",
            "_dom_classes": [],
            "description": "",
            "_model_name": "HTMLModel",
            "placeholder": "​",
            "_view_module": "@jupyter-widgets/controls",
            "_model_module_version": "1.5.0",
            "value": " 10000/10000 [04:24&lt;00:00, 37.94it/s]",
            "_view_count": null,
            "_view_module_version": "1.5.0",
            "description_tooltip": null,
            "_model_module": "@jupyter-widgets/controls",
            "layout": "IPY_MODEL_a0ad26f753af4ca2bfb81c55a11a3966"
          }
        },
        "bbd8c510baed490e9a9db2112adee76e": {
          "model_module": "@jupyter-widgets/controls",
          "model_name": "DescriptionStyleModel",
          "model_module_version": "1.5.0",
          "state": {
            "_view_name": "StyleView",
            "_model_name": "DescriptionStyleModel",
            "description_width": "",
            "_view_module": "@jupyter-widgets/base",
            "_model_module_version": "1.5.0",
            "_view_count": null,
            "_view_module_version": "1.2.0",
            "_model_module": "@jupyter-widgets/controls"
          }
        },
        "29303fc217094cd99892fc44ae3bea64": {
          "model_module": "@jupyter-widgets/base",
          "model_name": "LayoutModel",
          "model_module_version": "1.2.0",
          "state": {
            "_view_name": "LayoutView",
            "grid_template_rows": null,
            "right": null,
            "justify_content": null,
            "_view_module": "@jupyter-widgets/base",
            "overflow": null,
            "_model_module_version": "1.2.0",
            "_view_count": null,
            "flex_flow": null,
            "width": null,
            "min_width": null,
            "border": null,
            "align_items": null,
            "bottom": null,
            "_model_module": "@jupyter-widgets/base",
            "top": null,
            "grid_column": null,
            "overflow_y": null,
            "overflow_x": null,
            "grid_auto_flow": null,
            "grid_area": null,
            "grid_template_columns": null,
            "flex": null,
            "_model_name": "LayoutModel",
            "justify_items": null,
            "grid_row": null,
            "max_height": null,
            "align_content": null,
            "visibility": null,
            "align_self": null,
            "height": null,
            "min_height": null,
            "padding": null,
            "grid_auto_rows": null,
            "grid_gap": null,
            "max_width": null,
            "order": null,
            "_view_module_version": "1.2.0",
            "grid_template_areas": null,
            "object_position": null,
            "object_fit": null,
            "grid_auto_columns": null,
            "margin": null,
            "display": null,
            "left": null
          }
        },
        "7a6b81926a5a49d09a81776d534d0e1b": {
          "model_module": "@jupyter-widgets/controls",
          "model_name": "ProgressStyleModel",
          "model_module_version": "1.5.0",
          "state": {
            "_view_name": "StyleView",
            "_model_name": "ProgressStyleModel",
            "description_width": "",
            "_view_module": "@jupyter-widgets/base",
            "_model_module_version": "1.5.0",
            "_view_count": null,
            "_view_module_version": "1.2.0",
            "bar_color": null,
            "_model_module": "@jupyter-widgets/controls"
          }
        },
        "f01042b6292e419d8ae137f90e7bd1e2": {
          "model_module": "@jupyter-widgets/base",
          "model_name": "LayoutModel",
          "model_module_version": "1.2.0",
          "state": {
            "_view_name": "LayoutView",
            "grid_template_rows": null,
            "right": null,
            "justify_content": null,
            "_view_module": "@jupyter-widgets/base",
            "overflow": null,
            "_model_module_version": "1.2.0",
            "_view_count": null,
            "flex_flow": null,
            "width": null,
            "min_width": null,
            "border": null,
            "align_items": null,
            "bottom": null,
            "_model_module": "@jupyter-widgets/base",
            "top": null,
            "grid_column": null,
            "overflow_y": null,
            "overflow_x": null,
            "grid_auto_flow": null,
            "grid_area": null,
            "grid_template_columns": null,
            "flex": null,
            "_model_name": "LayoutModel",
            "justify_items": null,
            "grid_row": null,
            "max_height": null,
            "align_content": null,
            "visibility": null,
            "align_self": null,
            "height": null,
            "min_height": null,
            "padding": null,
            "grid_auto_rows": null,
            "grid_gap": null,
            "max_width": null,
            "order": null,
            "_view_module_version": "1.2.0",
            "grid_template_areas": null,
            "object_position": null,
            "object_fit": null,
            "grid_auto_columns": null,
            "margin": null,
            "display": null,
            "left": null
          }
        },
        "d90e84b2020c43d1860576877b678d2a": {
          "model_module": "@jupyter-widgets/controls",
          "model_name": "DescriptionStyleModel",
          "model_module_version": "1.5.0",
          "state": {
            "_view_name": "StyleView",
            "_model_name": "DescriptionStyleModel",
            "description_width": "",
            "_view_module": "@jupyter-widgets/base",
            "_model_module_version": "1.5.0",
            "_view_count": null,
            "_view_module_version": "1.2.0",
            "_model_module": "@jupyter-widgets/controls"
          }
        },
        "a0ad26f753af4ca2bfb81c55a11a3966": {
          "model_module": "@jupyter-widgets/base",
          "model_name": "LayoutModel",
          "model_module_version": "1.2.0",
          "state": {
            "_view_name": "LayoutView",
            "grid_template_rows": null,
            "right": null,
            "justify_content": null,
            "_view_module": "@jupyter-widgets/base",
            "overflow": null,
            "_model_module_version": "1.2.0",
            "_view_count": null,
            "flex_flow": null,
            "width": null,
            "min_width": null,
            "border": null,
            "align_items": null,
            "bottom": null,
            "_model_module": "@jupyter-widgets/base",
            "top": null,
            "grid_column": null,
            "overflow_y": null,
            "overflow_x": null,
            "grid_auto_flow": null,
            "grid_area": null,
            "grid_template_columns": null,
            "flex": null,
            "_model_name": "LayoutModel",
            "justify_items": null,
            "grid_row": null,
            "max_height": null,
            "align_content": null,
            "visibility": null,
            "align_self": null,
            "height": null,
            "min_height": null,
            "padding": null,
            "grid_auto_rows": null,
            "grid_gap": null,
            "max_width": null,
            "order": null,
            "_view_module_version": "1.2.0",
            "grid_template_areas": null,
            "object_position": null,
            "object_fit": null,
            "grid_auto_columns": null,
            "margin": null,
            "display": null,
            "left": null
          }
        },
        "ebaa2d701cea438586fd194fc398c143": {
          "model_module": "@jupyter-widgets/controls",
          "model_name": "HBoxModel",
          "model_module_version": "1.5.0",
          "state": {
            "_view_name": "HBoxView",
            "_dom_classes": [],
            "_model_name": "HBoxModel",
            "_view_module": "@jupyter-widgets/controls",
            "_model_module_version": "1.5.0",
            "_view_count": null,
            "_view_module_version": "1.5.0",
            "box_style": "",
            "layout": "IPY_MODEL_e74641858ebf48628a0763bda6a61c10",
            "_model_module": "@jupyter-widgets/controls",
            "children": [
              "IPY_MODEL_ea11388f18d44e47ac53c36da4bb5613",
              "IPY_MODEL_15bc30aee64b46a7837aa418fd970828",
              "IPY_MODEL_7af93ee528b14128b89754a443a84abe"
            ]
          }
        },
        "e74641858ebf48628a0763bda6a61c10": {
          "model_module": "@jupyter-widgets/base",
          "model_name": "LayoutModel",
          "model_module_version": "1.2.0",
          "state": {
            "_view_name": "LayoutView",
            "grid_template_rows": null,
            "right": null,
            "justify_content": null,
            "_view_module": "@jupyter-widgets/base",
            "overflow": null,
            "_model_module_version": "1.2.0",
            "_view_count": null,
            "flex_flow": null,
            "width": null,
            "min_width": null,
            "border": null,
            "align_items": null,
            "bottom": null,
            "_model_module": "@jupyter-widgets/base",
            "top": null,
            "grid_column": null,
            "overflow_y": null,
            "overflow_x": null,
            "grid_auto_flow": null,
            "grid_area": null,
            "grid_template_columns": null,
            "flex": null,
            "_model_name": "LayoutModel",
            "justify_items": null,
            "grid_row": null,
            "max_height": null,
            "align_content": null,
            "visibility": null,
            "align_self": null,
            "height": null,
            "min_height": null,
            "padding": null,
            "grid_auto_rows": null,
            "grid_gap": null,
            "max_width": null,
            "order": null,
            "_view_module_version": "1.2.0",
            "grid_template_areas": null,
            "object_position": null,
            "object_fit": null,
            "grid_auto_columns": null,
            "margin": null,
            "display": null,
            "left": null
          }
        },
        "ea11388f18d44e47ac53c36da4bb5613": {
          "model_module": "@jupyter-widgets/controls",
          "model_name": "HTMLModel",
          "model_module_version": "1.5.0",
          "state": {
            "_view_name": "HTMLView",
            "style": "IPY_MODEL_e03b283905974e29987e99d21d2711d1",
            "_dom_classes": [],
            "description": "",
            "_model_name": "HTMLModel",
            "placeholder": "​",
            "_view_module": "@jupyter-widgets/controls",
            "_model_module_version": "1.5.0",
            "value": "100%",
            "_view_count": null,
            "_view_module_version": "1.5.0",
            "description_tooltip": null,
            "_model_module": "@jupyter-widgets/controls",
            "layout": "IPY_MODEL_025e7523a3234c4ab34cc4f0fae36792"
          }
        },
        "15bc30aee64b46a7837aa418fd970828": {
          "model_module": "@jupyter-widgets/controls",
          "model_name": "FloatProgressModel",
          "model_module_version": "1.5.0",
          "state": {
            "_view_name": "ProgressView",
            "style": "IPY_MODEL_ff30d5e709c74f7282589b26add4faa3",
            "_dom_classes": [],
            "description": "",
            "_model_name": "FloatProgressModel",
            "bar_style": "success",
            "max": 10000,
            "_view_module": "@jupyter-widgets/controls",
            "_model_module_version": "1.5.0",
            "value": 10000,
            "_view_count": null,
            "_view_module_version": "1.5.0",
            "orientation": "horizontal",
            "min": 0,
            "description_tooltip": null,
            "_model_module": "@jupyter-widgets/controls",
            "layout": "IPY_MODEL_5a7d16a4a2fe4be1896a2cb458627908"
          }
        },
        "7af93ee528b14128b89754a443a84abe": {
          "model_module": "@jupyter-widgets/controls",
          "model_name": "HTMLModel",
          "model_module_version": "1.5.0",
          "state": {
            "_view_name": "HTMLView",
            "style": "IPY_MODEL_59f4ab0c41aa4ee498dffa3f139d8e83",
            "_dom_classes": [],
            "description": "",
            "_model_name": "HTMLModel",
            "placeholder": "​",
            "_view_module": "@jupyter-widgets/controls",
            "_model_module_version": "1.5.0",
            "value": " 10000/10000 [02:32&lt;00:00, 66.20it/s]",
            "_view_count": null,
            "_view_module_version": "1.5.0",
            "description_tooltip": null,
            "_model_module": "@jupyter-widgets/controls",
            "layout": "IPY_MODEL_9cc7b4bde1ac4d04bb69026805cca03e"
          }
        },
        "e03b283905974e29987e99d21d2711d1": {
          "model_module": "@jupyter-widgets/controls",
          "model_name": "DescriptionStyleModel",
          "model_module_version": "1.5.0",
          "state": {
            "_view_name": "StyleView",
            "_model_name": "DescriptionStyleModel",
            "description_width": "",
            "_view_module": "@jupyter-widgets/base",
            "_model_module_version": "1.5.0",
            "_view_count": null,
            "_view_module_version": "1.2.0",
            "_model_module": "@jupyter-widgets/controls"
          }
        },
        "025e7523a3234c4ab34cc4f0fae36792": {
          "model_module": "@jupyter-widgets/base",
          "model_name": "LayoutModel",
          "model_module_version": "1.2.0",
          "state": {
            "_view_name": "LayoutView",
            "grid_template_rows": null,
            "right": null,
            "justify_content": null,
            "_view_module": "@jupyter-widgets/base",
            "overflow": null,
            "_model_module_version": "1.2.0",
            "_view_count": null,
            "flex_flow": null,
            "width": null,
            "min_width": null,
            "border": null,
            "align_items": null,
            "bottom": null,
            "_model_module": "@jupyter-widgets/base",
            "top": null,
            "grid_column": null,
            "overflow_y": null,
            "overflow_x": null,
            "grid_auto_flow": null,
            "grid_area": null,
            "grid_template_columns": null,
            "flex": null,
            "_model_name": "LayoutModel",
            "justify_items": null,
            "grid_row": null,
            "max_height": null,
            "align_content": null,
            "visibility": null,
            "align_self": null,
            "height": null,
            "min_height": null,
            "padding": null,
            "grid_auto_rows": null,
            "grid_gap": null,
            "max_width": null,
            "order": null,
            "_view_module_version": "1.2.0",
            "grid_template_areas": null,
            "object_position": null,
            "object_fit": null,
            "grid_auto_columns": null,
            "margin": null,
            "display": null,
            "left": null
          }
        },
        "ff30d5e709c74f7282589b26add4faa3": {
          "model_module": "@jupyter-widgets/controls",
          "model_name": "ProgressStyleModel",
          "model_module_version": "1.5.0",
          "state": {
            "_view_name": "StyleView",
            "_model_name": "ProgressStyleModel",
            "description_width": "",
            "_view_module": "@jupyter-widgets/base",
            "_model_module_version": "1.5.0",
            "_view_count": null,
            "_view_module_version": "1.2.0",
            "bar_color": null,
            "_model_module": "@jupyter-widgets/controls"
          }
        },
        "5a7d16a4a2fe4be1896a2cb458627908": {
          "model_module": "@jupyter-widgets/base",
          "model_name": "LayoutModel",
          "model_module_version": "1.2.0",
          "state": {
            "_view_name": "LayoutView",
            "grid_template_rows": null,
            "right": null,
            "justify_content": null,
            "_view_module": "@jupyter-widgets/base",
            "overflow": null,
            "_model_module_version": "1.2.0",
            "_view_count": null,
            "flex_flow": null,
            "width": null,
            "min_width": null,
            "border": null,
            "align_items": null,
            "bottom": null,
            "_model_module": "@jupyter-widgets/base",
            "top": null,
            "grid_column": null,
            "overflow_y": null,
            "overflow_x": null,
            "grid_auto_flow": null,
            "grid_area": null,
            "grid_template_columns": null,
            "flex": null,
            "_model_name": "LayoutModel",
            "justify_items": null,
            "grid_row": null,
            "max_height": null,
            "align_content": null,
            "visibility": null,
            "align_self": null,
            "height": null,
            "min_height": null,
            "padding": null,
            "grid_auto_rows": null,
            "grid_gap": null,
            "max_width": null,
            "order": null,
            "_view_module_version": "1.2.0",
            "grid_template_areas": null,
            "object_position": null,
            "object_fit": null,
            "grid_auto_columns": null,
            "margin": null,
            "display": null,
            "left": null
          }
        },
        "59f4ab0c41aa4ee498dffa3f139d8e83": {
          "model_module": "@jupyter-widgets/controls",
          "model_name": "DescriptionStyleModel",
          "model_module_version": "1.5.0",
          "state": {
            "_view_name": "StyleView",
            "_model_name": "DescriptionStyleModel",
            "description_width": "",
            "_view_module": "@jupyter-widgets/base",
            "_model_module_version": "1.5.0",
            "_view_count": null,
            "_view_module_version": "1.2.0",
            "_model_module": "@jupyter-widgets/controls"
          }
        },
        "9cc7b4bde1ac4d04bb69026805cca03e": {
          "model_module": "@jupyter-widgets/base",
          "model_name": "LayoutModel",
          "model_module_version": "1.2.0",
          "state": {
            "_view_name": "LayoutView",
            "grid_template_rows": null,
            "right": null,
            "justify_content": null,
            "_view_module": "@jupyter-widgets/base",
            "overflow": null,
            "_model_module_version": "1.2.0",
            "_view_count": null,
            "flex_flow": null,
            "width": null,
            "min_width": null,
            "border": null,
            "align_items": null,
            "bottom": null,
            "_model_module": "@jupyter-widgets/base",
            "top": null,
            "grid_column": null,
            "overflow_y": null,
            "overflow_x": null,
            "grid_auto_flow": null,
            "grid_area": null,
            "grid_template_columns": null,
            "flex": null,
            "_model_name": "LayoutModel",
            "justify_items": null,
            "grid_row": null,
            "max_height": null,
            "align_content": null,
            "visibility": null,
            "align_self": null,
            "height": null,
            "min_height": null,
            "padding": null,
            "grid_auto_rows": null,
            "grid_gap": null,
            "max_width": null,
            "order": null,
            "_view_module_version": "1.2.0",
            "grid_template_areas": null,
            "object_position": null,
            "object_fit": null,
            "grid_auto_columns": null,
            "margin": null,
            "display": null,
            "left": null
          }
        }
      }
    }
  },
  "cells": [
    {
      "cell_type": "markdown",
      "metadata": {
        "id": "n2BLsR-61V5i"
      },
      "source": [
        "# ML Exercise 1-1\n",
        "## Question 1\n",
        "By Gholamreza Dar\n",
        "\n",
        "https://gholamrezadar.ir/\n",
        "\n",
        "Nov 2021\n",
        "\n",
        "\n",
        "Questions available at : [Github Link](https://github.com/Gholamrezadar/machine-learning-exercises/blob/main/ML-HW01.pdf)\n"
      ]
    },
    {
      "cell_type": "markdown",
      "metadata": {
        "id": "ySqj8wctld_t"
      },
      "source": [
        "How to Run:\n",
        "Runtime > Run all(ctrl+f9)"
      ]
    },
    {
      "cell_type": "markdown",
      "metadata": {
        "id": "jlvxHLKjebJb"
      },
      "source": [
        "## Hyper Parameters"
      ]
    },
    {
      "cell_type": "code",
      "metadata": {
        "cellView": "form",
        "id": "YWq0pJI8efR7"
      },
      "source": [
        "#@title Hyper Parameters\n",
        "#@markdown Main :\n",
        "max_iterations = 10000  #@param {type: \"number\"}\n",
        "train_test_split = 0.7 #@param {type: \"number\"}\n",
        "\n",
        "#@markdown Basic Example :\n",
        "basic_polynomial_degree = 10 #@param {type: \"number\"}\n",
        "basic_iterations = 1000  #@param {type: \"number\"}\n",
        "basic_learning_rate = 2.1 #@param {type: \"number\"}\n",
        "basic_decay = 5e-9 #@param {type: \"number\"}"
      ],
      "execution_count": null,
      "outputs": []
    },
    {
      "cell_type": "markdown",
      "metadata": {
        "id": "WVIV2F7s1fer"
      },
      "source": [
        "## Loading Data"
      ]
    },
    {
      "cell_type": "code",
      "metadata": {
        "colab": {
          "base_uri": "https://localhost:8080/"
        },
        "id": "CeRMSiYovaIJ",
        "outputId": "959dc41c-3556-4170-8829-4e50c029f810"
      },
      "source": [
        "# Download dataset\n",
        "!wget https://raw.githubusercontent.com/Gholamrezadar/machine-learning-exercises/main/dataset1/dataset1.csv"
      ],
      "execution_count": null,
      "outputs": [
        {
          "output_type": "stream",
          "name": "stdout",
          "text": [
            "--2021-11-26 03:18:08--  https://raw.githubusercontent.com/Gholamrezadar/machine-learning-exercises/main/dataset1/dataset1.csv\n",
            "Resolving raw.githubusercontent.com (raw.githubusercontent.com)... 185.199.108.133, 185.199.109.133, 185.199.110.133, ...\n",
            "Connecting to raw.githubusercontent.com (raw.githubusercontent.com)|185.199.108.133|:443... connected.\n",
            "HTTP request sent, awaiting response... 200 OK\n",
            "Length: 12074 (12K) [text/plain]\n",
            "Saving to: ‘dataset1.csv’\n",
            "\n",
            "\rdataset1.csv          0%[                    ]       0  --.-KB/s               \rdataset1.csv        100%[===================>]  11.79K  --.-KB/s    in 0s      \n",
            "\n",
            "2021-11-26 03:18:08 (68.2 MB/s) - ‘dataset1.csv’ saved [12074/12074]\n",
            "\n"
          ]
        }
      ]
    },
    {
      "cell_type": "code",
      "metadata": {
        "id": "BCuohVjm1RQ2"
      },
      "source": [
        "import pandas as pd\n",
        "import numpy as np\n",
        "import matplotlib.pyplot as plt\n",
        "from tqdm.notebook import tqdm\n",
        "import seaborn as sns\n",
        "\n",
        "# use seaborn\n",
        "sns.set()\n",
        "\n",
        "random_seed = 1234\n",
        "# np.random.seed(random_seed)\n",
        "\n",
        "# Load the data using pandas\n",
        "df = pd.read_csv(\"dataset1.csv\")"
      ],
      "execution_count": null,
      "outputs": []
    },
    {
      "cell_type": "code",
      "metadata": {
        "colab": {
          "base_uri": "https://localhost:8080/",
          "height": 206
        },
        "id": "_Gp7ZR152CGn",
        "outputId": "641333b1-8239-4910-a0b2-2c47cad989e3"
      },
      "source": [
        "# Show a sample of the data\n",
        "df.head()"
      ],
      "execution_count": null,
      "outputs": [
        {
          "output_type": "execute_result",
          "data": {
            "text/html": [
              "<div>\n",
              "<style scoped>\n",
              "    .dataframe tbody tr th:only-of-type {\n",
              "        vertical-align: middle;\n",
              "    }\n",
              "\n",
              "    .dataframe tbody tr th {\n",
              "        vertical-align: top;\n",
              "    }\n",
              "\n",
              "    .dataframe thead th {\n",
              "        text-align: right;\n",
              "    }\n",
              "</style>\n",
              "<table border=\"1\" class=\"dataframe\">\n",
              "  <thead>\n",
              "    <tr style=\"text-align: right;\">\n",
              "      <th></th>\n",
              "      <th>x</th>\n",
              "      <th>y</th>\n",
              "    </tr>\n",
              "  </thead>\n",
              "  <tbody>\n",
              "    <tr>\n",
              "      <th>0</th>\n",
              "      <td>0.097627</td>\n",
              "      <td>0.626964</td>\n",
              "    </tr>\n",
              "    <tr>\n",
              "      <th>1</th>\n",
              "      <td>0.430379</td>\n",
              "      <td>0.846452</td>\n",
              "    </tr>\n",
              "    <tr>\n",
              "      <th>2</th>\n",
              "      <td>0.205527</td>\n",
              "      <td>0.756017</td>\n",
              "    </tr>\n",
              "    <tr>\n",
              "      <th>3</th>\n",
              "      <td>0.089766</td>\n",
              "      <td>0.427504</td>\n",
              "    </tr>\n",
              "    <tr>\n",
              "      <th>4</th>\n",
              "      <td>-0.152690</td>\n",
              "      <td>-1.335228</td>\n",
              "    </tr>\n",
              "  </tbody>\n",
              "</table>\n",
              "</div>"
            ],
            "text/plain": [
              "          x         y\n",
              "0  0.097627  0.626964\n",
              "1  0.430379  0.846452\n",
              "2  0.205527  0.756017\n",
              "3  0.089766  0.427504\n",
              "4 -0.152690 -1.335228"
            ]
          },
          "metadata": {},
          "execution_count": 4
        }
      ]
    },
    {
      "cell_type": "code",
      "metadata": {
        "colab": {
          "base_uri": "https://localhost:8080/",
          "height": 300
        },
        "id": "8VtFlGBF4D5x",
        "outputId": "521d024f-206c-4639-9c3b-aa0fda82ae76"
      },
      "source": [
        "# Show a description of the data (might be useful later)\n",
        "df.describe()"
      ],
      "execution_count": null,
      "outputs": [
        {
          "output_type": "execute_result",
          "data": {
            "text/html": [
              "<div>\n",
              "<style scoped>\n",
              "    .dataframe tbody tr th:only-of-type {\n",
              "        vertical-align: middle;\n",
              "    }\n",
              "\n",
              "    .dataframe tbody tr th {\n",
              "        vertical-align: top;\n",
              "    }\n",
              "\n",
              "    .dataframe thead th {\n",
              "        text-align: right;\n",
              "    }\n",
              "</style>\n",
              "<table border=\"1\" class=\"dataframe\">\n",
              "  <thead>\n",
              "    <tr style=\"text-align: right;\">\n",
              "      <th></th>\n",
              "      <th>x</th>\n",
              "      <th>y</th>\n",
              "    </tr>\n",
              "  </thead>\n",
              "  <tbody>\n",
              "    <tr>\n",
              "      <th>count</th>\n",
              "      <td>300.000000</td>\n",
              "      <td>300.000000</td>\n",
              "    </tr>\n",
              "    <tr>\n",
              "      <th>mean</th>\n",
              "      <td>0.007005</td>\n",
              "      <td>0.412755</td>\n",
              "    </tr>\n",
              "    <tr>\n",
              "      <th>std</th>\n",
              "      <td>0.580948</td>\n",
              "      <td>1.021100</td>\n",
              "    </tr>\n",
              "    <tr>\n",
              "      <th>min</th>\n",
              "      <td>-0.990609</td>\n",
              "      <td>-1.547934</td>\n",
              "    </tr>\n",
              "    <tr>\n",
              "      <th>25%</th>\n",
              "      <td>-0.504657</td>\n",
              "      <td>-0.361192</td>\n",
              "    </tr>\n",
              "    <tr>\n",
              "      <th>50%</th>\n",
              "      <td>0.045096</td>\n",
              "      <td>0.316442</td>\n",
              "    </tr>\n",
              "    <tr>\n",
              "      <th>75%</th>\n",
              "      <td>0.460611</td>\n",
              "      <td>1.092441</td>\n",
              "    </tr>\n",
              "    <tr>\n",
              "      <th>max</th>\n",
              "      <td>0.997694</td>\n",
              "      <td>3.186153</td>\n",
              "    </tr>\n",
              "  </tbody>\n",
              "</table>\n",
              "</div>"
            ],
            "text/plain": [
              "                x           y\n",
              "count  300.000000  300.000000\n",
              "mean     0.007005    0.412755\n",
              "std      0.580948    1.021100\n",
              "min     -0.990609   -1.547934\n",
              "25%     -0.504657   -0.361192\n",
              "50%      0.045096    0.316442\n",
              "75%      0.460611    1.092441\n",
              "max      0.997694    3.186153"
            ]
          },
          "metadata": {},
          "execution_count": 5
        }
      ]
    },
    {
      "cell_type": "markdown",
      "metadata": {
        "id": "sWHzHZ5zEH8_"
      },
      "source": [
        "## Helper functions"
      ]
    },
    {
      "cell_type": "code",
      "metadata": {
        "id": "iEZskLTec9X-"
      },
      "source": [
        "# Suppress some warnings\n",
        "import warnings\n",
        "warnings.simplefilter(action=\"ignore\", category=FutureWarning)"
      ],
      "execution_count": null,
      "outputs": []
    },
    {
      "cell_type": "markdown",
      "metadata": {
        "id": "rxt77uKM3G6t"
      },
      "source": [
        "#### Loss Functions"
      ]
    },
    {
      "cell_type": "code",
      "metadata": {
        "id": "BIoc7Rn6EMg9"
      },
      "source": [
        "# h(theta) =  theta transpose * X\n",
        "def hypothesis(X, theta):\n",
        "  y1 = theta*X\n",
        "  return np.sum(y1, axis=1)\n",
        "\n",
        "def MSE(X, y, theta):\n",
        "  y_hat = hypothesis(X, theta)\n",
        "  m = len(X)\n",
        "  return sum((y_hat-y)**2)/(2*m)\n",
        "\n",
        "def RMSE(X, y, theta):\n",
        "  y_hat = hypothesis(X, theta)\n",
        "  m = len(X)\n",
        "  return np.sqrt(sum((y_hat-y)**2)/(2*m)) \n",
        "\n",
        "def MAE(X, y, theta):\n",
        "  y_hat = hypothesis(X, theta)\n",
        "  m = len(X)\n",
        "  return sum(np.abs((y_hat-y)))/(2*m)\n",
        "\n",
        "# Loss functions Derivatives\n",
        "def MSE_prim(X, y, i, theta):\n",
        "  y_hat = hypothesis(X, theta)\n",
        "  Xi = X.iloc[:, i]\n",
        "  m = len(X)\n",
        "  return sum((y_hat-y) * Xi) / m\n",
        "\n",
        "def RMSE_prim(X, y, i, theta):\n",
        "  # src : https://math.stackexchange.com/questions/4065532/rmse-derivatives\n",
        "  mse = MSE(X, y, theta)\n",
        "  mse_prim = MSE_prim(X, y, i, theta)\n",
        "\n",
        "  return mse_prim / 2 / np.sqrt(mse)\n",
        "\n",
        "def MAE_prim(X, y, i, theta):\n",
        "  # src : https://stats.stackexchange.com/questions/312737/mean-absolute-error-mae-derivative\n",
        "  # src2 : https://github.com/chenxingwei/machine_learning_from_scratch/blob/master/algorithm/2.linearRegressionGradientDescent.md\n",
        "  y_hat = hypothesis(X, theta)\n",
        "  # print(np.sum((X.T*(np.sign(y_hat-y)/len(X))), axis=1)[i])\n",
        "  return np.sum((X.T*(np.sign(y_hat-y)/len(X))), axis=1)[i]\n"
      ],
      "execution_count": null,
      "outputs": []
    },
    {
      "cell_type": "markdown",
      "metadata": {
        "id": "P53OFYRw3DRj"
      },
      "source": [
        "#### Gradient Descent"
      ]
    },
    {
      "cell_type": "code",
      "metadata": {
        "id": "5UXaP1XkE_-Z"
      },
      "source": [
        "def gradientDescent(X, y, theta, lr, iteration, X_valid, y_valid, loss_fn = MSE, loss_fn_prim = MSE_prim, decay=0.0):\n",
        "  # Training loss per iteration history\n",
        "  train_loss_history = []\n",
        "  # Validation loss per iteration history\n",
        "  validation_loss_history = []\n",
        "  # weights progression towards the optimal value\n",
        "  theta_history = []\n",
        "\n",
        "  # Progress bar\n",
        "  with tqdm(total=iteration) as pbar:\n",
        "    for itera in range(iteration):\n",
        "\n",
        "      # Learning rate decay\n",
        "      lr = lr * 1/(1 + decay * itera)\n",
        "\n",
        "      # for every feature\n",
        "      for i in range(0, len(X.columns)):\n",
        "        # Partial derivative of loss function with respect to Xi\n",
        "        gradient = loss_fn_prim(X, y, i, theta)\n",
        "        # Actual \"Gradient Descent\" !\n",
        "        theta[i] -= lr * gradient\n",
        "      \n",
        "      # Calculating the loss after each iteration\n",
        "      # of updating the weights using Gradient Descent\n",
        "      loss = loss_fn(X, y, theta)*2\n",
        "      validation_loss = loss_fn(X_valid, y_valid, theta)*2\n",
        "\n",
        "      # Save the history of loss and weights\n",
        "      validation_loss_history.append(validation_loss)\n",
        "      train_loss_history.append(loss)\n",
        "      theta_history.append(theta.copy())\n",
        "\n",
        "      # Update progress bar\n",
        "      pbar.update(1)\n",
        "\n",
        "  history = {\"training_loss\":train_loss_history,\n",
        "             \"validation_loss\":validation_loss_history,\n",
        "             \"weights\":theta_history}\n",
        "  # returns loss history, latest loss, weights\n",
        "  print(f\"training_loss : {round(train_loss_history[-1],4)} | validation_loss : {round(validation_loss_history[-1],4)}\")\n",
        "  return history, loss, theta"
      ],
      "execution_count": null,
      "outputs": []
    },
    {
      "cell_type": "code",
      "metadata": {
        "id": "LZvicFzmD8cN"
      },
      "source": [
        "# Add the polynomial's terms as features\n",
        "# so that the univariate non-linear regression\n",
        "# becomes a multivariate linear regression\n",
        "# where every polynomial term is a feature for\n",
        "# the linear regression\n",
        "def polynomial_to_linear_regression(X, polynomial_degree):\n",
        "  for i in range(2, 1 + polynomial_degree):\n",
        "    X['x'+str(i)] = X['x']**i"
      ],
      "execution_count": null,
      "outputs": []
    },
    {
      "cell_type": "code",
      "metadata": {
        "id": "tOpH5cX94Byy"
      },
      "source": [
        "#  helper function used to plot a polynomial\n",
        "def polyCoefficients(x, coeffs):\n",
        "    o = len(coeffs)\n",
        "    y = 0\n",
        "    for i in range(o):\n",
        "        y += coeffs[i]*x**i\n",
        "    return y"
      ],
      "execution_count": null,
      "outputs": []
    },
    {
      "cell_type": "markdown",
      "metadata": {
        "id": "Ua0aApmZ5PZA"
      },
      "source": [
        "#### Normal Equation"
      ]
    },
    {
      "cell_type": "code",
      "metadata": {
        "id": "NAg9R35Z5PLX"
      },
      "source": [
        "def normalEquation(X, y):\n",
        "  # (X^T X)^-1 X^T Y\n",
        "  XTX = np.dot(X.T,X)\n",
        "  XTX_inverse = np.linalg.inv(XTX)\n",
        "  XTY = np.dot(X.T,y)\n",
        "  theta = np.dot(XTX_inverse, XTY)\n",
        "  return theta\n",
        "\n",
        "def regularizedNormalEquation(X, y, lambd=0.1):\n",
        "  # (X^T X + lambda I)^-1 X^T Y\n",
        "  XTX = np.dot(X.T,X) + np.dot(np.identity(X.shape[1]),lambd)\n",
        "  XTX_inverse = np.linalg.inv(XTX)\n",
        "  XTY = np.dot(X.T,y)\n",
        "  theta = np.dot(XTX_inverse, XTY)\n",
        "  return theta"
      ],
      "execution_count": null,
      "outputs": []
    },
    {
      "cell_type": "markdown",
      "metadata": {
        "id": "LxBFCbQN4N-k"
      },
      "source": [
        "#### Plotting related"
      ]
    },
    {
      "cell_type": "markdown",
      "metadata": {
        "id": "y7zmPCtuK1qs"
      },
      "source": [
        "##### def plot_curve( )"
      ]
    },
    {
      "cell_type": "code",
      "metadata": {
        "id": "yEOIXuuc4Chu"
      },
      "source": [
        "# Plots a polynomial on top of the original data\n",
        "def plot_curve(X, y, theta, c='r', title='', resolution=200):\n",
        "  # Don't try this at home\n",
        "  import warnings\n",
        "  warnings.simplefilter(action=\"ignore\", category=FutureWarning)\n",
        "  \n",
        "  plt.figure()\n",
        "  plt.title(title)\n",
        "  # Plot the original data\n",
        "  plt.scatter(x=X['x'],y= y)\n",
        "\n",
        "  x = np.linspace(-1, 1, resolution)\n",
        "  # Plot the fitted polynomial over the data\n",
        "  plt.plot(x, polyCoefficients(x, theta), color=c, linewidth=4)\n",
        "\n",
        "  plt.show()"
      ],
      "execution_count": null,
      "outputs": []
    },
    {
      "cell_type": "markdown",
      "metadata": {
        "id": "MS8r-uMOKzjS"
      },
      "source": [
        "##### def plot_loss( )"
      ]
    },
    {
      "cell_type": "code",
      "metadata": {
        "id": "Fg5ByV_XoiRB"
      },
      "source": [
        "# Plots validation and training losses per iteration\n",
        "def plot_loss(history, title='', starting_iter=0):\n",
        "  # Don't try this at home\n",
        "  import warnings\n",
        "  warnings.simplefilter(action=\"ignore\", category=FutureWarning)\n",
        "  \n",
        "  fig, ax = plt.subplots()\n",
        "  plt.title(title)\n",
        "\n",
        "  # X = iterations range\n",
        "  x = np.linspace(0, iterations, iterations)\n",
        "  \n",
        "  # 1. Training_loss - iteration curve (Red)\n",
        "  sns.lineplot(x[starting_iter:], history[\"training_loss\"][starting_iter:], color='r')\n",
        "  # 2. Validation_loss - iteration curve (green)\n",
        "  sns.lineplot(x[starting_iter:], history[\"validation_loss\"][starting_iter:], color='g')\n",
        "\n",
        "  ax.legend(labels=[\"training\", \"validation\"])\n",
        "\n",
        "  plt.show()"
      ],
      "execution_count": null,
      "outputs": []
    },
    {
      "cell_type": "markdown",
      "metadata": {
        "id": "lghZXpnGKxmM"
      },
      "source": [
        "##### def plot_lr( )"
      ]
    },
    {
      "cell_type": "code",
      "metadata": {
        "id": "jHkd4N_JqIjS"
      },
      "source": [
        "def plot_lr(lr=0.1, iterations=1000, decay=None, title='learning_rate'):\n",
        "  # Don't try this at home\n",
        "  import warnings\n",
        "  warnings.simplefilter(action=\"ignore\", category=FutureWarning)\n",
        "  \n",
        "  _lrs = []\n",
        "  # Iterations\n",
        "  _iterations = iterations\n",
        "  # Initial lr\n",
        "  _lr0 = lr\n",
        "  _decay = 0\n",
        "  # Decay\n",
        "  if decay is None:\n",
        "    _decay = _lr0/_iterations\n",
        "  else:\n",
        "    _decay = decay\n",
        "\n",
        "  # Simulate gradient descents main loop\n",
        "  _lr = _lr0\n",
        "  for i in range(_iterations):\n",
        "    _lr = _lr * 1/(1 + _decay * i)\n",
        "    _lrs.append(_lr)\n",
        "\n",
        "  _x = list(range(_iterations))\n",
        "  _y = _lrs\n",
        "\n",
        "  plt.figure()\n",
        "  plt.title(title)\n",
        "  plt.plot(_x, _y)\n",
        "  plt.show()"
      ],
      "execution_count": null,
      "outputs": []
    },
    {
      "cell_type": "markdown",
      "metadata": {
        "id": "GVtLPZaVKiZg"
      },
      "source": [
        "##### def plot_every_curve( )"
      ]
    },
    {
      "cell_type": "code",
      "metadata": {
        "id": "h4l6EmkCMVDE"
      },
      "source": [
        "def plot_every_curve(X, y, thetas,line_widths=[1, 1], resolution=100, i_max=3, j_max=3, dpi=72):\n",
        "  # Don't try this at home\n",
        "  import warnings\n",
        "  warnings.simplefilter(action=\"ignore\", category=FutureWarning)\n",
        "\n",
        "  plt.figure()\n",
        "  fig, axes = plt.subplots(3, 3, sharex=True, sharey=True, figsize=(16,10), constrained_layout=True)\n",
        "  fig.dpi = dpi\n",
        "  # fig.subplots_adjust(hspace=0.6)\n",
        "\n",
        "  # Helper lists for accessing the current config\n",
        "  fn_labels = [\"MAE\", \"RMSE\", \"MSE\"]\n",
        "  deg_labels = [\"degree 10\",\"degree 8\",\"degree 5\"]\n",
        "\n",
        "  # Used to plot the fitted polynomial in the range[-1,1]\n",
        "  x = np.linspace(-1, 1, resolution)\n",
        "\n",
        "  # Plotting every case in a 3 by 3 grid\n",
        "  for i in range(i_max):\n",
        "    for j in range(j_max):\n",
        "\n",
        "      # 1. plot the original data (Dots)\n",
        "      sns.scatterplot(x=X[\"x\"], y=y, ax=axes[i,j] )# ,s=70, color='darkgray')\n",
        "\n",
        "      # 2. Plot a curve with an earlier iteration theta [1] (Red)\n",
        "      theta = thetas[i][j][1]\n",
        "      sns.lineplot(x, polyCoefficients(x, theta), color='r', ax=axes[i,j], linewidth=line_widths[1])\n",
        "\n",
        "      # 3. Plot a curve with the Last iteration theta [0] (Green)\n",
        "      theta = thetas[i][j][0]\n",
        "      sns.lineplot(x, polyCoefficients(x, theta), color='g', ax=axes[i,j], linewidth=line_widths[0])\n",
        "\n",
        "      # Legends and titles\n",
        "      axes[i,j].legend(labels=[f\"{other_iteration_to_display} iters\", f\"{int(iterations)} iters\"])\n",
        "      axes[i,j].set_title(f\"train_loss:{round(losses[i][j][0],3)}   valid_loss:{round(losses[i][j][1],3)}\")\n",
        "\n",
        "      # Matplotlib related code\n",
        "      axes[i,j].xaxis.set_ticklabels([])\n",
        "      axes[i,j].yaxis.set_ticklabels([])\n",
        "      axes[i,j].set_xlabel(fn_labels[j])\n",
        "      axes[i,j].set_ylabel(deg_labels[i])\n",
        "\n",
        "  plt.show()"
      ],
      "execution_count": null,
      "outputs": []
    },
    {
      "cell_type": "markdown",
      "metadata": {
        "id": "xe_DJ46_LTn3"
      },
      "source": [
        "##### def plot_every_case_loss( )"
      ]
    },
    {
      "cell_type": "code",
      "metadata": {
        "id": "NvF6Ft73MMdS"
      },
      "source": [
        "def plot_every_case_loss(histories, starting_iter=0, i_max=3, j_max=3, dpi=72):\n",
        "  # Don't try this at home\n",
        "  import warnings\n",
        "  warnings.simplefilter(action=\"ignore\", category=FutureWarning)\n",
        "\n",
        "  plt.figure()\n",
        "  fig, axes = plt.subplots(3, 3, sharex=True, sharey=False, figsize=(16,10), constrained_layout=True)\n",
        "  fig.dpi = dpi\n",
        "\n",
        "  # Helper lists for accessing the current config\n",
        "  fn_labels = [\"MAE\", \"RMSE\", \"MSE\"]\n",
        "  deg_labels = [\"degree 10\",\"degree 8\",\"degree 3\"]\n",
        "\n",
        "  # X = iterations range\n",
        "  x = np.linspace(0, iterations, iterations)\n",
        "\n",
        "  # Plotting every case in a 3 by 3 grid\n",
        "  for i in range(i_max):\n",
        "    for j in range(j_max):\n",
        "\n",
        "      # 1. Training_loss - iteration curve (Red)\n",
        "      sns.lineplot(x[starting_iter:], histories[i][j][0][\"training_loss\"][starting_iter:], color='r', ax=axes[i,j])\n",
        "      # 2. Validation_loss - iteration curve (green)\n",
        "      sns.lineplot(x[starting_iter:], histories[i][j][0][\"validation_loss\"][starting_iter:], color='g', ax=axes[i,j])\n",
        "\n",
        "      # Legends\n",
        "      axes[i,j].legend(labels=[f\"training loss\", f\"validation loss\"])\n",
        "\n",
        "      # Matplotlib related code\n",
        "      axes[i,j].set_xlabel(fn_labels[j])\n",
        "      axes[i,j].set_ylabel(deg_labels[i])\n",
        "\n",
        "  plt.show()"
      ],
      "execution_count": null,
      "outputs": []
    },
    {
      "cell_type": "markdown",
      "metadata": {
        "id": "otbSGE_lLWYM"
      },
      "source": [
        "##### def plot_normal_equations( )"
      ]
    },
    {
      "cell_type": "code",
      "metadata": {
        "id": "3NvmQYwZDV2C"
      },
      "source": [
        "# Plots a polynomial on top of the original data\n",
        "def plot_normal_equations(X, y, c='r', title='', resolution=200, dpi=72):\n",
        "  # Don't try this at home\n",
        "  import warnings\n",
        "  warnings.simplefilter(action=\"ignore\", category=FutureWarning)\n",
        "\n",
        "  fig, ax = plt.subplots()\n",
        "  plt.title(title)\n",
        "  fig.dpi=dpi\n",
        "\n",
        "  # Plot the original data\n",
        "  sns.scatterplot(x=X['x'], y=y, size=1, color='darkgray')\n",
        "\n",
        "  x = np.linspace(-1, 1, resolution)\n",
        "\n",
        "  # calculate theta for each method\n",
        "  normal_theta = normalEquation(X_train_copy, y_train)\n",
        "  reg_normal_theta1 = regularizedNormalEquation(X_train_copy, y_train, lambd=0.075)\n",
        "  reg_normal_theta2 = regularizedNormalEquation(X_train_copy, y_train, lambd=0.75)\n",
        "  reg_normal_theta4 = regularizedNormalEquation(X_train_copy, y_train, lambd=7.5)\n",
        "\n",
        "  # Plot the fitted polynomial over the data\n",
        "  plt.plot(x, polyCoefficients(x, normal_theta), linewidth=2)\n",
        "  plt.plot(x, polyCoefficients(x, reg_normal_theta1), linewidth=2)\n",
        "  plt.plot(x, polyCoefficients(x, reg_normal_theta2), linewidth=2)\n",
        "  plt.plot(x, polyCoefficients(x, reg_normal_theta4), linewidth=2)\n",
        "\n",
        "  ax.legend(labels=[\"No Regularization\", \"λ=0.075\", \"λ=0.75\", \"λ=7.5\"])\n",
        "  ax.xaxis.set_ticklabels([])\n",
        "  ax.yaxis.set_ticklabels([])\n",
        "  ax.xaxis.set_visible(False)\n",
        "  ax.yaxis.set_visible(False)\n",
        "  plt.show()"
      ],
      "execution_count": null,
      "outputs": []
    },
    {
      "cell_type": "markdown",
      "metadata": {
        "id": "ShvfWi9J2huw"
      },
      "source": [
        "## Part 1 - Plotting the data"
      ]
    },
    {
      "cell_type": "code",
      "metadata": {
        "colab": {
          "base_uri": "https://localhost:8080/",
          "height": 268
        },
        "id": "Dol2qfJH22yD",
        "outputId": "1914b51b-1320-4687-c78e-8cc15a74c1e2"
      },
      "source": [
        "# Plot the data using matplotlib\n",
        "plt.scatter(x=df['x'],y=df['y'])\n",
        "plt.show()"
      ],
      "execution_count": null,
      "outputs": [
        {
          "output_type": "display_data",
          "data": {
            "image/png": "[encoded data removed]",
            "text/plain": [
              "<Figure size 432x288 with 1 Axes>"
            ]
          },
          "metadata": {}
        }
      ]
    },
    {
      "cell_type": "markdown",
      "metadata": {
        "id": "1kZUeq6D4R4D"
      },
      "source": [
        "## Part 2 - Shuffle"
      ]
    },
    {
      "cell_type": "code",
      "metadata": {
        "id": "aGQljZCqBhr9"
      },
      "source": [
        "def plot_colorize(df):\n",
        "  '''\n",
        "  Assigns 'red' color to the first half of the data\n",
        "  and 'blue' to the rest\n",
        "\n",
        "  If the data is well shuffled we should see random red \n",
        "  and blue circles everywhere.\n",
        "\n",
        "  If the data is NOT well shuffled we might see a pattern between\n",
        "  circles' position and their color.\n",
        "  '''\n",
        "\n",
        "  df_red = df.loc[df.index<df.shape[0]/2]\n",
        "  df_blue = df.loc[df.index>=df.shape[0]/2]\n",
        "\n",
        "  sns.scatterplot(data=df_red, x='x', y='y', color='r')\n",
        "  sns.scatterplot(data=df_blue, x='x', y='y', color='b')\n",
        "\n",
        "  plt.show()"
      ],
      "execution_count": null,
      "outputs": []
    },
    {
      "cell_type": "markdown",
      "metadata": {
        "id": "cfPA-TvvCn00"
      },
      "source": [
        "### Default data"
      ]
    },
    {
      "cell_type": "code",
      "metadata": {
        "colab": {
          "base_uri": "https://localhost:8080/",
          "height": 302
        },
        "id": "jpFrZiqf6z1r",
        "outputId": "0b0a8b80-8f57-48de-baed-b724576bf8a7"
      },
      "source": [
        "plot_colorize(df)\n",
        "print(\" \"*9,\"Data seems to be well shuffled.\")"
      ],
      "execution_count": null,
      "outputs": [
        {
          "output_type": "display_data",
          "data": {
            "image/png": "[encoded data removed]",
            "text/plain": [
              "<Figure size 432x288 with 1 Axes>"
            ]
          },
          "metadata": {}
        },
        {
          "output_type": "stream",
          "name": "stdout",
          "text": [
            "          Data seems to be well shuffled.\n"
          ]
        }
      ]
    },
    {
      "cell_type": "markdown",
      "metadata": {
        "id": "IvlTehEJCvcX"
      },
      "source": [
        "### Sorted data"
      ]
    },
    {
      "cell_type": "code",
      "metadata": {
        "colab": {
          "base_uri": "https://localhost:8080/",
          "height": 302
        },
        "id": "2cZT-T_Z-uiC",
        "outputId": "d44f7ed9-8f9d-4a30-c900-1d501146997f"
      },
      "source": [
        "# Sort the data based on 'x' first, then do the \n",
        "# previous part to see the result.\n",
        "sorted_df = df.sort_values(by='x', ascending=True, ignore_index=True)\n",
        "\n",
        "plot_colorize(sorted_df)\n",
        "print(\" \"*6,\"Data doesn't seem to be well shuffled.\")"
      ],
      "execution_count": null,
      "outputs": [
        {
          "output_type": "display_data",
          "data": {
            "image/png": "[encoded data removed]",
            "text/plain": [
              "<Figure size 432x288 with 1 Axes>"
            ]
          },
          "metadata": {}
        },
        {
          "output_type": "stream",
          "name": "stdout",
          "text": [
            "       Data doesn't seem to be well shuffled.\n"
          ]
        }
      ]
    },
    {
      "cell_type": "markdown",
      "metadata": {
        "id": "F6Bv8jP-Cxbh"
      },
      "source": [
        "### Shuffled data"
      ]
    },
    {
      "cell_type": "code",
      "metadata": {
        "colab": {
          "base_uri": "https://localhost:8080/",
          "height": 302
        },
        "id": "WxRI2DnyAsiZ",
        "outputId": "434e2ef8-62ba-42fb-e7ac-a9123dd2cad6"
      },
      "source": [
        "# Let's shuffle the data anyways (just in case)\n",
        "\n",
        "# pandas Doc: specifying drop=True prevents .reset_index()\n",
        "# from creating a column containing the old index entries.\n",
        "\n",
        "# Note : I commented the shuffling code out for testing\n",
        "# shuffled_df = df.sample(frac=1, random_state=random_seed).reset_index(drop=True)\n",
        "shuffled_df = df.copy()\n",
        "\n",
        "plot_colorize(shuffled_df)\n",
        "print(\" \"*9,\"Data seems to be well shuffled.\")"
      ],
      "execution_count": null,
      "outputs": [
        {
          "output_type": "display_data",
          "data": {
            "image/png": "[encoded data removed]",
            "text/plain": [
              "<Figure size 432x288 with 1 Axes>"
            ]
          },
          "metadata": {}
        },
        {
          "output_type": "stream",
          "name": "stdout",
          "text": [
            "          Data seems to be well shuffled.\n"
          ]
        }
      ]
    },
    {
      "cell_type": "markdown",
      "metadata": {
        "id": "jFXdtUiUDosf"
      },
      "source": [
        "## Part 3 - Gradient Descent\n",
        "Finding The optimal \"Theta\" values (weights)"
      ]
    },
    {
      "cell_type": "markdown",
      "metadata": {
        "id": "IeQ02tqLx_X_"
      },
      "source": [
        "### Data Prepration\n"
      ]
    },
    {
      "cell_type": "markdown",
      "metadata": {
        "id": "gOLTdEZ9Id_2"
      },
      "source": [
        "#### Add a column for bias"
      ]
    },
    {
      "cell_type": "code",
      "metadata": {
        "colab": {
          "base_uri": "https://localhost:8080/",
          "height": 206
        },
        "id": "DQPx406veDrg",
        "outputId": "4c440833-1568-4355-8be4-de3b3b7c56be"
      },
      "source": [
        "# Add a new column for simplicity of the calculations\n",
        "# acts as the bias term\n",
        "shuffled_df = pd.concat([pd.Series(1, index=shuffled_df.index, name='0'), shuffled_df], axis=1)\n",
        "shuffled_df.head()"
      ],
      "execution_count": null,
      "outputs": [
        {
          "output_type": "execute_result",
          "data": {
            "text/html": [
              "<div>\n",
              "<style scoped>\n",
              "    .dataframe tbody tr th:only-of-type {\n",
              "        vertical-align: middle;\n",
              "    }\n",
              "\n",
              "    .dataframe tbody tr th {\n",
              "        vertical-align: top;\n",
              "    }\n",
              "\n",
              "    .dataframe thead th {\n",
              "        text-align: right;\n",
              "    }\n",
              "</style>\n",
              "<table border=\"1\" class=\"dataframe\">\n",
              "  <thead>\n",
              "    <tr style=\"text-align: right;\">\n",
              "      <th></th>\n",
              "      <th>0</th>\n",
              "      <th>x</th>\n",
              "      <th>y</th>\n",
              "    </tr>\n",
              "  </thead>\n",
              "  <tbody>\n",
              "    <tr>\n",
              "      <th>0</th>\n",
              "      <td>1</td>\n",
              "      <td>0.097627</td>\n",
              "      <td>0.626964</td>\n",
              "    </tr>\n",
              "    <tr>\n",
              "      <th>1</th>\n",
              "      <td>1</td>\n",
              "      <td>0.430379</td>\n",
              "      <td>0.846452</td>\n",
              "    </tr>\n",
              "    <tr>\n",
              "      <th>2</th>\n",
              "      <td>1</td>\n",
              "      <td>0.205527</td>\n",
              "      <td>0.756017</td>\n",
              "    </tr>\n",
              "    <tr>\n",
              "      <th>3</th>\n",
              "      <td>1</td>\n",
              "      <td>0.089766</td>\n",
              "      <td>0.427504</td>\n",
              "    </tr>\n",
              "    <tr>\n",
              "      <th>4</th>\n",
              "      <td>1</td>\n",
              "      <td>-0.152690</td>\n",
              "      <td>-1.335228</td>\n",
              "    </tr>\n",
              "  </tbody>\n",
              "</table>\n",
              "</div>"
            ],
            "text/plain": [
              "   0         x         y\n",
              "0  1  0.097627  0.626964\n",
              "1  1  0.430379  0.846452\n",
              "2  1  0.205527  0.756017\n",
              "3  1  0.089766  0.427504\n",
              "4  1 -0.152690 -1.335228"
            ]
          },
          "metadata": {},
          "execution_count": 23
        }
      ]
    },
    {
      "cell_type": "markdown",
      "metadata": {
        "id": "Kls9C6ylIhjA"
      },
      "source": [
        "#### Seperate X,y"
      ]
    },
    {
      "cell_type": "code",
      "metadata": {
        "colab": {
          "base_uri": "https://localhost:8080/"
        },
        "id": "tV3xFOc0fSX7",
        "outputId": "4597deba-5149-4075-b4e9-aeb2f6dbcad6"
      },
      "source": [
        "# Split training data into X and y\n",
        "X = shuffled_df.drop(columns=\"y\")\n",
        "y = shuffled_df.iloc[:, 2]\n",
        "\n",
        "print(\"X : \\n\", X.head().to_string(),end=\"\\n\\n\")\n",
        "print(\"y : \\n\", y.head().to_string())"
      ],
      "execution_count": null,
      "outputs": [
        {
          "output_type": "stream",
          "name": "stdout",
          "text": [
            "X : \n",
            "    0         x\n",
            "0  1  0.097627\n",
            "1  1  0.430379\n",
            "2  1  0.205527\n",
            "3  1  0.089766\n",
            "4  1 -0.152690\n",
            "\n",
            "y : \n",
            " 0    0.626964\n",
            "1    0.846452\n",
            "2    0.756017\n",
            "3    0.427504\n",
            "4   -1.335228\n"
          ]
        }
      ]
    },
    {
      "cell_type": "code",
      "metadata": {
        "colab": {
          "base_uri": "https://localhost:8080/"
        },
        "id": "CvhJrS54-VOs",
        "outputId": "3b21d7eb-1512-4a51-c315-1b1eb6efe210"
      },
      "source": [
        "# Split to train and valid\n",
        "split = train_test_split\n",
        "\n",
        "X_train = X.iloc[ : int(len(X)*split),:].reset_index(drop=True)\n",
        "X_valid = X.iloc[int(len(X)*split) : ,:].reset_index(drop=True)\n",
        "\n",
        "y_train = y.iloc[ : int(len(X)*split)].reset_index(drop=True)\n",
        "y_valid = y.iloc[int(len(X)*split) : ].reset_index(drop=True)\n",
        "\n",
        "print(f\"Train X size = {len(X_train)}\")\n",
        "print(f\"Train y size = {len(y_train)}\")\n",
        "print(f\"Valid X size = {len(X_valid)}\")\n",
        "print(f\"Valid y size = {len(y_valid)}\")"
      ],
      "execution_count": null,
      "outputs": [
        {
          "output_type": "stream",
          "name": "stdout",
          "text": [
            "Train X size = 210\n",
            "Train y size = 210\n",
            "Valid X size = 90\n",
            "Valid y size = 90\n"
          ]
        }
      ]
    },
    {
      "cell_type": "code",
      "metadata": {
        "id": "G7M31aNb-FEp"
      },
      "source": [
        "# Save a copy of X and y \n",
        "# TODO might not need it\n",
        "X_train_org = X_train.copy()\n",
        "y_train_org = y_train.copy()"
      ],
      "execution_count": null,
      "outputs": []
    },
    {
      "cell_type": "markdown",
      "metadata": {
        "id": "c3rmQQpUyT3j"
      },
      "source": [
        "### Polynomial Regression\n",
        "a basic example"
      ]
    },
    {
      "cell_type": "code",
      "metadata": {
        "id": "jGhosewt1XlR"
      },
      "source": [
        "# polynomial degree\n",
        "polynomial_degree = basic_polynomial_degree\n"
      ],
      "execution_count": null,
      "outputs": []
    },
    {
      "cell_type": "markdown",
      "metadata": {
        "id": "4_VmpSYvzq73"
      },
      "source": [
        "Convert\n",
        "\n",
        "**aX  + bX^2 + cX^3 + d**\n",
        "\n",
        "to\n",
        "\n",
        "**aX1 + bX2  + cX3  + d**"
      ]
    },
    {
      "cell_type": "code",
      "metadata": {
        "colab": {
          "base_uri": "https://localhost:8080/",
          "height": 206
        },
        "id": "D8lSsswigR3E",
        "outputId": "286838ef-edae-4e5a-cd4f-8250ad87710f"
      },
      "source": [
        "# Add the polynomial's terms as features\n",
        "# so that the univariate non-linear regression\n",
        "# becomes a multivariate linear regression\n",
        "# where every polynomial term is a feature for\n",
        "# the linear regression\n",
        "\n",
        "X_train_copy = X_train.copy()\n",
        "X_valid_copy = X_valid.copy()\n",
        "polynomial_to_linear_regression(X_train_copy, polynomial_degree)\n",
        "polynomial_to_linear_regression(X_valid_copy, polynomial_degree)\n",
        "\n",
        "\n",
        "X_train_copy.head()"
      ],
      "execution_count": null,
      "outputs": [
        {
          "output_type": "execute_result",
          "data": {
            "text/html": [
              "<div>\n",
              "<style scoped>\n",
              "    .dataframe tbody tr th:only-of-type {\n",
              "        vertical-align: middle;\n",
              "    }\n",
              "\n",
              "    .dataframe tbody tr th {\n",
              "        vertical-align: top;\n",
              "    }\n",
              "\n",
              "    .dataframe thead th {\n",
              "        text-align: right;\n",
              "    }\n",
              "</style>\n",
              "<table border=\"1\" class=\"dataframe\">\n",
              "  <thead>\n",
              "    <tr style=\"text-align: right;\">\n",
              "      <th></th>\n",
              "      <th>0</th>\n",
              "      <th>x</th>\n",
              "      <th>x2</th>\n",
              "      <th>x3</th>\n",
              "      <th>x4</th>\n",
              "      <th>x5</th>\n",
              "      <th>x6</th>\n",
              "      <th>x7</th>\n",
              "      <th>x8</th>\n",
              "      <th>x9</th>\n",
              "      <th>x10</th>\n",
              "    </tr>\n",
              "  </thead>\n",
              "  <tbody>\n",
              "    <tr>\n",
              "      <th>0</th>\n",
              "      <td>1</td>\n",
              "      <td>0.097627</td>\n",
              "      <td>0.009531</td>\n",
              "      <td>0.000930</td>\n",
              "      <td>0.000091</td>\n",
              "      <td>0.000009</td>\n",
              "      <td>8.658046e-07</td>\n",
              "      <td>8.452591e-08</td>\n",
              "      <td>8.252012e-09</td>\n",
              "      <td>8.056192e-10</td>\n",
              "      <td>7.865019e-11</td>\n",
              "    </tr>\n",
              "    <tr>\n",
              "      <th>1</th>\n",
              "      <td>1</td>\n",
              "      <td>0.430379</td>\n",
              "      <td>0.185226</td>\n",
              "      <td>0.079717</td>\n",
              "      <td>0.034309</td>\n",
              "      <td>0.014766</td>\n",
              "      <td>6.354843e-03</td>\n",
              "      <td>2.734989e-03</td>\n",
              "      <td>1.177081e-03</td>\n",
              "      <td>5.065907e-04</td>\n",
              "      <td>2.180259e-04</td>\n",
              "    </tr>\n",
              "    <tr>\n",
              "      <th>2</th>\n",
              "      <td>1</td>\n",
              "      <td>0.205527</td>\n",
              "      <td>0.042241</td>\n",
              "      <td>0.008682</td>\n",
              "      <td>0.001784</td>\n",
              "      <td>0.000367</td>\n",
              "      <td>7.537202e-05</td>\n",
              "      <td>1.549097e-05</td>\n",
              "      <td>3.183808e-06</td>\n",
              "      <td>6.543577e-07</td>\n",
              "      <td>1.344880e-07</td>\n",
              "    </tr>\n",
              "    <tr>\n",
              "      <th>3</th>\n",
              "      <td>1</td>\n",
              "      <td>0.089766</td>\n",
              "      <td>0.008058</td>\n",
              "      <td>0.000723</td>\n",
              "      <td>0.000065</td>\n",
              "      <td>0.000006</td>\n",
              "      <td>5.232170e-07</td>\n",
              "      <td>4.696729e-08</td>\n",
              "      <td>4.216083e-09</td>\n",
              "      <td>3.784624e-10</td>\n",
              "      <td>3.397320e-11</td>\n",
              "    </tr>\n",
              "    <tr>\n",
              "      <th>4</th>\n",
              "      <td>1</td>\n",
              "      <td>-0.152690</td>\n",
              "      <td>0.023314</td>\n",
              "      <td>-0.003560</td>\n",
              "      <td>0.000544</td>\n",
              "      <td>-0.000083</td>\n",
              "      <td>1.267274e-05</td>\n",
              "      <td>-1.935005e-06</td>\n",
              "      <td>2.954567e-07</td>\n",
              "      <td>-4.511341e-08</td>\n",
              "      <td>6.888384e-09</td>\n",
              "    </tr>\n",
              "  </tbody>\n",
              "</table>\n",
              "</div>"
            ],
            "text/plain": [
              "   0         x        x2  ...            x8            x9           x10\n",
              "0  1  0.097627  0.009531  ...  8.252012e-09  8.056192e-10  7.865019e-11\n",
              "1  1  0.430379  0.185226  ...  1.177081e-03  5.065907e-04  2.180259e-04\n",
              "2  1  0.205527  0.042241  ...  3.183808e-06  6.543577e-07  1.344880e-07\n",
              "3  1  0.089766  0.008058  ...  4.216083e-09  3.784624e-10  3.397320e-11\n",
              "4  1 -0.152690  0.023314  ...  2.954567e-07 -4.511341e-08  6.888384e-09\n",
              "\n",
              "[5 rows x 11 columns]"
            ]
          },
          "metadata": {},
          "execution_count": 28
        }
      ]
    },
    {
      "cell_type": "markdown",
      "metadata": {
        "id": "nSPAC6LU0-sc"
      },
      "source": [
        "#### Training a basic example\n",
        "Normal equation for comparison : \n",
        "\n",
        "*   Training loss : 0.1453 training loss\n",
        "*   Validation loss : 0.1836 validation loss\n",
        "\n",
        "5k iter 10th degree polynomial lr=2.3\n",
        "*   Training   loss : 0.1679 \n",
        "*   Validation loss : 0.2038\n",
        "\n",
        "\n"
      ]
    },
    {
      "cell_type": "code",
      "metadata": {
        "colab": {
          "base_uri": "https://localhost:8080/",
          "height": 84,
          "referenced_widgets": [
            "3cae631c7f6b469d8c79020866d07da4",
            "ea2219750dcc45bda4c4bd033e141848",
            "1005f971aca54b3f9f6c09f5b3d3334b",
            "cdcf8aff88ae42c3b1c97e39cd47a1b2",
            "d9931bb035de42eeaf9a00398e04a596",
            "c839dd2881174a73b782690b79d46d8d",
            "be9152de913e45beb7a474c238988dda",
            "4446f2a4c3cc4b899771ebc60cd2c677",
            "2843c07b5f4b4b12a1ddc03316238b6c",
            "2df001da184f4a6dabd440ff617df577",
            "db20932989e440f392a72fe64791794a"
          ]
        },
        "id": "M6CueSnOmCdY",
        "outputId": "07c79ee9-b3eb-4227-dab8-83f6e98f133a"
      },
      "source": [
        "# Initialize the weights with zero\n",
        "theta = np.array([0.0]*len(X_train_copy.columns))\n",
        "\n",
        "# Initialize the weights with random values\n",
        "# theta = np.random.rand(len(X_train_copy.columns),)\n",
        "\n",
        "print(\"notice : takes approximately 1 minute for 1k iters (MSE)\")\n",
        "\n",
        "# tip : nice way to find decay (https://machinelearningmastery.com/using-learning-rate-schedules-deep-learning-models-python-keras/)\n",
        "# Decay = LearningRate / Epochs\n",
        "# Decay = 0.1 / 1000\n",
        "# Decay = 0.0001\n",
        "# Note : didn't work well for us :(\n",
        "\n",
        "# Hyper-Parameters\n",
        "iterations = basic_iterations\n",
        "learning_rate = basic_learning_rate\n",
        "decay = basic_decay\n",
        "\n",
        "# Start the training\n",
        "history, loss, theta = gradientDescent(X_train_copy,\n",
        "                                       y_train,\n",
        "                                       theta,\n",
        "                                       learning_rate,\n",
        "                                       iterations,\n",
        "                                       X_valid = X_valid_copy,\n",
        "                                       y_valid = y_valid,\n",
        "                                       loss_fn=MSE,\n",
        "                                       loss_fn_prim=MSE_prim,\n",
        "                                       decay = decay)\n",
        "\n"
      ],
      "execution_count": null,
      "outputs": [
        {
          "output_type": "stream",
          "name": "stdout",
          "text": [
            "notice : takes approximately 1 minute for 1k iters (MSE)\n"
          ]
        },
        {
          "output_type": "display_data",
          "data": {
            "application/vnd.jupyter.widget-view+json": {
              "model_id": "3cae631c7f6b469d8c79020866d07da4",
              "version_minor": 0,
              "version_major": 2
            },
            "text/plain": [
              "  0%|          | 0/1000 [00:00<?, ?it/s]"
            ]
          },
          "metadata": {}
        },
        {
          "output_type": "stream",
          "name": "stdout",
          "text": [
            "training_loss : 0.2174 | validation_loss : 0.2434\n"
          ]
        }
      ]
    },
    {
      "cell_type": "markdown",
      "metadata": {
        "id": "qyIUMTOztzpK"
      },
      "source": [
        "##### Plotting the fitted polynomials"
      ]
    },
    {
      "cell_type": "code",
      "metadata": {
        "colab": {
          "base_uri": "https://localhost:8080/"
        },
        "id": "Lw-a_qHTmTzE",
        "outputId": "2e10941b-19e3-4970-a7ca-1007cd06565c"
      },
      "source": [
        "# Predicting using the learned weights(theta)\n",
        "# Not used here but useful\n",
        "y_hat = theta*X_valid_copy\n",
        "y_hat = np.sum(y_hat, axis=1)\n",
        "print(MSE(X_valid_copy, y_valid, theta)*2)"
      ],
      "execution_count": null,
      "outputs": [
        {
          "output_type": "stream",
          "name": "stdout",
          "text": [
            "0.2434465221623726\n"
          ]
        }
      ]
    },
    {
      "cell_type": "code",
      "metadata": {
        "colab": {
          "base_uri": "https://localhost:8080/",
          "height": 336
        },
        "id": "pHD-DJgq8ees",
        "outputId": "d64426ba-e25e-4422-b36e-c3877213c512"
      },
      "source": [
        "plot_curve(X_train_copy, y_train, theta, title='Linear Regression')\n",
        "\n",
        "print(f\"Training Loss : {MSE(X_train_copy, y_train, theta)*2}\")\n",
        "print(f\"Validation Loss : {MSE(X_valid_copy, y_valid, theta)*2}\\n\")"
      ],
      "execution_count": null,
      "outputs": [
        {
          "output_type": "display_data",
          "data": {
            "image/png": "[encoded data removed]",
            "text/plain": [
              "<Figure size 432x288 with 1 Axes>"
            ]
          },
          "metadata": {}
        },
        {
          "output_type": "stream",
          "name": "stdout",
          "text": [
            "Training Loss : 0.2174390923329918\n",
            "Validation Loss : 0.2434465221623726\n",
            "\n"
          ]
        }
      ]
    },
    {
      "cell_type": "markdown",
      "metadata": {
        "id": "Us-pu3yGrWre"
      },
      "source": [
        "##### Plotting losses"
      ]
    },
    {
      "cell_type": "code",
      "metadata": {
        "colab": {
          "base_uri": "https://localhost:8080/",
          "height": 284
        },
        "id": "BJQgwQgNpTIz",
        "outputId": "8ab6252e-1cd7-47b6-d0d4-2247788d9c4a"
      },
      "source": [
        "plot_loss(history, starting_iter=20, title='Losses')"
      ],
      "execution_count": null,
      "outputs": [
        {
          "output_type": "display_data",
          "data": {
            "image/png": "[encoded data removed]",
            "text/plain": [
              "<Figure size 432x288 with 1 Axes>"
            ]
          },
          "metadata": {}
        }
      ]
    },
    {
      "cell_type": "markdown",
      "metadata": {
        "id": "0cLMxOLVqs8K"
      },
      "source": [
        "##### Plotting the learning rate"
      ]
    },
    {
      "cell_type": "code",
      "metadata": {
        "colab": {
          "base_uri": "https://localhost:8080/",
          "height": 284
        },
        "id": "RrjkD6dPqSkc",
        "outputId": "70dda330-85b0-4d2b-eeb8-4918f132882f"
      },
      "source": [
        "plot_lr(lr=learning_rate, iterations=iterations, decay=decay)"
      ],
      "execution_count": null,
      "outputs": [
        {
          "output_type": "display_data",
          "data": {
            "image/png": "[encoded data removed]",
            "text/plain": [
              "<Figure size 432x288 with 1 Axes>"
            ]
          },
          "metadata": {}
        }
      ]
    },
    {
      "cell_type": "markdown",
      "metadata": {
        "id": "zDeQDo3iCggi"
      },
      "source": [
        "##### Interactive history viewer\n",
        "You can use the slider to see a history of thetas\n",
        "\n",
        "which should allow you to look at the progression\n",
        "\n",
        "of the minization algorithm!"
      ]
    },
    {
      "cell_type": "code",
      "metadata": {
        "colab": {
          "base_uri": "https://localhost:8080/",
          "height": 318,
          "referenced_widgets": [
            "976d2a6946d848a99bb0d0e5d818c43f",
            "fe906819a8634ea0927e5c1a6e37ac5d",
            "3a91082462ed4123a859433f2397e37c",
            "8bb49a63019141589279d7626e3dcb35",
            "dabf9840f49d43f9b4f726b53e904697",
            "dea5358be4b54c868102587a77fda22f",
            "4cddcdcedf334d8b8c71bfabb0e927a6"
          ]
        },
        "id": "bCbEHA13AuoW",
        "outputId": "35bcbe05-ba3b-401f-83c7-51f6c612d36c"
      },
      "source": [
        "from ipywidgets import interact\n",
        "import ipywidgets as widgets\n",
        "\n",
        "@interact(iteration = widgets.IntSlider(min=0, max=iterations-1, step=10, value=0))\n",
        "def plot_weight_history(iteration):\n",
        "  plot_curve(X_train_copy, y_train, history[\"weights\"][iteration])\n",
        "\n",
        "print(\"Use the slider to see the algorithms progression\")"
      ],
      "execution_count": null,
      "outputs": [
        {
          "output_type": "display_data",
          "data": {
            "application/vnd.jupyter.widget-view+json": {
              "model_id": "976d2a6946d848a99bb0d0e5d818c43f",
              "version_minor": 0,
              "version_major": 2
            },
            "text/plain": [
              "interactive(children=(IntSlider(value=0, description='iteration', max=999, step=10), Output()), _dom_classes=(…"
            ]
          },
          "metadata": {}
        },
        {
          "output_type": "stream",
          "name": "stdout",
          "text": [
            "Use the slider to see the algorithms progression\n"
          ]
        }
      ]
    },
    {
      "cell_type": "markdown",
      "metadata": {
        "id": "sHbSaCPxKWd0"
      },
      "source": [
        "## Part 4 - Plotting every Case!\n",
        "Polynomial Degree : \n",
        "*   5\n",
        "*   8\n",
        "*   10\n",
        "\n",
        "Loss Functions :\n",
        "*   MSE\n",
        "*   RMSE\n",
        "*   MAE\n",
        "\n",
        "Iterations :\n",
        "*   1000\n",
        "*   10000\n",
        "\n"
      ]
    },
    {
      "cell_type": "code",
      "metadata": {
        "id": "HClbWSRpLFC2"
      },
      "source": [
        "# Global Hyper-Parameters\n",
        "# we plot the 'max_iteration' curve (green)\n",
        "# and 'other_iteration_to_display' curve (red)\n",
        "iterations = max_iterations\n",
        "other_iteration_to_display = iterations//10 # The red line in the plots ()\n",
        "\n",
        "# Grid Hyper-Parameters\n",
        "polynomial_degrees = [10, 8, 5]\n",
        "\n",
        "loss_functions = [(MAE, MAE_prim),\n",
        "                  (RMSE, RMSE_prim),\n",
        "                  (MSE, MSE_prim)]\n",
        "fn_labels = [\"MAE\", \"RMSE\", \"MSE\"]\n",
        "\n",
        "#         MAE  RMSE  MSE\n",
        "lrs    = [0.26, 1.4, 2.23]\n",
        "decays = [0,  0,  5e-9]"
      ],
      "execution_count": null,
      "outputs": []
    },
    {
      "cell_type": "markdown",
      "metadata": {
        "id": "-df7lwzKMdKR"
      },
      "source": [
        "#### Training all 9 models"
      ]
    },
    {
      "cell_type": "code",
      "metadata": {
        "colab": {
          "base_uri": "https://localhost:8080/",
          "height": 774,
          "referenced_widgets": [
            "35a8244c9710474bbade5dfa3b6af728",
            "967002e179ab4c5cb50f00209e392e4e",
            "50572da441d0429496fc9f035baad18e",
            "06133f38b167475eb0b6d10953100523",
            "4b38dca1b2874039afcb80fbb7a6fe56",
            "579702f74a36425bb4b33dd1fdb7b049",
            "764e4222e74f466ba7e22d390dff37d0",
            "a2c90ba5c5174742a506b904658c56ab",
            "7d8ff25a299b446690580ab218bb0f95",
            "4fd24e17071e40ada0afbaa0979458f0",
            "971dfa59b73442ac87d8a9863da25ecf",
            "13a9b5dc8234496ebfd6b8fa37fc474c",
            "35156f060fb34feda859e0597f687dc3",
            "1edbbb28d5ae41bf81130369339da9f2",
            "045b57e3dd414f72b1c09f635ae8cefd",
            "4b774ac7226b47279ad560d39cc073ee",
            "b76d83276a864677843e9c6639e80cc8",
            "ce5f6ca12cba47409a4203e8ebc74740",
            "2a74eab699f6458ea577a3009032283a",
            "928fe783f7cd444ea2b40d3826275841",
            "3f5f26004a454758b4dd814a66b238a5",
            "d2dfe054c43f4e3ba264eee8d02cf8d3",
            "305e525ecd114430b8271b619cbfed04",
            "62997ee527f1452589063091ca173cbb",
            "c8fe80abfd91460b986464de6cb27b40",
            "94f4831f9cec4ce886f520c599735faf",
            "4c3466dd14934f20bc4648099dc883cf",
            "dbd67db146a84223b52dea6d1f1c3060",
            "c5d29d2371a54b439c5f791f0de09606",
            "8ec34aeea05b471b8126cee4f8f9bc2a",
            "96f52926b4f748d980f10e43ab58c5ea",
            "a1ee463ba5d046b68331900f2be91424",
            "bcfe99c667b24cc19f7f265077a5f3ca",
            "fc94df55fdbd4b6d87d59cb0a56ed580",
            "602cc51ead724628aaacda0d518e45f4",
            "cd6211f6477446f1ac162b0350bf9f8a",
            "ba64f839c2a640c9a8f7444fed126b2e",
            "30074864b7774f108aea8dc9bb736733",
            "256077e54e174131b3a463d6df4c25b8",
            "b31f713bf5964d54b70febfe99fc936d",
            "c9ed06aeed174823907982dbfdfb3e36",
            "c3958327dd5d4ebeb6609ed55b51f9e7",
            "705d1ee1c5cf4730b4a9521b2a151794",
            "fce0222ec5d44b79878ac50f449cda38",
            "7c3ba9b7c24741aaa9b191b6ef8de4a2",
            "7c538c852ab34a4a9ec2b23162b13b63",
            "878503c89ba5462ebfc7150b3a94b0e8",
            "2aa9d4ad003b4707848dd4670b745173",
            "bf13ea1a079c4047a2c4a10a36522252",
            "4ce97919493b414c8dc406dee24394bc",
            "8e3f0824855a44a5b4cef2cac5481048",
            "36e0920712e845ceab9c5fc6bc299f22",
            "fec1bac039ff4f08b406218a70cd34ac",
            "48eca0fdf59e4a489bdf260c4e921509",
            "ab09e98d1ada4c18826a015e514ef06a",
            "a731fc8d9ed94cf6ba30639b53a07bea",
            "3309216a511c43b19ff0f712ef0a366b",
            "1249286c7da04ba38ce6884d86af36fc",
            "81ae0c8c44fa49f9b2ce3b86b52f1260",
            "664c171365954a699caefee09d72f197",
            "54f2f7cbbf1748ddbd1cc51b3ffc7bc3",
            "5670c7afd83b4e0481731860ec69f955",
            "3005caae72494698bb4d121488c03088",
            "a9b221bf56ba4e62835225936799faed",
            "fbafad08c035494ba31c8ba946b56d0d",
            "f635af8faaed450db9d3d764df23c2c9",
            "628c933d188c4f57905469db56e3ba0a",
            "2f550b3cd3f644d3893167fb4a3ebdcf",
            "0799c4d00bdd48478f3ff23e45006378",
            "24e032cdf1d0418eb742aa9d0be1c855",
            "37606b9111da462da083621398e327dc",
            "bd03a6b92a114ee5b0b2528369e1a401",
            "c57f7befbe52466a8c812ffaad5211e6",
            "bc5e42eae3294057ab32533385909816",
            "0bf47a8c46fe47cdb88bbe64777b5a54",
            "bec4bf36cb5c40b39a1805a7912955a3",
            "8e3e7cfedd784493a8a12bca4b6ee5c7",
            "1a5ec71ca1754bdb8a5b66bd18572063",
            "c810f7af1c444d44a8c5af36bce4f2d3",
            "7cb14d6fc7324d29b44c0429af7f364d",
            "19a2fa3c560845d9a40ae51ff15d8fda",
            "0d863fc0bd04431a9734b4d059fcb122",
            "bbd8c510baed490e9a9db2112adee76e",
            "29303fc217094cd99892fc44ae3bea64",
            "7a6b81926a5a49d09a81776d534d0e1b",
            "f01042b6292e419d8ae137f90e7bd1e2",
            "d90e84b2020c43d1860576877b678d2a",
            "a0ad26f753af4ca2bfb81c55a11a3966",
            "ebaa2d701cea438586fd194fc398c143",
            "e74641858ebf48628a0763bda6a61c10",
            "ea11388f18d44e47ac53c36da4bb5613",
            "15bc30aee64b46a7837aa418fd970828",
            "7af93ee528b14128b89754a443a84abe",
            "e03b283905974e29987e99d21d2711d1",
            "025e7523a3234c4ab34cc4f0fae36792",
            "ff30d5e709c74f7282589b26add4faa3",
            "5a7d16a4a2fe4be1896a2cb458627908",
            "59f4ab0c41aa4ee498dffa3f139d8e83",
            "9cc7b4bde1ac4d04bb69026805cca03e"
          ]
        },
        "id": "E7IxVoDdM_TP",
        "outputId": "10a64ced-f12b-4a70-828b-0546abff3672"
      },
      "source": [
        "# Containers used for storing results about each model\n",
        "# Used later by the plotting functions\n",
        "thetas = [[[],[],[]],\n",
        "          [[],[],[]],\n",
        "          [[],[],[]]]\n",
        "\n",
        "losses = [[[],[],[]],\n",
        "          [[],[],[]],\n",
        "          [[],[],[]]]\n",
        "\n",
        "histories = [[[],[],[]],\n",
        "             [[],[],[]],\n",
        "             [[],[],[]]]\n",
        "\n",
        "# start the training process for each model\n",
        "for i,degree in enumerate(polynomial_degrees):\n",
        "  for j, (loss_fn, loss_fn_prim) in enumerate(loss_functions):\n",
        "    print(f\"degree: {degree} | loss function: {fn_labels[j]}\")\n",
        "    \n",
        "    # preprocess data (univariate non-linear to multivariate linear)\n",
        "    X_train_copy = X_train.copy()\n",
        "    X_valid_copy = X_valid.copy()\n",
        "    polynomial_to_linear_regression(X_train_copy, degree)\n",
        "    polynomial_to_linear_regression(X_valid_copy, degree)\n",
        "\n",
        "    # Initialize the weights with random values\n",
        "    theta = np.random.rand(len(X_train_copy.columns),)\n",
        "\n",
        "    # j(loss function) specific learning rate\n",
        "    _learning_rate = lrs[j]\n",
        "\n",
        "    # j(loss function) specific decay value\n",
        "    _decay = decays[j]\n",
        "\n",
        "    # Start the training\n",
        "    history, loss, theta = gradientDescent(X_train_copy,\n",
        "                                          y_train,\n",
        "                                          theta,\n",
        "                                          _learning_rate,\n",
        "                                          iterations,\n",
        "                                          X_valid = X_valid_copy,\n",
        "                                          y_valid = y_valid,\n",
        "                                          loss_fn = loss_fn,\n",
        "                                          loss_fn_prim = loss_fn_prim,\n",
        "                                          decay = _decay)\n",
        "\n",
        "    # Saving latest iteration's theta for each model\n",
        "    thetas[i][j].append(history[\"weights\"][-1])\n",
        "    # Saving halfway theta for each model\n",
        "    thetas[i][j].append(history[\"weights\"][int(other_iteration_to_display)-1]) # -1 : zero-indexed\n",
        "\n",
        "    # Saving Training loss for each model\n",
        "    losses[i][j].append(loss_fn(X_train_copy, y_train, theta)*2)\n",
        "    # Saving Validation loss for each model\n",
        "    losses[i][j].append(loss_fn(X_valid_copy, y_valid, theta)*2)\n",
        "    # Saving Histories for each model (used for plotting loss per iteration)\n",
        "    histories[i][j].append(history)\n",
        "\n",
        "    print()"
      ],
      "execution_count": null,
      "outputs": [
        {
          "output_type": "stream",
          "name": "stdout",
          "text": [
            "degree: 10 | loss function: MAE\n"
          ]
        },
        {
          "output_type": "display_data",
          "data": {
            "application/vnd.jupyter.widget-view+json": {
              "model_id": "35a8244c9710474bbade5dfa3b6af728",
              "version_minor": 0,
              "version_major": 2
            },
            "text/plain": [
              "  0%|          | 0/10000 [00:00<?, ?it/s]"
            ]
          },
          "metadata": {}
        },
        {
          "output_type": "stream",
          "name": "stdout",
          "text": [
            "training_loss : 0.3431 | validation_loss : 0.3584\n",
            "\n",
            "degree: 10 | loss function: RMSE\n"
          ]
        },
        {
          "output_type": "display_data",
          "data": {
            "application/vnd.jupyter.widget-view+json": {
              "model_id": "13a9b5dc8234496ebfd6b8fa37fc474c",
              "version_minor": 0,
              "version_major": 2
            },
            "text/plain": [
              "  0%|          | 0/10000 [00:00<?, ?it/s]"
            ]
          },
          "metadata": {}
        },
        {
          "output_type": "stream",
          "name": "stdout",
          "text": [
            "training_loss : 0.5578 | validation_loss : 0.5954\n",
            "\n",
            "degree: 10 | loss function: MSE\n"
          ]
        },
        {
          "output_type": "display_data",
          "data": {
            "application/vnd.jupyter.widget-view+json": {
              "model_id": "305e525ecd114430b8271b619cbfed04",
              "version_minor": 0,
              "version_major": 2
            },
            "text/plain": [
              "  0%|          | 0/10000 [00:00<?, ?it/s]"
            ]
          },
          "metadata": {}
        },
        {
          "output_type": "stream",
          "name": "stdout",
          "text": [
            "training_loss : 0.1572 | validation_loss : 0.1793\n",
            "\n",
            "degree: 8 | loss function: MAE\n"
          ]
        },
        {
          "output_type": "display_data",
          "data": {
            "application/vnd.jupyter.widget-view+json": {
              "model_id": "fc94df55fdbd4b6d87d59cb0a56ed580",
              "version_minor": 0,
              "version_major": 2
            },
            "text/plain": [
              "  0%|          | 0/10000 [00:00<?, ?it/s]"
            ]
          },
          "metadata": {}
        },
        {
          "output_type": "stream",
          "name": "stdout",
          "text": [
            "training_loss : 0.3491 | validation_loss : 0.3622\n",
            "\n",
            "degree: 8 | loss function: RMSE\n"
          ]
        },
        {
          "output_type": "display_data",
          "data": {
            "application/vnd.jupyter.widget-view+json": {
              "model_id": "7c3ba9b7c24741aaa9b191b6ef8de4a2",
              "version_minor": 0,
              "version_major": 2
            },
            "text/plain": [
              "  0%|          | 0/10000 [00:00<?, ?it/s]"
            ]
          },
          "metadata": {}
        },
        {
          "output_type": "stream",
          "name": "stdout",
          "text": [
            "training_loss : 0.586 | validation_loss : 0.6264\n",
            "\n",
            "degree: 8 | loss function: MSE\n"
          ]
        },
        {
          "output_type": "display_data",
          "data": {
            "application/vnd.jupyter.widget-view+json": {
              "model_id": "a731fc8d9ed94cf6ba30639b53a07bea",
              "version_minor": 0,
              "version_major": 2
            },
            "text/plain": [
              "  0%|          | 0/10000 [00:00<?, ?it/s]"
            ]
          },
          "metadata": {}
        },
        {
          "output_type": "stream",
          "name": "stdout",
          "text": [
            "training_loss : 0.1742 | validation_loss : 0.1985\n",
            "\n",
            "degree: 5 | loss function: MAE\n"
          ]
        },
        {
          "output_type": "display_data",
          "data": {
            "application/vnd.jupyter.widget-view+json": {
              "model_id": "628c933d188c4f57905469db56e3ba0a",
              "version_minor": 0,
              "version_major": 2
            },
            "text/plain": [
              "  0%|          | 0/10000 [00:00<?, ?it/s]"
            ]
          },
          "metadata": {}
        },
        {
          "output_type": "stream",
          "name": "stdout",
          "text": [
            "training_loss : 0.3411 | validation_loss : 0.3474\n",
            "\n",
            "degree: 5 | loss function: RMSE\n"
          ]
        },
        {
          "output_type": "display_data",
          "data": {
            "application/vnd.jupyter.widget-view+json": {
              "model_id": "1a5ec71ca1754bdb8a5b66bd18572063",
              "version_minor": 0,
              "version_major": 2
            },
            "text/plain": [
              "  0%|          | 0/10000 [00:00<?, ?it/s]"
            ]
          },
          "metadata": {}
        },
        {
          "output_type": "stream",
          "name": "stdout",
          "text": [
            "training_loss : 0.6039 | validation_loss : 0.6368\n",
            "\n",
            "degree: 5 | loss function: MSE\n"
          ]
        },
        {
          "output_type": "display_data",
          "data": {
            "application/vnd.jupyter.widget-view+json": {
              "model_id": "ebaa2d701cea438586fd194fc398c143",
              "version_minor": 0,
              "version_major": 2
            },
            "text/plain": [
              "  0%|          | 0/10000 [00:00<?, ?it/s]"
            ]
          },
          "metadata": {}
        },
        {
          "output_type": "stream",
          "name": "stdout",
          "text": [
            "training_loss : 0.1823 | validation_loss : 0.2027\n",
            "\n"
          ]
        }
      ]
    },
    {
      "cell_type": "markdown",
      "metadata": {
        "id": "3JxGJnqFWeOq"
      },
      "source": [
        "##### Plotting fitted curves\n"
      ]
    },
    {
      "cell_type": "code",
      "metadata": {
        "id": "0dQbhlkU72wR",
        "colab": {
          "base_uri": "https://localhost:8080/",
          "height": 681
        },
        "outputId": "3aea7653-fa21-4f09-ee58-5f3438f4aa42"
      },
      "source": [
        "plot_every_curve(X_train,\n",
        "                 y_train,\n",
        "                 thetas,\n",
        "                 line_widths=[3,2],\n",
        "                 i_max=len(polynomial_degrees),\n",
        "                 j_max=len(loss_functions),\n",
        "                 dpi=64)"
      ],
      "execution_count": null,
      "outputs": [
        {
          "output_type": "display_data",
          "data": {
            "text/plain": [
              "<Figure size 432x288 with 0 Axes>"
            ]
          },
          "metadata": {}
        },
        {
          "output_type": "display_data",
          "data": {
            "image/png": "[encoded data removed]",
            "text/plain": [
              "<Figure size 1024x640 with 9 Axes>"
            ]
          },
          "metadata": {}
        }
      ]
    },
    {
      "cell_type": "markdown",
      "metadata": {
        "id": "uR-KjUnvILVT"
      },
      "source": [
        "##### Plotting train/valid loss"
      ]
    },
    {
      "cell_type": "code",
      "metadata": {
        "id": "GPeGdU-4J7UP",
        "colab": {
          "base_uri": "https://localhost:8080/",
          "height": 681
        },
        "outputId": "3861d9ad-e8f9-4886-f710-b877dbf2eb96"
      },
      "source": [
        "plot_every_case_loss(histories,\n",
        "                     starting_iter=100,\n",
        "                     i_max=len(polynomial_degrees),\n",
        "                     j_max=len(loss_functions),\n",
        "                     dpi=64)"
      ],
      "execution_count": null,
      "outputs": [
        {
          "output_type": "display_data",
          "data": {
            "text/plain": [
              "<Figure size 432x288 with 0 Axes>"
            ]
          },
          "metadata": {}
        },
        {
          "output_type": "display_data",
          "data": {
            "image/png": "[encoded data removed]",
            "text/plain": [
              "<Figure size 1024x640 with 9 Axes>"
            ]
          },
          "metadata": {}
        }
      ]
    },
    {
      "cell_type": "markdown",
      "metadata": {
        "id": "AkQZwcNPEppX"
      },
      "source": [
        "##### Plotting Learning Rate"
      ]
    },
    {
      "cell_type": "code",
      "metadata": {
        "id": "4KqIb0R9EpTG",
        "colab": {
          "base_uri": "https://localhost:8080/",
          "height": 922
        },
        "outputId": "b689a890-d110-4e3f-a425-74bded5cef2a"
      },
      "source": [
        "for lr, decay, fn_name in zip(lrs, decays, fn_labels):\n",
        "  print(f\"{fn_name} | initial learning rate = {lr} | decay={decay}\")\n",
        "  plot_lr(lr=lr, iterations=iterations, decay=decay)\n",
        "  print()"
      ],
      "execution_count": null,
      "outputs": [
        {
          "output_type": "stream",
          "name": "stdout",
          "text": [
            "MAE | initial learning rate = 0.26 | decay=0\n"
          ]
        },
        {
          "output_type": "display_data",
          "data": {
            "image/png": "[encoded data removed]",
            "text/plain": [
              "<Figure size 432x288 with 1 Axes>"
            ]
          },
          "metadata": {}
        },
        {
          "output_type": "stream",
          "name": "stdout",
          "text": [
            "\n",
            "RMSE | initial learning rate = 1.4 | decay=0\n"
          ]
        },
        {
          "output_type": "display_data",
          "data": {
            "image/png": "[encoded data removed]",
            "text/plain": [
              "<Figure size 432x288 with 1 Axes>"
            ]
          },
          "metadata": {}
        },
        {
          "output_type": "stream",
          "name": "stdout",
          "text": [
            "\n",
            "MSE | initial learning rate = 2.23 | decay=5e-09\n"
          ]
        },
        {
          "output_type": "display_data",
          "data": {
            "image/png": "[encoded data removed]",
            "text/plain": [
              "<Figure size 432x288 with 1 Axes>"
            ]
          },
          "metadata": {}
        },
        {
          "output_type": "stream",
          "name": "stdout",
          "text": [
            "\n"
          ]
        }
      ]
    },
    {
      "cell_type": "markdown",
      "metadata": {
        "id": "Kjqk6AqIxPDi"
      },
      "source": [
        "## Part 5 - Normal Equation\n"
      ]
    },
    {
      "cell_type": "code",
      "metadata": {
        "id": "3WpbSAPaupW3"
      },
      "source": [
        "# preprocess data (univariate non-linear to multivariate linear)\n",
        "X_train_copy = X_train.copy()\n",
        "X_valid_copy = X_valid.copy()\n",
        "polynomial_to_linear_regression(X_train_copy, 8)\n",
        "polynomial_to_linear_regression(X_valid_copy, 8)"
      ],
      "execution_count": null,
      "outputs": []
    },
    {
      "cell_type": "code",
      "metadata": {
        "id": "KqK6Wk8PzQ6e"
      },
      "source": [
        "normal_theta = normalEquation(X_train_copy, y_train)"
      ],
      "execution_count": null,
      "outputs": []
    },
    {
      "cell_type": "code",
      "metadata": {
        "id": "V0w2ottpy7nZ",
        "colab": {
          "base_uri": "https://localhost:8080/",
          "height": 301
        },
        "outputId": "5a85906c-b23e-4931-fc75-d2497724bea5"
      },
      "source": [
        "# Plotting the fitted polynomial over training data\n",
        "plot_curve(X_train_copy, y_train, normal_theta, title=\"No regularization\")\n",
        "print(f\"Training Loss(RMSE) : {RMSE(X_train_copy, y_train, normal_theta)*2}\")"
      ],
      "execution_count": null,
      "outputs": [
        {
          "output_type": "display_data",
          "data": {
            "image/png": "[encoded data removed]",
            "text/plain": [
              "<Figure size 432x288 with 1 Axes>"
            ]
          },
          "metadata": {}
        },
        {
          "output_type": "stream",
          "name": "stdout",
          "text": [
            "Training Loss(RMSE) : 0.5459887502985113\n"
          ]
        }
      ]
    },
    {
      "cell_type": "code",
      "metadata": {
        "id": "nw-t8U9Stxdb",
        "colab": {
          "base_uri": "https://localhost:8080/",
          "height": 319
        },
        "outputId": "4ecbae59-c567-4773-ecf3-24974c463cc1"
      },
      "source": [
        "# Plotting the fitted polynomial over validation data\n",
        "plot_curve(X_valid_copy, y_valid, normal_theta, title=\"No regularization\")\n",
        "print(f\"Validation Loss : {RMSE(X_valid_copy, y_valid, normal_theta)*2}\\n\")"
      ],
      "execution_count": null,
      "outputs": [
        {
          "output_type": "display_data",
          "data": {
            "image/png": "[encoded data removed]",
            "text/plain": [
              "<Figure size 432x288 with 1 Axes>"
            ]
          },
          "metadata": {}
        },
        {
          "output_type": "stream",
          "name": "stdout",
          "text": [
            "Validation Loss : 0.5883426955250226\n",
            "\n"
          ]
        }
      ]
    },
    {
      "cell_type": "markdown",
      "metadata": {
        "id": "78kaJOUf6wuy"
      },
      "source": [
        "## Part 6 - Regularized Normal Equation"
      ]
    },
    {
      "cell_type": "code",
      "metadata": {
        "id": "-OS2xyzl6sfU"
      },
      "source": [
        "loss_fn = RMSE # as asked in the question\n",
        "\n",
        "reg_normal_theta1 = regularizedNormalEquation(X_train_copy, y_train, lambd=0.075)\n",
        "# plot_curve(X_train, y_train, reg_normal_theta, title=\"lambda=0.1\")\n",
        "reg_normal_theta2 = regularizedNormalEquation(X_train_copy, y_train, lambd=0.75)\n",
        "# plot_curve(X_train, y_train, reg_normal_theta, title=\"lambda=1\")\n",
        "reg_normal_theta3 = regularizedNormalEquation(X_train_copy, y_train, lambd=7.5)\n",
        "# plot_curve(X_train, y_train, reg_normal_theta, title=\"lambda=4\")"
      ],
      "execution_count": null,
      "outputs": []
    },
    {
      "cell_type": "code",
      "metadata": {
        "id": "5ybXcyorDbKu",
        "colab": {
          "base_uri": "https://localhost:8080/"
        },
        "outputId": "aeba3700-9526-4f46-a859-e683026a0d0e"
      },
      "source": [
        "names = [\"λ = 0.075\", \"λ = 0.75\", \"λ = 7.5\"]\n",
        "\n",
        "training_errors = [round(loss_fn(X_train_copy, y_train, reg_normal_theta1)*2,5),\n",
        "                   round(loss_fn(X_train_copy, y_train, reg_normal_theta2)*2,5),\n",
        "                   round(loss_fn(X_train_copy, y_train, reg_normal_theta3)*2,5)]\n",
        "\n",
        "validation_errors =[round(loss_fn(X_valid_copy, y_valid, reg_normal_theta1)*2,5),\n",
        "                    round(loss_fn(X_valid_copy, y_valid, reg_normal_theta2)*2,5),\n",
        "                    round(loss_fn(X_valid_copy, y_valid, reg_normal_theta3)*2,5)]\n",
        "\n",
        "for i in range(len(names)):\n",
        "  print(f\"{i} - Regularized Normal Equation ({names[i]})\")\n",
        "  print(f\"Training Loss : {training_errors[i]}\")\n",
        "  print(f\"Validation Loss : {validation_errors[i]}\\n\")"
      ],
      "execution_count": null,
      "outputs": [
        {
          "output_type": "stream",
          "name": "stdout",
          "text": [
            "0 - Regularized Normal Equation (λ = 0.075)\n",
            "Training Loss : 0.66061\n",
            "Validation Loss : 0.70674\n",
            "\n",
            "1 - Regularized Normal Equation (λ = 0.75)\n",
            "Training Loss : 0.85344\n",
            "Validation Loss : 0.90629\n",
            "\n",
            "2 - Regularized Normal Equation (λ = 7.5)\n",
            "Training Loss : 1.02587\n",
            "Validation Loss : 1.06704\n",
            "\n"
          ]
        }
      ]
    },
    {
      "cell_type": "code",
      "metadata": {
        "id": "lxyAKNrD-TRz",
        "colab": {
          "base_uri": "https://localhost:8080/",
          "height": 355
        },
        "outputId": "8c87246b-ec26-46fe-b440-5de9c50397cf"
      },
      "source": [
        "plot_normal_equations(X_train, y_train, dpi=105)"
      ],
      "execution_count": null,
      "outputs": [
        {
          "output_type": "display_data",
          "data": {
            "image/png": "[encoded data removed]",
            "text/plain": [
              "<Figure size 630x420 with 1 Axes>"
            ]
          },
          "metadata": {}
        }
      ]
    },
    {
      "cell_type": "markdown",
      "metadata": {
        "id": "0psgvqfikDVG"
      },
      "source": [
        "Thanks for reading.\n",
        "if you have any questions:\n",
        "* gholamrezadar@gmail.com\n",
        "* instagram : @gholamreza_dar\n",
        "* telegram  : @gholamrezadar"
      ]
    }
  ]
}