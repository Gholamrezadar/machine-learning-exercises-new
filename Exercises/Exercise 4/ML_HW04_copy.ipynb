{
 "cells": [
  {
   "cell_type": "code",
   "execution_count": 1,
   "metadata": {
    "id": "mBMoPLmGbrIn"
   },
   "outputs": [],
   "source": [
    "from amalearn.reward import RewardBase\n",
    "from amalearn.agent import AgentBase"
   ]
  },
  {
   "cell_type": "code",
   "execution_count": 2,
   "metadata": {
    "id": "YBACGmh0brIr"
   },
   "outputs": [],
   "source": [
    "from amalearn.environment import EnvironmentBase\n",
    "import gym\n",
    "import numpy as np\n",
    "import matplotlib.pyplot as plt"
   ]
  },
  {
   "cell_type": "code",
   "execution_count": 3,
   "metadata": {
    "id": "pH6sNHxPbrIs"
   },
   "outputs": [],
   "source": [
    "\n",
    "class Environment(EnvironmentBase):\n",
    "    def __init__(self, obstacle = [] ,id = 0, action_count=9, actionPrice = -1, goalReward = 100, punish=-10, j_limit = 10, i_limit = 10, p = 0.8, container=None):\n",
    "        \"\"\"\n",
    "        initialize your variables\n",
    "        \"\"\"\n",
    "        state_space = gym.spaces.MultiDiscrete([17,17])\n",
    "        action_space = gym.spaces.Discrete(9)\n",
    "        super(Environment, self).__init__(action_space,state_space,id,container)\n",
    "        \n",
    "        \n",
    "        self.opt_policy = None\n",
    "        self.opt_values = None\n",
    "        self.state = [15,15]\n",
    "        self.mu = p\n",
    "        self.goalReward = goalReward\n",
    "        self.punish = punish\n",
    "        self.actionPrice = actionPrice\n",
    "        self.state_space = state_space\n",
    "        \n",
    "    def isStatePossible(self, state):\n",
    "        \"\"\"if given state is possible (not out of the grid and not obstacle) return ture\"\"\"\n",
    "        x, y = state[0], state[1]\n",
    "        if x < 1 or x > 15 or y < 1 or y > 15:\n",
    "            return False\n",
    "        \n",
    "        if x == 6 or x == 7:\n",
    "            if y > 11:\n",
    "                return False\n",
    "        \n",
    "        if x == 7 or x == 8:\n",
    "            if y < 5: \n",
    "                return False\n",
    "            \n",
    "        if x > 12:\n",
    "            if y == 8 or y == 9:\n",
    "                return False\n",
    "            \n",
    "        return True\n",
    "    \n",
    "    def isAccessible(self, state, state_p):\n",
    "        \"\"\"if given state is Accesible (we can reach state_p by doing an action from state) return true\"\"\"\n",
    "        if np.abs(state[0] - state_p[0]) > 1 or np.abs(state[1] - state_p[1]) > 1:\n",
    "            return False\n",
    "        else:\n",
    "            return self.isStatePossible(state_p)\n",
    "        \n",
    "    def getTransitionStatesAndProbs(self, state, action, state_p):\n",
    "        \"\"\"return probability of transition or T(sp,a,s)\"\"\"\n",
    "        act = self.get_action(action)\n",
    "        p = 0\n",
    "        f = 0\n",
    "        if state[0] + act[0] == state_p[0] and state[1] + act[1] == state_p[1]:\n",
    "            p = p + self.mu\n",
    "        \n",
    "        for i in [-1,0,1]:\n",
    "            for j in [-1,0,1]:\n",
    "                f += self.isAccessible(state, [state[0]+i, state[1]+j])\n",
    "        \n",
    "        if self.isAccessible(state, state_p):\n",
    "            p = p + 0.2/f\n",
    "        \n",
    "        return p\n",
    "    \n",
    "    def getReward(self, state, action, state_p):\n",
    "        \"\"\"return reward of transition\"\"\"\n",
    "        if state_p[0] == 1 and state_p[1] == 1:\n",
    "            return self.goalReward\n",
    "        \n",
    "        if self.isAccessible(state, state_p):\n",
    "            return self.actionPrice\n",
    "        \n",
    "        return self.punish\n",
    "    \n",
    "    def sample_all_rewards(self):\n",
    "        return \n",
    "    \n",
    "    def get_action(self, action):\n",
    "        if action == 0:\n",
    "            return [-1,-1]\n",
    "        if action == 1:\n",
    "            return [-1,0]\n",
    "        if action == 2:\n",
    "            return [-1,1]\n",
    "        if action == 3:\n",
    "            return [0,-1]\n",
    "        if action == 4:\n",
    "            return [0,0]\n",
    "        if action == 5:\n",
    "            return [0,1]\n",
    "        if action == 6:\n",
    "            return [1,-1]\n",
    "        if action == 7:\n",
    "            return [1,0]\n",
    "        if action == 8:\n",
    "            return [1,1]\n",
    "\n",
    "\n",
    "    def calculate_reward(self, action):\n",
    "        s = self.state\n",
    "        sp = self.pred(action)\n",
    "        return self.getReward(s,action,sp)\n",
    "\n",
    "    def terminated(self):\n",
    "        return self.state == [1,1] \n",
    "\n",
    "    def observe(self):\n",
    "        return self.state\n",
    "\n",
    "    def available_actions(self):\n",
    "        return [0,1,2,3,4,5,6,7,8]\n",
    "\n",
    "    def pred(self, action):\n",
    "        s = self.state\n",
    "        prob = np.zeros((9,))\n",
    "        act = self.get_action(action)\n",
    "        s_p = []\n",
    "        for i in [-1,0,1]:\n",
    "            for j in [-1,0,1]:\n",
    "                s_p.append([s[0] + i, s[1] + j])\n",
    "        for i in range(9):\n",
    "            prob[i] = self.getTransitionStatesAndProbs(s, action, s_p[i])\n",
    "            \n",
    "        c = np.random.choice(self.available_actions(), p = prob)\n",
    "        c = self.get_action(c)\n",
    "        next_state = [0,0]\n",
    "        next_state[0] = s[0] + c[0]\n",
    "        next_state[1] = s[1] + c[1]\n",
    "        self.sp = next_state\n",
    "        return next_state\n",
    "    \n",
    "    def next_state(self,action):\n",
    "        s = self.state\n",
    "        if self.isAccessible(s,self.sp):\n",
    "            self.state = self.sp\n",
    "            return self.sp\n",
    "        return s\n",
    "    \n",
    "    def reset(self):\n",
    "        self.state = [15,15]\n",
    "\n",
    "    def render(self, mode='human'):\n",
    "        #print('{}:\\taction={}'.format(self.state['length'], self.state['last_action']))\n",
    "        return \n",
    "\n",
    "    def close(self):\n",
    "        return"
   ]
  },
  {
   "cell_type": "code",
   "execution_count": 4,
   "metadata": {
    "id": "898Jlhsycyes"
   },
   "outputs": [],
   "source": [
    "import numpy as np\n",
    "\n",
    "class Agent(AgentBase):\n",
    "    def __init__(self, id, environment, discount, theta, policy_iteration = True):\n",
    "        #initialize a random policy and V(s) = 0 for each state\n",
    "        self.environment = environment\n",
    "        self.mapp = {}\n",
    "        #mapp states to its ids\n",
    "        self.V = np.zeros((17,17))\n",
    "        #init V\n",
    "        self.policy = np.random.randint(0,9,(17,17))\n",
    "        #init policy\n",
    "        super(Agent, self).__init__(id, environment)\n",
    "        self.discount = discount\n",
    "        self.theta = theta\n",
    "        self.policy_iteration = policy_iteration\n",
    "    def policy_evaluation(self):\n",
    "        V = self.V\n",
    "        while True:\n",
    "            delta = 0.01\n",
    "            for i in range(1,16):\n",
    "                for j in range(1,16):\n",
    "                    v = self.V[i,j]\n",
    "                    v_new = 0\n",
    "                    action = self.policy[i,j]\n",
    "#                     prob = np.zeros((9,))\n",
    "#                     rew = np.zeros((9,))\n",
    "                    for k in [-1,0,1]:\n",
    "                        for l in [-1,0,1]:\n",
    "                            rew = ( self.environment.getReward([i,j], action, [i + k, j + l]))\n",
    "                            prob = (self.environment.getTransitionStatesAndProbs([i,j], action, [i + k, j + l]))\n",
    "                            v_new += prob*(rew + self.discount*self.V[i+k,j+l])\n",
    "                    \n",
    "                    V[i,j] = v_new\n",
    "                    delta = np.max([delta, np.abs(v_new - v)])\n",
    "                    if delta < self.theta:\n",
    "                        return V\n",
    "                    \n",
    "    def policy_improvement(self):\n",
    "        stable = True\n",
    "        for i in range(1,16):\n",
    "            for j in range(1,16):\n",
    "                old_action = self.policy[i,j]\n",
    "                qs = []\n",
    "                for action in range(9):\n",
    "#                     prob = np.zeros((9,))\n",
    "#                     rew = np.zeros((9,))\n",
    "                    q = 0\n",
    "                    for k in [-1,0,1]:\n",
    "                        for l in [-1,0,1]:\n",
    "                            rew = ( self.environment.getReward([i,j], action, [i + k, j + l]))\n",
    "                            prob = (self.environment.getTransitionStatesAndProbs([i,j], action, [i + k, j + l]))\n",
    "                            q += prob*(rew + self.discount*self.V[i+k,j+l])\n",
    "\n",
    "                    qs.append(q)\n",
    "\n",
    "                best_action = np.argmax(qs)\n",
    "                self.policy[i,j] = best_action\n",
    "                if best_action != old_action:\n",
    "                    stable = False\n",
    "        return stable\n",
    "    \n",
    "    def policy_iter(self):\n",
    "        values = self.V\n",
    "        policy = self.policy\n",
    "        stable = False\n",
    "        while not stable:\n",
    "            self.V = self.policy_evaluation()\n",
    "            stable = self.policy_improvement()\n",
    "            \n",
    "    def value_iteration(self):\n",
    "        V = self.V\n",
    "        pol = np.zeros((17,17), dtype = np.int)\n",
    "        delta = np.float(0)\n",
    "        while True:\n",
    "            V2 = V\n",
    "            for i in range(1,16):\n",
    "                for j in range(1,16):\n",
    "                    v = self.V[i,j]\n",
    "                    Vs = []\n",
    "                    for action in range(9):\n",
    "                        value = 0\n",
    "                        for k in [-1,0,1]:\n",
    "                            for l in [-1,0,1]:\n",
    "                                rew = ( self.environment.getReward([i,j], action, [i + k, j + l]))\n",
    "                                prob = (self.environment.getTransitionStatesAndProbs([i,j], action, [i + k, j + l]))\n",
    "                                value += prob*(rew + self.discount*self.V[i+k,j+l])\n",
    "\n",
    "                        Vs.append(value)\n",
    "                        V2[i,j] = np.max(Vs)\n",
    "                        best_action = int(np.argmax(Vs))\n",
    "                        pol[i,j] = best_action\n",
    "                        delta = np.max([delta, abs(V[i,j] - V2[i,j])])\n",
    "            if delta < self.theta:\n",
    "                self.policy = pol\n",
    "                break\n",
    "            V = V2\n",
    "    \n",
    "    def visualize_policy(self):\n",
    "        fig, ax = plt.subplots()\n",
    "\n",
    "        ax.matshow(self.policy[1:16,1:16].T, cmap='summer')\n",
    "\n",
    "        for i in range(15):\n",
    "            for j in range(15):\n",
    "                c = self.policy.T[j+1,i+1]\n",
    "                ax.text(i, j, str(c), va='center', ha='center')\n",
    "        plt.axis('off')\n",
    "        plt.show() \n",
    "        \n",
    "    def take_action(self):\n",
    "#         self.environment.reset()\n",
    "        steps = 0\n",
    "        if self.policy_iteration:\n",
    "            self.policy_iter()\n",
    "        else:\n",
    "            self.value_iteration()\n",
    "        states = []\n",
    "        actions = []\n",
    "        rews = []\n",
    "        while True:\n",
    "            states.append(self.environment.state)\n",
    "            state = states[-1]\n",
    "            action = self.policy[state[0], state[1]]\n",
    "            actions.append(action)\n",
    "            a,rew,b,c = self.environment.step(action)\n",
    "            rews.append(rew)\n",
    "            if self.environment.terminated():\n",
    "                states.append(self.environment.state)\n",
    "                break\n",
    "        return states, actions, rews"
   ]
  },
  {
   "cell_type": "code",
   "execution_count": 5,
   "metadata": {
    "id": "rnAslq_YhJ2Z"
   },
   "outputs": [
    {
     "data": {
      "text/plain": [
       "(-0.5, 2.5, 2.5, -0.5)"
      ]
     },
     "execution_count": 5,
     "metadata": {},
     "output_type": "execute_result"
    },
    {
     "data": {
      "image/png": "[encoded data removed]",
      "text/plain": [
       "<Figure size 432x288 with 1 Axes>"
      ]
     },
     "metadata": {
      "needs_background": "light"
     },
     "output_type": "display_data"
    }
   ],
   "source": [
    "ac = np.array([0,1,2,3,4,5,6,7,8]).reshape((3,3))\n",
    "fig, ax = plt.subplots()\n",
    "\n",
    "ax.matshow(ac, cmap='summer')\n",
    "\n",
    "for i in range(3):\n",
    "    for j in range(3):\n",
    "        c = ac[i,j]\n",
    "        ax.text(i, j, str(c), va='center', ha='center')\n",
    "\n",
    "plt.axis('off')"
   ]
  },
  {
   "cell_type": "code",
   "execution_count": 6,
   "metadata": {
    "id": "f9yIPD3ChJ2b"
   },
   "outputs": [
    {
     "data": {
      "image/png": "[encoded data removed]",
      "text/plain": [
       "<Figure size 432x288 with 1 Axes>"
      ]
     },
     "metadata": {
      "needs_background": "light"
     },
     "output_type": "display_data"
    },
    {
     "data": {
      "image/png": "[encoded data removed]",
      "text/plain": [
       "<Figure size 432x288 with 1 Axes>"
      ]
     },
     "metadata": {
      "needs_background": "light"
     },
     "output_type": "display_data"
    },
    {
     "data": {
      "image/png": "[encoded data removed]",
      "text/plain": [
       "<Figure size 432x288 with 1 Axes>"
      ]
     },
     "metadata": {
      "needs_background": "light"
     },
     "output_type": "display_data"
    }
   ],
   "source": [
    "### Base case\n",
    "\n",
    "env = Environment(punish = -1, actionPrice = -0.01, goalReward= 1000)\n",
    "agent1 = Agent(0, env, 0.9, 0.1)\n",
    "agent1.visualize_policy()\n",
    "states, actions, rews = agent1.take_action()\n",
    "agent1.visualize_policy()\n",
    "plt.plot(np.array(states)[:,0], np.array(states)[:,1])\n",
    "plt.grid()\n",
    "plt.gca().invert_yaxis()"
   ]
  },
  {
   "cell_type": "code",
   "execution_count": 7,
   "metadata": {
    "id": "OigC49dGhJ2c"
   },
   "outputs": [
    {
     "data": {
      "text/plain": [
       "array([15, 15])"
      ]
     },
     "execution_count": 7,
     "metadata": {},
     "output_type": "execute_result"
    }
   ],
   "source": [
    "np.array(states)[0,:]"
   ]
  },
  {
   "cell_type": "code",
   "execution_count": 8,
   "metadata": {
    "id": "i_YpwoKjhJ2d"
   },
   "outputs": [
    {
     "data": {
      "image/png": "[encoded data removed]",
      "text/plain": [
       "<Figure size 432x288 with 1 Axes>"
      ]
     },
     "metadata": {
      "needs_background": "light"
     },
     "output_type": "display_data"
    },
    {
     "data": {
      "image/png": "[encoded data removed]",
      "text/plain": [
       "<Figure size 432x288 with 1 Axes>"
      ]
     },
     "metadata": {
      "needs_background": "light"
     },
     "output_type": "display_data"
    },
    {
     "data": {
      "image/png": "[encoded data removed]",
      "text/plain": [
       "<Figure size 432x288 with 1 Axes>"
      ]
     },
     "metadata": {
      "needs_background": "light"
     },
     "output_type": "display_data"
    }
   ],
   "source": [
    "### no punishment\n",
    "\n",
    "env = Environment(punish = -0.01, actionPrice=0, goalReward=1000)\n",
    "agent2 = Agent(0, env, 0.9, 0.1)\n",
    "agent2.visualize_policy()\n",
    "states, actions, rews = agent2.take_action()\n",
    "agent2.visualize_policy()\n",
    "plt.plot(np.array(states)[:,0], np.array(states)[:,1])\n",
    "# plt.axis('off')\n",
    "plt.grid()\n",
    "plt.gca().invert_yaxis()"
   ]
  },
  {
   "cell_type": "code",
   "execution_count": 9,
   "metadata": {
    "id": "XCBO1aOehJ2e"
   },
   "outputs": [
    {
     "data": {
      "image/png": "[encoded data removed]",
      "text/plain": [
       "<Figure size 432x288 with 1 Axes>"
      ]
     },
     "metadata": {
      "needs_background": "light"
     },
     "output_type": "display_data"
    },
    {
     "data": {
      "image/png": "[encoded data removed]",
      "text/plain": [
       "<Figure size 432x288 with 1 Axes>"
      ]
     },
     "metadata": {
      "needs_background": "light"
     },
     "output_type": "display_data"
    },
    {
     "data": {
      "image/png": "[encoded data removed]",
      "text/plain": [
       "<Figure size 432x288 with 1 Axes>"
      ]
     },
     "metadata": {
      "needs_background": "light"
     },
     "output_type": "display_data"
    }
   ],
   "source": [
    "### high punishment\n",
    "env = Environment(punish = -10, actionPrice=-1, goalReward=100)\n",
    "agent = Agent(0, env, 0.9, 0.1)\n",
    "agent.visualize_policy()\n",
    "states,actions,rewards = agent.take_action()\n",
    "agent.visualize_policy()\n",
    "plt.plot(np.array(states)[:,0], np.array(states)[:,1])\n",
    "# plt.axis('off')\n",
    "plt.grid()\n",
    "plt.gca().invert_yaxis()"
   ]
  },
  {
   "cell_type": "code",
   "execution_count": 10,
   "metadata": {
    "id": "mmDgdZT7hJ2f",
    "scrolled": true
   },
   "outputs": [
    {
     "name": "stdout",
     "output_type": "stream",
     "text": [
      "0 19\n",
      "1 20\n",
      "2 27\n",
      "3 20\n",
      "4 353\n",
      "5 171268\n",
      "6 22\n",
      "7 18\n",
      "8 20\n",
      "9 21\n"
     ]
    }
   ],
   "source": [
    "n_steps_punish = []\n",
    "for i in range(10):\n",
    "    env = Environment(punish = -1, actionPrice=-0.01, goalReward=1000)\n",
    "    agent = Agent(0, env, 0.9, 0.1)\n",
    "    states,actions,rewards = agent.take_action()\n",
    "    n_steps_punish.append(len(states))\n",
    "    print(i, len(states))\n",
    "    \n",
    "\n"
   ]
  },
  {
   "cell_type": "code",
   "execution_count": 11,
   "metadata": {
    "id": "V6cSNemUhJ2g"
   },
   "outputs": [
    {
     "name": "stdout",
     "output_type": "stream",
     "text": [
      "0 21\n",
      "1 20\n",
      "2 20\n",
      "3 30766\n",
      "4 23\n",
      "5 20\n",
      "6 19\n",
      "7 21\n",
      "8 29\n",
      "9 26\n"
     ]
    }
   ],
   "source": [
    "n_steps_no_punish = []\n",
    "for i in range(10):\n",
    "    env = Environment(punish = -0.01, actionPrice=0, goalReward=1000)\n",
    "    agent = Agent(0, env, 0.9, 0.1)\n",
    "    states,actions,rewards = agent.take_action()\n",
    "    n_steps_no_punish.append(len(states))\n",
    "    print(i, len(states))\n",
    "    "
   ]
  },
  {
   "cell_type": "code",
   "execution_count": 12,
   "metadata": {
    "id": "ePROvIxyhJ2h"
   },
   "outputs": [
    {
     "name": "stdout",
     "output_type": "stream",
     "text": [
      "0 16\n",
      "1 22\n",
      "2 25\n",
      "3 40\n",
      "4 22\n",
      "5 22\n",
      "6 1366848\n",
      "7 17\n",
      "8 21\n",
      "9 137\n"
     ]
    }
   ],
   "source": [
    "n_steps_high_punish = []\n",
    "for i in range(10):\n",
    "    env = Environment(punish = -10, actionPrice=-1, goalReward=100)\n",
    "    agent = Agent(0, env, 0.9, 0.1)\n",
    "    states,actions,rewards = agent.take_action()\n",
    "    n_steps_high_punish.append(len(states))\n",
    "    print(i, len(states))\n",
    "    \n"
   ]
  },
  {
   "cell_type": "code",
   "execution_count": 13,
   "metadata": {
    "id": "g8SXGcohhJ2h"
   },
   "outputs": [
    {
     "name": "stdout",
     "output_type": "stream",
     "text": [
      "\n",
      "\n",
      "average number of steps for base case: 17178.8\n",
      "\n",
      "average number of steps for no punishment case: 3096.5\n",
      "\n",
      "average number of steps for high punishment case: 136717.0\n",
      "\n",
      "\n"
     ]
    }
   ],
   "source": [
    "\n",
    "print(f\"\"\"\n",
    "\n",
    "average number of steps for base case: {np.mean(n_steps_punish)}\n",
    "\n",
    "average number of steps for no punishment case: {np.mean(n_steps_no_punish)}\n",
    "\n",
    "average number of steps for high punishment case: {np.mean(n_steps_high_punish)}\n",
    "\n",
    "\"\"\")"
   ]
  },
  {
   "cell_type": "code",
   "execution_count": 14,
   "metadata": {
    "id": "3o-mcQJHhJ2i"
   },
   "outputs": [
    {
     "name": "stdout",
     "output_type": "stream",
     "text": [
      "0 950.5\n",
      "1 998.19\n",
      "2 826.3299999999999\n",
      "3 998.3100000000001\n",
      "4 975.3500000000001\n",
      "5 913.26\n",
      "6 937.3500000000001\n",
      "7 559.11\n",
      "8 899.2099999999999\n",
      "9 895.29\n"
     ]
    }
   ],
   "source": [
    "reward1 = []\n",
    "for i in range(10):\n",
    "    env = Environment(punish = -1, actionPrice=-0.01, goalReward=1000)\n",
    "    agent = Agent(0, env, 0, 0.1)\n",
    "    states,actions,rewards = agent.take_action()\n",
    "    reward1.append(np.sum(rewards))\n",
    "    print(i, np.sum(rewards))\n"
   ]
  },
  {
   "cell_type": "code",
   "execution_count": 15,
   "metadata": {
    "id": "aBrzDEm_hJ2i"
   },
   "outputs": [
    {
     "name": "stdout",
     "output_type": "stream",
     "text": [
      "0 998.43\n",
      "1 970.63\n",
      "2 999.8\n",
      "3 999.85\n",
      "4 -1342.7600000000007\n",
      "5 999.27\n",
      "6 993.0499999999998\n",
      "7 342.56000000000006\n",
      "8 -307595.1300000088\n",
      "9 999.27\n"
     ]
    }
   ],
   "source": [
    "reward2 = []\n",
    "for i in range(10):\n",
    "    env = Environment(punish = -1, actionPrice=-0.01, goalReward=1000)\n",
    "    agent = Agent(0, env, 0.3, 0.1)\n",
    "    states,actions,rewards = agent.take_action()\n",
    "    reward2.append(np.sum(rewards))\n",
    "    print(i, np.sum(rewards))\n",
    "    \n"
   ]
  },
  {
   "cell_type": "code",
   "execution_count": 16,
   "metadata": {
    "id": "bzsLn7KRhJ2j"
   },
   "outputs": [
    {
     "name": "stdout",
     "output_type": "stream",
     "text": [
      "0 946.58\n",
      "1 999.82\n",
      "2 999.74\n",
      "3 999.58\n",
      "4 998.98\n",
      "5 999.83\n",
      "6 999.78\n",
      "7 999.83\n",
      "8 999.69\n",
      "9 999.18\n"
     ]
    }
   ],
   "source": [
    "    \n",
    "reward3 = []\n",
    "for i in range(10):\n",
    "    env = Environment(punish = -1, actionPrice=-0.01, goalReward=1000)\n",
    "    agent = Agent(0, env, 0.5, 0.1)\n",
    "    states,actions,rewards = agent.take_action()\n",
    "    reward3.append(np.sum(rewards))\n",
    "    print(i, np.sum(rewards))\n",
    "    \n",
    "\n"
   ]
  },
  {
   "cell_type": "code",
   "execution_count": 17,
   "metadata": {
    "id": "p0AAUTGFhJ2j"
   },
   "outputs": [
    {
     "name": "stdout",
     "output_type": "stream",
     "text": [
      "0 999.73\n",
      "1 996.78\n",
      "2 999.81\n",
      "3 999.83\n",
      "4 999.8\n",
      "5 999.85\n",
      "6 999.79\n",
      "7 999.81\n",
      "8 999.87\n",
      "9 956.76\n"
     ]
    }
   ],
   "source": [
    "    \n",
    "reward4 = []\n",
    "for i in range(10):\n",
    "    env = Environment(punish = -1, actionPrice=-0.01, goalReward=1000)\n",
    "    agent = Agent(0, env, 0.8, 0.1)\n",
    "    states,actions,rewards = agent.take_action()\n",
    "    reward4.append(np.sum(rewards))\n",
    "    print(i, np.sum(rewards))\n",
    "    "
   ]
  },
  {
   "cell_type": "code",
   "execution_count": 18,
   "metadata": {
    "id": "g0MqQvaEhJ2k"
   },
   "outputs": [
    {
     "name": "stdout",
     "output_type": "stream",
     "text": [
      "\n",
      "discount factor = 0, mean reward = 895.29\n",
      "discount factor = 0.3, mean reward = -30163.503000000877\n",
      "discount factor = 0.5, mean reward = 994.301\n",
      "discount factor = 0.8, mean reward = 995.2030000000001\n",
      "\n",
      "\n"
     ]
    }
   ],
   "source": [
    "\n",
    "print(f\"\"\"\n",
    "discount factor = 0, mean reward = {np.mean(reward1)}\n",
    "discount factor = 0.3, mean reward = {np.mean(reward2)}\n",
    "discount factor = 0.5, mean reward = {np.mean(reward3)}\n",
    "discount factor = 0.8, mean reward = {np.mean(reward4)}\n",
    "\n",
    "\"\"\")"
   ]
  },
  {
   "cell_type": "code",
   "execution_count": 19,
   "metadata": {
    "id": "UDNTYQ8uhJ2k"
   },
   "outputs": [
    {
     "data": {
      "image/png": "[encoded data removed]",
      "text/plain": [
       "<Figure size 432x288 with 1 Axes>"
      ]
     },
     "metadata": {
      "needs_background": "light"
     },
     "output_type": "display_data"
    },
    {
     "name": "stderr",
     "output_type": "stream",
     "text": [
      "<ipython-input-4-34a3603249cc>:73: DeprecationWarning: `np.int` is a deprecated alias for the builtin `int`. To silence this warning, use `int` by itself. Doing this will not modify any behavior and is safe. When replacing `np.int`, you may wish to use e.g. `np.int64` or `np.int32` to specify the precision. If you wish to review your current use, check the release note link for additional information.\n",
      "Deprecated in NumPy 1.20; for more details and guidance: https://numpy.org/devdocs/release/1.20.0-notes.html#deprecations\n",
      "  pol = np.zeros((17,17), dtype = np.int)\n",
      "<ipython-input-4-34a3603249cc>:74: DeprecationWarning: `np.float` is a deprecated alias for the builtin `float`. To silence this warning, use `float` by itself. Doing this will not modify any behavior and is safe. If you specifically wanted the numpy scalar type, use `np.float64` here.\n",
      "Deprecated in NumPy 1.20; for more details and guidance: https://numpy.org/devdocs/release/1.20.0-notes.html#deprecations\n",
      "  delta = np.float(0)\n"
     ]
    },
    {
     "data": {
      "image/png": "[encoded data removed]",
      "text/plain": [
       "<Figure size 432x288 with 1 Axes>"
      ]
     },
     "metadata": {
      "needs_background": "light"
     },
     "output_type": "display_data"
    },
    {
     "data": {
      "image/png": "[encoded data removed]",
      "text/plain": [
       "<Figure size 432x288 with 1 Axes>"
      ]
     },
     "metadata": {
      "needs_background": "light"
     },
     "output_type": "display_data"
    }
   ],
   "source": [
    "## value iteration\n",
    "env = Environment(punish = -1, actionPrice=-0.01, goalReward=1000)\n",
    "agent = Agent(0, env, 0.8, 0.1, False)\n",
    "agent.visualize_policy()\n",
    "states,actions,rewards = agent.take_action()\n",
    "agent.visualize_policy()\n",
    "plt.plot(np.array(states)[:,0], np.array(states)[:,1])\n",
    "# plt.axis('off')\n",
    "plt.grid()\n",
    "plt.gca().invert_yaxis()"
   ]
  },
  {
   "cell_type": "code",
   "execution_count": 20,
   "metadata": {
    "id": "OzIKAJP9hJ2l"
   },
   "outputs": [
    {
     "name": "stderr",
     "output_type": "stream",
     "text": [
      "<ipython-input-4-34a3603249cc>:73: DeprecationWarning: `np.int` is a deprecated alias for the builtin `int`. To silence this warning, use `int` by itself. Doing this will not modify any behavior and is safe. When replacing `np.int`, you may wish to use e.g. `np.int64` or `np.int32` to specify the precision. If you wish to review your current use, check the release note link for additional information.\n",
      "Deprecated in NumPy 1.20; for more details and guidance: https://numpy.org/devdocs/release/1.20.0-notes.html#deprecations\n",
      "  pol = np.zeros((17,17), dtype = np.int)\n",
      "<ipython-input-4-34a3603249cc>:74: DeprecationWarning: `np.float` is a deprecated alias for the builtin `float`. To silence this warning, use `float` by itself. Doing this will not modify any behavior and is safe. If you specifically wanted the numpy scalar type, use `np.float64` here.\n",
      "Deprecated in NumPy 1.20; for more details and guidance: https://numpy.org/devdocs/release/1.20.0-notes.html#deprecations\n",
      "  delta = np.float(0)\n"
     ]
    },
    {
     "name": "stdout",
     "output_type": "stream",
     "text": [
      "0 999.78\n",
      "1 999.85\n",
      "2 999.84\n",
      "3 999.87\n",
      "4 999.84\n",
      "5 999.87\n",
      "6 999.86\n",
      "7 999.83\n",
      "8 950.67\n",
      "9 999.87\n"
     ]
    }
   ],
   "source": [
    "reward5 = []\n",
    "n_steps5 = []\n",
    "for i in range(10):\n",
    "    env = Environment(punish = -1, actionPrice=-0.01, goalReward=1000)\n",
    "    agent = Agent(0, env, 0.8, 0.1,False)\n",
    "    states,actions,rewards = agent.take_action()\n",
    "    reward5.append(np.sum(rewards))\n",
    "    print(i, np.sum(rewards))\n",
    "    n_steps5.append(len(states))\n",
    "    \n"
   ]
  },
  {
   "cell_type": "code",
   "execution_count": 21,
   "metadata": {
    "id": "PU36NlcthJ2l"
   },
   "outputs": [
    {
     "name": "stdout",
     "output_type": "stream",
     "text": [
      "\n",
      "value iteration agent average reward = 994.9280000000001\n",
      "value iteration agent average number of steps = 24.1\n",
      "\n"
     ]
    }
   ],
   "source": [
    "print(f'''\n",
    "value iteration agent average reward = {np.mean(reward5)}\n",
    "value iteration agent average number of steps = {np.mean(n_steps5)}\n",
    "''')"
   ]
  },
  {
   "cell_type": "code",
   "execution_count": null,
   "metadata": {
    "id": "cVySadPkhJ2l"
   },
   "outputs": [],
   "source": []
  }
 ],
 "metadata": {
  "colab": {
   "name": "HW3 (2).ipynb",
   "provenance": []
  },
  "interpreter": {
   "hash": "63fd5069d213b44bf678585dea6b12cceca9941eaf7f819626cde1f2670de90d"
  },
  "kernelspec": {
   "display_name": "Python 3",
   "language": "python",
   "name": "python3"
  },
  "language_info": {
   "codemirror_mode": {
    "name": "ipython",
    "version": 3
   },
   "file_extension": ".py",
   "mimetype": "text/x-python",
   "name": "python",
   "nbconvert_exporter": "python",
   "pygments_lexer": "ipython3",
   "version": "3.9.1"
  }
 },
 "nbformat": 4,
 "nbformat_minor": 4
}
