{
  "nbformat": 4,
  "nbformat_minor": 0,
  "metadata": {
    "colab": {
      "name": "ML_Exercise_2_1.ipynb",
      "provenance": [],
      "collapsed_sections": [],
      "toc_visible": true
    },
    "kernelspec": {
      "name": "python3",
      "display_name": "Python 3"
    },
    "language_info": {
      "name": "python"
    },
    "widgets": {
      "application/vnd.jupyter.widget-state+json": {
        "0c710d2cdb6c44eb80fadc6c98a98dd2": {
          "model_module": "@jupyter-widgets/controls",
          "model_name": "HBoxModel",
          "model_module_version": "1.5.0",
          "state": {
            "_view_name": "HBoxView",
            "_dom_classes": [],
            "_model_name": "HBoxModel",
            "_view_module": "@jupyter-widgets/controls",
            "_model_module_version": "1.5.0",
            "_view_count": null,
            "_view_module_version": "1.5.0",
            "box_style": "",
            "layout": "IPY_MODEL_67d7e89b39f14367ab1ae8732a21a4ad",
            "_model_module": "@jupyter-widgets/controls",
            "children": [
              "IPY_MODEL_f337aa5e5c15433e96d051288f4ea26a",
              "IPY_MODEL_12c8fa18de2a4bdaadfc9fa5fe2e76e8",
              "IPY_MODEL_d89c5cdab5644226a84c5b0c9cd6a3d8"
            ]
          }
        },
        "67d7e89b39f14367ab1ae8732a21a4ad": {
          "model_module": "@jupyter-widgets/base",
          "model_name": "LayoutModel",
          "model_module_version": "1.2.0",
          "state": {
            "_view_name": "LayoutView",
            "grid_template_rows": null,
            "right": null,
            "justify_content": null,
            "_view_module": "@jupyter-widgets/base",
            "overflow": null,
            "_model_module_version": "1.2.0",
            "_view_count": null,
            "flex_flow": null,
            "width": null,
            "min_width": null,
            "border": null,
            "align_items": null,
            "bottom": null,
            "_model_module": "@jupyter-widgets/base",
            "top": null,
            "grid_column": null,
            "overflow_y": null,
            "overflow_x": null,
            "grid_auto_flow": null,
            "grid_area": null,
            "grid_template_columns": null,
            "flex": null,
            "_model_name": "LayoutModel",
            "justify_items": null,
            "grid_row": null,
            "max_height": null,
            "align_content": null,
            "visibility": null,
            "align_self": null,
            "height": null,
            "min_height": null,
            "padding": null,
            "grid_auto_rows": null,
            "grid_gap": null,
            "max_width": null,
            "order": null,
            "_view_module_version": "1.2.0",
            "grid_template_areas": null,
            "object_position": null,
            "object_fit": null,
            "grid_auto_columns": null,
            "margin": null,
            "display": null,
            "left": null
          }
        },
        "f337aa5e5c15433e96d051288f4ea26a": {
          "model_module": "@jupyter-widgets/controls",
          "model_name": "HTMLModel",
          "model_module_version": "1.5.0",
          "state": {
            "_view_name": "HTMLView",
            "style": "IPY_MODEL_7236316add8743f3980fedef1548aef4",
            "_dom_classes": [],
            "description": "",
            "_model_name": "HTMLModel",
            "placeholder": "​",
            "_view_module": "@jupyter-widgets/controls",
            "_model_module_version": "1.5.0",
            "value": "100%",
            "_view_count": null,
            "_view_module_version": "1.5.0",
            "description_tooltip": null,
            "_model_module": "@jupyter-widgets/controls",
            "layout": "IPY_MODEL_b543d6ec194840d0a2e952ed6e9d7fb0"
          }
        },
        "12c8fa18de2a4bdaadfc9fa5fe2e76e8": {
          "model_module": "@jupyter-widgets/controls",
          "model_name": "FloatProgressModel",
          "model_module_version": "1.5.0",
          "state": {
            "_view_name": "ProgressView",
            "style": "IPY_MODEL_9c7ed1a904c84e4a9e4653cb1c49b325",
            "_dom_classes": [],
            "description": "",
            "_model_name": "FloatProgressModel",
            "bar_style": "success",
            "max": 205,
            "_view_module": "@jupyter-widgets/controls",
            "_model_module_version": "1.5.0",
            "value": 205,
            "_view_count": null,
            "_view_module_version": "1.5.0",
            "orientation": "horizontal",
            "min": 0,
            "description_tooltip": null,
            "_model_module": "@jupyter-widgets/controls",
            "layout": "IPY_MODEL_c357e22579ac4a64a2647dfb24d0a3a0"
          }
        },
        "d89c5cdab5644226a84c5b0c9cd6a3d8": {
          "model_module": "@jupyter-widgets/controls",
          "model_name": "HTMLModel",
          "model_module_version": "1.5.0",
          "state": {
            "_view_name": "HTMLView",
            "style": "IPY_MODEL_5b02209cf7bb4e899996f3a4b6426b82",
            "_dom_classes": [],
            "description": "",
            "_model_name": "HTMLModel",
            "placeholder": "​",
            "_view_module": "@jupyter-widgets/controls",
            "_model_module_version": "1.5.0",
            "value": " 205/205 [00:02&lt;00:00, 106.32it/s]",
            "_view_count": null,
            "_view_module_version": "1.5.0",
            "description_tooltip": null,
            "_model_module": "@jupyter-widgets/controls",
            "layout": "IPY_MODEL_b43a4fa46e0b4d18a68e74314e1ae773"
          }
        },
        "7236316add8743f3980fedef1548aef4": {
          "model_module": "@jupyter-widgets/controls",
          "model_name": "DescriptionStyleModel",
          "model_module_version": "1.5.0",
          "state": {
            "_view_name": "StyleView",
            "_model_name": "DescriptionStyleModel",
            "description_width": "",
            "_view_module": "@jupyter-widgets/base",
            "_model_module_version": "1.5.0",
            "_view_count": null,
            "_view_module_version": "1.2.0",
            "_model_module": "@jupyter-widgets/controls"
          }
        },
        "b543d6ec194840d0a2e952ed6e9d7fb0": {
          "model_module": "@jupyter-widgets/base",
          "model_name": "LayoutModel",
          "model_module_version": "1.2.0",
          "state": {
            "_view_name": "LayoutView",
            "grid_template_rows": null,
            "right": null,
            "justify_content": null,
            "_view_module": "@jupyter-widgets/base",
            "overflow": null,
            "_model_module_version": "1.2.0",
            "_view_count": null,
            "flex_flow": null,
            "width": null,
            "min_width": null,
            "border": null,
            "align_items": null,
            "bottom": null,
            "_model_module": "@jupyter-widgets/base",
            "top": null,
            "grid_column": null,
            "overflow_y": null,
            "overflow_x": null,
            "grid_auto_flow": null,
            "grid_area": null,
            "grid_template_columns": null,
            "flex": null,
            "_model_name": "LayoutModel",
            "justify_items": null,
            "grid_row": null,
            "max_height": null,
            "align_content": null,
            "visibility": null,
            "align_self": null,
            "height": null,
            "min_height": null,
            "padding": null,
            "grid_auto_rows": null,
            "grid_gap": null,
            "max_width": null,
            "order": null,
            "_view_module_version": "1.2.0",
            "grid_template_areas": null,
            "object_position": null,
            "object_fit": null,
            "grid_auto_columns": null,
            "margin": null,
            "display": null,
            "left": null
          }
        },
        "9c7ed1a904c84e4a9e4653cb1c49b325": {
          "model_module": "@jupyter-widgets/controls",
          "model_name": "ProgressStyleModel",
          "model_module_version": "1.5.0",
          "state": {
            "_view_name": "StyleView",
            "_model_name": "ProgressStyleModel",
            "description_width": "",
            "_view_module": "@jupyter-widgets/base",
            "_model_module_version": "1.5.0",
            "_view_count": null,
            "_view_module_version": "1.2.0",
            "bar_color": null,
            "_model_module": "@jupyter-widgets/controls"
          }
        },
        "c357e22579ac4a64a2647dfb24d0a3a0": {
          "model_module": "@jupyter-widgets/base",
          "model_name": "LayoutModel",
          "model_module_version": "1.2.0",
          "state": {
            "_view_name": "LayoutView",
            "grid_template_rows": null,
            "right": null,
            "justify_content": null,
            "_view_module": "@jupyter-widgets/base",
            "overflow": null,
            "_model_module_version": "1.2.0",
            "_view_count": null,
            "flex_flow": null,
            "width": null,
            "min_width": null,
            "border": null,
            "align_items": null,
            "bottom": null,
            "_model_module": "@jupyter-widgets/base",
            "top": null,
            "grid_column": null,
            "overflow_y": null,
            "overflow_x": null,
            "grid_auto_flow": null,
            "grid_area": null,
            "grid_template_columns": null,
            "flex": null,
            "_model_name": "LayoutModel",
            "justify_items": null,
            "grid_row": null,
            "max_height": null,
            "align_content": null,
            "visibility": null,
            "align_self": null,
            "height": null,
            "min_height": null,
            "padding": null,
            "grid_auto_rows": null,
            "grid_gap": null,
            "max_width": null,
            "order": null,
            "_view_module_version": "1.2.0",
            "grid_template_areas": null,
            "object_position": null,
            "object_fit": null,
            "grid_auto_columns": null,
            "margin": null,
            "display": null,
            "left": null
          }
        },
        "5b02209cf7bb4e899996f3a4b6426b82": {
          "model_module": "@jupyter-widgets/controls",
          "model_name": "DescriptionStyleModel",
          "model_module_version": "1.5.0",
          "state": {
            "_view_name": "StyleView",
            "_model_name": "DescriptionStyleModel",
            "description_width": "",
            "_view_module": "@jupyter-widgets/base",
            "_model_module_version": "1.5.0",
            "_view_count": null,
            "_view_module_version": "1.2.0",
            "_model_module": "@jupyter-widgets/controls"
          }
        },
        "b43a4fa46e0b4d18a68e74314e1ae773": {
          "model_module": "@jupyter-widgets/base",
          "model_name": "LayoutModel",
          "model_module_version": "1.2.0",
          "state": {
            "_view_name": "LayoutView",
            "grid_template_rows": null,
            "right": null,
            "justify_content": null,
            "_view_module": "@jupyter-widgets/base",
            "overflow": null,
            "_model_module_version": "1.2.0",
            "_view_count": null,
            "flex_flow": null,
            "width": null,
            "min_width": null,
            "border": null,
            "align_items": null,
            "bottom": null,
            "_model_module": "@jupyter-widgets/base",
            "top": null,
            "grid_column": null,
            "overflow_y": null,
            "overflow_x": null,
            "grid_auto_flow": null,
            "grid_area": null,
            "grid_template_columns": null,
            "flex": null,
            "_model_name": "LayoutModel",
            "justify_items": null,
            "grid_row": null,
            "max_height": null,
            "align_content": null,
            "visibility": null,
            "align_self": null,
            "height": null,
            "min_height": null,
            "padding": null,
            "grid_auto_rows": null,
            "grid_gap": null,
            "max_width": null,
            "order": null,
            "_view_module_version": "1.2.0",
            "grid_template_areas": null,
            "object_position": null,
            "object_fit": null,
            "grid_auto_columns": null,
            "margin": null,
            "display": null,
            "left": null
          }
        },
        "1f2834d7625d46d7b6fcd711552d16cf": {
          "model_module": "@jupyter-widgets/controls",
          "model_name": "HBoxModel",
          "model_module_version": "1.5.0",
          "state": {
            "_view_name": "HBoxView",
            "_dom_classes": [],
            "_model_name": "HBoxModel",
            "_view_module": "@jupyter-widgets/controls",
            "_model_module_version": "1.5.0",
            "_view_count": null,
            "_view_module_version": "1.5.0",
            "box_style": "",
            "layout": "IPY_MODEL_5b4c4fcfb6844f66a4ab37d18a671e24",
            "_model_module": "@jupyter-widgets/controls",
            "children": [
              "IPY_MODEL_cc2fad383a22451f982e5b434964e6a7",
              "IPY_MODEL_71083b9d7c144f7cb36752cb2d760bf4",
              "IPY_MODEL_76c5a44c61d745e086bd33374ed95313"
            ]
          }
        },
        "5b4c4fcfb6844f66a4ab37d18a671e24": {
          "model_module": "@jupyter-widgets/base",
          "model_name": "LayoutModel",
          "model_module_version": "1.2.0",
          "state": {
            "_view_name": "LayoutView",
            "grid_template_rows": null,
            "right": null,
            "justify_content": null,
            "_view_module": "@jupyter-widgets/base",
            "overflow": null,
            "_model_module_version": "1.2.0",
            "_view_count": null,
            "flex_flow": null,
            "width": null,
            "min_width": null,
            "border": null,
            "align_items": null,
            "bottom": null,
            "_model_module": "@jupyter-widgets/base",
            "top": null,
            "grid_column": null,
            "overflow_y": null,
            "overflow_x": null,
            "grid_auto_flow": null,
            "grid_area": null,
            "grid_template_columns": null,
            "flex": null,
            "_model_name": "LayoutModel",
            "justify_items": null,
            "grid_row": null,
            "max_height": null,
            "align_content": null,
            "visibility": null,
            "align_self": null,
            "height": null,
            "min_height": null,
            "padding": null,
            "grid_auto_rows": null,
            "grid_gap": null,
            "max_width": null,
            "order": null,
            "_view_module_version": "1.2.0",
            "grid_template_areas": null,
            "object_position": null,
            "object_fit": null,
            "grid_auto_columns": null,
            "margin": null,
            "display": null,
            "left": null
          }
        },
        "cc2fad383a22451f982e5b434964e6a7": {
          "model_module": "@jupyter-widgets/controls",
          "model_name": "HTMLModel",
          "model_module_version": "1.5.0",
          "state": {
            "_view_name": "HTMLView",
            "style": "IPY_MODEL_bec36ec83f5c4ad4bfc1a5cb287a4076",
            "_dom_classes": [],
            "description": "",
            "_model_name": "HTMLModel",
            "placeholder": "​",
            "_view_module": "@jupyter-widgets/controls",
            "_model_module_version": "1.5.0",
            "value": "100%",
            "_view_count": null,
            "_view_module_version": "1.5.0",
            "description_tooltip": null,
            "_model_module": "@jupyter-widgets/controls",
            "layout": "IPY_MODEL_58293d528f354218845c094cd8105141"
          }
        },
        "71083b9d7c144f7cb36752cb2d760bf4": {
          "model_module": "@jupyter-widgets/controls",
          "model_name": "FloatProgressModel",
          "model_module_version": "1.5.0",
          "state": {
            "_view_name": "ProgressView",
            "style": "IPY_MODEL_af4d7a80bc5e4ad7ae6808489aca656c",
            "_dom_classes": [],
            "description": "",
            "_model_name": "FloatProgressModel",
            "bar_style": "success",
            "max": 205,
            "_view_module": "@jupyter-widgets/controls",
            "_model_module_version": "1.5.0",
            "value": 205,
            "_view_count": null,
            "_view_module_version": "1.5.0",
            "orientation": "horizontal",
            "min": 0,
            "description_tooltip": null,
            "_model_module": "@jupyter-widgets/controls",
            "layout": "IPY_MODEL_c422a81de8524001877a49465ca8ae0c"
          }
        },
        "76c5a44c61d745e086bd33374ed95313": {
          "model_module": "@jupyter-widgets/controls",
          "model_name": "HTMLModel",
          "model_module_version": "1.5.0",
          "state": {
            "_view_name": "HTMLView",
            "style": "IPY_MODEL_167ba9ca9838433b99d98fbce134ff85",
            "_dom_classes": [],
            "description": "",
            "_model_name": "HTMLModel",
            "placeholder": "​",
            "_view_module": "@jupyter-widgets/controls",
            "_model_module_version": "1.5.0",
            "value": " 205/205 [00:02&lt;00:00, 90.04it/s]",
            "_view_count": null,
            "_view_module_version": "1.5.0",
            "description_tooltip": null,
            "_model_module": "@jupyter-widgets/controls",
            "layout": "IPY_MODEL_11d04296516645388f4a6a3b769d6bbd"
          }
        },
        "bec36ec83f5c4ad4bfc1a5cb287a4076": {
          "model_module": "@jupyter-widgets/controls",
          "model_name": "DescriptionStyleModel",
          "model_module_version": "1.5.0",
          "state": {
            "_view_name": "StyleView",
            "_model_name": "DescriptionStyleModel",
            "description_width": "",
            "_view_module": "@jupyter-widgets/base",
            "_model_module_version": "1.5.0",
            "_view_count": null,
            "_view_module_version": "1.2.0",
            "_model_module": "@jupyter-widgets/controls"
          }
        },
        "58293d528f354218845c094cd8105141": {
          "model_module": "@jupyter-widgets/base",
          "model_name": "LayoutModel",
          "model_module_version": "1.2.0",
          "state": {
            "_view_name": "LayoutView",
            "grid_template_rows": null,
            "right": null,
            "justify_content": null,
            "_view_module": "@jupyter-widgets/base",
            "overflow": null,
            "_model_module_version": "1.2.0",
            "_view_count": null,
            "flex_flow": null,
            "width": null,
            "min_width": null,
            "border": null,
            "align_items": null,
            "bottom": null,
            "_model_module": "@jupyter-widgets/base",
            "top": null,
            "grid_column": null,
            "overflow_y": null,
            "overflow_x": null,
            "grid_auto_flow": null,
            "grid_area": null,
            "grid_template_columns": null,
            "flex": null,
            "_model_name": "LayoutModel",
            "justify_items": null,
            "grid_row": null,
            "max_height": null,
            "align_content": null,
            "visibility": null,
            "align_self": null,
            "height": null,
            "min_height": null,
            "padding": null,
            "grid_auto_rows": null,
            "grid_gap": null,
            "max_width": null,
            "order": null,
            "_view_module_version": "1.2.0",
            "grid_template_areas": null,
            "object_position": null,
            "object_fit": null,
            "grid_auto_columns": null,
            "margin": null,
            "display": null,
            "left": null
          }
        },
        "af4d7a80bc5e4ad7ae6808489aca656c": {
          "model_module": "@jupyter-widgets/controls",
          "model_name": "ProgressStyleModel",
          "model_module_version": "1.5.0",
          "state": {
            "_view_name": "StyleView",
            "_model_name": "ProgressStyleModel",
            "description_width": "",
            "_view_module": "@jupyter-widgets/base",
            "_model_module_version": "1.5.0",
            "_view_count": null,
            "_view_module_version": "1.2.0",
            "bar_color": null,
            "_model_module": "@jupyter-widgets/controls"
          }
        },
        "c422a81de8524001877a49465ca8ae0c": {
          "model_module": "@jupyter-widgets/base",
          "model_name": "LayoutModel",
          "model_module_version": "1.2.0",
          "state": {
            "_view_name": "LayoutView",
            "grid_template_rows": null,
            "right": null,
            "justify_content": null,
            "_view_module": "@jupyter-widgets/base",
            "overflow": null,
            "_model_module_version": "1.2.0",
            "_view_count": null,
            "flex_flow": null,
            "width": null,
            "min_width": null,
            "border": null,
            "align_items": null,
            "bottom": null,
            "_model_module": "@jupyter-widgets/base",
            "top": null,
            "grid_column": null,
            "overflow_y": null,
            "overflow_x": null,
            "grid_auto_flow": null,
            "grid_area": null,
            "grid_template_columns": null,
            "flex": null,
            "_model_name": "LayoutModel",
            "justify_items": null,
            "grid_row": null,
            "max_height": null,
            "align_content": null,
            "visibility": null,
            "align_self": null,
            "height": null,
            "min_height": null,
            "padding": null,
            "grid_auto_rows": null,
            "grid_gap": null,
            "max_width": null,
            "order": null,
            "_view_module_version": "1.2.0",
            "grid_template_areas": null,
            "object_position": null,
            "object_fit": null,
            "grid_auto_columns": null,
            "margin": null,
            "display": null,
            "left": null
          }
        },
        "167ba9ca9838433b99d98fbce134ff85": {
          "model_module": "@jupyter-widgets/controls",
          "model_name": "DescriptionStyleModel",
          "model_module_version": "1.5.0",
          "state": {
            "_view_name": "StyleView",
            "_model_name": "DescriptionStyleModel",
            "description_width": "",
            "_view_module": "@jupyter-widgets/base",
            "_model_module_version": "1.5.0",
            "_view_count": null,
            "_view_module_version": "1.2.0",
            "_model_module": "@jupyter-widgets/controls"
          }
        },
        "11d04296516645388f4a6a3b769d6bbd": {
          "model_module": "@jupyter-widgets/base",
          "model_name": "LayoutModel",
          "model_module_version": "1.2.0",
          "state": {
            "_view_name": "LayoutView",
            "grid_template_rows": null,
            "right": null,
            "justify_content": null,
            "_view_module": "@jupyter-widgets/base",
            "overflow": null,
            "_model_module_version": "1.2.0",
            "_view_count": null,
            "flex_flow": null,
            "width": null,
            "min_width": null,
            "border": null,
            "align_items": null,
            "bottom": null,
            "_model_module": "@jupyter-widgets/base",
            "top": null,
            "grid_column": null,
            "overflow_y": null,
            "overflow_x": null,
            "grid_auto_flow": null,
            "grid_area": null,
            "grid_template_columns": null,
            "flex": null,
            "_model_name": "LayoutModel",
            "justify_items": null,
            "grid_row": null,
            "max_height": null,
            "align_content": null,
            "visibility": null,
            "align_self": null,
            "height": null,
            "min_height": null,
            "padding": null,
            "grid_auto_rows": null,
            "grid_gap": null,
            "max_width": null,
            "order": null,
            "_view_module_version": "1.2.0",
            "grid_template_areas": null,
            "object_position": null,
            "object_fit": null,
            "grid_auto_columns": null,
            "margin": null,
            "display": null,
            "left": null
          }
        },
        "4284e66f79f54ba5bdbbeae0b1b1b2af": {
          "model_module": "@jupyter-widgets/controls",
          "model_name": "HBoxModel",
          "model_module_version": "1.5.0",
          "state": {
            "_view_name": "HBoxView",
            "_dom_classes": [],
            "_model_name": "HBoxModel",
            "_view_module": "@jupyter-widgets/controls",
            "_model_module_version": "1.5.0",
            "_view_count": null,
            "_view_module_version": "1.5.0",
            "box_style": "",
            "layout": "IPY_MODEL_62b0309f2dcc4bc4822ef5205091cd37",
            "_model_module": "@jupyter-widgets/controls",
            "children": [
              "IPY_MODEL_7122a04a489044a29bf74cfc6a667de4",
              "IPY_MODEL_bd90d5aff8c641fb962924b1ce19fdb1",
              "IPY_MODEL_170b99cee8274d85b6a3ec496dab2525"
            ]
          }
        },
        "62b0309f2dcc4bc4822ef5205091cd37": {
          "model_module": "@jupyter-widgets/base",
          "model_name": "LayoutModel",
          "model_module_version": "1.2.0",
          "state": {
            "_view_name": "LayoutView",
            "grid_template_rows": null,
            "right": null,
            "justify_content": null,
            "_view_module": "@jupyter-widgets/base",
            "overflow": null,
            "_model_module_version": "1.2.0",
            "_view_count": null,
            "flex_flow": null,
            "width": null,
            "min_width": null,
            "border": null,
            "align_items": null,
            "bottom": null,
            "_model_module": "@jupyter-widgets/base",
            "top": null,
            "grid_column": null,
            "overflow_y": null,
            "overflow_x": null,
            "grid_auto_flow": null,
            "grid_area": null,
            "grid_template_columns": null,
            "flex": null,
            "_model_name": "LayoutModel",
            "justify_items": null,
            "grid_row": null,
            "max_height": null,
            "align_content": null,
            "visibility": null,
            "align_self": null,
            "height": null,
            "min_height": null,
            "padding": null,
            "grid_auto_rows": null,
            "grid_gap": null,
            "max_width": null,
            "order": null,
            "_view_module_version": "1.2.0",
            "grid_template_areas": null,
            "object_position": null,
            "object_fit": null,
            "grid_auto_columns": null,
            "margin": null,
            "display": null,
            "left": null
          }
        },
        "7122a04a489044a29bf74cfc6a667de4": {
          "model_module": "@jupyter-widgets/controls",
          "model_name": "HTMLModel",
          "model_module_version": "1.5.0",
          "state": {
            "_view_name": "HTMLView",
            "style": "IPY_MODEL_313cb6facb744ee3a3eb10ad2b701c6a",
            "_dom_classes": [],
            "description": "",
            "_model_name": "HTMLModel",
            "placeholder": "​",
            "_view_module": "@jupyter-widgets/controls",
            "_model_module_version": "1.5.0",
            "value": "100%",
            "_view_count": null,
            "_view_module_version": "1.5.0",
            "description_tooltip": null,
            "_model_module": "@jupyter-widgets/controls",
            "layout": "IPY_MODEL_1a680221facd4e4fba9c8ccd871ec99b"
          }
        },
        "bd90d5aff8c641fb962924b1ce19fdb1": {
          "model_module": "@jupyter-widgets/controls",
          "model_name": "FloatProgressModel",
          "model_module_version": "1.5.0",
          "state": {
            "_view_name": "ProgressView",
            "style": "IPY_MODEL_089e9e72296847208b7fa8e3e0830309",
            "_dom_classes": [],
            "description": "",
            "_model_name": "FloatProgressModel",
            "bar_style": "success",
            "max": 205,
            "_view_module": "@jupyter-widgets/controls",
            "_model_module_version": "1.5.0",
            "value": 205,
            "_view_count": null,
            "_view_module_version": "1.5.0",
            "orientation": "horizontal",
            "min": 0,
            "description_tooltip": null,
            "_model_module": "@jupyter-widgets/controls",
            "layout": "IPY_MODEL_7cad4c539445427ab65f92fbccf1ab7f"
          }
        },
        "170b99cee8274d85b6a3ec496dab2525": {
          "model_module": "@jupyter-widgets/controls",
          "model_name": "HTMLModel",
          "model_module_version": "1.5.0",
          "state": {
            "_view_name": "HTMLView",
            "style": "IPY_MODEL_5d1ca34f3a3943b19dcc6399619602b8",
            "_dom_classes": [],
            "description": "",
            "_model_name": "HTMLModel",
            "placeholder": "​",
            "_view_module": "@jupyter-widgets/controls",
            "_model_module_version": "1.5.0",
            "value": " 205/205 [00:01&lt;00:00, 129.00it/s]",
            "_view_count": null,
            "_view_module_version": "1.5.0",
            "description_tooltip": null,
            "_model_module": "@jupyter-widgets/controls",
            "layout": "IPY_MODEL_a04326c4e54a416da51019420f28a037"
          }
        },
        "313cb6facb744ee3a3eb10ad2b701c6a": {
          "model_module": "@jupyter-widgets/controls",
          "model_name": "DescriptionStyleModel",
          "model_module_version": "1.5.0",
          "state": {
            "_view_name": "StyleView",
            "_model_name": "DescriptionStyleModel",
            "description_width": "",
            "_view_module": "@jupyter-widgets/base",
            "_model_module_version": "1.5.0",
            "_view_count": null,
            "_view_module_version": "1.2.0",
            "_model_module": "@jupyter-widgets/controls"
          }
        },
        "1a680221facd4e4fba9c8ccd871ec99b": {
          "model_module": "@jupyter-widgets/base",
          "model_name": "LayoutModel",
          "model_module_version": "1.2.0",
          "state": {
            "_view_name": "LayoutView",
            "grid_template_rows": null,
            "right": null,
            "justify_content": null,
            "_view_module": "@jupyter-widgets/base",
            "overflow": null,
            "_model_module_version": "1.2.0",
            "_view_count": null,
            "flex_flow": null,
            "width": null,
            "min_width": null,
            "border": null,
            "align_items": null,
            "bottom": null,
            "_model_module": "@jupyter-widgets/base",
            "top": null,
            "grid_column": null,
            "overflow_y": null,
            "overflow_x": null,
            "grid_auto_flow": null,
            "grid_area": null,
            "grid_template_columns": null,
            "flex": null,
            "_model_name": "LayoutModel",
            "justify_items": null,
            "grid_row": null,
            "max_height": null,
            "align_content": null,
            "visibility": null,
            "align_self": null,
            "height": null,
            "min_height": null,
            "padding": null,
            "grid_auto_rows": null,
            "grid_gap": null,
            "max_width": null,
            "order": null,
            "_view_module_version": "1.2.0",
            "grid_template_areas": null,
            "object_position": null,
            "object_fit": null,
            "grid_auto_columns": null,
            "margin": null,
            "display": null,
            "left": null
          }
        },
        "089e9e72296847208b7fa8e3e0830309": {
          "model_module": "@jupyter-widgets/controls",
          "model_name": "ProgressStyleModel",
          "model_module_version": "1.5.0",
          "state": {
            "_view_name": "StyleView",
            "_model_name": "ProgressStyleModel",
            "description_width": "",
            "_view_module": "@jupyter-widgets/base",
            "_model_module_version": "1.5.0",
            "_view_count": null,
            "_view_module_version": "1.2.0",
            "bar_color": null,
            "_model_module": "@jupyter-widgets/controls"
          }
        },
        "7cad4c539445427ab65f92fbccf1ab7f": {
          "model_module": "@jupyter-widgets/base",
          "model_name": "LayoutModel",
          "model_module_version": "1.2.0",
          "state": {
            "_view_name": "LayoutView",
            "grid_template_rows": null,
            "right": null,
            "justify_content": null,
            "_view_module": "@jupyter-widgets/base",
            "overflow": null,
            "_model_module_version": "1.2.0",
            "_view_count": null,
            "flex_flow": null,
            "width": null,
            "min_width": null,
            "border": null,
            "align_items": null,
            "bottom": null,
            "_model_module": "@jupyter-widgets/base",
            "top": null,
            "grid_column": null,
            "overflow_y": null,
            "overflow_x": null,
            "grid_auto_flow": null,
            "grid_area": null,
            "grid_template_columns": null,
            "flex": null,
            "_model_name": "LayoutModel",
            "justify_items": null,
            "grid_row": null,
            "max_height": null,
            "align_content": null,
            "visibility": null,
            "align_self": null,
            "height": null,
            "min_height": null,
            "padding": null,
            "grid_auto_rows": null,
            "grid_gap": null,
            "max_width": null,
            "order": null,
            "_view_module_version": "1.2.0",
            "grid_template_areas": null,
            "object_position": null,
            "object_fit": null,
            "grid_auto_columns": null,
            "margin": null,
            "display": null,
            "left": null
          }
        },
        "5d1ca34f3a3943b19dcc6399619602b8": {
          "model_module": "@jupyter-widgets/controls",
          "model_name": "DescriptionStyleModel",
          "model_module_version": "1.5.0",
          "state": {
            "_view_name": "StyleView",
            "_model_name": "DescriptionStyleModel",
            "description_width": "",
            "_view_module": "@jupyter-widgets/base",
            "_model_module_version": "1.5.0",
            "_view_count": null,
            "_view_module_version": "1.2.0",
            "_model_module": "@jupyter-widgets/controls"
          }
        },
        "a04326c4e54a416da51019420f28a037": {
          "model_module": "@jupyter-widgets/base",
          "model_name": "LayoutModel",
          "model_module_version": "1.2.0",
          "state": {
            "_view_name": "LayoutView",
            "grid_template_rows": null,
            "right": null,
            "justify_content": null,
            "_view_module": "@jupyter-widgets/base",
            "overflow": null,
            "_model_module_version": "1.2.0",
            "_view_count": null,
            "flex_flow": null,
            "width": null,
            "min_width": null,
            "border": null,
            "align_items": null,
            "bottom": null,
            "_model_module": "@jupyter-widgets/base",
            "top": null,
            "grid_column": null,
            "overflow_y": null,
            "overflow_x": null,
            "grid_auto_flow": null,
            "grid_area": null,
            "grid_template_columns": null,
            "flex": null,
            "_model_name": "LayoutModel",
            "justify_items": null,
            "grid_row": null,
            "max_height": null,
            "align_content": null,
            "visibility": null,
            "align_self": null,
            "height": null,
            "min_height": null,
            "padding": null,
            "grid_auto_rows": null,
            "grid_gap": null,
            "max_width": null,
            "order": null,
            "_view_module_version": "1.2.0",
            "grid_template_areas": null,
            "object_position": null,
            "object_fit": null,
            "grid_auto_columns": null,
            "margin": null,
            "display": null,
            "left": null
          }
        },
        "8a31af43399444a3a3e2ab0490dbf853": {
          "model_module": "@jupyter-widgets/controls",
          "model_name": "HBoxModel",
          "model_module_version": "1.5.0",
          "state": {
            "_view_name": "HBoxView",
            "_dom_classes": [],
            "_model_name": "HBoxModel",
            "_view_module": "@jupyter-widgets/controls",
            "_model_module_version": "1.5.0",
            "_view_count": null,
            "_view_module_version": "1.5.0",
            "box_style": "",
            "layout": "IPY_MODEL_8147a5fe9fc84bd69ad9ce5937353a0b",
            "_model_module": "@jupyter-widgets/controls",
            "children": [
              "IPY_MODEL_5472c371b7a947f88880edb903779660",
              "IPY_MODEL_2e363b92538b4ded8eb4d067b2a40cc8",
              "IPY_MODEL_23700c1595614b9a8a27272fe85f57c0"
            ]
          }
        },
        "8147a5fe9fc84bd69ad9ce5937353a0b": {
          "model_module": "@jupyter-widgets/base",
          "model_name": "LayoutModel",
          "model_module_version": "1.2.0",
          "state": {
            "_view_name": "LayoutView",
            "grid_template_rows": null,
            "right": null,
            "justify_content": null,
            "_view_module": "@jupyter-widgets/base",
            "overflow": null,
            "_model_module_version": "1.2.0",
            "_view_count": null,
            "flex_flow": null,
            "width": null,
            "min_width": null,
            "border": null,
            "align_items": null,
            "bottom": null,
            "_model_module": "@jupyter-widgets/base",
            "top": null,
            "grid_column": null,
            "overflow_y": null,
            "overflow_x": null,
            "grid_auto_flow": null,
            "grid_area": null,
            "grid_template_columns": null,
            "flex": null,
            "_model_name": "LayoutModel",
            "justify_items": null,
            "grid_row": null,
            "max_height": null,
            "align_content": null,
            "visibility": null,
            "align_self": null,
            "height": null,
            "min_height": null,
            "padding": null,
            "grid_auto_rows": null,
            "grid_gap": null,
            "max_width": null,
            "order": null,
            "_view_module_version": "1.2.0",
            "grid_template_areas": null,
            "object_position": null,
            "object_fit": null,
            "grid_auto_columns": null,
            "margin": null,
            "display": null,
            "left": null
          }
        },
        "5472c371b7a947f88880edb903779660": {
          "model_module": "@jupyter-widgets/controls",
          "model_name": "HTMLModel",
          "model_module_version": "1.5.0",
          "state": {
            "_view_name": "HTMLView",
            "style": "IPY_MODEL_7e85239df7894af49da6c40a1d47d7de",
            "_dom_classes": [],
            "description": "",
            "_model_name": "HTMLModel",
            "placeholder": "​",
            "_view_module": "@jupyter-widgets/controls",
            "_model_module_version": "1.5.0",
            "value": "100%",
            "_view_count": null,
            "_view_module_version": "1.5.0",
            "description_tooltip": null,
            "_model_module": "@jupyter-widgets/controls",
            "layout": "IPY_MODEL_b80be479f4e44e5cb70fb6a64b1a501c"
          }
        },
        "2e363b92538b4ded8eb4d067b2a40cc8": {
          "model_module": "@jupyter-widgets/controls",
          "model_name": "FloatProgressModel",
          "model_module_version": "1.5.0",
          "state": {
            "_view_name": "ProgressView",
            "style": "IPY_MODEL_0180f4c04c60467ca3f80b2db5155a77",
            "_dom_classes": [],
            "description": "",
            "_model_name": "FloatProgressModel",
            "bar_style": "success",
            "max": 205,
            "_view_module": "@jupyter-widgets/controls",
            "_model_module_version": "1.5.0",
            "value": 205,
            "_view_count": null,
            "_view_module_version": "1.5.0",
            "orientation": "horizontal",
            "min": 0,
            "description_tooltip": null,
            "_model_module": "@jupyter-widgets/controls",
            "layout": "IPY_MODEL_4e8a0b77f1db409dbe2bd2d341587be0"
          }
        },
        "23700c1595614b9a8a27272fe85f57c0": {
          "model_module": "@jupyter-widgets/controls",
          "model_name": "HTMLModel",
          "model_module_version": "1.5.0",
          "state": {
            "_view_name": "HTMLView",
            "style": "IPY_MODEL_d8d95214cfe5468ca9b330e8d41be8c7",
            "_dom_classes": [],
            "description": "",
            "_model_name": "HTMLModel",
            "placeholder": "​",
            "_view_module": "@jupyter-widgets/controls",
            "_model_module_version": "1.5.0",
            "value": " 205/205 [00:01&lt;00:00, 125.44it/s]",
            "_view_count": null,
            "_view_module_version": "1.5.0",
            "description_tooltip": null,
            "_model_module": "@jupyter-widgets/controls",
            "layout": "IPY_MODEL_df7f1f21b4824139bb5e46e0a5bfe9a6"
          }
        },
        "7e85239df7894af49da6c40a1d47d7de": {
          "model_module": "@jupyter-widgets/controls",
          "model_name": "DescriptionStyleModel",
          "model_module_version": "1.5.0",
          "state": {
            "_view_name": "StyleView",
            "_model_name": "DescriptionStyleModel",
            "description_width": "",
            "_view_module": "@jupyter-widgets/base",
            "_model_module_version": "1.5.0",
            "_view_count": null,
            "_view_module_version": "1.2.0",
            "_model_module": "@jupyter-widgets/controls"
          }
        },
        "b80be479f4e44e5cb70fb6a64b1a501c": {
          "model_module": "@jupyter-widgets/base",
          "model_name": "LayoutModel",
          "model_module_version": "1.2.0",
          "state": {
            "_view_name": "LayoutView",
            "grid_template_rows": null,
            "right": null,
            "justify_content": null,
            "_view_module": "@jupyter-widgets/base",
            "overflow": null,
            "_model_module_version": "1.2.0",
            "_view_count": null,
            "flex_flow": null,
            "width": null,
            "min_width": null,
            "border": null,
            "align_items": null,
            "bottom": null,
            "_model_module": "@jupyter-widgets/base",
            "top": null,
            "grid_column": null,
            "overflow_y": null,
            "overflow_x": null,
            "grid_auto_flow": null,
            "grid_area": null,
            "grid_template_columns": null,
            "flex": null,
            "_model_name": "LayoutModel",
            "justify_items": null,
            "grid_row": null,
            "max_height": null,
            "align_content": null,
            "visibility": null,
            "align_self": null,
            "height": null,
            "min_height": null,
            "padding": null,
            "grid_auto_rows": null,
            "grid_gap": null,
            "max_width": null,
            "order": null,
            "_view_module_version": "1.2.0",
            "grid_template_areas": null,
            "object_position": null,
            "object_fit": null,
            "grid_auto_columns": null,
            "margin": null,
            "display": null,
            "left": null
          }
        },
        "0180f4c04c60467ca3f80b2db5155a77": {
          "model_module": "@jupyter-widgets/controls",
          "model_name": "ProgressStyleModel",
          "model_module_version": "1.5.0",
          "state": {
            "_view_name": "StyleView",
            "_model_name": "ProgressStyleModel",
            "description_width": "",
            "_view_module": "@jupyter-widgets/base",
            "_model_module_version": "1.5.0",
            "_view_count": null,
            "_view_module_version": "1.2.0",
            "bar_color": null,
            "_model_module": "@jupyter-widgets/controls"
          }
        },
        "4e8a0b77f1db409dbe2bd2d341587be0": {
          "model_module": "@jupyter-widgets/base",
          "model_name": "LayoutModel",
          "model_module_version": "1.2.0",
          "state": {
            "_view_name": "LayoutView",
            "grid_template_rows": null,
            "right": null,
            "justify_content": null,
            "_view_module": "@jupyter-widgets/base",
            "overflow": null,
            "_model_module_version": "1.2.0",
            "_view_count": null,
            "flex_flow": null,
            "width": null,
            "min_width": null,
            "border": null,
            "align_items": null,
            "bottom": null,
            "_model_module": "@jupyter-widgets/base",
            "top": null,
            "grid_column": null,
            "overflow_y": null,
            "overflow_x": null,
            "grid_auto_flow": null,
            "grid_area": null,
            "grid_template_columns": null,
            "flex": null,
            "_model_name": "LayoutModel",
            "justify_items": null,
            "grid_row": null,
            "max_height": null,
            "align_content": null,
            "visibility": null,
            "align_self": null,
            "height": null,
            "min_height": null,
            "padding": null,
            "grid_auto_rows": null,
            "grid_gap": null,
            "max_width": null,
            "order": null,
            "_view_module_version": "1.2.0",
            "grid_template_areas": null,
            "object_position": null,
            "object_fit": null,
            "grid_auto_columns": null,
            "margin": null,
            "display": null,
            "left": null
          }
        },
        "d8d95214cfe5468ca9b330e8d41be8c7": {
          "model_module": "@jupyter-widgets/controls",
          "model_name": "DescriptionStyleModel",
          "model_module_version": "1.5.0",
          "state": {
            "_view_name": "StyleView",
            "_model_name": "DescriptionStyleModel",
            "description_width": "",
            "_view_module": "@jupyter-widgets/base",
            "_model_module_version": "1.5.0",
            "_view_count": null,
            "_view_module_version": "1.2.0",
            "_model_module": "@jupyter-widgets/controls"
          }
        },
        "df7f1f21b4824139bb5e46e0a5bfe9a6": {
          "model_module": "@jupyter-widgets/base",
          "model_name": "LayoutModel",
          "model_module_version": "1.2.0",
          "state": {
            "_view_name": "LayoutView",
            "grid_template_rows": null,
            "right": null,
            "justify_content": null,
            "_view_module": "@jupyter-widgets/base",
            "overflow": null,
            "_model_module_version": "1.2.0",
            "_view_count": null,
            "flex_flow": null,
            "width": null,
            "min_width": null,
            "border": null,
            "align_items": null,
            "bottom": null,
            "_model_module": "@jupyter-widgets/base",
            "top": null,
            "grid_column": null,
            "overflow_y": null,
            "overflow_x": null,
            "grid_auto_flow": null,
            "grid_area": null,
            "grid_template_columns": null,
            "flex": null,
            "_model_name": "LayoutModel",
            "justify_items": null,
            "grid_row": null,
            "max_height": null,
            "align_content": null,
            "visibility": null,
            "align_self": null,
            "height": null,
            "min_height": null,
            "padding": null,
            "grid_auto_rows": null,
            "grid_gap": null,
            "max_width": null,
            "order": null,
            "_view_module_version": "1.2.0",
            "grid_template_areas": null,
            "object_position": null,
            "object_fit": null,
            "grid_auto_columns": null,
            "margin": null,
            "display": null,
            "left": null
          }
        }
      }
    }
  },
  "cells": [
    {
      "cell_type": "markdown",
      "source": [
        "# ML Exercise 2-1\n",
        "## Question 1\n",
        "By Gholamreza Dar\n",
        "\n",
        "https://gholamrezadar.ir/\n",
        "\n",
        "Dec 2021\n",
        "\n",
        "\n",
        "Questions available at : [Github Link](https://github.com/Gholamrezadar/machine-learning-exercises/blob/main/ML-HW02.pdf)\n"
      ],
      "metadata": {
        "id": "I1zM_UK_WGTg"
      }
    },
    {
      "cell_type": "markdown",
      "source": [
        "## Loading the data"
      ],
      "metadata": {
        "id": "0XC_lRnwWgJf"
      }
    },
    {
      "cell_type": "code",
      "source": [
        "!wget -nc https://raw.githubusercontent.com/Gholamrezadar/machine-learning-exercises/main/heart.csv"
      ],
      "metadata": {
        "colab": {
          "base_uri": "https://localhost:8080/"
        },
        "id": "Od4qE1HnWnZg",
        "outputId": "4f149e0b-9af2-4e0b-dce9-1c4dcc7d2d64"
      },
      "execution_count": 24,
      "outputs": [
        {
          "output_type": "stream",
          "name": "stdout",
          "text": [
            "File ‘heart.csv’ already there; not retrieving.\n",
            "\n"
          ]
        }
      ]
    },
    {
      "cell_type": "code",
      "source": [
        "import numpy as np\n",
        "import pandas as pd\n",
        "import matplotlib.pyplot as plt\n",
        "from scipy.stats import norm\n",
        "from scipy.stats import multivariate_normal\n",
        "from functools import lru_cache\n",
        "from tqdm.notebook import tqdm\n",
        "import seaborn as sns; sns.set()"
      ],
      "metadata": {
        "id": "hrkQLEnGWh8S"
      },
      "execution_count": 25,
      "outputs": []
    },
    {
      "cell_type": "code",
      "source": [
        "df = pd.read_csv(\"/content/heart.csv\")"
      ],
      "metadata": {
        "id": "8EcmMcC7Wljc"
      },
      "execution_count": 26,
      "outputs": []
    },
    {
      "cell_type": "code",
      "source": [
        "df.head()"
      ],
      "metadata": {
        "colab": {
          "base_uri": "https://localhost:8080/",
          "height": 206
        },
        "id": "Y9WHz0V6Xd2U",
        "outputId": "94ab7207-1035-4d4a-ab9d-550e9f1fceea"
      },
      "execution_count": 27,
      "outputs": [
        {
          "output_type": "execute_result",
          "data": {
            "text/html": [
              "\n",
              "  <div id=\"df-3e9de867-6548-44ab-8e5a-910849a986b9\">\n",
              "    <div class=\"colab-df-container\">\n",
              "      <div>\n",
              "<style scoped>\n",
              "    .dataframe tbody tr th:only-of-type {\n",
              "        vertical-align: middle;\n",
              "    }\n",
              "\n",
              "    .dataframe tbody tr th {\n",
              "        vertical-align: top;\n",
              "    }\n",
              "\n",
              "    .dataframe thead th {\n",
              "        text-align: right;\n",
              "    }\n",
              "</style>\n",
              "<table border=\"1\" class=\"dataframe\">\n",
              "  <thead>\n",
              "    <tr style=\"text-align: right;\">\n",
              "      <th></th>\n",
              "      <th>age</th>\n",
              "      <th>sex</th>\n",
              "      <th>cp</th>\n",
              "      <th>trestbps</th>\n",
              "      <th>chol</th>\n",
              "      <th>fbs</th>\n",
              "      <th>restecg</th>\n",
              "      <th>thalach</th>\n",
              "      <th>exang</th>\n",
              "      <th>oldpeak</th>\n",
              "      <th>slope</th>\n",
              "      <th>ca</th>\n",
              "      <th>thal</th>\n",
              "      <th>target</th>\n",
              "    </tr>\n",
              "  </thead>\n",
              "  <tbody>\n",
              "    <tr>\n",
              "      <th>0</th>\n",
              "      <td>52</td>\n",
              "      <td>1</td>\n",
              "      <td>0</td>\n",
              "      <td>125</td>\n",
              "      <td>212</td>\n",
              "      <td>0</td>\n",
              "      <td>1</td>\n",
              "      <td>168</td>\n",
              "      <td>0</td>\n",
              "      <td>1.0</td>\n",
              "      <td>2</td>\n",
              "      <td>2</td>\n",
              "      <td>3</td>\n",
              "      <td>0</td>\n",
              "    </tr>\n",
              "    <tr>\n",
              "      <th>1</th>\n",
              "      <td>53</td>\n",
              "      <td>1</td>\n",
              "      <td>0</td>\n",
              "      <td>140</td>\n",
              "      <td>203</td>\n",
              "      <td>1</td>\n",
              "      <td>0</td>\n",
              "      <td>155</td>\n",
              "      <td>1</td>\n",
              "      <td>3.1</td>\n",
              "      <td>0</td>\n",
              "      <td>0</td>\n",
              "      <td>3</td>\n",
              "      <td>0</td>\n",
              "    </tr>\n",
              "    <tr>\n",
              "      <th>2</th>\n",
              "      <td>70</td>\n",
              "      <td>1</td>\n",
              "      <td>0</td>\n",
              "      <td>145</td>\n",
              "      <td>174</td>\n",
              "      <td>0</td>\n",
              "      <td>1</td>\n",
              "      <td>125</td>\n",
              "      <td>1</td>\n",
              "      <td>2.6</td>\n",
              "      <td>0</td>\n",
              "      <td>0</td>\n",
              "      <td>3</td>\n",
              "      <td>0</td>\n",
              "    </tr>\n",
              "    <tr>\n",
              "      <th>3</th>\n",
              "      <td>61</td>\n",
              "      <td>1</td>\n",
              "      <td>0</td>\n",
              "      <td>148</td>\n",
              "      <td>203</td>\n",
              "      <td>0</td>\n",
              "      <td>1</td>\n",
              "      <td>161</td>\n",
              "      <td>0</td>\n",
              "      <td>0.0</td>\n",
              "      <td>2</td>\n",
              "      <td>1</td>\n",
              "      <td>3</td>\n",
              "      <td>0</td>\n",
              "    </tr>\n",
              "    <tr>\n",
              "      <th>4</th>\n",
              "      <td>62</td>\n",
              "      <td>0</td>\n",
              "      <td>0</td>\n",
              "      <td>138</td>\n",
              "      <td>294</td>\n",
              "      <td>1</td>\n",
              "      <td>1</td>\n",
              "      <td>106</td>\n",
              "      <td>0</td>\n",
              "      <td>1.9</td>\n",
              "      <td>1</td>\n",
              "      <td>3</td>\n",
              "      <td>2</td>\n",
              "      <td>0</td>\n",
              "    </tr>\n",
              "  </tbody>\n",
              "</table>\n",
              "</div>\n",
              "      <button class=\"colab-df-convert\" onclick=\"convertToInteractive('df-3e9de867-6548-44ab-8e5a-910849a986b9')\"\n",
              "              title=\"Convert this dataframe to an interactive table.\"\n",
              "              style=\"display:none;\">\n",
              "        \n",
              "  <svg xmlns=\"http://www.w3.org/2000/svg\" height=\"24px\"viewBox=\"0 0 24 24\"\n",
              "       width=\"24px\">\n",
              "    <path d=\"M0 0h24v24H0V0z\" fill=\"none\"/>\n",
              "    <path d=\"M18.56 5.44l.94 2.06.94-2.06 2.06-.94-2.06-.94-.94-2.06-.94 2.06-2.06.94zm-11 1L8.5 8.5l.94-2.06 2.06-.94-2.06-.94L8.5 2.5l-.94 2.06-2.06.94zm10 10l.94 2.06.94-2.06 2.06-.94-2.06-.94-.94-2.06-.94 2.06-2.06.94z\"/><path d=\"M17.41 7.96l-1.37-1.37c-.4-.4-.92-.59-1.43-.59-.52 0-1.04.2-1.43.59L10.3 9.45l-7.72 7.72c-.78.78-.78 2.05 0 2.83L4 21.41c.39.39.9.59 1.41.59.51 0 1.02-.2 1.41-.59l7.78-7.78 2.81-2.81c.8-.78.8-2.07 0-2.86zM5.41 20L4 18.59l7.72-7.72 1.47 1.35L5.41 20z\"/>\n",
              "  </svg>\n",
              "      </button>\n",
              "      \n",
              "  <style>\n",
              "    .colab-df-container {\n",
              "      display:flex;\n",
              "      flex-wrap:wrap;\n",
              "      gap: 12px;\n",
              "    }\n",
              "\n",
              "    .colab-df-convert {\n",
              "      background-color: #E8F0FE;\n",
              "      border: none;\n",
              "      border-radius: 50%;\n",
              "      cursor: pointer;\n",
              "      display: none;\n",
              "      fill: #1967D2;\n",
              "      height: 32px;\n",
              "      padding: 0 0 0 0;\n",
              "      width: 32px;\n",
              "    }\n",
              "\n",
              "    .colab-df-convert:hover {\n",
              "      background-color: #E2EBFA;\n",
              "      box-shadow: 0px 1px 2px rgba(60, 64, 67, 0.3), 0px 1px 3px 1px rgba(60, 64, 67, 0.15);\n",
              "      fill: #174EA6;\n",
              "    }\n",
              "\n",
              "    [theme=dark] .colab-df-convert {\n",
              "      background-color: #3B4455;\n",
              "      fill: #D2E3FC;\n",
              "    }\n",
              "\n",
              "    [theme=dark] .colab-df-convert:hover {\n",
              "      background-color: #434B5C;\n",
              "      box-shadow: 0px 1px 3px 1px rgba(0, 0, 0, 0.15);\n",
              "      filter: drop-shadow(0px 1px 2px rgba(0, 0, 0, 0.3));\n",
              "      fill: #FFFFFF;\n",
              "    }\n",
              "  </style>\n",
              "\n",
              "      <script>\n",
              "        const buttonEl =\n",
              "          document.querySelector('#df-3e9de867-6548-44ab-8e5a-910849a986b9 button.colab-df-convert');\n",
              "        buttonEl.style.display =\n",
              "          google.colab.kernel.accessAllowed ? 'block' : 'none';\n",
              "\n",
              "        async function convertToInteractive(key) {\n",
              "          const element = document.querySelector('#df-3e9de867-6548-44ab-8e5a-910849a986b9');\n",
              "          const dataTable =\n",
              "            await google.colab.kernel.invokeFunction('convertToInteractive',\n",
              "                                                     [key], {});\n",
              "          if (!dataTable) return;\n",
              "\n",
              "          const docLinkHtml = 'Like what you see? Visit the ' +\n",
              "            '<a target=\"_blank\" href=https://colab.research.google.com/notebooks/data_table.ipynb>data table notebook</a>'\n",
              "            + ' to learn more about interactive tables.';\n",
              "          element.innerHTML = '';\n",
              "          dataTable['output_type'] = 'display_data';\n",
              "          await google.colab.output.renderOutput(dataTable, element);\n",
              "          const docLink = document.createElement('div');\n",
              "          docLink.innerHTML = docLinkHtml;\n",
              "          element.appendChild(docLink);\n",
              "        }\n",
              "      </script>\n",
              "    </div>\n",
              "  </div>\n",
              "  "
            ],
            "text/plain": [
              "   age  sex  cp  trestbps  chol  fbs  ...  exang  oldpeak  slope  ca  thal  target\n",
              "0   52    1   0       125   212    0  ...      0      1.0      2   2     3       0\n",
              "1   53    1   0       140   203    1  ...      1      3.1      0   0     3       0\n",
              "2   70    1   0       145   174    0  ...      1      2.6      0   0     3       0\n",
              "3   61    1   0       148   203    0  ...      0      0.0      2   1     3       0\n",
              "4   62    0   0       138   294    1  ...      0      1.9      1   3     2       0\n",
              "\n",
              "[5 rows x 14 columns]"
            ]
          },
          "metadata": {},
          "execution_count": 27
        }
      ]
    },
    {
      "cell_type": "markdown",
      "source": [
        "\n",
        "\n",
        "**Discrete features:**\n",
        "\n",
        "sex, cp, fbs, restecg, exang, slope, ca, thal\n",
        "\n",
        "**Continuous features:**\n",
        "\n",
        "age, trestbps, chol, thalach, oldpeak\n",
        "\n",
        "**Label:**\n",
        "\n",
        "target"
      ],
      "metadata": {
        "id": "Tp_YAI61XsBq"
      }
    },
    {
      "cell_type": "markdown",
      "source": [
        "### Preparing the data\n",
        "\n",
        "\n",
        "1.   Shuffle\n",
        "2.   Seperate X,y\n",
        "3.   Train, Test Split\n",
        "\n",
        "\n"
      ],
      "metadata": {
        "id": "RbjLWfRxau_E"
      }
    },
    {
      "cell_type": "markdown",
      "source": [
        "#### Shuffle dataframe"
      ],
      "metadata": {
        "id": "lPYQ_eyLfHHH"
      }
    },
    {
      "cell_type": "code",
      "source": [
        "# Shuffle dataframe\n",
        "df = df.sample(frac=1.0).reset_index(drop=True)"
      ],
      "metadata": {
        "id": "SZDOlBMgau1F"
      },
      "execution_count": 28,
      "outputs": []
    },
    {
      "cell_type": "markdown",
      "source": [
        "#### Seperate X,y"
      ],
      "metadata": {
        "id": "Xf06CPz1fIXA"
      }
    },
    {
      "cell_type": "code",
      "source": [
        "# Seperate X,y\n",
        "X = df.drop(columns=[\"target\"])\n",
        "y = df[\"target\"]"
      ],
      "metadata": {
        "id": "2iCo-Lj9cL4R"
      },
      "execution_count": 29,
      "outputs": []
    },
    {
      "cell_type": "markdown",
      "source": [
        "#### Split to train and test"
      ],
      "metadata": {
        "id": "I36uxJZBfMQS"
      }
    },
    {
      "cell_type": "code",
      "source": [
        "# Split to train and test\n",
        "split = 0.8\n",
        "\n",
        "X_train = X.iloc[ : int(len(X)*split),:].reset_index(drop=True)\n",
        "X_test = X.iloc[int(len(X)*split) : ,:].reset_index(drop=True)\n",
        "\n",
        "y_train = y.iloc[ : int(len(X)*split)].reset_index(drop=True)\n",
        "y_test = y.iloc[int(len(X)*split) : ].reset_index(drop=True)\n",
        "\n",
        "print(f\"Train X size = {len(X_train)}\")\n",
        "print(f\"Train y size = {len(y_train)}\")\n",
        "print(f\"Test X size = {len(X_test)}\")\n",
        "print(f\"Test y size = {len(y_test)}\")"
      ],
      "metadata": {
        "colab": {
          "base_uri": "https://localhost:8080/"
        },
        "id": "7LEfr2lIcFfe",
        "outputId": "c61d3e55-05c9-444b-8ca1-c5f0c7a830d1"
      },
      "execution_count": 30,
      "outputs": [
        {
          "output_type": "stream",
          "name": "stdout",
          "text": [
            "Train X size = 820\n",
            "Train y size = 820\n",
            "Test X size = 205\n",
            "Test y size = 205\n"
          ]
        }
      ]
    },
    {
      "cell_type": "markdown",
      "source": [
        "## Helper functions\n"
      ],
      "metadata": {
        "id": "7n52N5SQWb9D"
      }
    },
    {
      "cell_type": "code",
      "source": [
        "def generate_frequency_tables(X_train, y_train):\n",
        "  '''\n",
        "  Generates frequency_tables for pos and neg labels seperatley.\n",
        "  Useful for calculating probabilities later on.\n",
        "  example : frequency_table_pos[\"sex\"][1] -> how many sex=1 entries where found \n",
        "  with positive label in the data\n",
        "  returns frequency_table_pos, frequency_table_neg\n",
        "  '''\n",
        "  discrete_cols = [\"sex\", \"cp\", \"fbs\", \"restecg\", \"exang\", \"slope\", \"ca\", \"thal\"]\n",
        "\n",
        "  X_train_pos = X_train.loc[y_train==1]\n",
        "  X_train_neg = X_train.loc[y_train==0]\n",
        "\n",
        "  # Generate a frequency table for positive instances\n",
        "  frequency_table_pos = {}\n",
        "  for col in discrete_cols:\n",
        "    frequency_table_pos[col] = X_train_pos[col].value_counts().to_dict()\n",
        "\n",
        "  # Generate a frequency table for negative instances\n",
        "  frequency_table_neg = {}\n",
        "  for col in discrete_cols:\n",
        "    frequency_table_neg[col] = X_train_neg[col].value_counts().to_dict()\n",
        "  \n",
        "  return frequency_table_pos, frequency_table_neg"
      ],
      "metadata": {
        "id": "0OQDqB_ruU8K"
      },
      "execution_count": 31,
      "outputs": []
    },
    {
      "cell_type": "code",
      "source": [
        "def p_discrete(X_train, y_train, variable_name, value, heart_disease):\n",
        "  '''\n",
        "  returns P(variable_name=value | heart_disease) where variable_name \n",
        "  is a discrete variable\n",
        "  '''\n",
        "  # frequency_table_pos, frequency_table_neg = generate_frequency_tables(X_train, y_train)\n",
        "\n",
        "  if heart_disease:\n",
        "    return (frequency_table_pos[variable_name][value]+1) / (P_POS+1)\n",
        "  else:\n",
        "    return (frequency_table_neg[variable_name][value]+1) / (P_NEG+1)"
      ],
      "metadata": {
        "id": "OZH03qdrrgMP"
      },
      "execution_count": 32,
      "outputs": []
    },
    {
      "cell_type": "code",
      "source": [
        "def p_continuous(X_train, y_train, variable_name, value, heart_disease):\n",
        "  '''\n",
        "  returns P(variable_name=value | heart_disease) where variable_name \n",
        "  is a normally distributed continuous variable\n",
        "  '''\n",
        "  if heart_disease:\n",
        "    X_train_pos = X_train.loc[y_train==1]\n",
        "    data = X_train_pos[variable_name].to_numpy().reshape(-1,1)\n",
        "    mean = data.mean()\n",
        "    std = data.std()\n",
        "    p = norm.pdf(value, mean, std)\n",
        "    return p\n",
        "  else:\n",
        "    X_train_neg = X_train.loc[y_train==0]\n",
        "    data = X_train_neg[variable_name].to_numpy().reshape(-1,1)\n",
        "    mean = data.mean()\n",
        "    std = data.std()\n",
        "    p = norm.pdf(value, mean, std)\n",
        "    return p"
      ],
      "metadata": {
        "id": "JpP_kjRwwVNK"
      },
      "execution_count": 33,
      "outputs": []
    },
    {
      "cell_type": "code",
      "source": [
        "def p_continuous_multivariable(X_train, y_train, var_val_pair_dict, heart_disease):\n",
        "  '''\n",
        "  returns P() where var_val_pair_dict is variable_value pairs \n",
        "  and variables follow a single multivaraite normal distribution\n",
        "  '''\n",
        "  if heart_disease:\n",
        "    # select positive part of the dataset\n",
        "    X_train_pos = X_train.loc[y_train==1]\n",
        "    # This person's continuous features' values\n",
        "    continuous_cols = [\"age\", \"trestbps\", \"chol\", \"thalach\", \"oldpeak\"]\n",
        "    continuous_vals = [i[1] for i in var_val_pair_dict.items()]\n",
        "    # Multivariate Normal Density\n",
        "    cov = X_train_pos[continuous_cols].cov()\n",
        "    mean = X_train_pos[continuous_cols].mean()\n",
        "    p = multivariate_normal.pdf(continuous_vals, mean=mean, cov=cov)\n",
        "    return p\n",
        "  else:\n",
        "    # select negativr part of the dataset\n",
        "    X_train_neg = X_train.loc[y_train==1]\n",
        "    # This person's continuous features' values\n",
        "    continuous_cols = [\"age\", \"trestbps\", \"chol\", \"thalach\", \"oldpeak\"]\n",
        "    continuous_vals = [i[1] for i in var_val_pair_dict.items()]\n",
        "    # Multivariate Normal Density\n",
        "    cov = X_train_neg[continuous_cols].cov()\n",
        "    mean = X_train_neg[continuous_cols].mean()\n",
        "    p = multivariate_normal.pdf(continuous_vals, mean=mean, cov=cov)\n",
        "    return p"
      ],
      "metadata": {
        "id": "ye8dck7XaCaU"
      },
      "execution_count": 34,
      "outputs": []
    },
    {
      "cell_type": "code",
      "source": [
        "def p_pos(X_train):\n",
        "  '''\n",
        "  Calculates P(Heart_disease)\n",
        "  '''\n",
        "  X_train_pos = X_train.loc[y_train==1]\n",
        "  p_pos = len(X_train_pos)/len(X_train)\n",
        "  return p_pos\n",
        "\n",
        "def p_neg(X_train):\n",
        "  '''\n",
        "  Calculates P(!Heart_disease)\n",
        "  '''\n",
        "  X_train_neg = X_train.loc[y_train==0]\n",
        "  p_neg = len(X_train_neg)/len(X_train)\n",
        "  return p_neg"
      ],
      "metadata": {
        "id": "1MMnRYPbuMw_"
      },
      "execution_count": 35,
      "outputs": []
    },
    {
      "cell_type": "code",
      "source": [
        "a = {\"a\":1, \"b\":2, \"c\":3}\n",
        "b = {}\n",
        "for i in a:\n",
        "  if i!=\"b\":\n",
        "    b[i]=a[i]\n",
        "b"
      ],
      "metadata": {
        "colab": {
          "base_uri": "https://localhost:8080/"
        },
        "id": "9eqWQ4dBgZvg",
        "outputId": "037c6bfe-bd77-451c-a7f7-e12a92723e8b"
      },
      "execution_count": 36,
      "outputs": [
        {
          "output_type": "execute_result",
          "data": {
            "text/plain": [
              "{'a': 1, 'c': 3}"
            ]
          },
          "metadata": {},
          "execution_count": 36
        }
      ]
    },
    {
      "cell_type": "code",
      "source": [
        "def calculate_posterior_bayes(X_train, y_train, heart_disease, feature_dict):\n",
        "  '''\n",
        "  Calculates the posterior probability \n",
        "  P(heart_disease | X)\n",
        "  where X is a person with this function's parameters as their features.\n",
        "  using bayes\n",
        "\n",
        "  Log version, to avoid float underflow\n",
        "  '''\n",
        "  discrete_cols = [\"sex\", \"cp\", \"fbs\", \"restecg\", \"exang\", \"slope\", \"ca\", \"thal\"]\n",
        "  continuous_cols = [\"age\", \"trestbps\", \"chol\", \"thalach\", \"oldpeak\"]\n",
        "\n",
        "  prior = P_POS if heart_disease else P_NEG\n",
        "  posterior = 0\n",
        "\n",
        "  # Multiply by P(xi | heart_disease) for discrete variables\n",
        "  for col in discrete_cols:\n",
        "    posterior += np.log(\n",
        "        p_discrete(X_train,\n",
        "                   y_train,\n",
        "                   col,\n",
        "                   feature_dict[col],\n",
        "                   heart_disease=heart_disease)\n",
        "        )\n",
        "  \n",
        "  # we want something like {'age':20, 'trestbps':150, ...} \n",
        "  # but only for continuous variables\n",
        "  # basically filtering 'feature_dict' to only contain continuous\n",
        "  # variables\n",
        "  var_val_pair_dict = {}\n",
        "  for col in feature_dict:\n",
        "    if col in continuous_cols:\n",
        "      var_val_pair_dict[col] = feature_dict[col]\n",
        "\n",
        "\n",
        "  # Multiply by P(x | heart_disease) for continuous variables\n",
        "  posterior += np.log(\n",
        "      p_continuous_multivariable(X_train,\n",
        "                                  y_train,\n",
        "                                  var_val_pair_dict,\n",
        "                                  heart_disease=heart_disease)\n",
        "      )\n",
        "  \n",
        "  posterior += np.log(prior)\n",
        "\n",
        "  return posterior"
      ],
      "metadata": {
        "id": "uLvNiAg9ZJzu"
      },
      "execution_count": 37,
      "outputs": []
    },
    {
      "cell_type": "code",
      "source": [
        "def calculate_posterior(X_train, y_train, heart_disease, feature_dict, feature_to_delete = None):\n",
        "  '''\n",
        "  Calculates the posterior probability \n",
        "  P(heart_disease | X)\n",
        "  where X is a person with this function's parameters as their features.\n",
        "  using Naive bayes\n",
        "  \n",
        "  Log version, to avoid float underflow\n",
        "  '''\n",
        "  discrete_cols = [\"sex\", \"cp\", \"fbs\", \"restecg\", \"exang\", \"slope\", \"ca\", \"thal\"]\n",
        "  continuous_cols = [\"age\", \"trestbps\", \"chol\", \"thalach\", \"oldpeak\"]\n",
        "  if feature_to_delete is not None:\n",
        "    continuous_cols.remove(feature_to_delete)\n",
        "\n",
        "  prior = P_POS if heart_disease else P_NEG\n",
        "  posterior = 0\n",
        "\n",
        "  # Multiply by P(xi | heart_disease) for discrete variables\n",
        "  for col in discrete_cols:\n",
        "    posterior += np.log(p_discrete(X_train,\n",
        "                                   y_train,\n",
        "                                   col,\n",
        "                                   feature_dict[col],\n",
        "                                   heart_disease=heart_disease))\n",
        "  \n",
        "  # Multiply by P(xi | heart_disease) for continuous variables\n",
        "  for col in continuous_cols:\n",
        "    posterior += np.log(p_continuous(X_train,\n",
        "                                     y_train,\n",
        "                                     col,\n",
        "                                     feature_dict[col],\n",
        "                                     heart_disease=heart_disease))\n",
        "  \n",
        "  posterior += np.log(prior)\n",
        "\n",
        "  return posterior"
      ],
      "metadata": {
        "id": "N1TKWCEz3k-A"
      },
      "execution_count": 38,
      "outputs": []
    },
    {
      "cell_type": "code",
      "source": [
        "def predict_class_bayes(X_train, y_train, X):\n",
        "  '''\n",
        "  select between heart_disease and no heart_disease \n",
        "  using Bayes classifier\n",
        "  '''\n",
        "  p_pos_x = calculate_posterior_bayes(X_train, y_train, True, X.to_dict())\n",
        "  p_neg_x = calculate_posterior_bayes(X_train, y_train, False, X.to_dict())\n",
        "\n",
        "  if p_pos_x>p_neg_x:\n",
        "    return 1\n",
        "  else:\n",
        "    return 0"
      ],
      "metadata": {
        "id": "MVjsVubrY67y"
      },
      "execution_count": 39,
      "outputs": []
    },
    {
      "cell_type": "code",
      "source": [
        "def predict_class(X_train, y_train, X, feature_to_delete = None):\n",
        "  '''\n",
        "  select between heart_disease and no heart_disease \n",
        "  using Naive bayes classifier\n",
        "  '''\n",
        "  p_pos_x = calculate_posterior(X_train, y_train, True, X.to_dict(), feature_to_delete)\n",
        "  p_neg_x = calculate_posterior(X_train, y_train, False, X.to_dict(), feature_to_delete)\n",
        "\n",
        "  if p_pos_x>p_neg_x:\n",
        "    return 1\n",
        "  else:\n",
        "    return 0"
      ],
      "metadata": {
        "id": "6y9afhU1M9fO"
      },
      "execution_count": 40,
      "outputs": []
    },
    {
      "cell_type": "code",
      "source": [
        "# predict_class(X_train, y_train, X_train.iloc[0])"
      ],
      "metadata": {
        "id": "QJIYyyGRNuXY"
      },
      "execution_count": 41,
      "outputs": []
    },
    {
      "cell_type": "markdown",
      "source": [
        "## Part 1) Bayes Classifier"
      ],
      "metadata": {
        "id": "0rel12EmWItF"
      }
    },
    {
      "cell_type": "markdown",
      "source": [
        "Only discrete Features are independent.\n",
        "\n",
        "Continuous features follow a multivariate(5 variable) Normal distribution"
      ],
      "metadata": {
        "id": "n0tWbDpuaNmf"
      }
    },
    {
      "cell_type": "code",
      "source": [
        "# update : calculate once for performance reasons\n",
        "P_NEG = p_neg(X_train)\n",
        "P_POS = p_pos(X_train)\n",
        "frequency_table_pos, frequency_table_neg = generate_frequency_tables(X_train, y_train)"
      ],
      "metadata": {
        "id": "23iOinW5O9lQ"
      },
      "execution_count": 42,
      "outputs": []
    },
    {
      "cell_type": "code",
      "source": [
        "# predict outcome for every row in test set using bayes classifier\n",
        "accuracy = 0\n",
        "for i in tqdm(range(len(X_test))):\n",
        "  person = X_test.iloc[i]\n",
        "  pred = predict_class_bayes(X_train, y_train, person)\n",
        "  label = y_test.iloc[i]\n",
        "\n",
        "  if pred==label:\n",
        "    accuracy += 1\n",
        "\n",
        "accuracy /= len(X_test)\n",
        "print(f\" Accuracy = {accuracy}\")"
      ],
      "metadata": {
        "id": "5YaVm8y_WM90",
        "colab": {
          "base_uri": "https://localhost:8080/",
          "height": 67,
          "referenced_widgets": [
            "0c710d2cdb6c44eb80fadc6c98a98dd2",
            "67d7e89b39f14367ab1ae8732a21a4ad",
            "f337aa5e5c15433e96d051288f4ea26a",
            "12c8fa18de2a4bdaadfc9fa5fe2e76e8",
            "d89c5cdab5644226a84c5b0c9cd6a3d8",
            "7236316add8743f3980fedef1548aef4",
            "b543d6ec194840d0a2e952ed6e9d7fb0",
            "9c7ed1a904c84e4a9e4653cb1c49b325",
            "c357e22579ac4a64a2647dfb24d0a3a0",
            "5b02209cf7bb4e899996f3a4b6426b82",
            "b43a4fa46e0b4d18a68e74314e1ae773"
          ]
        },
        "outputId": "af82f12d-da1a-4288-dc41-fb38b401e84c"
      },
      "execution_count": 43,
      "outputs": [
        {
          "output_type": "display_data",
          "data": {
            "application/vnd.jupyter.widget-view+json": {
              "model_id": "0c710d2cdb6c44eb80fadc6c98a98dd2",
              "version_minor": 0,
              "version_major": 2
            },
            "text/plain": [
              "  0%|          | 0/205 [00:00<?, ?it/s]"
            ]
          },
          "metadata": {}
        },
        {
          "output_type": "stream",
          "name": "stdout",
          "text": [
            " Accuracy = 0.8536585365853658\n"
          ]
        }
      ]
    },
    {
      "cell_type": "markdown",
      "source": [
        "## Part 2) Naïve Bayes classifier"
      ],
      "metadata": {
        "id": "4qWz4c-IWOYK"
      }
    },
    {
      "cell_type": "code",
      "source": [
        "# predict outcome for every row in test set using naive bayes classifier\n",
        "accuracy = 0\n",
        "for i in tqdm(range(len(X_test))):\n",
        "  person = X_test.iloc[i]\n",
        "  pred = predict_class(X_train, y_train, person)\n",
        "  label = y_test.iloc[i]\n",
        "\n",
        "  if pred==label:\n",
        "    accuracy += 1\n",
        "\n",
        "\n",
        "accuracy /= len(X_test)\n",
        "print(f\" Accuracy = {accuracy}\")"
      ],
      "metadata": {
        "colab": {
          "base_uri": "https://localhost:8080/",
          "height": 67,
          "referenced_widgets": [
            "1f2834d7625d46d7b6fcd711552d16cf",
            "5b4c4fcfb6844f66a4ab37d18a671e24",
            "cc2fad383a22451f982e5b434964e6a7",
            "71083b9d7c144f7cb36752cb2d760bf4",
            "76c5a44c61d745e086bd33374ed95313",
            "bec36ec83f5c4ad4bfc1a5cb287a4076",
            "58293d528f354218845c094cd8105141",
            "af4d7a80bc5e4ad7ae6808489aca656c",
            "c422a81de8524001877a49465ca8ae0c",
            "167ba9ca9838433b99d98fbce134ff85",
            "11d04296516645388f4a6a3b769d6bbd"
          ]
        },
        "id": "i2daIzcWXLy8",
        "outputId": "772009c0-cad9-422d-eb7c-cd1f8d266254"
      },
      "execution_count": 44,
      "outputs": [
        {
          "output_type": "display_data",
          "data": {
            "application/vnd.jupyter.widget-view+json": {
              "model_id": "1f2834d7625d46d7b6fcd711552d16cf",
              "version_minor": 0,
              "version_major": 2
            },
            "text/plain": [
              "  0%|          | 0/205 [00:00<?, ?it/s]"
            ]
          },
          "metadata": {}
        },
        {
          "output_type": "stream",
          "name": "stdout",
          "text": [
            " Accuracy = 0.8682926829268293\n"
          ]
        }
      ]
    },
    {
      "cell_type": "markdown",
      "source": [
        "## Part 3) Remove chol or oldpeak"
      ],
      "metadata": {
        "id": "5U1kdA_cXNX4"
      }
    },
    {
      "cell_type": "markdown",
      "source": [
        "### Remove chol"
      ],
      "metadata": {
        "id": "i2reOtVzXR26"
      }
    },
    {
      "cell_type": "code",
      "source": [
        "# predict outcome for every row in test set using naive bayes classifier\n",
        "accuracy = 0\n",
        "for i in tqdm(range(len(X_test))):\n",
        "  person = X_test.iloc[i]\n",
        "  pred = predict_class(X_train, y_train, person, feature_to_delete=\"chol\")\n",
        "  label = y_test.iloc[i]\n",
        "\n",
        "  if pred==label:\n",
        "    accuracy += 1\n",
        "\n",
        "\n",
        "accuracy /= len(X_test)\n",
        "print(f\" Accuracy = {accuracy}\")"
      ],
      "metadata": {
        "colab": {
          "base_uri": "https://localhost:8080/",
          "height": 67,
          "referenced_widgets": [
            "4284e66f79f54ba5bdbbeae0b1b1b2af",
            "62b0309f2dcc4bc4822ef5205091cd37",
            "7122a04a489044a29bf74cfc6a667de4",
            "bd90d5aff8c641fb962924b1ce19fdb1",
            "170b99cee8274d85b6a3ec496dab2525",
            "313cb6facb744ee3a3eb10ad2b701c6a",
            "1a680221facd4e4fba9c8ccd871ec99b",
            "089e9e72296847208b7fa8e3e0830309",
            "7cad4c539445427ab65f92fbccf1ab7f",
            "5d1ca34f3a3943b19dcc6399619602b8",
            "a04326c4e54a416da51019420f28a037"
          ]
        },
        "id": "Ytx26TVJXXr3",
        "outputId": "caeedeac-0ead-448e-e8ba-99a1edb78c5c"
      },
      "execution_count": 45,
      "outputs": [
        {
          "output_type": "display_data",
          "data": {
            "application/vnd.jupyter.widget-view+json": {
              "model_id": "4284e66f79f54ba5bdbbeae0b1b1b2af",
              "version_minor": 0,
              "version_major": 2
            },
            "text/plain": [
              "  0%|          | 0/205 [00:00<?, ?it/s]"
            ]
          },
          "metadata": {}
        },
        {
          "output_type": "stream",
          "name": "stdout",
          "text": [
            " Accuracy = 0.8634146341463415\n"
          ]
        }
      ]
    },
    {
      "cell_type": "markdown",
      "source": [
        "### Remove oldpeak"
      ],
      "metadata": {
        "id": "SAjbeBLnXYo5"
      }
    },
    {
      "cell_type": "code",
      "source": [
        "# predict outcome for every row in test set using naive bayes classifier\n",
        "accuracy = 0\n",
        "for i in tqdm(range(len(X_test))):\n",
        "  person = X_test.iloc[i]\n",
        "  pred = predict_class(X_train, y_train, person, feature_to_delete=\"oldpeak\")\n",
        "  label = y_test.iloc[i]\n",
        "\n",
        "  if pred==label:\n",
        "    accuracy += 1\n",
        "\n",
        "\n",
        "accuracy /= len(X_test)\n",
        "print(f\" Accuracy = {accuracy}\")"
      ],
      "metadata": {
        "colab": {
          "base_uri": "https://localhost:8080/",
          "height": 67,
          "referenced_widgets": [
            "8a31af43399444a3a3e2ab0490dbf853",
            "8147a5fe9fc84bd69ad9ce5937353a0b",
            "5472c371b7a947f88880edb903779660",
            "2e363b92538b4ded8eb4d067b2a40cc8",
            "23700c1595614b9a8a27272fe85f57c0",
            "7e85239df7894af49da6c40a1d47d7de",
            "b80be479f4e44e5cb70fb6a64b1a501c",
            "0180f4c04c60467ca3f80b2db5155a77",
            "4e8a0b77f1db409dbe2bd2d341587be0",
            "d8d95214cfe5468ca9b330e8d41be8c7",
            "df7f1f21b4824139bb5e46e0a5bfe9a6"
          ]
        },
        "id": "W0W8H4GAXYfl",
        "outputId": "a8ebf65c-2c78-4dd6-9d7f-8c8c6e05a12f"
      },
      "execution_count": 46,
      "outputs": [
        {
          "output_type": "display_data",
          "data": {
            "application/vnd.jupyter.widget-view+json": {
              "model_id": "8a31af43399444a3a3e2ab0490dbf853",
              "version_minor": 0,
              "version_major": 2
            },
            "text/plain": [
              "  0%|          | 0/205 [00:00<?, ?it/s]"
            ]
          },
          "metadata": {}
        },
        {
          "output_type": "stream",
          "name": "stdout",
          "text": [
            " Accuracy = 0.8780487804878049\n"
          ]
        }
      ]
    }
  ]
}