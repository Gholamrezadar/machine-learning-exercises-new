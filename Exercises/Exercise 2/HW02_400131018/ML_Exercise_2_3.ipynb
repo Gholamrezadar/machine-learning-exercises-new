{
  "nbformat": 4,
  "nbformat_minor": 0,
  "metadata": {
    "colab": {
      "name": "ML_Exercise_2_3.ipynb",
      "provenance": [],
      "collapsed_sections": [],
      "toc_visible": true
    },
    "kernelspec": {
      "display_name": "Python 3",
      "name": "python3"
    },
    "language_info": {
      "name": "python"
    }
  },
  "cells": [
    {
      "cell_type": "markdown",
      "metadata": {
        "id": "n2BLsR-61V5i"
      },
      "source": [
        "# ML Exercise 2-3\n",
        "## Question 3\n",
        "By Gholamreza Dar\n",
        "\n",
        "https://gholamrezadar.ir/\n",
        "\n",
        "Nov 2021\n",
        "\n",
        "\n",
        "Questions available at : [Github Link](https://github.com/Gholamrezadar/machine-learning-exercises/blob/main/ML-HW02.pdf)\n"
      ]
    },
    {
      "cell_type": "markdown",
      "metadata": {
        "id": "ySqj8wctld_t"
      },
      "source": [
        "How to Run:\n",
        "Runtime > Run all(ctrl+f9)"
      ]
    },
    {
      "cell_type": "markdown",
      "metadata": {
        "id": "WVIV2F7s1fer"
      },
      "source": [
        "## Loading Data"
      ]
    },
    {
      "cell_type": "code",
      "metadata": {
        "id": "BCuohVjm1RQ2",
        "colab": {
          "base_uri": "https://localhost:8080/",
          "height": 206
        },
        "outputId": "6a14ce1f-3df0-423a-b5ef-5d8e927fe914"
      },
      "source": [
        "import pandas as pd\n",
        "import numpy as np\n",
        "import matplotlib.pyplot as plt\n",
        "from tqdm.notebook import tqdm\n",
        "import seaborn as sns\n",
        "import sklearn\n",
        "from sklearn.datasets import load_iris\n",
        "\n",
        "# use seaborn\n",
        "sns.set()\n",
        "\n",
        "# Load the data using pandas\n",
        "X, y= load_iris(return_X_y=True, as_frame=True)\n",
        "df = X.copy()\n",
        "df[\"class\"] = y\n",
        "df.head()\n",
        "\n"
      ],
      "execution_count": null,
      "outputs": [
        {
          "output_type": "execute_result",
          "data": {
            "text/html": [
              "<div>\n",
              "<style scoped>\n",
              "    .dataframe tbody tr th:only-of-type {\n",
              "        vertical-align: middle;\n",
              "    }\n",
              "\n",
              "    .dataframe tbody tr th {\n",
              "        vertical-align: top;\n",
              "    }\n",
              "\n",
              "    .dataframe thead th {\n",
              "        text-align: right;\n",
              "    }\n",
              "</style>\n",
              "<table border=\"1\" class=\"dataframe\">\n",
              "  <thead>\n",
              "    <tr style=\"text-align: right;\">\n",
              "      <th></th>\n",
              "      <th>sepal length (cm)</th>\n",
              "      <th>sepal width (cm)</th>\n",
              "      <th>petal length (cm)</th>\n",
              "      <th>petal width (cm)</th>\n",
              "      <th>class</th>\n",
              "    </tr>\n",
              "  </thead>\n",
              "  <tbody>\n",
              "    <tr>\n",
              "      <th>0</th>\n",
              "      <td>5.1</td>\n",
              "      <td>3.5</td>\n",
              "      <td>1.4</td>\n",
              "      <td>0.2</td>\n",
              "      <td>0</td>\n",
              "    </tr>\n",
              "    <tr>\n",
              "      <th>1</th>\n",
              "      <td>4.9</td>\n",
              "      <td>3.0</td>\n",
              "      <td>1.4</td>\n",
              "      <td>0.2</td>\n",
              "      <td>0</td>\n",
              "    </tr>\n",
              "    <tr>\n",
              "      <th>2</th>\n",
              "      <td>4.7</td>\n",
              "      <td>3.2</td>\n",
              "      <td>1.3</td>\n",
              "      <td>0.2</td>\n",
              "      <td>0</td>\n",
              "    </tr>\n",
              "    <tr>\n",
              "      <th>3</th>\n",
              "      <td>4.6</td>\n",
              "      <td>3.1</td>\n",
              "      <td>1.5</td>\n",
              "      <td>0.2</td>\n",
              "      <td>0</td>\n",
              "    </tr>\n",
              "    <tr>\n",
              "      <th>4</th>\n",
              "      <td>5.0</td>\n",
              "      <td>3.6</td>\n",
              "      <td>1.4</td>\n",
              "      <td>0.2</td>\n",
              "      <td>0</td>\n",
              "    </tr>\n",
              "  </tbody>\n",
              "</table>\n",
              "</div>"
            ],
            "text/plain": [
              "   sepal length (cm)  sepal width (cm)  ...  petal width (cm)  class\n",
              "0                5.1               3.5  ...               0.2      0\n",
              "1                4.9               3.0  ...               0.2      0\n",
              "2                4.7               3.2  ...               0.2      0\n",
              "3                4.6               3.1  ...               0.2      0\n",
              "4                5.0               3.6  ...               0.2      0\n",
              "\n",
              "[5 rows x 5 columns]"
            ]
          },
          "metadata": {},
          "execution_count": 2
        }
      ]
    },
    {
      "cell_type": "markdown",
      "metadata": {
        "id": "sWHzHZ5zEH8_"
      },
      "source": [
        "## Helper functions"
      ]
    },
    {
      "cell_type": "markdown",
      "source": [
        "### Distance function"
      ],
      "metadata": {
        "id": "IPOtjm9UHHzv"
      }
    },
    {
      "cell_type": "code",
      "source": [
        "def distance(a,b):\n",
        "  # Euclidean distance\n",
        "  return np.linalg.norm((a-b), axis=1)"
      ],
      "metadata": {
        "id": "bQ7u48r97Cf_"
      },
      "execution_count": null,
      "outputs": []
    },
    {
      "cell_type": "code",
      "source": [
        "# testing the distance function\n",
        "distance(np.array([[2,2,1],\n",
        "                   [2,1,1],\n",
        "                   [2,2,1]]),\n",
        "         np.array([1,1,1]))"
      ],
      "metadata": {
        "colab": {
          "base_uri": "https://localhost:8080/"
        },
        "id": "bI3yPpM-91O5",
        "outputId": "cddcd456-2629-4f0c-d0aa-3fea2f5046ca"
      },
      "execution_count": null,
      "outputs": [
        {
          "output_type": "execute_result",
          "data": {
            "text/plain": [
              "array([1.41421356, 1.        , 1.41421356])"
            ]
          },
          "metadata": {},
          "execution_count": 31
        }
      ]
    },
    {
      "cell_type": "markdown",
      "source": [
        "### KNN Function"
      ],
      "metadata": {
        "id": "P_hwxsAc3QIj"
      }
    },
    {
      "cell_type": "code",
      "source": [
        "def KNN(X_train, y_train, X_test, y_test, k=3):\n",
        "  # 1. Train loss\n",
        "  train_confusion_matrix = [[0,0,0],\n",
        "                            [0,0,0],\n",
        "                            [0,0,0]]\n",
        "  train_wrong = 0\n",
        "  train_correct = 0\n",
        "  for i in range(len(X_train)):\n",
        "    temp_df_i = X_train.copy()\n",
        "    \n",
        "    # calculate the distance of every point in training set to point i in \"training\" set\n",
        "    temp_df_i[\"distance_to_i\"] = distance(X_train.iloc[i].to_numpy(), temp_df_i.to_numpy())\n",
        "    # sort distances from low to high\n",
        "    temp_df_i.sort_values(by=\"distance_to_i\", inplace=True)\n",
        "    # select k nearest neighbors\n",
        "    nearest_neighbors = temp_df_i.iloc[1:k+1].index.values\n",
        "    # find nearest neighbors classes\n",
        "    nearest_neighbors_classes = (y_train.loc[nearest_neighbors].values)\n",
        "    # predict (most common class amongst neighbors)\n",
        "    predicted_class = np.bincount(nearest_neighbors_classes).argmax()\n",
        "    # check if the prediction was correct\n",
        "    if predicted_class != y_train.iloc[i]:\n",
        "      train_wrong+=1\n",
        "      train_confusion_matrix[y_train.iloc[i]][predicted_class] +=1\n",
        "    else:\n",
        "      train_correct+=1\n",
        "      train_confusion_matrix[predicted_class][predicted_class] +=1\n",
        "\n",
        "  # 2. Test loss\n",
        "  test_confusion_matrix = [[0,0,0],\n",
        "                           [0,0,0],\n",
        "                           [0,0,0]]\n",
        "  test_wrong = 0\n",
        "  test_correct = 0\n",
        "  temp_df_i = X_train.copy()\n",
        "  for i in range(len(X_test)):\n",
        "    temp_df_i = X_train.copy()\n",
        "\n",
        "    # calculate the distance of every point in training set to point i in \"test\" set\n",
        "    temp_df_i[\"distance_to_i\"] = distance(X_test.iloc[i].to_numpy(), temp_df_i.to_numpy())\n",
        "    # sort distances from low to high\n",
        "    temp_df_i.sort_values(by=\"distance_to_i\", inplace=True)\n",
        "    # select k nearest neighbors\n",
        "    nearest_neighbors = temp_df_i.iloc[1:k+1].index.values\n",
        "    # find nearest neighbors classes\n",
        "    nearest_neighbors_classes = (y_train.loc[nearest_neighbors].values)\n",
        "    # predict (most common class amongst neighbors)\n",
        "    predicted_class = np.bincount(nearest_neighbors_classes).argmax()\n",
        "    # check if the prediction was correct\n",
        "    if predicted_class != y_test.iloc[i]:\n",
        "      test_wrong+=1\n",
        "      test_confusion_matrix[y_test.iloc[i]][predicted_class] +=1\n",
        "    else:\n",
        "      test_correct+=1\n",
        "      test_confusion_matrix[predicted_class][predicted_class] +=1\n",
        "      \n",
        "\n",
        "  # return data about classification\n",
        "  return train_wrong, train_correct, test_wrong, test_correct, train_confusion_matrix, test_confusion_matrix"
      ],
      "metadata": {
        "id": "KMLMZ2I8KihS"
      },
      "execution_count": null,
      "outputs": []
    },
    {
      "cell_type": "markdown",
      "source": [
        "## Our KNN"
      ],
      "metadata": {
        "id": "p37LhnqjFdde"
      }
    },
    {
      "cell_type": "code",
      "source": [
        "from sklearn.model_selection import KFold\n",
        "\n",
        "# Kfold with k=10\n",
        "kf = KFold(n_splits = 10, shuffle = True, random_state = 1)\n",
        "splitted_df = kf.split(df)"
      ],
      "metadata": {
        "id": "-JZoJtPZqlPn"
      },
      "execution_count": null,
      "outputs": []
    },
    {
      "cell_type": "code",
      "source": [
        "def add_confusion_matrices(a,b):\n",
        "  for i in range(len(a)):\n",
        "    for j in range(len(a[0])):\n",
        "      a[i][j] += b[i][j]"
      ],
      "metadata": {
        "id": "X9BW91yZtJ2O"
      },
      "execution_count": null,
      "outputs": []
    },
    {
      "cell_type": "code",
      "source": [
        "avg_test_wrongs_history = {}\n",
        "avg_train_wrongs_history = {}\n",
        "\n",
        "# Choosing the best K\n",
        "for k in range(1,50):\n",
        "  train_losses = []\n",
        "  test_losses = []\n",
        "\n",
        "  print(\"k =\",k)\n",
        "  print(\"test_wrongs :\", end=\" \")\n",
        "\n",
        "  # 10 fold cross validation\n",
        "  splitted_df = kf.split(df)\n",
        "  for train_index, test_index in splitted_df:\n",
        "    train_df = df.iloc[train_index]\n",
        "    test_df =  df.iloc[test_index]\n",
        "\n",
        "    y_train = train_df[\"class\"]\n",
        "    X_train = train_df.drop(columns=[\"class\"])\n",
        "\n",
        "    y_test = test_df[\"class\"]\n",
        "    X_test = test_df.drop(columns=[\"class\"])\n",
        "\n",
        "    # KNN\n",
        "    train_wrong, train_correct, test_wrong, test_correct, train_confusion_matrix, test_confusion_matrix = KNN(X_train, y_train, X_test, y_test, k=k)\n",
        "\n",
        "    # save training loss and test loss\n",
        "    train_losses.append(train_wrong/(train_wrong+train_correct))\n",
        "    test_losses.append(test_wrong/(test_wrong+test_correct))\n",
        "\n",
        "    # debug/progress\n",
        "    print(test_wrong, end=\", \")\n",
        "  print()\n",
        "\n",
        "  # saving wrongs for later\n",
        "  avg_train_wrongs_history[k] = sum(train_losses)/len(train_losses)\n",
        "  avg_test_wrongs_history[k] = sum(test_losses)/len(test_losses)\n",
        "  \n",
        "  \n",
        "  print(\"train loss =\", round(avg_train_wrongs_history[k], 4))\n",
        "  print(\"test loss =\", round(avg_test_wrongs_history[k], 4))\n",
        "  print()\n"
      ],
      "metadata": {
        "colab": {
          "base_uri": "https://localhost:8080/"
        },
        "id": "cNjKe5HvN1qc",
        "outputId": "beb657bc-0ea0-407a-cd6d-d730173cb05d"
      },
      "execution_count": null,
      "outputs": [
        {
          "output_type": "stream",
          "name": "stdout",
          "text": [
            "k = 1\n",
            "test_wrongs : 0, 0, 1, 0, 0, 1, 0, 2, 0, 3, \n",
            "train loss = 0.0407\n",
            "test loss = 0.0467\n",
            "\n",
            "k = 2\n",
            "test_wrongs : 0, 0, 1, 0, 3, 1, 0, 2, 0, 1, \n",
            "train loss = 0.0533\n",
            "test loss = 0.0533\n",
            "\n",
            "k = 3\n",
            "test_wrongs : 0, 0, 1, 0, 1, 1, 0, 2, 0, 1, \n",
            "train loss = 0.0385\n",
            "test loss = 0.04\n",
            "\n",
            "k = 4\n",
            "test_wrongs : 0, 1, 1, 0, 3, 1, 0, 1, 0, 1, \n",
            "train loss = 0.04\n",
            "test loss = 0.0533\n",
            "\n",
            "k = 5\n",
            "test_wrongs : 0, 1, 0, 0, 2, 1, 0, 2, 0, 2, \n",
            "train loss = 0.0356\n",
            "test loss = 0.0533\n",
            "\n",
            "k = 6\n",
            "test_wrongs : 0, 1, 0, 0, 3, 1, 0, 1, 0, 0, \n",
            "train loss = 0.0393\n",
            "test loss = 0.04\n",
            "\n",
            "k = 7\n",
            "test_wrongs : 0, 1, 0, 0, 2, 1, 0, 1, 0, 1, \n",
            "train loss = 0.0333\n",
            "test loss = 0.04\n",
            "\n",
            "k = 8\n",
            "test_wrongs : 0, 1, 0, 0, 3, 1, 0, 1, 0, 0, \n",
            "train loss = 0.0356\n",
            "test loss = 0.04\n",
            "\n",
            "k = 9\n",
            "test_wrongs : 0, 1, 0, 0, 3, 1, 0, 1, 0, 0, \n",
            "train loss = 0.0333\n",
            "test loss = 0.04\n",
            "\n",
            "k = 10\n",
            "test_wrongs : 0, 1, 0, 1, 3, 1, 0, 1, 0, 0, \n",
            "train loss = 0.0341\n",
            "test loss = 0.0467\n",
            "\n",
            "k = 11\n",
            "test_wrongs : 0, 1, 0, 1, 2, 1, 0, 1, 0, 0, \n",
            "train loss = 0.0311\n",
            "test loss = 0.04\n",
            "\n",
            "k = 12\n",
            "test_wrongs : 0, 1, 0, 1, 2, 1, 0, 1, 0, 0, \n",
            "train loss = 0.037\n",
            "test loss = 0.04\n",
            "\n",
            "k = 13\n",
            "test_wrongs : 0, 1, 0, 1, 1, 1, 0, 1, 0, 0, \n",
            "train loss = 0.0311\n",
            "test loss = 0.0333\n",
            "\n",
            "k = 14\n",
            "test_wrongs : 0, 1, 0, 1, 2, 1, 0, 1, 0, 0, \n",
            "train loss = 0.0319\n",
            "test loss = 0.04\n",
            "\n",
            "k = 15\n",
            "test_wrongs : 0, 1, 0, 0, 2, 1, 0, 1, 0, 0, \n",
            "train loss = 0.0274\n",
            "test loss = 0.0333\n",
            "\n",
            "k = 16\n",
            "test_wrongs : 0, 1, 0, 1, 3, 1, 0, 1, 0, 0, \n",
            "train loss = 0.0341\n",
            "test loss = 0.0467\n",
            "\n",
            "k = 17\n",
            "test_wrongs : 0, 1, 0, 0, 3, 1, 0, 1, 0, 0, \n",
            "train loss = 0.0259\n",
            "test loss = 0.04\n",
            "\n",
            "k = 18\n",
            "test_wrongs : 0, 1, 0, 1, 3, 1, 0, 1, 0, 0, \n",
            "train loss = 0.0326\n",
            "test loss = 0.0467\n",
            "\n",
            "k = 19\n",
            "test_wrongs : 0, 1, 0, 0, 3, 1, 0, 1, 0, 0, \n",
            "train loss = 0.0319\n",
            "test loss = 0.04\n",
            "\n",
            "k = 20\n",
            "test_wrongs : 0, 1, 0, 1, 3, 1, 0, 1, 0, 0, \n",
            "train loss = 0.0356\n",
            "test loss = 0.0467\n",
            "\n",
            "k = 21\n",
            "test_wrongs : 0, 1, 0, 1, 3, 1, 0, 1, 0, 0, \n",
            "train loss = 0.0363\n",
            "test loss = 0.0467\n",
            "\n",
            "k = 22\n",
            "test_wrongs : 0, 1, 0, 1, 3, 1, 0, 2, 0, 0, \n",
            "train loss = 0.043\n",
            "test loss = 0.0533\n",
            "\n",
            "k = 23\n",
            "test_wrongs : 0, 1, 0, 0, 3, 1, 0, 2, 0, 0, \n",
            "train loss = 0.0415\n",
            "test loss = 0.0467\n",
            "\n",
            "k = 24\n",
            "test_wrongs : 0, 1, 0, 1, 3, 1, 0, 2, 0, 0, \n",
            "train loss = 0.0444\n",
            "test loss = 0.0533\n",
            "\n",
            "k = 25\n",
            "test_wrongs : 0, 1, 0, 1, 3, 1, 0, 2, 0, 0, \n",
            "train loss = 0.0459\n",
            "test loss = 0.0533\n",
            "\n",
            "k = 26\n",
            "test_wrongs : 0, 1, 1, 1, 3, 1, 0, 2, 0, 1, \n",
            "train loss = 0.0511\n",
            "test loss = 0.0667\n",
            "\n",
            "k = 27\n",
            "test_wrongs : 0, 1, 1, 1, 3, 1, 0, 2, 0, 0, \n",
            "train loss = 0.0496\n",
            "test loss = 0.06\n",
            "\n",
            "k = 28\n",
            "test_wrongs : 0, 1, 1, 1, 3, 1, 0, 2, 0, 1, \n",
            "train loss = 0.0541\n",
            "test loss = 0.0667\n",
            "\n",
            "k = 29\n",
            "test_wrongs : 0, 1, 1, 1, 3, 1, 1, 2, 0, 1, \n",
            "train loss = 0.0533\n",
            "test loss = 0.0733\n",
            "\n",
            "k = 30\n",
            "test_wrongs : 0, 1, 1, 1, 3, 1, 1, 2, 0, 1, \n",
            "train loss = 0.0556\n",
            "test loss = 0.0733\n",
            "\n",
            "k = 31\n",
            "test_wrongs : 0, 1, 1, 1, 3, 1, 1, 2, 0, 1, \n",
            "train loss = 0.0526\n",
            "test loss = 0.0733\n",
            "\n",
            "k = 32\n",
            "test_wrongs : 0, 1, 1, 1, 3, 1, 0, 2, 0, 1, \n",
            "train loss = 0.0541\n",
            "test loss = 0.0667\n",
            "\n",
            "k = 33\n",
            "test_wrongs : 0, 1, 1, 1, 3, 1, 1, 1, 0, 1, \n",
            "train loss = 0.0526\n",
            "test loss = 0.0667\n",
            "\n",
            "k = 34\n",
            "test_wrongs : 0, 1, 1, 1, 3, 1, 0, 1, 0, 1, \n",
            "train loss = 0.0511\n",
            "test loss = 0.06\n",
            "\n",
            "k = 35\n",
            "test_wrongs : 0, 1, 1, 1, 3, 1, 1, 1, 0, 1, \n",
            "train loss = 0.0526\n",
            "test loss = 0.0667\n",
            "\n",
            "k = 36\n",
            "test_wrongs : 0, 1, 1, 1, 4, 0, 0, 2, 0, 1, \n",
            "train loss = 0.0526\n",
            "test loss = 0.0667\n",
            "\n",
            "k = 37\n",
            "test_wrongs : 0, 1, 1, 1, 3, 0, 1, 1, 0, 1, \n",
            "train loss = 0.0519\n",
            "test loss = 0.06\n",
            "\n",
            "k = 38\n",
            "test_wrongs : 0, 1, 1, 1, 4, 0, 1, 2, 0, 1, \n",
            "train loss = 0.057\n",
            "test loss = 0.0733\n",
            "\n",
            "k = 39\n",
            "test_wrongs : 0, 1, 1, 1, 3, 0, 1, 2, 0, 1, \n",
            "train loss = 0.0585\n",
            "test loss = 0.0667\n",
            "\n",
            "k = 40\n",
            "test_wrongs : 0, 1, 1, 1, 4, 0, 1, 2, 0, 1, \n",
            "train loss = 0.0593\n",
            "test loss = 0.0733\n",
            "\n",
            "k = 41\n",
            "test_wrongs : 0, 1, 1, 1, 4, 0, 1, 2, 0, 0, \n",
            "train loss = 0.0585\n",
            "test loss = 0.0667\n",
            "\n",
            "k = 42\n",
            "test_wrongs : 0, 1, 1, 1, 4, 0, 1, 2, 0, 1, \n",
            "train loss = 0.0652\n",
            "test loss = 0.0733\n",
            "\n",
            "k = 43\n",
            "test_wrongs : 0, 1, 1, 1, 4, 0, 1, 2, 0, 1, \n",
            "train loss = 0.0659\n",
            "test loss = 0.0733\n",
            "\n",
            "k = 44\n",
            "test_wrongs : 0, 1, 1, 1, 4, 0, 1, 3, 0, 2, \n",
            "train loss = 0.0667\n",
            "test loss = 0.0867\n",
            "\n",
            "k = 45\n",
            "test_wrongs : 0, 1, 1, 1, 4, 0, 1, 3, 0, 1, \n",
            "train loss = 0.0681\n",
            "test loss = 0.08\n",
            "\n",
            "k = 46\n",
            "test_wrongs : 0, 1, 1, 1, 4, 0, 1, 3, 0, 1, \n",
            "train loss = 0.0756\n",
            "test loss = 0.08\n",
            "\n",
            "k = 47\n",
            "test_wrongs : 0, 1, 1, 1, 4, 0, 1, 3, 0, 1, \n",
            "train loss = 0.0741\n",
            "test loss = 0.08\n",
            "\n",
            "k = 48\n",
            "test_wrongs : 0, 1, 1, 1, 4, 1, 1, 4, 0, 1, \n",
            "train loss = 0.077\n",
            "test loss = 0.0933\n",
            "\n",
            "k = 49\n",
            "test_wrongs : 0, 1, 1, 1, 4, 0, 1, 4, 0, 1, \n",
            "train loss = 0.0756\n",
            "test loss = 0.0867\n",
            "\n"
          ]
        }
      ]
    },
    {
      "cell_type": "markdown",
      "source": [
        "### Plotting losses"
      ],
      "metadata": {
        "id": "afA05W2lGk0d"
      }
    },
    {
      "cell_type": "code",
      "source": [
        "train_loss_df = pd.DataFrame({\"k\":list(avg_train_wrongs_history.keys()),\n",
        "                        \"avg_loss\":list(avg_train_wrongs_history.values())})\n",
        "test_loss_df = pd.DataFrame({\"k\":list(avg_test_wrongs_history.keys()),\n",
        "                        \"avg_loss\":list(avg_test_wrongs_history.values())})\n",
        "sns.lineplot(data=train_loss_df, x=\"k\", y=\"avg_loss\")\n",
        "sns.lineplot(data=test_loss_df, x=\"k\", y=\"avg_loss\")"
      ],
      "metadata": {
        "id": "2qQ1LBckZVe6",
        "colab": {
          "base_uri": "https://localhost:8080/"
        },
        "outputId": "d2578bc7-7b37-47f8-919f-07f4f725081a"
      },
      "execution_count": null,
      "outputs": [
        {
          "output_type": "execute_result",
          "data": {
            "text/plain": [
              "<matplotlib.axes._subplots.AxesSubplot at 0x7f082d6b9510>"
            ]
          },
          "metadata": {},
          "execution_count": 36
        },
        {
          "output_type": "display_data",
          "data": {
            "image/png": "[encoded data removed]",
            "text/plain": [
              "<Figure size 432x288 with 1 Axes>"
            ]
          },
          "metadata": {}
        }
      ]
    },
    {
      "cell_type": "markdown",
      "source": [
        "### Top K values"
      ],
      "metadata": {
        "id": "jYV6q6p-Gtnj"
      }
    },
    {
      "cell_type": "code",
      "source": [
        "best_k_list = list(sorted(avg_test_wrongs_history.items(), key=lambda x:x[1]))[:5]\n",
        "print(\"Top performing k:\")\n",
        "print(\"K\\t Loss\")\n",
        "for k,loss in best_k_list:\n",
        "  print(k,\"\\t\", loss)"
      ],
      "metadata": {
        "colab": {
          "base_uri": "https://localhost:8080/"
        },
        "id": "vLZjFdr6_9Mb",
        "outputId": "3782cdfa-3b8d-434b-b231-ca7b10798a22"
      },
      "execution_count": null,
      "outputs": [
        {
          "output_type": "stream",
          "name": "stdout",
          "text": [
            "Top performing k:\n",
            "K\t Loss\n",
            "13 \t 0.03333333333333333\n",
            "15 \t 0.03333333333333333\n",
            "6 \t 0.039999999999999994\n",
            "7 \t 0.039999999999999994\n",
            "8 \t 0.039999999999999994\n"
          ]
        }
      ]
    },
    {
      "cell_type": "markdown",
      "source": [
        "## Sklearn KNN (for comparison)"
      ],
      "metadata": {
        "id": "UPGuc_9nBO48"
      }
    },
    {
      "cell_type": "code",
      "source": [
        "from sklearn.neighbors import KNeighborsClassifier\n",
        "\n",
        "sklearn_avg_train_loss_history = {}\n",
        "sklearn_avg_test_loss_history = {}\n",
        "\n",
        "for k in range(2, 50):\n",
        "  neigh = KNeighborsClassifier(n_neighbors=k)\n",
        "\n",
        "  train_losses = []\n",
        "  test_losses = []\n",
        "\n",
        "  splitted_df = kf.split(df)\n",
        "  for train_index, test_index in splitted_df:\n",
        "    train_df = df.iloc[train_index]\n",
        "    test_df =  df.iloc[test_index]\n",
        "\n",
        "    y_train = train_df[\"class\"]\n",
        "    X_train = train_df.drop(columns=[\"class\"])\n",
        "\n",
        "    y_test = test_df[\"class\"]\n",
        "    X_test = test_df.drop(columns=[\"class\"])\n",
        "\n",
        "    # KNN\n",
        "    neigh.fit(X_train, y_train)\n",
        "\n",
        "    # save training loss and test loss\n",
        "    train_losses.append(1.0 - neigh.score(X_train, y_train))\n",
        "    test_losses.append(1.0 - neigh.score(X_test, y_test))\n",
        "\n",
        "  sklearn_avg_train_loss_history[k] = sum(train_losses)/len(train_losses)\n",
        "  sklearn_avg_test_loss_history[k] = sum(test_losses)/len(test_losses)"
      ],
      "metadata": {
        "id": "fAGX7tdF8bu7"
      },
      "execution_count": null,
      "outputs": []
    },
    {
      "cell_type": "markdown",
      "source": [
        "### Plotting losses"
      ],
      "metadata": {
        "id": "9ouExlJCGzjQ"
      }
    },
    {
      "cell_type": "code",
      "source": [
        "train_loss_df = pd.DataFrame({\"k\":list(sklearn_avg_train_loss_history.keys()),\n",
        "                        \"avg_loss\":list(sklearn_avg_train_loss_history.values())})\n",
        "test_loss_df = pd.DataFrame({\"k\":list(sklearn_avg_test_loss_history.keys()),\n",
        "                        \"avg_loss\":list(sklearn_avg_test_loss_history.values())})\n",
        "\n",
        "sns.lineplot(data=train_loss_df, x=\"k\", y=\"avg_loss\")\n",
        "sns.lineplot(data=test_loss_df, x=\"k\", y=\"avg_loss\")"
      ],
      "metadata": {
        "colab": {
          "base_uri": "https://localhost:8080/"
        },
        "id": "4Eyd62rg-Hj4",
        "outputId": "71e8544c-0365-4313-a52e-7acf9ed95f62"
      },
      "execution_count": null,
      "outputs": [
        {
          "output_type": "execute_result",
          "data": {
            "text/plain": [
              "<matplotlib.axes._subplots.AxesSubplot at 0x7f082a78aa50>"
            ]
          },
          "metadata": {},
          "execution_count": 39
        },
        {
          "output_type": "display_data",
          "data": {
            "image/png": "[encoded data removed]",
            "text/plain": [
              "<Figure size 432x288 with 1 Axes>"
            ]
          },
          "metadata": {}
        }
      ]
    },
    {
      "cell_type": "markdown",
      "source": [
        "### Top K values"
      ],
      "metadata": {
        "id": "AeCL_Fr3G1xD"
      }
    },
    {
      "cell_type": "code",
      "source": [
        "best_k_list = list(sorted(sklearn_avg_test_loss_history.items(), key=lambda x:x[1]))[:5]\n",
        "print(\"Top performing k:\")\n",
        "print(\"K\\t Loss\")\n",
        "for k,loss in best_k_list:\n",
        "  print(k,\"\\t\", loss)"
      ],
      "metadata": {
        "colab": {
          "base_uri": "https://localhost:8080/"
        },
        "id": "0VjFCsAwBckV",
        "outputId": "c7722a11-3783-4498-d21b-b21033f56970"
      },
      "execution_count": null,
      "outputs": [
        {
          "output_type": "stream",
          "name": "stdout",
          "text": [
            "Top performing k:\n",
            "K\t Loss\n",
            "8 \t 0.02666666666666666\n",
            "9 \t 0.02666666666666666\n",
            "14 \t 0.02666666666666666\n",
            "15 \t 0.02666666666666666\n",
            "3 \t 0.033333333333333326\n"
          ]
        }
      ]
    },
    {
      "cell_type": "markdown",
      "source": [
        "## confusion matrix for k=13"
      ],
      "metadata": {
        "id": "_b26OUZ2uxfW"
      }
    },
    {
      "cell_type": "code",
      "source": [
        "# KNN\n",
        "(train_wrong,\n",
        "train_correct,\n",
        "test_wrong, \n",
        "test_correct, \n",
        "train_confusion_matrix, \n",
        "test_confusion_matrix) = KNN(X_train,\n",
        "                            y_train,\n",
        "                            X_test,\n",
        "                            y_test,\n",
        "                            k=13)"
      ],
      "metadata": {
        "id": "T1wKEN5eu-Ak"
      },
      "execution_count": null,
      "outputs": []
    },
    {
      "cell_type": "code",
      "source": [
        "print(\"Train Confusion Matrix\")\n",
        "print(\"    0  1  2\")\n",
        "[print(str(i)+\" \"+str(row)) for i,row in enumerate(train_confusion_matrix) ]\n",
        "print()\n",
        "\n",
        "print(\"Test Confusion Matrix\")\n",
        "print(\"   0  1  2\")\n",
        "[print(str(i)+\" \"+str(row)) for i,row in enumerate(test_confusion_matrix) ]\n",
        "print(end='')"
      ],
      "metadata": {
        "colab": {
          "base_uri": "https://localhost:8080/"
        },
        "id": "Y5_O4W6-qvtQ",
        "outputId": "5d74a418-fc16-4b24-8d8c-e743cc24ad44"
      },
      "execution_count": null,
      "outputs": [
        {
          "output_type": "stream",
          "name": "stdout",
          "text": [
            "Train Confusion Matrix\n",
            "    0  1  2\n",
            "0 [47, 0, 0]\n",
            "1 [0, 42, 2]\n",
            "2 [0, 3, 41]\n",
            "\n",
            "Test Confusion Matrix\n",
            "   0  1  2\n",
            "0 [3, 0, 0]\n",
            "1 [0, 6, 0]\n",
            "2 [0, 0, 6]\n"
          ]
        }
      ]
    },
    {
      "cell_type": "markdown",
      "metadata": {
        "id": "0psgvqfikDVG"
      },
      "source": [
        "Thanks for reading.\n",
        "if you have any questions:\n",
        "* gholamrezadar@gmail.com\n",
        "* instagram : @gholamreza_dar\n",
        "* telegram  : @gholamrezadar"
      ]
    }
  ]
}